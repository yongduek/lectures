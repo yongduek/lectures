{
 "cells": [
  {
   "cell_type": "code",
   "execution_count": 40,
   "metadata": {},
   "outputs": [],
   "source": [
    "pdfile = 'data/01-alr-v1_chang.pdf'\n",
    "pdfhan = 'data/세종전자사전_활용을_위한_자연어_생성적_접근.pdf'"
   ]
  },
  {
   "cell_type": "markdown",
   "metadata": {},
   "source": [
    "# PyPDF2"
   ]
  },
  {
   "cell_type": "code",
   "execution_count": 21,
   "metadata": {},
   "outputs": [
    {
     "name": "stdout",
     "output_type": "stream",
     "text": [
      "Requirement already satisfied: pypdf2 in c:\\users\\vip\\appdata\\local\\programs\\python\\python37\\lib\\site-packages (1.26.0)\n"
     ]
    }
   ],
   "source": [
    "!pip3 install pypdf2"
   ]
  },
  {
   "cell_type": "code",
   "execution_count": 22,
   "metadata": {},
   "outputs": [],
   "source": [
    "import PyPDF2"
   ]
  },
  {
   "cell_type": "code",
   "execution_count": 23,
   "metadata": {},
   "outputs": [
    {
     "name": "stdout",
     "output_type": "stream",
     "text": [
      "nPages =  48\n",
      "-----\n",
      "© ASIAN LABOUR REVIEW Vol. 1, 2015\n",
      "  1Œ48www.asianlabourreview.org\n",
      "Abstract\n",
      "Whereas the rise of Asia as the global factory attracts much \n",
      "attention from policy makers and academics, what is often \n",
      "neglected is the ‚labour side™ of the story. What this contemporary \n",
      "transformation means to the ordinary Asian population is that \n",
      "\n",
      "Asia has become a continent of labour where hundreds of millions \n",
      "of workers are making their living at different moments of the globalising circuit of capital. This article examines the historical \n",
      "trajectory of capitalist development and labour in contemporary Asia and, in doing so, tries to identify the ways in which struggles \n",
      "of Asia™s labouring population develop. It demonstrates that \n",
      "\n",
      "the contemporary development of this global factory creates no \n",
      "conditions on the basis of which a ‚traditional industrial working \n",
      "class™ can emerge while making it impossible for people to survive \n",
      "without relating to capitalist labour one way or another. Asian \n",
      "workers™ struggles therefore often do not follow the ‚usual™ model \n",
      "of working class mobilisation. Rather they surface as social \n",
      "\n",
      "movements of the working poor in diverse forms across rural communities, urban centres, workplaces, and homes, defying the \n",
      "trinity formula of the labour movement between the industrial \n",
      "working class, trade unions, and workers political parties. \n",
      "From Global Factory \n",
      " to Continent of Labour\n",
      "Labour and Development in \n",
      "Asia\n",
      "Dae-oup Chang  --  <class 'str'>\n",
      "-----\n",
      "ASIAN LABOUR REVIEW Vol. 1, 2015\n",
      "2  Introduction \n",
      "Over the last few decades, Asia has truly become a global \n",
      "factory. It produces more than a third of the world™s \n",
      "manufactured goods, attracts more direct investment \n",
      "than any other developing region, and grows faster than other \n",
      "parts of global capitalism. Whereas the rise of ‚factory Asia™ attracts \n",
      "much attention from policy makers and academics, what is often \n",
      "neglected is the ‚labour side™ of the story. What this position as \n",
      "\n",
      "the global factory means to the ordinary Asian population is that \n",
      "Asia has become a continent of labour where hundreds of millions of workers are making their living at different moments of the \n",
      "globalising circuit of capital. \n",
      "Despite the full-scale integration of Asia into global capitalism, \n",
      "a vast majority of Asia™s labouring population does not resemble \n",
      "\n",
      "the industrial working class that emerged from the 19th and 20th century industrialisation at the core of global capitalism. Rather, \n",
      "they live as ‚the working poor™ in factories, ˜elds and streets. \n",
      "\n",
      "The contemporary development of this global factory creates no conditions on the basis of which a ‚traditional industrial working \n",
      "class™ can emerge while making it impossible for people to survive \n",
      "without relating to capitalist labour one way or another. \n",
      "Despite all, workers do ˜ght for better lives. Struggles of \n",
      "these workers do not follow the ‚usual™ model of working class \n",
      "\n",
      "mobilisation which has become a ‚universal™ pathway to which \n",
      "all other pathways have to re˚ect themselves. Rather they surface \n",
      "as social movements of the working poor in diverse forms across \n",
      "\n",
      "rural communities, urban centres, workplaces, and homes, \n",
      "defying the trinity formula of the labour movement between \n",
      "the industrial working class, trade unions, and workers political \n",
      "\n",
      "parties. The aim of this article is to trace the historical trajectory \n",
      "of the development of the continent of labour and highlight \n",
      "certain characteristics of capitalist labour in contemporary Asia. \n",
      "\n",
      "In doing so, I will identify the conditions of the newly emerging \n",
      "social movements of the working population in Asia that are \n",
      "  --  <class 'str'>\n"
     ]
    },
    {
     "name": "stderr",
     "output_type": "stream",
     "text": [
      "PdfReadWarning: Xref table not zero-indexed. ID numbers for objects will be corrected. [pdf.py:1736]\n"
     ]
    }
   ],
   "source": [
    "with open (pdfile, 'rb') as pdf_file_obj:\n",
    "    pdfreader = PyPDF2.PdfFileReader (pdf_file_obj)\n",
    "    count = pdfreader.numPages\n",
    "    print ('nPages = ', count)\n",
    "    for i in range (count):\n",
    "        print ('-----')\n",
    "        page = pdfreader.getPage(i)\n",
    "        txt = page.extractText()\n",
    "        print (txt, ' -- ', type(txt))\n",
    "        break\n",
    "        if i > 0: break # enough"
   ]
  },
  {
   "cell_type": "markdown",
   "metadata": {},
   "source": [
    "# `https://pymupdf.readthedocs.io/en/latest/tutorial/`"
   ]
  },
  {
   "cell_type": "code",
   "execution_count": 24,
   "metadata": {},
   "outputs": [
    {
     "name": "stdout",
     "output_type": "stream",
     "text": [
      "Requirement already satisfied: pymupdf in c:\\users\\vip\\appdata\\local\\programs\\python\\python37\\lib\\site-packages (1.14.4)\n"
     ]
    }
   ],
   "source": [
    "!pip3 install pymupdf"
   ]
  },
  {
   "cell_type": "code",
   "execution_count": 25,
   "metadata": {},
   "outputs": [
    {
     "data": {
      "text/plain": [
       "('1.14.4', '1.14.0', '20181218085644')"
      ]
     },
     "execution_count": 25,
     "metadata": {},
     "output_type": "execute_result"
    }
   ],
   "source": [
    "# import mupdf python binding\n",
    "import fitz\n",
    "fitz.version"
   ]
  },
  {
   "cell_type": "code",
   "execution_count": 26,
   "metadata": {},
   "outputs": [],
   "source": [
    "doc = fitz.open (pdfile)"
   ]
  },
  {
   "cell_type": "code",
   "execution_count": 27,
   "metadata": {},
   "outputs": [
    {
     "data": {
      "text/plain": [
       "[]"
      ]
     },
     "execution_count": 27,
     "metadata": {},
     "output_type": "execute_result"
    }
   ],
   "source": [
    "toc = doc.getToC()\n",
    "toc"
   ]
  },
  {
   "cell_type": "code",
   "execution_count": 28,
   "metadata": {},
   "outputs": [
    {
     "data": {
      "text/plain": [
       "{'format': 'PDF 1.5',\n",
       " 'title': None,\n",
       " 'author': None,\n",
       " 'subject': None,\n",
       " 'keywords': None,\n",
       " 'creator': 'Adobe InDesign CS5 (7.0)',\n",
       " 'producer': 'Adobe PDF Library 9.9',\n",
       " 'creationDate': \"D:20160221112658+08'00'\",\n",
       " 'modDate': \"D:20160221112709+08'00'\",\n",
       " 'encryption': None}"
      ]
     },
     "execution_count": 28,
     "metadata": {},
     "output_type": "execute_result"
    }
   ],
   "source": [
    "doc.metadata"
   ]
  },
  {
   "cell_type": "code",
   "execution_count": 29,
   "metadata": {},
   "outputs": [
    {
     "data": {
      "text/plain": [
       "48"
      ]
     },
     "execution_count": 29,
     "metadata": {},
     "output_type": "execute_result"
    }
   ],
   "source": [
    "doc.pageCount"
   ]
  },
  {
   "cell_type": "code",
   "execution_count": 39,
   "metadata": {},
   "outputs": [
    {
     "name": "stdout",
     "output_type": "stream",
     "text": [
      "page 0 of data/01-alr-v1_chang.pdf\n",
      "©  A s i A n  L a b o u r  r e v i e w  \n",
      "Vol. 1, 2015 \n",
      " \n",
      "1 – 4 8\n",
      "www.asianlabourreview.org\n",
      "Abstract\n",
      "Whereas the rise of Asia as the global factory attracts much \n",
      "attention from policy makers and academics, what is often \n",
      "neglected is the ‘labour side’ of the story. What this contemporary \n",
      "transformation means to the ordinary Asian population is that \n",
      "Asia has become a continent of labour where hundreds of millions \n",
      "of workers are making their living at different moments of the \n",
      "globalising circuit of capital. This article examines the historical \n",
      "trajectory of capitalist development and labour in contemporary \n",
      "Asia and, in doing so, tries to identify the ways in which struggles \n",
      "of Asia’s labouring population develop. It demonstrates that \n",
      "the contemporary development of this global factory creates no \n",
      "conditions on the basis of which a ‘traditional industrial working \n",
      "class’ can emerge while making it impossible for people to survive \n",
      "without relating to capitalist labour one way or another. Asian \n",
      "workers’ struggles therefore often do not follow the ‘usual’ model \n",
      "of working class mobilisation. Rather they surface as social \n",
      "movements of the working poor in diverse forms across rural \n",
      "communities, urban centres, workplaces, and homes, defying the \n",
      "trinity formula of the labour movement between the industrial \n",
      "working class, trade unions, and workers political parties. \n",
      "From Global Factory  \n",
      "to Continent of Labour\n",
      "Labour and Development in asia\n",
      "Dae-oup Chang\n",
      "\n"
     ]
    }
   ],
   "source": [
    "for n in range (doc.pageCount):\n",
    "    page = doc.loadPage (n)\n",
    "    print (page)\n",
    "    text = page.getText(\"text\")\n",
    "    print (text)\n",
    "    break\n",
    "    #if n > 1: break"
   ]
  },
  {
   "cell_type": "code",
   "execution_count": 41,
   "metadata": {},
   "outputs": [],
   "source": [
    "hdoc = fitz.open (pdfhan)"
   ]
  },
  {
   "cell_type": "code",
   "execution_count": 43,
   "metadata": {},
   "outputs": [
    {
     "name": "stdout",
     "output_type": "stream",
     "text": [
      "세종전자사전 활용을 위한 자연어 생성적 접근\n",
      "세종전자사전 활용을 위한 자연어 생성적 접근\n",
      "- 어휘문법적 미시 구조의 격자 형식화를 통해\n",
      "- 어휘문법적 미시 구조의 격자 형식화를 통해\n",
      "A NLG Approach to Sejong Dictionary for Computational Feasibility\n",
      "저자\n",
      "저자\n",
      "(Authors)\n",
      "(Authors)\n",
      "조은경\n",
      "Jo Eun-kyoung\n",
      "출처\n",
      "출처\n",
      "(Source)\n",
      "(Source)\n",
      "한글 , (311), 2016.3, 197-226 (30 pages)\n",
      "HAN-GEUL , (311), 2016.3, 197-226 (30 pages)\n",
      "발행처\n",
      "발행처\n",
      "(Publisher)\n",
      "(Publisher)\n",
      "한글학회\n",
      "The Korean Language Society\n",
      "URL\n",
      "URL\n",
      "http://www.dbpia.co.kr/Article/NODE06646185\n",
      "APA Style\n",
      "APA Style\n",
      "조은경 (2016). 세종전자사전 활용을 위한 자연어 생성적 접근. 한글, (311), 197-226.\n",
      "이용정보\n",
      "이용정보\n",
      "(Accessed)\n",
      "(Accessed)\n",
      "저작권 안내\n",
      "저작권 안내\n",
      "DBpia에서 제공되는 모든 저작물의 저작권은 원저작자에게 있으며, 누리미디어는 각 저작물의 내용을 보증하거나 책임을 지지 않습니다. 그리고 DBpia에서 제공되는 저작물은\n",
      "DBpia와 구독계약을 체결한 기관소속 이용자 혹은 해당 저작물의 개별 구매자가 비영리적으로만 이용할 수 있습니다. 그러므로 이에 위반하여 DBpia에서 제공되는 저작물을 복\n",
      "제, 전송 등의 방법으로 무단 이용하는 경우 관련 법령에 따라 민, 형사상의 책임을 질 수 있습니다.\n",
      "Copyright Information\n",
      "Copyright Information\n",
      "Copyright of all literary works provided by DBpia belongs to the copyright holder(s)and Nurimedia does not guarantee contents of the literary work or assume\n",
      "responsibility for the same. In addition, the literary works provided by DBpia may only be used by the users affiliated to the institutions which executed a subscription\n",
      "agreement with DBpia or the individual purchasers of the literary work(s)for non-commercial purposes. Therefore, any person who illegally uses the literary works\n",
      "provided by DBpia by means of reproduction or transmission shall assume civil and criminal responsibility according to applicable laws and regulations.\n",
      "서강대학교\n",
      "163.***.1.208\n",
      "2018/12/30 18:58 (KST)\n",
      "\n"
     ]
    }
   ],
   "source": [
    "page = hdoc[0]\n",
    "text = page.getText(0)\n",
    "print (text)"
   ]
  },
  {
   "cell_type": "code",
   "execution_count": 44,
   "metadata": {},
   "outputs": [
    {
     "name": "stdout",
     "output_type": "stream",
     "text": [
      "197\n",
      "세종전자사전 활용을 위한 자연어 생성적 접근\n",
      "―어휘문법적 미시 구조의 격자 형식화를 통해 ―\n",
      "조 은경\n",
      "― 차례 ―\n",
      "1. 머리말\n",
      "  생성\n",
      "2. 세종전자사전에 관한 연구   \n",
      "4. 전산 어휘부로서의 개선점\n",
      "3. 격자 형식화와 자연어 표현\n",
      "5. 맺음말\n",
      "〈벼리〉\n",
      "세종전자사전(이하 세종사전)은 한 어휘 항목이 형태 정보, 의미 정\n",
      "보, 통사 정보를 가지고 여러 어휘들의 관계가 기입된 통합 어휘부이며 \n",
      "여러 하위 범주 사전으로 구성된 대규모 지식 베이스이다. 세종사전은 \n",
      "다양한 응용을 지향한 산출물임에도 불구하고 사전의 내용에 대한 연\n",
      "구와 자연어 처리에서의 단방향 접근에 치우쳐 있다. 무엇보다 그 산출\n",
      "물을 재가공하여 활용하려는 노력이 드물다.\n",
      "이 논문은 자연어 생성의 방향에서 접근하여 전산 어휘부로서 세종\n",
      "사전의 미시 구조를 살피고, 복잡한 미시 구조의 개별 어휘 항목을 문장 \n",
      "생성 과정에 선택적으로 활용하기 위한 격자 형식화를 제안한다. 격자 \n",
      "형식화는 사전의 복잡한 기술 내용을 단순한 구조로 표현되게 하는 것\n",
      "이다. 이는 개별 어휘 항목이 아니라 여러 어휘 항목의 정보를 보게 \n",
      "하고, 어휘부 정보를 자연어로 쉽게 구성하게 한다. 특히, 용언과 체언 \n",
      "사전의 격자 형식화는 표현 구조를 쉽게 짜게 한다. 그리고 어미 사전의 \n",
      "격자 형식화는 표현 구조에서 표층 형태로 변환을 쉽게 한다.\n",
      "우리는 통합 지식 베이스로서 세종사전의 활용을 위한 자연어 생성\n",
      "적 접근으로서 세종사전의 미시 구조를 살피고, 가능 표현 구조와 표층\n",
      "적인 어휘 형태의 생성을 위한 격자 형식화를 설계하였다. 또 이러한 \n",
      "과정을 통해 전산 어휘부로서의 개선점을 정리하였다.\n",
      "주제어: 세종전자사전, 자연어 생성, 전산 어휘부, 격자 형식화, 표현 \n",
      "구조, 표층 형태.\n",
      "서강대학교 | IP: 163.***.1.208 | Accessed 2018/12/30 18:58(KST)\n",
      "\n"
     ]
    }
   ],
   "source": [
    "text = hdoc[1].getText(0)\n",
    "print (text)"
   ]
  },
  {
   "cell_type": "code",
   "execution_count": 49,
   "metadata": {},
   "outputs": [
    {
     "data": {
      "text/plain": [
       "'197\\n세종전자사전 활용을 위한 자연어 생성적 접근\\n―어휘문법적 미시 구조의 격자 형식화를 통해 ―\\n조 은경\\n― 차례 ―\\n1. 머리말\\n  생성\\n2. 세종전자사전에 관한 연구   \\n4. 전산 어휘부로서의 개선점\\n3. 격자 형식화와 자연어 표현\\n5. 맺음말\\n〈벼리〉\\n세종전자사전(이하 세종사전)은 한 어휘 항목이 형태 정보, 의미 정\\n보, 통사 정보를 가지고 여러 어휘들의 관계가 기입된 통합 어휘부이며 \\n여러 하위 범주 사전으로 구성된 대규모 지식 베이스이다. 세종사전은 \\n다양한 응용을 지향한 산출물임에도 불구하고 사전의 내용에 대한 연\\n구와 자연어 처리에서의 단방향 접근에 치우쳐 있다. 무엇보다 그 산출\\n물을 재가공하여 활용하려는 노력이 드물다.\\n이 논문은 자연어 생성의 방향에서 접근하여 전산 어휘부로서 세종\\n사전의 미시 구조를 살피고, 복잡한 미시 구조의 개별 어휘 항목을 문장 \\n생성 과정에 선택적으로 활용하기 위한 격자 형식화를 제안한다. 격자 \\n형식화는 사전의 복잡한 기술 내용을 단순한 구조로 표현되게 하는 것\\n이다. 이는 개별 어휘 항목이 아니라 여러 어휘 항목의 정보를 보게 \\n하고, 어휘부 정보를 자연어로 쉽게 구성하게 한다. 특히, 용언과 체언 \\n사전의 격자 형식화는 표현 구조를 쉽게 짜게 한다. 그리고 어미 사전의 \\n격자 형식화는 표현 구조에서 표층 형태로 변환을 쉽게 한다.\\n우리는 통합 지식 베이스로서 세종사전의 활용을 위한 자연어 생성\\n적 접근으로서 세종사전의 미시 구조를 살피고, 가능 표현 구조와 표층\\n적인 어휘 형태의 생성을 위한 격자 형식화를 설계하였다. 또 이러한 \\n과정을 통해 전산 어휘부로서의 개선점을 정리하였다.\\n주제어: 세종전자사전, 자연어 생성, 전산 어휘부, 격자 형식화, 표현 \\n구조, 표층 형태.\\n서강대학교 | IP: 163.***.1.208 | Accessed 2018/12/30 18:58(KST)\\n'"
      ]
     },
     "execution_count": 49,
     "metadata": {},
     "output_type": "execute_result"
    }
   ],
   "source": [
    "text"
   ]
  },
  {
   "cell_type": "code",
   "execution_count": 57,
   "metadata": {},
   "outputs": [
    {
     "data": {
      "text/plain": [
       "b'\\xed\\x99\\x9c'"
      ]
     },
     "execution_count": 57,
     "metadata": {},
     "output_type": "execute_result"
    }
   ],
   "source": [
    "text[11].encode('utf-8') # produce a seq of 8 bit binary sequence with utf-8 encoding"
   ]
  },
  {
   "cell_type": "code",
   "execution_count": 53,
   "metadata": {},
   "outputs": [
    {
     "data": {
      "text/plain": [
       "'ㅎ'"
      ]
     },
     "execution_count": 53,
     "metadata": {},
     "output_type": "execute_result"
    }
   ],
   "source": [
    "a='ㅎ'\n",
    "a"
   ]
  },
  {
   "cell_type": "code",
   "execution_count": 62,
   "metadata": {},
   "outputs": [
    {
     "data": {
      "text/plain": [
       "b'\\xe3\\x85\\x8e'"
      ]
     },
     "execution_count": 62,
     "metadata": {},
     "output_type": "execute_result"
    }
   ],
   "source": [
    "b = a.encode('utf-8')\n",
    "b"
   ]
  },
  {
   "cell_type": "code",
   "execution_count": 65,
   "metadata": {},
   "outputs": [
    {
     "data": {
      "text/plain": [
       "227"
      ]
     },
     "execution_count": 65,
     "metadata": {},
     "output_type": "execute_result"
    }
   ],
   "source": [
    "b[0]"
   ]
  },
  {
   "cell_type": "code",
   "execution_count": 56,
   "metadata": {},
   "outputs": [
    {
     "data": {
      "text/plain": [
       "'ㅎ'"
      ]
     },
     "execution_count": 56,
     "metadata": {},
     "output_type": "execute_result"
    }
   ],
   "source": [
    "b.decode()"
   ]
  },
  {
   "cell_type": "code",
   "execution_count": 60,
   "metadata": {},
   "outputs": [
    {
     "data": {
      "text/plain": [
       "b'1'"
      ]
     },
     "execution_count": 60,
     "metadata": {},
     "output_type": "execute_result"
    }
   ],
   "source": [
    "x = text[0].encode('utf-8')\n",
    "x"
   ]
  },
  {
   "cell_type": "code",
   "execution_count": 61,
   "metadata": {},
   "outputs": [
    {
     "data": {
      "text/plain": [
       "49"
      ]
     },
     "execution_count": 61,
     "metadata": {},
     "output_type": "execute_result"
    }
   ],
   "source": [
    "ord(x)"
   ]
  },
  {
   "cell_type": "code",
   "execution_count": 66,
   "metadata": {},
   "outputs": [
    {
     "data": {
      "text/plain": [
       "12622"
      ]
     },
     "execution_count": 66,
     "metadata": {},
     "output_type": "execute_result"
    }
   ],
   "source": [
    "ord (a)"
   ]
  },
  {
   "cell_type": "code",
   "execution_count": 67,
   "metadata": {},
   "outputs": [
    {
     "data": {
      "text/plain": [
       "'0x314e'"
      ]
     },
     "execution_count": 67,
     "metadata": {},
     "output_type": "execute_result"
    }
   ],
   "source": [
    "hex (ord(a))"
   ]
  },
  {
   "cell_type": "code",
   "execution_count": 68,
   "metadata": {},
   "outputs": [
    {
     "data": {
      "text/plain": [
       "54620"
      ]
     },
     "execution_count": 68,
     "metadata": {},
     "output_type": "execute_result"
    }
   ],
   "source": [
    "ord('한')"
   ]
  },
  {
   "cell_type": "code",
   "execution_count": 80,
   "metadata": {},
   "outputs": [
    {
     "data": {
      "text/plain": [
       "'0xd55c'"
      ]
     },
     "execution_count": 80,
     "metadata": {},
     "output_type": "execute_result"
    }
   ],
   "source": [
    "hex(ord('한')) # this can be checked in the unicode table"
   ]
  },
  {
   "cell_type": "code",
   "execution_count": 74,
   "metadata": {},
   "outputs": [
    {
     "data": {
      "text/plain": [
       "b'\\xed\\x95\\x9c'"
      ]
     },
     "execution_count": 74,
     "metadata": {},
     "output_type": "execute_result"
    }
   ],
   "source": [
    "bb  = '한'.encode('utf-8')\n",
    "bb"
   ]
  },
  {
   "cell_type": "code",
   "execution_count": 79,
   "metadata": {},
   "outputs": [
    {
     "data": {
      "text/plain": [
       "('0xe3', 133, 142)"
      ]
     },
     "execution_count": 79,
     "metadata": {},
     "output_type": "execute_result"
    }
   ],
   "source": [
    "hex(b[0]), b[1], b[2],"
   ]
  },
  {
   "cell_type": "code",
   "execution_count": 81,
   "metadata": {},
   "outputs": [
    {
     "data": {
      "text/plain": [
       "'you rolled ⚀'"
      ]
     },
     "execution_count": 81,
     "metadata": {},
     "output_type": "execute_result"
    }
   ],
   "source": [
    "'you rolled \\u2680'"
   ]
  },
  {
   "cell_type": "code",
   "execution_count": 83,
   "metadata": {},
   "outputs": [
    {
     "data": {
      "text/plain": [
       "'you drew 🀀'"
      ]
     },
     "execution_count": 83,
     "metadata": {},
     "output_type": "execute_result"
    }
   ],
   "source": [
    "'you drew \\U0001F000'"
   ]
  },
  {
   "cell_type": "code",
   "execution_count": 84,
   "metadata": {},
   "outputs": [
    {
     "data": {
      "text/plain": [
       "'discard 🀄'"
      ]
     },
     "execution_count": 84,
     "metadata": {},
     "output_type": "execute_result"
    }
   ],
   "source": [
    "'discard \\N{MAHJONG TILE RED DRAGON}'"
   ]
  },
  {
   "cell_type": "code",
   "execution_count": 85,
   "metadata": {},
   "outputs": [],
   "source": [
    "import urllib.request"
   ]
  },
  {
   "cell_type": "code",
   "execution_count": 87,
   "metadata": {},
   "outputs": [],
   "source": [
    "uri = 'http://www.nws.noaa.gov/view/national.php?prod=SMW&sid=AKQ'"
   ]
  },
  {
   "cell_type": "code",
   "execution_count": 88,
   "metadata": {},
   "outputs": [],
   "source": [
    "with urllib.request.urlopen (uri) as source:\n",
    "    wtxt = source.read()"
   ]
  },
  {
   "cell_type": "code",
   "execution_count": 94,
   "metadata": {},
   "outputs": [
    {
     "data": {
      "text/plain": [
       "b'<!DOCTYPE html PUBLIC \"-//W3C//DTD XHTML 1.0 Strict//EN\" \"http://www.w3.org/TR/xhtml1/DTD/xhtml1-strict.dtd\">\\r\\n<html xmlns=\"http://www.w3.org/1999/xhtml\" xml:lang=\"en\"><head>\\r\\n<meta http-equiv=\"Content-Type\" content=\"application/xhtml+xml; charset=utf-8\" />\\r\\n<link rel=\"schema.DC\"'"
      ]
     },
     "execution_count": 94,
     "metadata": {},
     "output_type": "execute_result"
    }
   ],
   "source": [
    "wtxt[:280]"
   ]
  },
  {
   "cell_type": "code",
   "execution_count": 91,
   "metadata": {},
   "outputs": [
    {
     "data": {
      "text/plain": [
       "'<!DOCTYPE html PUBLIC \"-//W3C//DTD XHTML 1.0 Strict//EN\" \"http://www.w3.org/TR/x'"
      ]
     },
     "execution_count": 91,
     "metadata": {},
     "output_type": "execute_result"
    }
   ],
   "source": [
    "doc = wtxt.decode('utf-8')\n",
    "doc[:80]"
   ]
  },
  {
   "cell_type": "code",
   "execution_count": 92,
   "metadata": {},
   "outputs": [],
   "source": [
    "import re\n",
    "title_patttern = re.compile(r\"\\<h3\\>(.*?)\\</h3\\>\")"
   ]
  },
  {
   "cell_type": "code",
   "execution_count": 93,
   "metadata": {},
   "outputs": [],
   "source": [
    "title_patttern.search (doc)"
   ]
  },
  {
   "cell_type": "code",
   "execution_count": 97,
   "metadata": {},
   "outputs": [
    {
     "data": {
      "text/plain": [
       "'<!DOCTYPE html PUBLIC \"-//W3C//DTD XHTML 1.0 Strict//EN\" \"http://www.w3.org/TR/xhtml1/DTD/xhtml1-strict.dtd\">\\r\\n<html xmlns=\"http://www.w3.org/1999/xhtml\" xml:lang=\"en\"><head>\\r\\n<meta http-equiv=\"Content-Type\" content=\"application/xhtml+xml; charset=utf-8\" />\\r\\n<link rel=\"schema.DC\" href=\"http://purl.org/dc/elements/1.1/\" /><title>National Weather Service Text Product Display</title>\\n<meta name=\"DC.t'"
      ]
     },
     "execution_count": 97,
     "metadata": {},
     "output_type": "execute_result"
    }
   ],
   "source": [
    "doc[:400]"
   ]
  },
  {
   "cell_type": "code",
   "execution_count": 99,
   "metadata": {},
   "outputs": [],
   "source": [
    "from twitter import *"
   ]
  },
  {
   "cell_type": "code",
   "execution_count": null,
   "metadata": {},
   "outputs": [],
   "source": []
  }
 ],
 "metadata": {
  "kernelspec": {
   "display_name": "Python 3",
   "language": "python",
   "name": "python3"
  },
  "language_info": {
   "codemirror_mode": {
    "name": "ipython",
    "version": 3
   },
   "file_extension": ".py",
   "mimetype": "text/x-python",
   "name": "python",
   "nbconvert_exporter": "python",
   "pygments_lexer": "ipython3",
   "version": "3.7.1rc1"
  }
 },
 "nbformat": 4,
 "nbformat_minor": 2
}
