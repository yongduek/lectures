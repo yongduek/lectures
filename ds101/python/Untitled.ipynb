{
 "cells": [
  {
   "cell_type": "code",
   "execution_count": 1,
   "metadata": {},
   "outputs": [],
   "source": [
    "import feedparser"
   ]
  },
  {
   "cell_type": "code",
   "execution_count": 5,
   "metadata": {},
   "outputs": [],
   "source": [
    "url = 'http://newstapa.com/rss'\n",
    "url2 = 'http://www.kma.go.kr/wid/queryDFSRSS.jsp?zone=1159068000'"
   ]
  },
  {
   "cell_type": "code",
   "execution_count": 6,
   "metadata": {},
   "outputs": [],
   "source": [
    "feed = feedparser.parse(url2)"
   ]
  },
  {
   "cell_type": "code",
   "execution_count": 12,
   "metadata": {},
   "outputs": [
    {
     "data": {
      "text/plain": [
       "{'authors': [{'name': '기상청'}],\n",
       " 'author': '기상청',\n",
       " 'author_detail': {'name': '기상청'},\n",
       " 'tags': [{'term': '서울특별시 동작구 신대방제2동', 'scheme': None, 'label': None}],\n",
       " 'title': '동네예보(도표) : 서울특별시 동작구 신대방제2동 [X=59,Y=125]',\n",
       " 'title_detail': {'type': 'text/plain',\n",
       "  'language': None,\n",
       "  'base': 'http://www.kma.go.kr/wid/queryDFSRSS.jsp?zone=1159068000',\n",
       "  'value': '동네예보(도표) : 서울특별시 동작구 신대방제2동 [X=59,Y=125]'},\n",
       " 'links': [{'rel': 'alternate',\n",
       "   'type': 'text/html',\n",
       "   'href': 'http://www.kma.go.kr/weather/forecast/timeseries.jsp?searchType=INTEREST&dongCode=1159068000'}],\n",
       " 'link': 'http://www.kma.go.kr/weather/forecast/timeseries.jsp?searchType=INTEREST&dongCode=1159068000',\n",
       " 'id': 'http://www.kma.go.kr/weather/forecast/timeseries.jsp?searchType=INTEREST&dongCode=1159068000',\n",
       " 'guidislink': False,\n",
       " 'summary': '<header>\\n  <tm>201903302300</tm>\\n  <ts>7</ts>\\n  <x>59</x>\\n  <y>125</y>\\n </header>\\n <body>\\n  <data seq=\"0\">\\n   <hour>3</hour>\\n   <day>1</day>\\n   <temp>5.0</temp>\\n   <tmx>10.0</tmx>\\n   <tmn>3.0</tmn>\\n   <sky>4</sky>\\n   <pty>0</pty>\\n   <wfkor>흐림</wfkor>\\n   <wfen>Cloudy</wfen>\\n   <pop>30</pop>\\n   <r12>0.0</r12>\\n   <s12>0.0</s12>\\n   <ws>5.300000000000001</ws>\\n   <wd>6</wd>\\n   <wdkor>서</wdkor>\\n   <wden>W</wden>\\n   <reh>75</reh>\\n   <r06>0.0</r06>\\n   <s06>0.0</s06>\\n  </data>\\n  <data seq=\"1\">\\n   <hour>6</hour>\\n   <day>1</day>\\n   <temp>3.0</temp>\\n   <tmx>10.0</tmx>\\n   <tmn>3.0</tmn>\\n   <sky>4</sky>\\n   <pty>0</pty>\\n   <wfkor>흐림</wfkor>\\n   <wfen>Cloudy</wfen>\\n   <pop>30</pop>\\n   <r12>0.0</r12>\\n   <s12>0.0</s12>\\n   <ws>4.2</ws>\\n   <wd>7</wd>\\n   <wdkor>북서</wdkor>\\n   <wden>NW</wden>\\n   <reh>75</reh>\\n   <r06>0.0</r06>\\n   <s06>0.0</s06>\\n  </data>\\n  <data seq=\"2\">\\n   <hour>9</hour>\\n   <day>1</day>\\n   <temp>5.0</temp>\\n   <tmx>10.0</tmx>\\n   <tmn>3.0</tmn>\\n   <sky>3</sky>\\n   <pty>0</pty>\\n   <wfkor>구름 많음</wfkor>\\n   <wfen>Mostly Cloudy</wfen>\\n   <pop>20</pop>\\n   <r12>0.0</r12>\\n   <s12>0.0</s12>\\n   <ws>4.7</ws>\\n   <wd>7</wd>\\n   <wdkor>북서</wdkor>\\n   <wden>NW</wden>\\n   <reh>55</reh>\\n   <r06>0.0</r06>\\n   <s06>0.0</s06>\\n  </data>\\n  <data seq=\"3\">\\n   <hour>12</hour>\\n   <day>1</day>\\n   <temp>8.0</temp>\\n   <tmx>10.0</tmx>\\n   <tmn>3.0</tmn>\\n   <sky>3</sky>\\n   <pty>0</pty>\\n   <wfkor>구름 많음</wfkor>\\n   <wfen>Mostly Cloudy</wfen>\\n   <pop>20</pop>\\n   <r12>0.0</r12>\\n   <s12>0.0</s12>\\n   <ws>5.9</ws>\\n   <wd>6</wd>\\n   <wdkor>서</wdkor>\\n   <wden>W</wden>\\n   <reh>40</reh>\\n   <r06>0.0</r06>\\n   <s06>0.0</s06>\\n  </data>\\n  <data seq=\"4\">\\n   <hour>15</hour>\\n   <day>1</day>\\n   <temp>9.0</temp>\\n   <tmx>10.0</tmx>\\n   <tmn>3.0</tmn>\\n   <sky>2</sky>\\n   <pty>0</pty>\\n   <wfkor>구름 조금</wfkor>\\n   <wfen>Partly Cloudy</wfen>\\n   <pop>10</pop>\\n   <r12>0.0</r12>\\n   <s12>0.0</s12>\\n   <ws>7.2</ws>\\n   <wd>6</wd>\\n   <wdkor>서</wdkor>\\n   <wden>W</wden>\\n   <reh>30</reh>\\n   <r06>0.0</r06>\\n   <s06>0.0</s06>\\n  </data>\\n  <data seq=\"5\">\\n   <hour>18</hour>\\n   <day>1</day>\\n   <temp>7.0</temp>\\n   <tmx>10.0</tmx>\\n   <tmn>3.0</tmn>\\n   <sky>2</sky>\\n   <pty>0</pty>\\n   <wfkor>구름 조금</wfkor>\\n   <wfen>Partly Cloudy</wfen>\\n   <pop>10</pop>\\n   <r12>0.0</r12>\\n   <s12>0.0</s12>\\n   <ws>6.800000000000001</ws>\\n   <wd>7</wd>\\n   <wdkor>북서</wdkor>\\n   <wden>NW</wden>\\n   <reh>25</reh>\\n   <r06>0.0</r06>\\n   <s06>0.0</s06>\\n  </data>\\n  <data seq=\"6\">\\n   <hour>21</hour>\\n   <day>1</day>\\n   <temp>5.0</temp>\\n   <tmx>10.0</tmx>\\n   <tmn>3.0</tmn>\\n   <sky>1</sky>\\n   <pty>0</pty>\\n   <wfkor>맑음</wfkor>\\n   <wfen>Clear</wfen>\\n   <pop>0</pop>\\n   <r12>0.0</r12>\\n   <s12>0.0</s12>\\n   <ws>4.800000000000001</ws>\\n   <wd>7</wd>\\n   <wdkor>북서</wdkor>\\n   <wden>NW</wden>\\n   <reh>35</reh>\\n   <r06>0.0</r06>\\n   <s06>0.0</s06>\\n  </data>\\n  <data seq=\"7\">\\n   <hour>24</hour>\\n   <day>1</day>\\n   <temp>4.0</temp>\\n   <tmx>10.0</tmx>\\n   <tmn>3.0</tmn>\\n   <sky>1</sky>\\n   <pty>0</pty>\\n   <wfkor>맑음</wfkor>\\n   <wfen>Clear</wfen>\\n   <pop>0</pop>\\n   <r12>0.0</r12>\\n   <s12>0.0</s12>\\n   <ws>3.4000000000000004</ws>\\n   <wd>7</wd>\\n   <wdkor>북서</wdkor>\\n   <wden>NW</wden>\\n   <reh>50</reh>\\n   <r06>0.0</r06>\\n   <s06>0.0</s06>\\n  </data>\\n  <data seq=\"8\">\\n   <hour>3</hour>\\n   <day>2</day>\\n   <temp>3.0</temp>\\n   <tmx>10.0</tmx>\\n   <tmn>2.0</tmn>\\n   <sky>1</sky>\\n   <pty>0</pty>\\n   <wfkor>맑음</wfkor>\\n   <wfen>Clear</wfen>\\n   <pop>0</pop>\\n   <r12>0.0</r12>\\n   <s12>0.0</s12>\\n   <ws>2.1</ws>\\n   <wd>7</wd>\\n   <wdkor>북서</wdkor>\\n   <wden>NW</wden>\\n   <reh>60</reh>\\n   <r06>0.0</r06>\\n   <s06>0.0</s06>\\n  </data>\\n  <data seq=\"9\">\\n   <hour>6</hour>\\n   <day>2</day>\\n   <temp>2.0</temp>\\n   <tmx>10.0</tmx>\\n   <tmn>2.0</tmn>\\n   <sky>1</sky>\\n   <pty>0</pty>\\n   <wfkor>맑음</wfkor>\\n   <wfen>Clear</wfen>\\n   <pop>0</pop>\\n   <r12>0.0</r12>\\n   <s12>0.0</s12>\\n   <ws>1.8</ws>\\n   <wd>7</wd>\\n   <wdkor>북서</wdkor>\\n   <wden>NW</wden>\\n   <reh>75</reh>\\n   <r06>0.0</r06>\\n   <s06>0.0</s06>\\n  </data>\\n  <data seq=\"10\">\\n   <hour>9</hour>\\n   <day>2</day>\\n   <temp>5.0</temp>\\n   <tmx>10.0</tmx>\\n   <tmn>2.0</tmn>\\n   <sky>3</sky>\\n   <pty>0</pty>\\n   <wfkor>구름 많음</wfkor>\\n   <wfen>Mostly Cloudy</wfen>\\n   <pop>20</pop>\\n   <r12>0.0</r12>\\n   <s12>0.0</s12>\\n   <ws>0.9</ws>\\n   <wd>0</wd>\\n   <wdkor>북</wdkor>\\n   <wden>N</wden>\\n   <reh>55</reh>\\n   <r06>0.0</r06>\\n   <s06>0.0</s06>\\n  </data>\\n  <data seq=\"11\">\\n   <hour>12</hour>\\n   <day>2</day>\\n   <temp>8.0</temp>\\n   <tmx>10.0</tmx>\\n   <tmn>2.0</tmn>\\n   <sky>3</sky>\\n   <pty>0</pty>\\n   <wfkor>구름 많음</wfkor>\\n   <wfen>Mostly Cloudy</wfen>\\n   <pop>20</pop>\\n   <r12>0.0</r12>\\n   <s12>0.0</s12>\\n   <ws>6.6000000000000005</ws>\\n   <wd>6</wd>\\n   <wdkor>서</wdkor>\\n   <wden>W</wden>\\n   <reh>30</reh>\\n   <r06>0.0</r06>\\n   <s06>0.0</s06>\\n  </data>\\n  <data seq=\"12\">\\n   <hour>15</hour>\\n   <day>2</day>\\n   <temp>9.0</temp>\\n   <tmx>10.0</tmx>\\n   <tmn>2.0</tmn>\\n   <sky>3</sky>\\n   <pty>0</pty>\\n   <wfkor>구름 많음</wfkor>\\n   <wfen>Mostly Cloudy</wfen>\\n   <pop>20</pop>\\n   <r12>0.0</r12>\\n   <s12>0.0</s12>\\n   <ws>6.9</ws>\\n   <wd>6</wd>\\n   <wdkor>서</wdkor>\\n   <wden>W</wden>\\n   <reh>30</reh>\\n   <r06>0.0</r06>\\n   <s06>0.0</s06>\\n  </data>\\n  <data seq=\"13\">\\n   <hour>18</hour>\\n   <day>2</day>\\n   <temp>8.0</temp>\\n   <tmx>10.0</tmx>\\n   <tmn>2.0</tmn>\\n   <sky>2</sky>\\n   <pty>0</pty>\\n   <wfkor>구름 조금</wfkor>\\n   <wfen>Partly Cloudy</wfen>\\n   <pop>10</pop>\\n   <r12>0.0</r12>\\n   <s12>0.0</s12>\\n   <ws>5.800000000000001</ws>\\n   <wd>6</wd>\\n   <wdkor>서</wdkor>\\n   <wden>W</wden>\\n   <reh>40</reh>\\n   <r06>0.0</r06>\\n   <s06>0.0</s06>\\n  </data>\\n  <data seq=\"14\">\\n   <hour>21</hour>\\n   <day>2</day>\\n   <temp>6.0</temp>\\n   <tmx>10.0</tmx>\\n   <tmn>2.0</tmn>\\n   <sky>1</sky>\\n   <pty>0</pty>\\n   <wfkor>맑음</wfkor>\\n   <wfen>Clear</wfen>\\n   <pop>0</pop>\\n   <r12>0.0</r12>\\n   <s12>0.0</s12>\\n   <ws>3.3000000000000003</ws>\\n   <wd>6</wd>\\n   <wdkor>서</wdkor>\\n   <wden>W</wden>\\n   <reh>50</reh>\\n   <r06>0.0</r06>\\n   <s06>0.0</s06>\\n  </data>\\n  <data seq=\"15\">\\n   <hour>24</hour>\\n   <day>2</day>\\n   <temp>4.0</temp>\\n   <tmx>10.0</tmx>\\n   <tmn>2.0</tmn>\\n   <sky>1</sky>\\n   <pty>0</pty>\\n   <wfkor>맑음</wfkor>\\n   <wfen>Clear</wfen>\\n   <pop>0</pop>\\n   <r12>0.0</r12>\\n   <s12>0.0</s12>\\n   <ws>1.8</ws>\\n   <wd>7</wd>\\n   <wdkor>북서</wdkor>\\n   <wden>NW</wden>\\n   <reh>60</reh>\\n   <r06>0.0</r06>\\n   <s06>0.0</s06>\\n  </data>'}"
      ]
     },
     "execution_count": 12,
     "metadata": {},
     "output_type": "execute_result"
    }
   ],
   "source": [
    "feed.entries[0]"
   ]
  },
  {
   "cell_type": "code",
   "execution_count": 13,
   "metadata": {},
   "outputs": [],
   "source": [
    "url = 'http://www.sisainlive.com/rss.xml'\n",
    "feed = feedparser.parse (url)"
   ]
  },
  {
   "cell_type": "code",
   "execution_count": 18,
   "metadata": {},
   "outputs": [
    {
     "data": {
      "text/plain": [
       "(list, 100)"
      ]
     },
     "execution_count": 18,
     "metadata": {},
     "output_type": "execute_result"
    }
   ],
   "source": [
    "type(feed.entries), len(feed.entries)"
   ]
  },
  {
   "cell_type": "code",
   "execution_count": 19,
   "metadata": {},
   "outputs": [
    {
     "name": "stdout",
     "output_type": "stream",
     "text": [
      "독립운동가 부부의 빛나는 ‘육아일기’\n",
      "우리 가슴에도 ‘세월호 못’이…\n",
      "문정인 특보가 제안하는 북미 협상 해법\n",
      "교수님들의 ‘우리가 남이가’\n",
      "버닝썬 게이트에 비관하지 않는 이유\n",
      "버닝썬 사건, 정준영 출석 사진의 맥락\n",
      "MB 사저의 100시간 뒷담화\n",
      "콜레트, 멋지고 당당한 그녀\n",
      "[카드뉴스] “예의를 지키겠습니다”\n",
      "[카드뉴스] 이 주의 숫자 : 4,023,000,000,000\n",
      "밥통 앞에서 ‘세월호 엄마들’은 절망한다\n",
      "그곳에선 내가 중국인이 아님을 어필해야 했다\n",
      "미얀마 울리는 ‘내전 트라이앵글’\n",
      "안창호는 거절했다, 임시정부 최고 자리를\n",
      "[동의보감]의 정수, 오늘에 되살리다\n",
      "록보다 강렬한, 쿤타의 ‘레게’ 음악\n",
      "INF 음모론이 솔깃한가요?\n",
      "핫펠트(예은), 기꺼이 음악 하는 여자\n",
      "본격 시사인 만화 - ㅉY 메들리\n",
      "[카드뉴스] 교수님들의 ‘우리가 남이가’\n",
      "조양호 퇴진 부른 박창진 전 사무장의 이야기\n",
      "이게 다 볼턴 탓이라고?\n",
      "여성·청년·비정규직 대표는 왜 경사노위에 불참했나\n",
      "박원순 옭아맨 도시재생의 덫\n",
      "‘신의 은총으로’ 프랑스가 분노했다\n",
      "시사IN 제602호 - 재벌해체론은 틀렸다\n",
      "8년간 ‘후쿠시마’ 취재한 저널리스트의 현장 고발\n",
      "구미시는 왜 반도체 클러스터 유치에 실패했나\n",
      "헌법에 나오는 균형발전의 딜레마\n",
      "6년만에 드러난 ‘유우성 간첩 조작 사건’ 진실\n",
      "여성 영화인이여 ‘든든’에 기대라\n",
      "말말말\n",
      "독자들이 준 ‘기자상’\n",
      "MB 재판 2심 관전 포인트\n",
      "MB 집 앞에서 보낸 100시간의 기록\n",
      "[시사IN] 기자들의 시선\n",
      "전두환 사전에 사과와 진실은 없다\n",
      "기자들이  꼽은 이 주의 신간\n",
      "이종태의 쾌도난마\n",
      "이 주의 그래픽 뉴스\n",
      "전교생이 세운 ‘존중의 약속’\n",
      "사진은 복제인가 창작인가\n",
      "89년생 기혼 여성 지영이\n",
      "주짓수 5년차의 취재 필살기\n",
      "‘올해의 앨범’ 들고 나타난 로큰롤라디오\n",
      "하이모, 미세먼지로 답답한 두피 청정 솔루션으로 ‘바이탈 스캘프 토너’ 추천\n",
      "넷마블 '세븐나이츠', 5주년 업데이트 기념 아트북 한정판 예약 판매 이벤트 실시\n",
      "이 주의 그래픽 뉴스 - 시민 1명당 생활권 도시림 면적\n",
      "새로 나온 책 - 나는 감이 아니라 데이터로 말한다\n",
      "저 안경은 무엇을 봤을까\n",
      "괜찮아, 우린 모두 한 쪽배를 탔을 뿐이야\n",
      "제2, 제3의 조재범 사건 막으려면\n",
      "세종대 컴퓨터공학 분야, 국내 10위\n",
      "고인류학 역사 바꾼 콩알만 한 뼛조각\n",
      "수십 년간 무시한 국제사회의 권고\n",
      "‘꿀렁꿀렁’ 춤추다 보니 몸이 해방됐다\n",
      "통신·디지털 기술 덕에 사납금제 없어진다?\n",
      "베트남의 힘은 어디에서 오는가\n",
      "이해영 교수 반론에 대한 재반론\n",
      "4·19혁명 도화선 김주열 가족의 59년\n",
      "‘미움받는 것’도 훈련이다\n",
      "달콤한 세계의 시니컬한 ‘슈가’\n",
      "본격 시사인 만화 - 화이트 맑스 데이\n",
      "엘살바도르 수도가 어디게?\n",
      "[카드뉴스] 마치 아무 일도 없던 것처럼\n",
      "70일 넘게 인천공항에 사는 아이들을 위하여\n",
      "한 오케스트라 지휘자의 열정과 도전\n",
      "북·미, 진짜 협상가들의 진짜 협상 시작되나\n",
      "“안익태가 친일·친나치라서 좋을까”\n",
      "주진우 기자가 독자에게 보내는 작은 편지\n",
      "대한민국 노조법은 ILO와 싸운다\n",
      "현대건설, 2019년 글로벌 사랑나눔 첫 스타트청년봉사단 ‘해피무브 22기’와 미얀마서 CSR 실천\n",
      "[카드뉴스] 이 주의 숫자 : 24.2\n",
      "[카드뉴스] 문란하거나, 피해자이거나\n",
      "[시사IN] 기자들의 시선 - LG, 공기청정기 무상 제공\n",
      "3·1운동이 그들의 인생을 바꾸었다\n",
      "윤지오, “넌 발톱의 때만큼도 모른다고 하더라”\n",
      "스텔라데이지호의 진실 그리고 애타는 가족들\n",
      "이 주의 말말말 - 지만원씨가 법정에서 한 말\n",
      "기자가 괴로워야 독자가 즐겁다\n",
      "자영업자의 길 택해 ‘망조’ 든 교육자들\n",
      "현대차 방향 좌우할 3월22일 주주총회\n",
      "나는 이렇게 ‘주식 댓글 조작 부대원’으로 일했다\n",
      "“나는 주식방송 댓글부대원이었다”\n",
      "탄력근로제 합의가 뭐기에…\n",
      "시사IN 제601호 - MB 사저의 100시간\n",
      "머리카락 보일라, 꼭꼭 숨은 MB\n",
      "‘채소 공항’과 예타 면제\n",
      "우리 곁에는 늘 천사가 있나니\n",
      "새로 나온 책 - 저널리즘의 신\n",
      "아이에게 아직 친구가 없다면\n",
      "자랑스런 태극기 앞에, 어쩐지 피하고 싶다\n",
      "“너만 사진 찍냐” 특종을 부른 한마디\n",
      "두 번 보면서 더 좋아하게 된 영화 [더 와이프]\n",
      "기사 후~폭풍\n",
      "전문가다운 전문가가 직업병 판정하라\n",
      "‘묻지 마 건강검진’에 유전자 검사까지?\n",
      "혼자 남은 삶, 살기 위해 춤춰야 했다\n",
      "“내일 식당 쉽니다 숙취가 심해서요”\n",
      "행동하는 연예인, 보통 사람 김동완\n"
     ]
    }
   ],
   "source": [
    "for post in feed.entries:\n",
    "    print (post.title)"
   ]
  },
  {
   "cell_type": "code",
   "execution_count": 20,
   "metadata": {},
   "outputs": [
    {
     "data": {
      "text/plain": [
       "{'title': '독립운동가 부부의 빛나는 ‘육아일기’',\n",
       " 'title_detail': {'type': 'text/plain',\n",
       "  'language': None,\n",
       "  'base': 'https://ph.sisain.co.kr/rss/flip.xml',\n",
       "  'value': '독립운동가 부부의 빛나는 ‘육아일기’'},\n",
       " 'authors': [{'name': '박성표 (작가)'}],\n",
       " 'author': '박성표 (작가)',\n",
       " 'author_detail': {'name': '박성표 (작가)'},\n",
       " 'links': [{'rel': 'alternate',\n",
       "   'type': 'text/html',\n",
       "   'href': 'https://m.sisain.co.kr/?mod=news&act=articleView&idxno=34261'}],\n",
       " 'link': 'https://m.sisain.co.kr/?mod=news&act=articleView&idxno=34261',\n",
       " 'id': 'https://m.sisain.co.kr/?mod=news&act=articleView&idxno=34261',\n",
       " 'guidislink': False,\n",
       " 'summary': '3·1운동과 대한민국 임시정부 수립 100주년을 맞이하는 올해, 독립운동에 대한 논의가 더욱 활발하게 이뤄진다. 독립운동가 이야기는 보통 나라를 위해 목숨까지 희생하는 끈질긴 투쟁과 고결한 정신에 초점을 맞춘다. 그러다 보니 그분들 또한 우리와 같은 ‘사람’이라는 중요한 사실을 잊곤 한다. 독립운동가에게도 일상생활이 있었다. <제시 이야기>는 임시정부에서 일한 독립운동가 부부 이야기를 다룬 그래픽노블이다. 이 책은 ‘육아일기’라는 점에서 독특하다. 이야기는 제시가 태어나면서 시작한다. 남편 양우조는 미국 MIT(매사추세츠 공과...',\n",
       " 'summary_detail': {'type': 'text/html',\n",
       "  'language': None,\n",
       "  'base': 'https://ph.sisain.co.kr/rss/flip.xml',\n",
       "  'value': '3·1운동과 대한민국 임시정부 수립 100주년을 맞이하는 올해, 독립운동에 대한 논의가 더욱 활발하게 이뤄진다. 독립운동가 이야기는 보통 나라를 위해 목숨까지 희생하는 끈질긴 투쟁과 고결한 정신에 초점을 맞춘다. 그러다 보니 그분들 또한 우리와 같은 ‘사람’이라는 중요한 사실을 잊곤 한다. 독립운동가에게도 일상생활이 있었다. <제시 이야기>는 임시정부에서 일한 독립운동가 부부 이야기를 다룬 그래픽노블이다. 이 책은 ‘육아일기’라는 점에서 독특하다. 이야기는 제시가 태어나면서 시작한다. 남편 양우조는 미국 MIT(매사추세츠 공과...'},\n",
       " 'content': [{'type': 'text/html',\n",
       "   'language': None,\n",
       "   'base': 'https://ph.sisain.co.kr/rss/flip.xml',\n",
       "   'value': '<p style=\"text-align:center;\"><img src=\"https://ph.sisain.co.kr/news/photo/201903/34261_66773_2129.jpg\" /></p>3·1운동과 대한민국 임시정부 수립 100주년을 맞이하는 올해, 독립운동에 대한 논의가 더욱 활발하게 이뤄진다. 독립운동가 이야기는 보통 나라를 위해 목숨까지 희생하는 끈질긴 투쟁과 고결한 정신에 초점을 맞춘다. 그러다 보니 그분들 또한 우리와 같은 ‘사람’이라는 중요한 사실을 잊곤 한다. 독립운동가에게도 일상생활이 있었다. <제시 이야기>는 임시정부에서 일한 독립운동가 부부 이야기를 다룬 그래픽노블이다. 이 책은 ‘육아일기’라는 점에서 독특하다. 이야기는 제시가 태어나면서 시작한다. 남편 양우조는 미국 MIT(매사추세츠 공과...\\t<a href=\"https://m.sisain.co.kr/?mod=news&act=articleView&idxno=34261\" target=\"_blank\">기사 더 보기</a>'}],\n",
       " 'defaultimage': 'https://ph.sisain.co.kr/news/photo/201903/34261_66773_2129.jpg',\n",
       " 'published': 'Fri, 29 Mar 2019 09:27:00 GMT',\n",
       " 'published_parsed': time.struct_time(tm_year=2019, tm_mon=3, tm_mday=29, tm_hour=9, tm_min=27, tm_sec=0, tm_wday=4, tm_yday=88, tm_isdst=0)}"
      ]
     },
     "execution_count": 20,
     "metadata": {},
     "output_type": "execute_result"
    }
   ],
   "source": [
    "feed.entries[0]"
   ]
  },
  {
   "cell_type": "code",
   "execution_count": null,
   "metadata": {},
   "outputs": [],
   "source": []
  }
 ],
 "metadata": {
  "kernelspec": {
   "display_name": "Python 3",
   "language": "python",
   "name": "python3"
  },
  "language_info": {
   "codemirror_mode": {
    "name": "ipython",
    "version": 3
   },
   "file_extension": ".py",
   "mimetype": "text/x-python",
   "name": "python",
   "nbconvert_exporter": "python",
   "pygments_lexer": "ipython3",
   "version": "3.6.7"
  }
 },
 "nbformat": 4,
 "nbformat_minor": 2
}
