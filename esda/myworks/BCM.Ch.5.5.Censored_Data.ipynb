{
 "cells": [
  {
   "cell_type": "markdown",
   "id": "3292caf0-50e3-4482-90b9-632ed91fa05f",
   "metadata": {},
   "source": [
    "# Chapter 5.5. Censored Data\n",
    "- Cha Sa Soon Dataset"
   ]
  },
  {
   "cell_type": "code",
   "execution_count": 41,
   "id": "d15b4914-8f68-403d-b209-34c9e11b6963",
   "metadata": {},
   "outputs": [
    {
     "data": {
      "text/plain": [
       "'3.8.0 (default, Feb 25 2021, 22:10:10) \\n[GCC 8.4.0]'"
      ]
     },
     "execution_count": 41,
     "metadata": {},
     "output_type": "execute_result"
    }
   ],
   "source": [
    "import sys\n",
    "sys.version"
   ]
  },
  {
   "cell_type": "code",
   "execution_count": 42,
   "id": "24931e47-141f-41ba-ac7d-e088c023bf47",
   "metadata": {},
   "outputs": [],
   "source": [
    "import os\n",
    "os.environ['XLA_FLAGS'] = '--xla_gpu_cuda_data_dir=/usr/lib/cuda'"
   ]
  },
  {
   "cell_type": "code",
   "execution_count": 43,
   "id": "4e4e0c73-3b09-4f5f-9420-3d3c75688e0a",
   "metadata": {},
   "outputs": [],
   "source": [
    "import numpyro \n",
    "import numpyro.distributions as dist \n",
    "from numpyro.infer import MCMC, NUTS, Predictive\n",
    "import jax \n",
    "import jax.random as random \n",
    "import jax.numpy as jnp \n",
    "\n",
    "import numpy as np\n",
    "import scipy\n",
    "import scipy.stats as stats\n",
    "import pandas as pd\n",
    "\n",
    "import matplotlib.pyplot as plt\n",
    "import seaborn as sns; \n",
    "import arviz\n",
    "#sns.set_style(\"darkgrid\"); \n",
    "\n",
    "plt.rcParams['figure.dpi'] = 100\n",
    "plt.rcParams.update({\"grid.linewidth\":0.5, \"grid.alpha\":0.5})\n",
    "plt.style.use(\"dark_background\")"
   ]
  },
  {
   "cell_type": "markdown",
   "id": "4d9bb548-8417-49f4-a004-36a7f3499f45",
   "metadata": {},
   "source": [
    "numpyro.set_platform('gpu')\n",
    "numpyro.set_host_device_count(2)\n",
    "\n",
    "jax.local_devices(), jax.local_device_count()"
   ]
  },
  {
   "cell_type": "code",
   "execution_count": 44,
   "id": "b66173c8-b8a2-4b93-8b25-89e73462703e",
   "metadata": {},
   "outputs": [
    {
     "name": "stdout",
     "output_type": "stream",
     "text": [
      "The watermark extension is already loaded. To reload it, use:\n",
      "  %reload_ext watermark\n",
      "jax       : 0.2.10\n",
      "sys       : 3.8.0 (default, Feb 25 2021, 22:10:10) \n",
      "[GCC 8.4.0]\n",
      "seaborn   : 0.11.1\n",
      "numpyro   : 0.6.0\n",
      "arviz     : 0.11.2\n",
      "scipy     : 1.5.4\n",
      "matplotlib: 3.4.1\n",
      "pandas    : 1.2.2\n",
      "numpy     : 1.19.4\n",
      "\n"
     ]
    }
   ],
   "source": [
    "%load_ext watermark\n",
    "%watermark --iversions"
   ]
  },
  {
   "cell_type": "code",
   "execution_count": 45,
   "id": "2705157a-da92-4cbd-911e-6847eba814a6",
   "metadata": {},
   "outputs": [],
   "source": [
    "def mcmcinfer(model, args={}):\n",
    "    kernel = NUTS(model)\n",
    "    mcmc = MCMC(kernel, num_warmup=1000, num_samples=5000, num_chains=1)\n",
    "    #\n",
    "    mcmc.run(rng_key, **args)\n",
    "    mcmc.print_summary()\n",
    "    return mcmc"
   ]
  },
  {
   "cell_type": "code",
   "execution_count": 46,
   "id": "2befbebc-0dd7-42d5-ad8f-abac011412c5",
   "metadata": {},
   "outputs": [],
   "source": [
    "def phist(d, count=False):\n",
    "    u, c = np.unique(d, return_counts=True)\n",
    "    plt.bar(u, c/len(d) if count==False else c);"
   ]
  },
  {
   "cell_type": "code",
   "execution_count": 47,
   "id": "02f6bebc-7067-4ecf-ba5a-7b8f746dd428",
   "metadata": {},
   "outputs": [
    {
     "data": {
      "text/plain": [
       "array([4146024105,  967050713], dtype=uint32)"
      ]
     },
     "execution_count": 47,
     "metadata": {},
     "output_type": "execute_result"
    }
   ],
   "source": [
    "rng_key = random.PRNGKey(0)\n",
    "rng_key, sub = jax.random.split(rng_key)\n",
    "rng_key"
   ]
  },
  {
   "cell_type": "code",
   "execution_count": 48,
   "id": "ba43b725-958c-49a5-b244-8f467642e5a1",
   "metadata": {},
   "outputs": [],
   "source": [
    "def model(n, k, lb=.3, ub=.5):\n",
    "    th = numpyro.sample('th', dist.Beta(10, 10))\n",
    "    with numpyro.plate(f'N:{len(k)}', size=len(k)):\n",
    "        u = numpyro.sample('u', dist.Uniform(lb, ub), obs=th)\n",
    "        k = numpyro.sample('k', dist.Binomial(total_count=n, probs=th), obs=k)"
   ]
  },
  {
   "cell_type": "code",
   "execution_count": 49,
   "id": "13e307de-c87d-44bb-adff-990b42f7d705",
   "metadata": {},
   "outputs": [],
   "source": [
    "n = 100\n",
    "k = jnp.array([70, 80, 90])\n",
    "args = dict(n=n, k=k)"
   ]
  },
  {
   "cell_type": "code",
   "execution_count": 50,
   "id": "ac2ba34b-66ce-46fc-ad75-1b212d3e0717",
   "metadata": {},
   "outputs": [
    {
     "name": "stderr",
     "output_type": "stream",
     "text": [
      "sample: 100%|██████████| 6000/6000 [00:06<00:00, 934.10it/s, 3 steps of size 9.32e-01. acc. prob=0.92] "
     ]
    },
    {
     "name": "stdout",
     "output_type": "stream",
     "text": [
      "\n",
      "                mean       std    median      5.0%     95.0%     n_eff     r_hat\n",
      "        th      0.78      0.02      0.78      0.74      0.82   1492.76      1.00\n",
      "\n",
      "Number of divergences: 0\n"
     ]
    },
    {
     "name": "stderr",
     "output_type": "stream",
     "text": [
      "\n"
     ]
    }
   ],
   "source": [
    "mcmc = mcmcinfer(model, args)"
   ]
  },
  {
   "cell_type": "code",
   "execution_count": 51,
   "id": "258a1df2-3055-4b43-981b-cda0ec2af37c",
   "metadata": {},
   "outputs": [
    {
     "data": {
      "text/plain": [
       "{'th': DeviceArray([0.7833707 , 0.7802276 , 0.78769326, ..., 0.8153795 ,\n",
       "              0.80415076, 0.7933851 ], dtype=float32)}"
      ]
     },
     "execution_count": 51,
     "metadata": {},
     "output_type": "execute_result"
    }
   ],
   "source": [
    "s = mcmc.get_samples()\n",
    "s"
   ]
  },
  {
   "cell_type": "code",
   "execution_count": 52,
   "id": "49de1a6c-b1e7-4b57-90fd-00480440de43",
   "metadata": {},
   "outputs": [
    {
     "data": {
      "text/plain": [
       "<AxesSubplot:ylabel='Density'>"
      ]
     },
     "execution_count": 52,
     "metadata": {},
     "output_type": "execute_result"
    },
    {
     "data": {
      "image/png": "[encoded data removed]",
      "text/plain": [
       "<Figure size 600x400 with 1 Axes>"
      ]
     },
     "metadata": {},
     "output_type": "display_data"
    }
   ],
   "source": [
    "sns.kdeplot(s['th'])"
   ]
  },
  {
   "cell_type": "markdown",
   "id": "d7cf32a1-4695-4834-9550-a766575d9940",
   "metadata": {},
   "source": [
    "# 5.5 Censored Data"
   ]
  },
  {
   "cell_type": "code",
   "execution_count": 53,
   "id": "ac05346b-49bc-49d1-aeb2-05360328fb1b",
   "metadata": {},
   "outputs": [
    {
     "name": "stdout",
     "output_type": "stream",
     "text": [
      "(950,) (950,) (950,) (950,)\n"
     ]
    },
    {
     "name": "stderr",
     "output_type": "stream",
     "text": [
      "sample: 100%|██████████| 6000/6000 [00:07<00:00, 788.77it/s, 1 steps of size 8.32e-01. acc. prob=0.95] \n"
     ]
    },
    {
     "name": "stdout",
     "output_type": "stream",
     "text": [
      "\n",
      "                mean       std    median      5.0%     95.0%     n_eff     r_hat\n",
      "     theta      0.39      0.00      0.39      0.39      0.39   1661.45      1.00\n",
      "\n",
      "Number of divergences: 0\n",
      "(array([  13,   57,  288,  812, 1220, 1325,  878,  333,   66,    8]), array([0.38320002, 0.38469583, 0.3861916 , 0.3876874 , 0.3891832 ,\n",
      "       0.390679  , 0.3921748 , 0.3936706 , 0.3951664 , 0.39666218,\n",
      "       0.39815798], dtype=float32))\n"
     ]
    }
   ],
   "source": [
    "import truncBinom as tbc"
   ]
  },
  {
   "cell_type": "code",
   "execution_count": 54,
   "id": "f4dd8834-bbb0-4efc-987d-b4fcc4e887fe",
   "metadata": {},
   "outputs": [
    {
     "data": {
      "text/plain": [
       "DeviceArray([0.1, 0.1, 0.1, 0.1], dtype=float32)"
      ]
     },
     "execution_count": 54,
     "metadata": {},
     "output_type": "execute_result"
    }
   ],
   "source": [
    "jnp.repeat(1/10., 4)"
   ]
  },
  {
   "cell_type": "code",
   "execution_count": 55,
   "id": "c422ed6b-116c-43f1-a201-265267992872",
   "metadata": {},
   "outputs": [],
   "source": [
    "def model55_1(n_q=50, yobs=30, n_failed=949, low=15, high=25):\n",
    "    theta = numpyro.sample('theta', dist.Uniform(low=.25, high=1.))\n",
    "    failed_probs = jnp.repeat(1./(high-low+1), high-low+1)\n",
    "    \n",
    "    # truncated observations\n",
    "    # I randomly choose those failed observations\n",
    "    with numpyro.plate('f:{n_failed}', size=n_failed):  \n",
    "        failed_k = numpyro.sample('f', dist.Categorical(probs=failed_probs))\n",
    "        failed = numpyro.deterministic('failed', failed_k + low)\n",
    "        \n",
    "    with numpyro.plate(f'N:{n_failed}', size=n_failed):\n",
    "        y_unobs = numpyro.sample('yf', tbc.TruncatedBinomial(total_count=n_q, probs=theta, low=low, high=high), obs=failed)\n",
    "\n",
    "    # truely observed case\n",
    "    y = numpyro.sample('y', dist.Binomial(total_count=n_q, probs=theta), obs=yobs)\n",
    "#"
   ]
  },
  {
   "cell_type": "code",
   "execution_count": 56,
   "id": "ff31b0ae-080f-4c23-8b8b-c24f42ffb3bf",
   "metadata": {},
   "outputs": [],
   "source": [
    "n_q = 50  # number of questions\n",
    "yobs = 30 \n",
    "n_failed = 949"
   ]
  },
  {
   "cell_type": "code",
   "execution_count": 57,
   "id": "fa0e3c2f-fa71-49dc-ae1a-703f6d2a37c4",
   "metadata": {},
   "outputs": [
    {
     "name": "stderr",
     "output_type": "stream",
     "text": [
      "sample: 100%|██████████| 6000/6000 [00:27<00:00, 219.02it/s, 3 steps of size 8.90e-01. acc. prob=0.94] \n"
     ]
    },
    {
     "name": "stdout",
     "output_type": "stream",
     "text": [
      "\n",
      "                mean       std    median      5.0%     95.0%     n_eff     r_hat\n",
      "     theta      0.30      0.00      0.30      0.30      0.30   1783.13      1.00\n",
      "\n",
      "Number of divergences: 0\n"
     ]
    }
   ],
   "source": [
    "rng_key, sub = jax.random.split(rng_key)\n",
    "mcmc = mcmcinfer(model55_1)"
   ]
  },
  {
   "cell_type": "code",
   "execution_count": 89,
   "id": "761701dc-56cb-4d7a-886b-176f137c9da5",
   "metadata": {},
   "outputs": [
    {
     "data": {
      "text/plain": [
       "({'failed': DeviceArray([[16, 20, 24, ..., 20, 22, 15],\n",
       "               [16, 20, 24, ..., 20, 22, 15],\n",
       "               [16, 20, 24, ..., 20, 22, 15],\n",
       "               ...,\n",
       "               [16, 20, 24, ..., 20, 22, 15],\n",
       "               [16, 20, 24, ..., 20, 22, 15],\n",
       "               [16, 20, 24, ..., 20, 22, 15]], dtype=int32),\n",
       "  'theta': DeviceArray([0.29710513, 0.2978908 , 0.2978908 , ..., 0.29925054,\n",
       "               0.29876098, 0.3025375 ], dtype=float32)},\n",
       " (5000, 949))"
      ]
     },
     "execution_count": 89,
     "metadata": {},
     "output_type": "execute_result"
    }
   ],
   "source": [
    "samples = mcmc.get_samples()\n",
    "samples, samples['failed'].shape"
   ]
  },
  {
   "cell_type": "code",
   "execution_count": 173,
   "id": "dddfe219-a3ea-4b5c-b94a-471d4971b4cf",
   "metadata": {},
   "outputs": [
    {
     "data": {
      "image/png": "[encoded data removed]",
      "text/plain": [
       "<Figure size 600x400 with 1 Axes>"
      ]
     },
     "metadata": {},
     "output_type": "display_data"
    }
   ],
   "source": [
    "phist(samples['failed'][0,:])"
   ]
  },
  {
   "cell_type": "code",
   "execution_count": 91,
   "id": "9ea2cbb1-07d9-4a43-8aac-7aea3dd7f8ac",
   "metadata": {},
   "outputs": [
    {
     "data": {
      "image/png": "[encoded data removed]",
      "text/plain": [
       "<Figure size 600x400 with 1 Axes>"
      ]
     },
     "metadata": {},
     "output_type": "display_data"
    }
   ],
   "source": [
    "sns.kdeplot(samples['theta']);"
   ]
  },
  {
   "cell_type": "markdown",
   "id": "092243a4-23a1-433f-b286-34249a338819",
   "metadata": {},
   "source": [
    "---"
   ]
  },
  {
   "cell_type": "code",
   "execution_count": 35,
   "id": "9233e4db-423c-4c59-bcea-1793f3c50b16",
   "metadata": {},
   "outputs": [],
   "source": [
    "def model55_2(fobs, sobs, nqs, low, high):\n",
    "    theta = numpyro.sample('theta', dist.Uniform(low=.25, high=1.))\n",
    "    \n",
    "    with numpyro.plate(f'fobs_N:{len(fobs)}', size=len(fobs)):\n",
    "        fy = numpyro.sample('fy', tbc.TruncatedBinomial(total_count=nqs, probs=theta, low=low, high=high), obs=fobs)\n",
    "        \n",
    "    with numpyro.plate(f'N:{len(sobs)}', size=len(sobs)):\n",
    "        sy = numpyro.sample('sy', dist.Binomial(total_count=nqs, probs=theta), obs=sobs)\n",
    "#"
   ]
  },
  {
   "cell_type": "code",
   "execution_count": 38,
   "id": "efee9931-b66c-4884-b213-99f47e143926",
   "metadata": {},
   "outputs": [],
   "source": [
    "low = 15\n",
    "high = 25\n",
    "nqs = 50\n",
    "n_failed = 3\n",
    "\n",
    "rng_key, sub = jax.random.split(rng_key)\n",
    "fobs = jax.random.choice(rng_key, jnp.arange(low, high+1), shape=(n_failed,))\n",
    "\n",
    "sobs = jnp.array([30])"
   ]
  },
  {
   "cell_type": "code",
   "execution_count": 40,
   "id": "aa8f7236-febc-4ed1-a9cb-14e381795426",
   "metadata": {},
   "outputs": [
    {
     "ename": "NameError",
     "evalue": "name 'tbc' is not defined",
     "output_type": "error",
     "traceback": [
      "\u001b[0;31m---------------------------------------------------------------------------\u001b[0m",
      "\u001b[0;31mNameError\u001b[0m                                 Traceback (most recent call last)",
      "\u001b[0;32m<ipython-input-40-8e73f67efea0>\u001b[0m in \u001b[0;36m<module>\u001b[0;34m\u001b[0m\n\u001b[1;32m      1\u001b[0m \u001b[0mrng_key\u001b[0m\u001b[0;34m,\u001b[0m \u001b[0msub\u001b[0m \u001b[0;34m=\u001b[0m \u001b[0mjax\u001b[0m\u001b[0;34m.\u001b[0m\u001b[0mrandom\u001b[0m\u001b[0;34m.\u001b[0m\u001b[0msplit\u001b[0m\u001b[0;34m(\u001b[0m\u001b[0mrng_key\u001b[0m\u001b[0;34m)\u001b[0m\u001b[0;34m\u001b[0m\u001b[0;34m\u001b[0m\u001b[0m\n\u001b[1;32m      2\u001b[0m \u001b[0margs\u001b[0m \u001b[0;34m=\u001b[0m \u001b[0mdict\u001b[0m\u001b[0;34m(\u001b[0m\u001b[0mfobs\u001b[0m\u001b[0;34m=\u001b[0m\u001b[0mfobs\u001b[0m\u001b[0;34m,\u001b[0m \u001b[0msobs\u001b[0m\u001b[0;34m=\u001b[0m\u001b[0msobs\u001b[0m\u001b[0;34m,\u001b[0m \u001b[0mnqs\u001b[0m\u001b[0;34m=\u001b[0m\u001b[0mnqs\u001b[0m\u001b[0;34m,\u001b[0m \u001b[0mlow\u001b[0m\u001b[0;34m=\u001b[0m\u001b[0mlow\u001b[0m\u001b[0;34m,\u001b[0m \u001b[0mhigh\u001b[0m\u001b[0;34m=\u001b[0m\u001b[0mhigh\u001b[0m\u001b[0;34m)\u001b[0m\u001b[0;34m\u001b[0m\u001b[0;34m\u001b[0m\u001b[0m\n\u001b[0;32m----> 3\u001b[0;31m \u001b[0mmcmc\u001b[0m \u001b[0;34m=\u001b[0m \u001b[0mmcmcinfer\u001b[0m\u001b[0;34m(\u001b[0m\u001b[0mmodel55_2\u001b[0m\u001b[0;34m,\u001b[0m \u001b[0margs\u001b[0m\u001b[0;34m)\u001b[0m\u001b[0;34m\u001b[0m\u001b[0;34m\u001b[0m\u001b[0m\n\u001b[0m",
      "\u001b[0;32m<ipython-input-7-49b99216f7c2>\u001b[0m in \u001b[0;36mmcmcinfer\u001b[0;34m(model, args)\u001b[0m\n\u001b[1;32m      3\u001b[0m     \u001b[0mmcmc\u001b[0m \u001b[0;34m=\u001b[0m \u001b[0mMCMC\u001b[0m\u001b[0;34m(\u001b[0m\u001b[0mkernel\u001b[0m\u001b[0;34m,\u001b[0m \u001b[0mnum_warmup\u001b[0m\u001b[0;34m=\u001b[0m\u001b[0;36m1000\u001b[0m\u001b[0;34m,\u001b[0m \u001b[0mnum_samples\u001b[0m\u001b[0;34m=\u001b[0m\u001b[0;36m5000\u001b[0m\u001b[0;34m,\u001b[0m \u001b[0mnum_chains\u001b[0m\u001b[0;34m=\u001b[0m\u001b[0;36m1\u001b[0m\u001b[0;34m)\u001b[0m\u001b[0;34m\u001b[0m\u001b[0;34m\u001b[0m\u001b[0m\n\u001b[1;32m      4\u001b[0m     \u001b[0;31m#\u001b[0m\u001b[0;34m\u001b[0m\u001b[0;34m\u001b[0m\u001b[0;34m\u001b[0m\u001b[0m\n\u001b[0;32m----> 5\u001b[0;31m     \u001b[0mmcmc\u001b[0m\u001b[0;34m.\u001b[0m\u001b[0mrun\u001b[0m\u001b[0;34m(\u001b[0m\u001b[0mrng_key\u001b[0m\u001b[0;34m,\u001b[0m \u001b[0;34m**\u001b[0m\u001b[0margs\u001b[0m\u001b[0;34m)\u001b[0m\u001b[0;34m\u001b[0m\u001b[0;34m\u001b[0m\u001b[0m\n\u001b[0m\u001b[1;32m      6\u001b[0m     \u001b[0mmcmc\u001b[0m\u001b[0;34m.\u001b[0m\u001b[0mprint_summary\u001b[0m\u001b[0;34m(\u001b[0m\u001b[0;34m)\u001b[0m\u001b[0;34m\u001b[0m\u001b[0;34m\u001b[0m\u001b[0m\n\u001b[1;32m      7\u001b[0m     \u001b[0;32mreturn\u001b[0m \u001b[0mmcmc\u001b[0m\u001b[0;34m\u001b[0m\u001b[0;34m\u001b[0m\u001b[0m\n",
      "\u001b[0;32m~/tmp/numpyro/numpyro/infer/mcmc.py\u001b[0m in \u001b[0;36mrun\u001b[0;34m(self, rng_key, extra_fields, init_params, *args, **kwargs)\u001b[0m\n\u001b[1;32m    496\u001b[0m         \u001b[0mmap_args\u001b[0m \u001b[0;34m=\u001b[0m \u001b[0;34m(\u001b[0m\u001b[0mrng_key\u001b[0m\u001b[0;34m,\u001b[0m \u001b[0minit_state\u001b[0m\u001b[0;34m,\u001b[0m \u001b[0minit_params\u001b[0m\u001b[0;34m)\u001b[0m\u001b[0;34m\u001b[0m\u001b[0;34m\u001b[0m\u001b[0m\n\u001b[1;32m    497\u001b[0m         \u001b[0;32mif\u001b[0m \u001b[0mself\u001b[0m\u001b[0;34m.\u001b[0m\u001b[0mnum_chains\u001b[0m \u001b[0;34m==\u001b[0m \u001b[0;36m1\u001b[0m\u001b[0;34m:\u001b[0m\u001b[0;34m\u001b[0m\u001b[0;34m\u001b[0m\u001b[0m\n\u001b[0;32m--> 498\u001b[0;31m             \u001b[0mstates_flat\u001b[0m\u001b[0;34m,\u001b[0m \u001b[0mlast_state\u001b[0m \u001b[0;34m=\u001b[0m \u001b[0mpartial_map_fn\u001b[0m\u001b[0;34m(\u001b[0m\u001b[0mmap_args\u001b[0m\u001b[0;34m)\u001b[0m\u001b[0;34m\u001b[0m\u001b[0;34m\u001b[0m\u001b[0m\n\u001b[0m\u001b[1;32m    499\u001b[0m             \u001b[0mstates\u001b[0m \u001b[0;34m=\u001b[0m \u001b[0mtree_map\u001b[0m\u001b[0;34m(\u001b[0m\u001b[0;32mlambda\u001b[0m \u001b[0mx\u001b[0m\u001b[0;34m:\u001b[0m \u001b[0mx\u001b[0m\u001b[0;34m[\u001b[0m\u001b[0mjnp\u001b[0m\u001b[0;34m.\u001b[0m\u001b[0mnewaxis\u001b[0m\u001b[0;34m,\u001b[0m \u001b[0;34m...\u001b[0m\u001b[0;34m]\u001b[0m\u001b[0;34m,\u001b[0m \u001b[0mstates_flat\u001b[0m\u001b[0;34m)\u001b[0m\u001b[0;34m\u001b[0m\u001b[0;34m\u001b[0m\u001b[0m\n\u001b[1;32m    500\u001b[0m         \u001b[0;32melse\u001b[0m\u001b[0;34m:\u001b[0m\u001b[0;34m\u001b[0m\u001b[0;34m\u001b[0m\u001b[0m\n",
      "\u001b[0;32m~/tmp/numpyro/numpyro/infer/mcmc.py\u001b[0m in \u001b[0;36m_single_chain_mcmc\u001b[0;34m(self, init, args, kwargs, collect_fields)\u001b[0m\n\u001b[1;32m    331\u001b[0m         \u001b[0mrng_key\u001b[0m\u001b[0;34m,\u001b[0m \u001b[0minit_state\u001b[0m\u001b[0;34m,\u001b[0m \u001b[0minit_params\u001b[0m \u001b[0;34m=\u001b[0m \u001b[0minit\u001b[0m\u001b[0;34m\u001b[0m\u001b[0;34m\u001b[0m\u001b[0m\n\u001b[1;32m    332\u001b[0m         \u001b[0;32mif\u001b[0m \u001b[0minit_state\u001b[0m \u001b[0;32mis\u001b[0m \u001b[0;32mNone\u001b[0m\u001b[0;34m:\u001b[0m\u001b[0;34m\u001b[0m\u001b[0;34m\u001b[0m\u001b[0m\n\u001b[0;32m--> 333\u001b[0;31m             init_state = self.sampler.init(rng_key, self.num_warmup, init_params,\n\u001b[0m\u001b[1;32m    334\u001b[0m                                            model_args=args, model_kwargs=kwargs)\n\u001b[1;32m    335\u001b[0m         \u001b[0msample_fn\u001b[0m\u001b[0;34m,\u001b[0m \u001b[0mpostprocess_fn\u001b[0m \u001b[0;34m=\u001b[0m \u001b[0mself\u001b[0m\u001b[0;34m.\u001b[0m\u001b[0m_get_cached_fns\u001b[0m\u001b[0;34m(\u001b[0m\u001b[0;34m)\u001b[0m\u001b[0;34m\u001b[0m\u001b[0;34m\u001b[0m\u001b[0m\n",
      "\u001b[0;32m~/tmp/numpyro/numpyro/infer/hmc.py\u001b[0m in \u001b[0;36minit\u001b[0;34m(self, rng_key, num_warmup, init_params, model_args, model_kwargs)\u001b[0m\n\u001b[1;32m    542\u001b[0m         \u001b[0;32melse\u001b[0m\u001b[0;34m:\u001b[0m\u001b[0;34m\u001b[0m\u001b[0;34m\u001b[0m\u001b[0m\n\u001b[1;32m    543\u001b[0m             \u001b[0mrng_key\u001b[0m\u001b[0;34m,\u001b[0m \u001b[0mrng_key_init_model\u001b[0m \u001b[0;34m=\u001b[0m \u001b[0mjnp\u001b[0m\u001b[0;34m.\u001b[0m\u001b[0mswapaxes\u001b[0m\u001b[0;34m(\u001b[0m\u001b[0mvmap\u001b[0m\u001b[0;34m(\u001b[0m\u001b[0mrandom\u001b[0m\u001b[0;34m.\u001b[0m\u001b[0msplit\u001b[0m\u001b[0;34m)\u001b[0m\u001b[0;34m(\u001b[0m\u001b[0mrng_key\u001b[0m\u001b[0;34m)\u001b[0m\u001b[0;34m,\u001b[0m \u001b[0;36m0\u001b[0m\u001b[0;34m,\u001b[0m \u001b[0;36m1\u001b[0m\u001b[0;34m)\u001b[0m\u001b[0;34m\u001b[0m\u001b[0;34m\u001b[0m\u001b[0m\n\u001b[0;32m--> 544\u001b[0;31m         \u001b[0minit_params\u001b[0m \u001b[0;34m=\u001b[0m \u001b[0mself\u001b[0m\u001b[0;34m.\u001b[0m\u001b[0m_init_state\u001b[0m\u001b[0;34m(\u001b[0m\u001b[0mrng_key_init_model\u001b[0m\u001b[0;34m,\u001b[0m \u001b[0mmodel_args\u001b[0m\u001b[0;34m,\u001b[0m \u001b[0mmodel_kwargs\u001b[0m\u001b[0;34m,\u001b[0m \u001b[0minit_params\u001b[0m\u001b[0;34m)\u001b[0m\u001b[0;34m\u001b[0m\u001b[0;34m\u001b[0m\u001b[0m\n\u001b[0m\u001b[1;32m    545\u001b[0m         \u001b[0;32mif\u001b[0m \u001b[0mself\u001b[0m\u001b[0;34m.\u001b[0m\u001b[0m_potential_fn\u001b[0m \u001b[0;32mand\u001b[0m \u001b[0minit_params\u001b[0m \u001b[0;32mis\u001b[0m \u001b[0;32mNone\u001b[0m\u001b[0;34m:\u001b[0m\u001b[0;34m\u001b[0m\u001b[0;34m\u001b[0m\u001b[0m\n\u001b[1;32m    546\u001b[0m             raise ValueError('Valid value of `init_params` must be provided with'\n",
      "\u001b[0;32m~/tmp/numpyro/numpyro/infer/hmc.py\u001b[0m in \u001b[0;36m_init_state\u001b[0;34m(self, rng_key, model_args, model_kwargs, init_params)\u001b[0m\n\u001b[1;32m    497\u001b[0m     \u001b[0;32mdef\u001b[0m \u001b[0m_init_state\u001b[0m\u001b[0;34m(\u001b[0m\u001b[0mself\u001b[0m\u001b[0;34m,\u001b[0m \u001b[0mrng_key\u001b[0m\u001b[0;34m,\u001b[0m \u001b[0mmodel_args\u001b[0m\u001b[0;34m,\u001b[0m \u001b[0mmodel_kwargs\u001b[0m\u001b[0;34m,\u001b[0m \u001b[0minit_params\u001b[0m\u001b[0;34m)\u001b[0m\u001b[0;34m:\u001b[0m\u001b[0;34m\u001b[0m\u001b[0;34m\u001b[0m\u001b[0m\n\u001b[1;32m    498\u001b[0m         \u001b[0;32mif\u001b[0m \u001b[0mself\u001b[0m\u001b[0;34m.\u001b[0m\u001b[0m_model\u001b[0m \u001b[0;32mis\u001b[0m \u001b[0;32mnot\u001b[0m \u001b[0;32mNone\u001b[0m\u001b[0;34m:\u001b[0m\u001b[0;34m\u001b[0m\u001b[0;34m\u001b[0m\u001b[0m\n\u001b[0;32m--> 499\u001b[0;31m             init_params, potential_fn, postprocess_fn, model_trace = initialize_model(\n\u001b[0m\u001b[1;32m    500\u001b[0m                 \u001b[0mrng_key\u001b[0m\u001b[0;34m,\u001b[0m\u001b[0;34m\u001b[0m\u001b[0;34m\u001b[0m\u001b[0m\n\u001b[1;32m    501\u001b[0m                 \u001b[0mself\u001b[0m\u001b[0;34m.\u001b[0m\u001b[0m_model\u001b[0m\u001b[0;34m,\u001b[0m\u001b[0;34m\u001b[0m\u001b[0;34m\u001b[0m\u001b[0m\n",
      "\u001b[0;32m~/tmp/numpyro/numpyro/infer/util.py\u001b[0m in \u001b[0;36minitialize_model\u001b[0;34m(rng_key, model, init_strategy, dynamic_args, model_args, model_kwargs, forward_mode_differentiation)\u001b[0m\n\u001b[1;32m    426\u001b[0m     substituted_model = substitute(seed(model, rng_key if jnp.ndim(rng_key) == 1 else rng_key[0]),\n\u001b[1;32m    427\u001b[0m                                    substitute_fn=init_strategy)\n\u001b[0;32m--> 428\u001b[0;31m     inv_transforms, replay_model, has_enumerate_support, model_trace = _get_model_transforms(\n\u001b[0m\u001b[1;32m    429\u001b[0m         substituted_model, model_args, model_kwargs)\n\u001b[1;32m    430\u001b[0m     \u001b[0;31m# substitute param sites from model_trace to model so\u001b[0m\u001b[0;34m\u001b[0m\u001b[0;34m\u001b[0m\u001b[0;34m\u001b[0m\u001b[0m\n",
      "\u001b[0;32m~/tmp/numpyro/numpyro/infer/util.py\u001b[0m in \u001b[0;36m_get_model_transforms\u001b[0;34m(model, model_args, model_kwargs)\u001b[0m\n\u001b[1;32m    274\u001b[0m \u001b[0;32mdef\u001b[0m \u001b[0m_get_model_transforms\u001b[0m\u001b[0;34m(\u001b[0m\u001b[0mmodel\u001b[0m\u001b[0;34m,\u001b[0m \u001b[0mmodel_args\u001b[0m\u001b[0;34m=\u001b[0m\u001b[0;34m(\u001b[0m\u001b[0;34m)\u001b[0m\u001b[0;34m,\u001b[0m \u001b[0mmodel_kwargs\u001b[0m\u001b[0;34m=\u001b[0m\u001b[0;32mNone\u001b[0m\u001b[0;34m)\u001b[0m\u001b[0;34m:\u001b[0m\u001b[0;34m\u001b[0m\u001b[0;34m\u001b[0m\u001b[0m\n\u001b[1;32m    275\u001b[0m     \u001b[0mmodel_kwargs\u001b[0m \u001b[0;34m=\u001b[0m \u001b[0;34m{\u001b[0m\u001b[0;34m}\u001b[0m \u001b[0;32mif\u001b[0m \u001b[0mmodel_kwargs\u001b[0m \u001b[0;32mis\u001b[0m \u001b[0;32mNone\u001b[0m \u001b[0;32melse\u001b[0m \u001b[0mmodel_kwargs\u001b[0m\u001b[0;34m\u001b[0m\u001b[0;34m\u001b[0m\u001b[0m\n\u001b[0;32m--> 276\u001b[0;31m     \u001b[0mmodel_trace\u001b[0m \u001b[0;34m=\u001b[0m \u001b[0mtrace\u001b[0m\u001b[0;34m(\u001b[0m\u001b[0mmodel\u001b[0m\u001b[0;34m)\u001b[0m\u001b[0;34m.\u001b[0m\u001b[0mget_trace\u001b[0m\u001b[0;34m(\u001b[0m\u001b[0;34m*\u001b[0m\u001b[0mmodel_args\u001b[0m\u001b[0;34m,\u001b[0m \u001b[0;34m**\u001b[0m\u001b[0mmodel_kwargs\u001b[0m\u001b[0;34m)\u001b[0m\u001b[0;34m\u001b[0m\u001b[0;34m\u001b[0m\u001b[0m\n\u001b[0m\u001b[1;32m    277\u001b[0m     \u001b[0minv_transforms\u001b[0m \u001b[0;34m=\u001b[0m \u001b[0;34m{\u001b[0m\u001b[0;34m}\u001b[0m\u001b[0;34m\u001b[0m\u001b[0;34m\u001b[0m\u001b[0m\n\u001b[1;32m    278\u001b[0m     \u001b[0;31m# model code may need to be replayed in the presence of deterministic sites\u001b[0m\u001b[0;34m\u001b[0m\u001b[0;34m\u001b[0m\u001b[0;34m\u001b[0m\u001b[0m\n",
      "\u001b[0;32m~/tmp/numpyro/numpyro/handlers.py\u001b[0m in \u001b[0;36mget_trace\u001b[0;34m(self, *args, **kwargs)\u001b[0m\n\u001b[1;32m    160\u001b[0m         \u001b[0;34m:\u001b[0m\u001b[0;32mreturn\u001b[0m\u001b[0;34m:\u001b[0m\u001b[0;31m \u001b[0m\u001b[0;31m`\u001b[0m\u001b[0mOrderedDict\u001b[0m\u001b[0;31m`\u001b[0m \u001b[0mcontaining\u001b[0m \u001b[0mthe\u001b[0m \u001b[0mexecution\u001b[0m \u001b[0mtrace\u001b[0m\u001b[0;34m.\u001b[0m\u001b[0;34m\u001b[0m\u001b[0;34m\u001b[0m\u001b[0m\n\u001b[1;32m    161\u001b[0m         \"\"\"\n\u001b[0;32m--> 162\u001b[0;31m         \u001b[0mself\u001b[0m\u001b[0;34m(\u001b[0m\u001b[0;34m*\u001b[0m\u001b[0margs\u001b[0m\u001b[0;34m,\u001b[0m \u001b[0;34m**\u001b[0m\u001b[0mkwargs\u001b[0m\u001b[0;34m)\u001b[0m\u001b[0;34m\u001b[0m\u001b[0;34m\u001b[0m\u001b[0m\n\u001b[0m\u001b[1;32m    163\u001b[0m         \u001b[0;32mreturn\u001b[0m \u001b[0mself\u001b[0m\u001b[0;34m.\u001b[0m\u001b[0mtrace\u001b[0m\u001b[0;34m\u001b[0m\u001b[0;34m\u001b[0m\u001b[0m\n\u001b[1;32m    164\u001b[0m \u001b[0;34m\u001b[0m\u001b[0m\n",
      "\u001b[0;32m~/tmp/numpyro/numpyro/primitives.py\u001b[0m in \u001b[0;36m__call__\u001b[0;34m(self, *args, **kwargs)\u001b[0m\n\u001b[1;32m     78\u001b[0m     \u001b[0;32mdef\u001b[0m \u001b[0m__call__\u001b[0m\u001b[0;34m(\u001b[0m\u001b[0mself\u001b[0m\u001b[0;34m,\u001b[0m \u001b[0;34m*\u001b[0m\u001b[0margs\u001b[0m\u001b[0;34m,\u001b[0m \u001b[0;34m**\u001b[0m\u001b[0mkwargs\u001b[0m\u001b[0;34m)\u001b[0m\u001b[0;34m:\u001b[0m\u001b[0;34m\u001b[0m\u001b[0;34m\u001b[0m\u001b[0m\n\u001b[1;32m     79\u001b[0m         \u001b[0;32mwith\u001b[0m \u001b[0mself\u001b[0m\u001b[0;34m:\u001b[0m\u001b[0;34m\u001b[0m\u001b[0;34m\u001b[0m\u001b[0m\n\u001b[0;32m---> 80\u001b[0;31m             \u001b[0;32mreturn\u001b[0m \u001b[0mself\u001b[0m\u001b[0;34m.\u001b[0m\u001b[0mfn\u001b[0m\u001b[0;34m(\u001b[0m\u001b[0;34m*\u001b[0m\u001b[0margs\u001b[0m\u001b[0;34m,\u001b[0m \u001b[0;34m**\u001b[0m\u001b[0mkwargs\u001b[0m\u001b[0;34m)\u001b[0m\u001b[0;34m\u001b[0m\u001b[0;34m\u001b[0m\u001b[0m\n\u001b[0m\u001b[1;32m     81\u001b[0m \u001b[0;34m\u001b[0m\u001b[0m\n\u001b[1;32m     82\u001b[0m \u001b[0;34m\u001b[0m\u001b[0m\n",
      "\u001b[0;32m~/tmp/numpyro/numpyro/primitives.py\u001b[0m in \u001b[0;36m__call__\u001b[0;34m(self, *args, **kwargs)\u001b[0m\n\u001b[1;32m     78\u001b[0m     \u001b[0;32mdef\u001b[0m \u001b[0m__call__\u001b[0m\u001b[0;34m(\u001b[0m\u001b[0mself\u001b[0m\u001b[0;34m,\u001b[0m \u001b[0;34m*\u001b[0m\u001b[0margs\u001b[0m\u001b[0;34m,\u001b[0m \u001b[0;34m**\u001b[0m\u001b[0mkwargs\u001b[0m\u001b[0;34m)\u001b[0m\u001b[0;34m:\u001b[0m\u001b[0;34m\u001b[0m\u001b[0;34m\u001b[0m\u001b[0m\n\u001b[1;32m     79\u001b[0m         \u001b[0;32mwith\u001b[0m \u001b[0mself\u001b[0m\u001b[0;34m:\u001b[0m\u001b[0;34m\u001b[0m\u001b[0;34m\u001b[0m\u001b[0m\n\u001b[0;32m---> 80\u001b[0;31m             \u001b[0;32mreturn\u001b[0m \u001b[0mself\u001b[0m\u001b[0;34m.\u001b[0m\u001b[0mfn\u001b[0m\u001b[0;34m(\u001b[0m\u001b[0;34m*\u001b[0m\u001b[0margs\u001b[0m\u001b[0;34m,\u001b[0m \u001b[0;34m**\u001b[0m\u001b[0mkwargs\u001b[0m\u001b[0;34m)\u001b[0m\u001b[0;34m\u001b[0m\u001b[0;34m\u001b[0m\u001b[0m\n\u001b[0m\u001b[1;32m     81\u001b[0m \u001b[0;34m\u001b[0m\u001b[0m\n\u001b[1;32m     82\u001b[0m \u001b[0;34m\u001b[0m\u001b[0m\n",
      "\u001b[0;32m~/tmp/numpyro/numpyro/primitives.py\u001b[0m in \u001b[0;36m__call__\u001b[0;34m(self, *args, **kwargs)\u001b[0m\n\u001b[1;32m     78\u001b[0m     \u001b[0;32mdef\u001b[0m \u001b[0m__call__\u001b[0m\u001b[0;34m(\u001b[0m\u001b[0mself\u001b[0m\u001b[0;34m,\u001b[0m \u001b[0;34m*\u001b[0m\u001b[0margs\u001b[0m\u001b[0;34m,\u001b[0m \u001b[0;34m**\u001b[0m\u001b[0mkwargs\u001b[0m\u001b[0;34m)\u001b[0m\u001b[0;34m:\u001b[0m\u001b[0;34m\u001b[0m\u001b[0;34m\u001b[0m\u001b[0m\n\u001b[1;32m     79\u001b[0m         \u001b[0;32mwith\u001b[0m \u001b[0mself\u001b[0m\u001b[0;34m:\u001b[0m\u001b[0;34m\u001b[0m\u001b[0;34m\u001b[0m\u001b[0m\n\u001b[0;32m---> 80\u001b[0;31m             \u001b[0;32mreturn\u001b[0m \u001b[0mself\u001b[0m\u001b[0;34m.\u001b[0m\u001b[0mfn\u001b[0m\u001b[0;34m(\u001b[0m\u001b[0;34m*\u001b[0m\u001b[0margs\u001b[0m\u001b[0;34m,\u001b[0m \u001b[0;34m**\u001b[0m\u001b[0mkwargs\u001b[0m\u001b[0;34m)\u001b[0m\u001b[0;34m\u001b[0m\u001b[0;34m\u001b[0m\u001b[0m\n\u001b[0m\u001b[1;32m     81\u001b[0m \u001b[0;34m\u001b[0m\u001b[0m\n\u001b[1;32m     82\u001b[0m \u001b[0;34m\u001b[0m\u001b[0m\n",
      "\u001b[0;32m<ipython-input-35-5f4e4a8f5fb5>\u001b[0m in \u001b[0;36mmodel55_2\u001b[0;34m(fobs, sobs, nqs, low, high)\u001b[0m\n\u001b[1;32m      3\u001b[0m \u001b[0;34m\u001b[0m\u001b[0m\n\u001b[1;32m      4\u001b[0m     \u001b[0;32mwith\u001b[0m \u001b[0mnumpyro\u001b[0m\u001b[0;34m.\u001b[0m\u001b[0mplate\u001b[0m\u001b[0;34m(\u001b[0m\u001b[0;34mf'fobs_N:{len(fobs)}'\u001b[0m\u001b[0;34m,\u001b[0m \u001b[0msize\u001b[0m\u001b[0;34m=\u001b[0m\u001b[0mlen\u001b[0m\u001b[0;34m(\u001b[0m\u001b[0mfobs\u001b[0m\u001b[0;34m)\u001b[0m\u001b[0;34m)\u001b[0m\u001b[0;34m:\u001b[0m\u001b[0;34m\u001b[0m\u001b[0;34m\u001b[0m\u001b[0m\n\u001b[0;32m----> 5\u001b[0;31m         \u001b[0mfy\u001b[0m \u001b[0;34m=\u001b[0m \u001b[0mnumpyro\u001b[0m\u001b[0;34m.\u001b[0m\u001b[0msample\u001b[0m\u001b[0;34m(\u001b[0m\u001b[0;34m'fy'\u001b[0m\u001b[0;34m,\u001b[0m \u001b[0mtbc\u001b[0m\u001b[0;34m.\u001b[0m\u001b[0mTruncatedBinomial\u001b[0m\u001b[0;34m(\u001b[0m\u001b[0mtotal_count\u001b[0m\u001b[0;34m=\u001b[0m\u001b[0mnqs\u001b[0m\u001b[0;34m,\u001b[0m \u001b[0mprobs\u001b[0m\u001b[0;34m=\u001b[0m\u001b[0mtheta\u001b[0m\u001b[0;34m,\u001b[0m \u001b[0mlow\u001b[0m\u001b[0;34m=\u001b[0m\u001b[0mlow\u001b[0m\u001b[0;34m,\u001b[0m \u001b[0mhigh\u001b[0m\u001b[0;34m=\u001b[0m\u001b[0mhigh\u001b[0m\u001b[0;34m)\u001b[0m\u001b[0;34m,\u001b[0m \u001b[0mobs\u001b[0m\u001b[0;34m=\u001b[0m\u001b[0mfobs\u001b[0m\u001b[0;34m)\u001b[0m\u001b[0;34m\u001b[0m\u001b[0;34m\u001b[0m\u001b[0m\n\u001b[0m\u001b[1;32m      6\u001b[0m \u001b[0;34m\u001b[0m\u001b[0m\n\u001b[1;32m      7\u001b[0m     \u001b[0;32mwith\u001b[0m \u001b[0mnumpyro\u001b[0m\u001b[0;34m.\u001b[0m\u001b[0mplate\u001b[0m\u001b[0;34m(\u001b[0m\u001b[0;34mf'N:{len(sobs)}'\u001b[0m\u001b[0;34m,\u001b[0m \u001b[0msize\u001b[0m\u001b[0;34m=\u001b[0m\u001b[0mlen\u001b[0m\u001b[0;34m(\u001b[0m\u001b[0msobs\u001b[0m\u001b[0;34m)\u001b[0m\u001b[0;34m)\u001b[0m\u001b[0;34m:\u001b[0m\u001b[0;34m\u001b[0m\u001b[0;34m\u001b[0m\u001b[0m\n",
      "\u001b[0;31mNameError\u001b[0m: name 'tbc' is not defined"
     ]
    }
   ],
   "source": [
    "rng_key, sub = jax.random.split(rng_key)\n",
    "args = dict(fobs=fobs, sobs=sobs, nqs=nqs, low=low, high=high)\n",
    "mcmc = mcmcinfer(model55_2, args)"
   ]
  },
  {
   "cell_type": "code",
   "execution_count": 152,
   "id": "b84fc6be-fd6e-4350-91dc-554c5798038b",
   "metadata": {},
   "outputs": [
    {
     "data": {
      "text/plain": [
       "{'theta': DeviceArray([0.38978586, 0.38992566, 0.38995036, ..., 0.39066428,\n",
       "              0.390407  , 0.38964707], dtype=float32)}"
      ]
     },
     "execution_count": 152,
     "metadata": {},
     "output_type": "execute_result"
    }
   ],
   "source": [
    "s = mcmc.get_samples()\n",
    "s"
   ]
  },
  {
   "cell_type": "code",
   "execution_count": 128,
   "id": "44a27eb3-ad1c-4bee-bc9f-7ce6de02594c",
   "metadata": {},
   "outputs": [
    {
     "data": {
      "text/plain": [
       "<AxesSubplot:ylabel='Density'>"
      ]
     },
     "execution_count": 128,
     "metadata": {},
     "output_type": "execute_result"
    },
    {
     "data": {
      "image/png": "[encoded data removed]",
      "text/plain": [
       "<Figure size 600x400 with 1 Axes>"
      ]
     },
     "metadata": {},
     "output_type": "display_data"
    }
   ],
   "source": [
    "sns.kdeplot(s['theta'])"
   ]
  },
  {
   "cell_type": "code",
   "execution_count": null,
   "id": "3653b209-771f-4f10-b8f3-916b6e9eb991",
   "metadata": {},
   "outputs": [],
   "source": []
  }
 ],
 "metadata": {
  "kernelspec": {
   "display_name": "Python 3",
   "language": "python",
   "name": "python3"
  },
  "language_info": {
   "codemirror_mode": {
    "name": "ipython",
    "version": 3
   },
   "file_extension": ".py",
   "mimetype": "text/x-python",
   "name": "python",
   "nbconvert_exporter": "python",
   "pygments_lexer": "ipython3",
   "version": "3.8.0"
  }
 },
 "nbformat": 4,
 "nbformat_minor": 5
}
