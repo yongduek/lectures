{
 "cells": [
  {
   "cell_type": "markdown",
   "metadata": {},
   "source": [
    "# Maximum Likelihood Estimation"
   ]
  },
  {
   "cell_type": "markdown",
   "metadata": {},
   "source": [
    "## Mean of Random Variables\n",
    "Let's think about a new random variable $Y$:\n",
    "\\begin{align}\n",
    "    Y & = \\frac{1}{n}\\sum_i X_i\n",
    "\\end{align}\n",
    "where $X_i$s are independent identically distributed (iid) random variables with mean $\\mu$ and std $\\sigma$.\n",
    "\n",
    "Its expections are:\n",
    "\\begin{align}\n",
    "    \\mathbb{E}[Y] & = \\frac{1}{n}\\sum_i \\mathbb{E}[X_i] = \\mu\\\\\n",
    "    \\mathbb{V}[Y] & = \\mathbb{V}\\bigg[\\frac{1}{n}\\sum_i X_i\\bigg] \\\\\n",
    "                  & = \\frac{1}{n^2}\\mathbb{V}\\bigg[\\sum_i X_i\\bigg] \\\\\n",
    "                  & = \\frac{1}{n^2}\\sum_i\\mathbb{V}\\big[X_i\\big] \\quad\\mbox{independence, uncorrelated}\\\\\n",
    "                  & = \\frac{1}{n^2}\\sum_i \\sigma^2 \\\\\n",
    "                  & = \\frac{1}{n} \\sigma^2 \\\\\n",
    "    Std(Y) &= \\frac{\\sigma}{\\sqrt{n}}   \\quad \\mbox{called 'standard error'}\n",
    "\\end{align}\n",
    "- Implication:\n",
    "    - $Y$ is a mean estimator. It is a function that tries to estimate the mean of the distribution of r.v. $X$.\n",
    "    - measure as many $X$'s as possible, and compute its mean $Y$.\n",
    "    - the expectation of $Y$ approaches to the true mean $\\mu$ in the limit.\n",
    "    - the standard deviation of $Y$ approaches to 0.\n",
    "    - the std of $Y$ is actually the error of the mean estimator $Y$. So it is called the **standard error** (SE)."
   ]
  },
  {
   "cell_type": "markdown",
   "metadata": {},
   "source": [
    "## Observation Model\n",
    "Let's consider the case we want to estimate a constant value such as temperature.\n",
    "\n",
    "$$\n",
    "    y_i = m + e_i, \\quad \\mbox{for} \\quad i = 1, ..., n\n",
    "$$\n",
    "\n",
    "- Assumption:\n",
    "    - Each $y_i$ is independent of the other observations.\n",
    "    - $e_i$'s are iid.\n",
    "    - The random noise $e_i$ is modeled to be $\\mathcal{N}(0,\\sigma)$.\n",
    "    - $     \\mathbb{E}(Y_i) = m + \\mathbb{E}(E_i) $ , $\\mathbb{V}(Y_i) = \\mathbb{V}(E_i)$\n",
    "    - That is,\n",
    "\n",
    "\\begin{align}\n",
    "    p(y_i) &= p(y_i | \\sigma) = \\mathcal{N}(m, \\sigma) \\\\\n",
    "    y_i &\\sim \\mathcal{N}(m, \\sigma) \\\\\n",
    "    p(y_i | \\sigma) &= \\mathcal{N}(y_i | m, \\sigma)\n",
    "\\end{align}\n",
    "\n",
    "- Distribution of $p(y_1, ..., y_n|m, \\sigma) = p(y_1|m,\\sigma) \\cdots p(y_n|m,\\sigma)$\n",
    "\n",
    "\\begin{align}\n",
    "    likelihood(m, \\sigma) \n",
    "        &= p(y_1|m,\\sigma) \\cdots p(y_n|m,\\sigma) \\\\\n",
    "        & = \\prod_{i=1}^n p(y_i|m,\\sigma) = \\prod_i \\mathcal{N}(y_i|m, \\sigma) \\\\\n",
    "    log\\_likelihood(m, \\sigma) &= \\log \\prod_i \\mathcal{N}(y_i|m, \\sigma) \\\\\n",
    "        & = \\sum_i \\log\\big\\{\\mathcal{N}(y_i|m, \\sigma) \\big\\} \\\\\n",
    "        & = \\sum_i \\bigg[\n",
    "                        \\log\\big\\{\\frac{1}{\\sigma\\sqrt{2}}\\big\\}\n",
    "                        -\n",
    "                        \\frac{1}{2} \\big( \\frac{y_i - m}{\\sigma} \\big)^2\n",
    "                    \\bigg]\n",
    "\\end{align}\n",
    "\n",
    "- The likelihood is a function of $m$ and $\\sigma$. \n",
    "- It is not a probability distribution."
   ]
  },
  {
   "cell_type": "markdown",
   "metadata": {},
   "source": [
    "## ML and LS estimates\n",
    "- ML estimate:\n",
    "    - $\\hat m$ and $\\hat\\sigma$ that maximizes the likelihood are called the ML estimate.\n",
    "\n",
    "$$ \n",
    "        \\hat m, \\hat\\sigma = \\mathrm{argmax}_{m,\\sigma} \\ \\ likelihood(m, \\sigma)\n",
    "$$\n",
    "\n",
    "- Least-squared (error) estimate:\n",
    "\n",
    "$$\n",
    "    \\hat m = \\mathrm{argmax}_{m} \\bigg\\{ -\\frac{1}{2} \\big( \\frac{y_i - m}{\\sigma} \\big)^2 \\bigg\\}\n",
    "$$\n",
    "\n",
    "- Normally, $\\sigma$ is not considered or assumed to be known in LS estimation"
   ]
  },
  {
   "cell_type": "code",
   "execution_count": null,
   "metadata": {},
   "outputs": [],
   "source": []
  }
 ],
 "metadata": {
  "kernelspec": {
   "display_name": "Python 3",
   "language": "python",
   "name": "python3"
  },
  "language_info": {
   "codemirror_mode": {
    "name": "ipython",
    "version": 3
   },
   "file_extension": ".py",
   "mimetype": "text/x-python",
   "name": "python",
   "nbconvert_exporter": "python",
   "pygments_lexer": "ipython3",
   "version": "3.8.8"
  }
 },
 "nbformat": 4,
 "nbformat_minor": 4
}
