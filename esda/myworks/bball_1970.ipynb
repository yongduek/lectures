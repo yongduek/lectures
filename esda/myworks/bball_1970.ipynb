{
 "cells": [
  {
   "cell_type": "markdown",
   "id": "innocent-leone",
   "metadata": {},
   "source": [
    "# Hierarchical Partial Pooling for Repeated Binary Trials\n",
    "\n",
    "- BaseBall Hits: The source of this notebook the following page.\n",
    "    - https://mc-stan.org/users/documentation/case-studies/pool-binary-trials.html\n",
    "- Here I use numpyro instead of stan and R."
   ]
  },
  {
   "cell_type": "code",
   "execution_count": 11,
   "id": "continuous-theorem",
   "metadata": {},
   "outputs": [
    {
     "name": "stdout",
     "output_type": "stream",
     "text": [
      "0.6.0\n"
     ]
    }
   ],
   "source": [
    "import argparse\n",
    "import os\n",
    "\n",
    "import jax\n",
    "import jax.numpy as jnp\n",
    "import jax.random as random\n",
    "from jax.scipy.special import logsumexp\n",
    "\n",
    "import numpyro\n",
    "import numpyro as npr\n",
    "import numpyro.distributions as dist\n",
    "from numpyro.examples.datasets import BASEBALL, load_dataset\n",
    "from numpyro.infer import HMC, MCMC, NUTS, SA, Predictive, log_likelihood\n",
    "print(numpyro.__version__)\n",
    "\n",
    "import matplotlib.pyplot as plt\n",
    "import seaborn as sns\n",
    "import arviz\n",
    "import pandas as pd\n",
    "import numpy as np\n",
    "sns.set()\n",
    "# plt.style.use('dark_background')\n",
    "plt.style.use('seaborn-white')"
   ]
  },
  {
   "cell_type": "code",
   "execution_count": 2,
   "id": "spectacular-instruction",
   "metadata": {},
   "outputs": [],
   "source": [
    "assert numpyro.__version__.startswith('0.6.0')\n",
    "num_samples = 5000\n",
    "num_warmup  = 1500\n",
    "algo = 'NUTS'  # 'HMC', 'NUTS', 'SA'\n",
    "num_chains = 1\n",
    "numpyro.set_host_device_count(num_chains)"
   ]
  },
  {
   "cell_type": "code",
   "execution_count": 3,
   "id": "nuclear-version",
   "metadata": {},
   "outputs": [],
   "source": [
    "def gomcmc(model, data_dict, num_samples=10000):\n",
    "    rng_key = jax.random.PRNGKey(0)\n",
    "    # run MCMC\n",
    "    kernel = NUTS(model)\n",
    "    mcmc = MCMC(kernel, num_warmup=1000, num_samples=num_samples, num_chains=1,\n",
    "                progress_bar=False if \"NUMPYRO_SPHINXBUILD\" in os.environ else True)\n",
    "    mcmc.run(rng_key, **data_dict)\n",
    "    mcmc.print_summary(exclude_deterministic=False)\n",
    "    return mcmc"
   ]
  },
  {
   "cell_type": "code",
   "execution_count": 4,
   "id": "separate-desire",
   "metadata": {},
   "outputs": [],
   "source": [
    "def get_samples(mcmc):\n",
    "    if isinstance(mcmc, dict):\n",
    "        s = mcmc\n",
    "    else:\n",
    "        s = mcmc.get_samples()\n",
    "    d = {}\n",
    "    for k, v in s.items():\n",
    "        if len(v.shape) == 2:\n",
    "            for i in range(v.shape[1]):\n",
    "                d[f'{k}_{i}'] = np.array(v[:,i])\n",
    "        else: # len(v.shape) == 1\n",
    "            d[k] = np.array(v)\n",
    "    return d"
   ]
  },
  {
   "cell_type": "markdown",
   "id": "fallen-hammer",
   "metadata": {},
   "source": [
    "## Data\n",
    "- traint: at_bats, hits\n",
    "- test: at_bats, hits\n",
    "- The dataset separates the initial 45 at-bats statistics from the remaining season. \n",
    "- We use the hits data from the initial 45 at-bats to **estimate the batting average for each player**.\n",
    "- We then use the remaining season's data to validate the predictions from our models."
   ]
  },
  {
   "cell_type": "code",
   "execution_count": 5,
   "id": "composed-mitchell",
   "metadata": {},
   "outputs": [
    {
     "data": {
      "text/html": [
       "<div>\n",
       "<style scoped>\n",
       "    .dataframe tbody tr th:only-of-type {\n",
       "        vertical-align: middle;\n",
       "    }\n",
       "\n",
       "    .dataframe tbody tr th {\n",
       "        vertical-align: top;\n",
       "    }\n",
       "\n",
       "    .dataframe thead th {\n",
       "        text-align: right;\n",
       "    }\n",
       "</style>\n",
       "<table border=\"1\" class=\"dataframe\">\n",
       "  <thead>\n",
       "    <tr style=\"text-align: right;\">\n",
       "      <th></th>\n",
       "      <th>Player</th>\n",
       "      <th>AtBats</th>\n",
       "      <th>Hits</th>\n",
       "      <th>RemainingAB</th>\n",
       "      <th>RemainingHits</th>\n",
       "    </tr>\n",
       "  </thead>\n",
       "  <tbody>\n",
       "    <tr>\n",
       "      <th>0</th>\n",
       "      <td>Roberto Clemente</td>\n",
       "      <td>45</td>\n",
       "      <td>18</td>\n",
       "      <td>412</td>\n",
       "      <td>145</td>\n",
       "    </tr>\n",
       "    <tr>\n",
       "      <th>1</th>\n",
       "      <td>Frank Robinson</td>\n",
       "      <td>45</td>\n",
       "      <td>17</td>\n",
       "      <td>471</td>\n",
       "      <td>144</td>\n",
       "    </tr>\n",
       "    <tr>\n",
       "      <th>2</th>\n",
       "      <td>Frank Howard</td>\n",
       "      <td>45</td>\n",
       "      <td>16</td>\n",
       "      <td>566</td>\n",
       "      <td>160</td>\n",
       "    </tr>\n",
       "    <tr>\n",
       "      <th>3</th>\n",
       "      <td>Jay Johnstone</td>\n",
       "      <td>45</td>\n",
       "      <td>15</td>\n",
       "      <td>320</td>\n",
       "      <td>76</td>\n",
       "    </tr>\n",
       "    <tr>\n",
       "      <th>4</th>\n",
       "      <td>Ken Berry</td>\n",
       "      <td>45</td>\n",
       "      <td>14</td>\n",
       "      <td>463</td>\n",
       "      <td>128</td>\n",
       "    </tr>\n",
       "    <tr>\n",
       "      <th>5</th>\n",
       "      <td>Jim Spencer</td>\n",
       "      <td>45</td>\n",
       "      <td>14</td>\n",
       "      <td>511</td>\n",
       "      <td>140</td>\n",
       "    </tr>\n",
       "    <tr>\n",
       "      <th>6</th>\n",
       "      <td>Don Kessinger</td>\n",
       "      <td>45</td>\n",
       "      <td>13</td>\n",
       "      <td>631</td>\n",
       "      <td>168</td>\n",
       "    </tr>\n",
       "    <tr>\n",
       "      <th>7</th>\n",
       "      <td>Luis Alvarado</td>\n",
       "      <td>45</td>\n",
       "      <td>12</td>\n",
       "      <td>183</td>\n",
       "      <td>41</td>\n",
       "    </tr>\n",
       "    <tr>\n",
       "      <th>8</th>\n",
       "      <td>Ron Santo</td>\n",
       "      <td>45</td>\n",
       "      <td>11</td>\n",
       "      <td>555</td>\n",
       "      <td>148</td>\n",
       "    </tr>\n",
       "    <tr>\n",
       "      <th>9</th>\n",
       "      <td>Ron Swaboda</td>\n",
       "      <td>45</td>\n",
       "      <td>11</td>\n",
       "      <td>245</td>\n",
       "      <td>57</td>\n",
       "    </tr>\n",
       "    <tr>\n",
       "      <th>10</th>\n",
       "      <td>Rico Petrocelli</td>\n",
       "      <td>45</td>\n",
       "      <td>10</td>\n",
       "      <td>583</td>\n",
       "      <td>152</td>\n",
       "    </tr>\n",
       "    <tr>\n",
       "      <th>11</th>\n",
       "      <td>Ellie Rodriguez</td>\n",
       "      <td>45</td>\n",
       "      <td>10</td>\n",
       "      <td>231</td>\n",
       "      <td>52</td>\n",
       "    </tr>\n",
       "    <tr>\n",
       "      <th>12</th>\n",
       "      <td>George Scott</td>\n",
       "      <td>45</td>\n",
       "      <td>10</td>\n",
       "      <td>480</td>\n",
       "      <td>142</td>\n",
       "    </tr>\n",
       "    <tr>\n",
       "      <th>13</th>\n",
       "      <td>Del Unser</td>\n",
       "      <td>45</td>\n",
       "      <td>10</td>\n",
       "      <td>322</td>\n",
       "      <td>83</td>\n",
       "    </tr>\n",
       "    <tr>\n",
       "      <th>14</th>\n",
       "      <td>Billy Williams</td>\n",
       "      <td>45</td>\n",
       "      <td>10</td>\n",
       "      <td>636</td>\n",
       "      <td>205</td>\n",
       "    </tr>\n",
       "    <tr>\n",
       "      <th>15</th>\n",
       "      <td>Bert Campaneris</td>\n",
       "      <td>45</td>\n",
       "      <td>9</td>\n",
       "      <td>603</td>\n",
       "      <td>168</td>\n",
       "    </tr>\n",
       "    <tr>\n",
       "      <th>16</th>\n",
       "      <td>Thurman Munson</td>\n",
       "      <td>45</td>\n",
       "      <td>8</td>\n",
       "      <td>453</td>\n",
       "      <td>137</td>\n",
       "    </tr>\n",
       "    <tr>\n",
       "      <th>17</th>\n",
       "      <td>Max Alvis</td>\n",
       "      <td>45</td>\n",
       "      <td>7</td>\n",
       "      <td>115</td>\n",
       "      <td>21</td>\n",
       "    </tr>\n",
       "  </tbody>\n",
       "</table>\n",
       "</div>"
      ],
      "text/plain": [
       "              Player  AtBats  Hits  RemainingAB  RemainingHits\n",
       "0   Roberto Clemente      45    18          412            145\n",
       "1     Frank Robinson      45    17          471            144\n",
       "2       Frank Howard      45    16          566            160\n",
       "3      Jay Johnstone      45    15          320             76\n",
       "4          Ken Berry      45    14          463            128\n",
       "5        Jim Spencer      45    14          511            140\n",
       "6      Don Kessinger      45    13          631            168\n",
       "7      Luis Alvarado      45    12          183             41\n",
       "8          Ron Santo      45    11          555            148\n",
       "9        Ron Swaboda      45    11          245             57\n",
       "10   Rico Petrocelli      45    10          583            152\n",
       "11   Ellie Rodriguez      45    10          231             52\n",
       "12      George Scott      45    10          480            142\n",
       "13         Del Unser      45    10          322             83\n",
       "14    Billy Williams      45    10          636            205\n",
       "15   Bert Campaneris      45     9          603            168\n",
       "16    Thurman Munson      45     8          453            137\n",
       "17         Max Alvis      45     7          115             21"
      ]
     },
     "execution_count": 5,
     "metadata": {},
     "output_type": "execute_result"
    }
   ],
   "source": [
    "_, fetch_train = load_dataset(BASEBALL, split='train', shuffle=False)\n",
    "train, player_names = fetch_train()\n",
    "_, fetch_test = load_dataset(BASEBALL, split='test', shuffle=False)\n",
    "test, _ = fetch_test()\n",
    "at_bats, hits = train[:, 0], train[:, 1]\n",
    "season_at_bats, season_hits = test[:, 0], test[:, 1]\n",
    "#\n",
    "df = pd.DataFrame({'Player': player_names, 'AtBats': at_bats, 'Hits': hits, \n",
    "                   'RemainingAB': season_at_bats, 'RemainingHits': season_hits})\n",
    "df"
   ]
  },
  {
   "cell_type": "markdown",
   "id": "signed-message",
   "metadata": {},
   "source": [
    "We will only need a few columns of the data; we will be using the remaining hits and at bats to evaluate the predictive inferences for the various models."
   ]
  },
  {
   "cell_type": "code",
   "execution_count": 6,
   "id": "patient-depression",
   "metadata": {},
   "outputs": [],
   "source": [
    "N = len(df)\n",
    "K = df.AtBats\n",
    "y = df.Hits\n",
    "K_new = df.RemainingAB\n",
    "y_new = df.RemainingHits"
   ]
  },
  {
   "cell_type": "markdown",
   "id": "organic-gazette",
   "metadata": {},
   "source": [
    "The data separates the outcome from the initial 45 at-bats from the rest of the season. After running this code, \n",
    "- `N` is the number of items (players). \n",
    "- Then for each item `n`, `K[n]` is the number of initial trials (at-bats), \n",
    "- `y[n]` is the number of initial successes (hits), \n",
    "- `K_new[n]` is the remaining number of trials (remaining at-bats), and \n",
    "- `y_new[n]` is the number of successes in the remaining trials (remaining hits).\n",
    "\n",
    "The remaining data can be used to evaluate the predictive performance of our models conditioned on the observed data. That is, we will “train” on the first 45 at bats and see how well our various models do at predicting the rest of the season."
   ]
  },
  {
   "cell_type": "markdown",
   "id": "technical-arabic",
   "metadata": {},
   "source": [
    "## Pooling\n",
    "- With `complete pooling`, each item is assumed to have the same chance of success. \n",
    "- With `no pooling`, each item is assumed to have a completely unrelated chance of success. \n",
    "- With `partial pooling`, each item is assumed to have a different chance of success, but the data for all of the observed items informs the estimates for each item.\n",
    "\n",
    "- Partial pooling is typically accomplished through hierarchical models. \n",
    "- Hierarchical models directly model the population of items. \n",
    "    - The population mean and variance is important, but the two hierarchical models we consider (chance of success vs. log odds of success) provide rather differently shaped posteriors.\n",
    "    - From a population model perspective, no pooling corresponds to infinite population variance, whereas complete pooling corresponds to zero population variance.\n"
   ]
  },
  {
   "cell_type": "markdown",
   "id": "reverse-petersburg",
   "metadata": {},
   "source": [
    "## Model 1: Complete Pooling\n",
    "\n",
    "- The complete pooling model assumes a single parameter $\\theta$ representing the chance of success for all items.\n",
    "\n",
    "- Assuming each player’s at-bats are independent Bernoulli trials, the sampling distribution for each player’s number of hits $y_n$ is modeled as\n",
    "$$\n",
    "    p(y_n|ϕ) = \\mathrm{Binomial}(y_n|K_n,ϕ) \\quad\\mbox{likelihood}\n",
    "$$\n",
    "- Assuming each player is independent leads to the complete data likelihood\n",
    "$$\n",
    "    p(y|ϕ) = \\prod_{n=1}^N\\mathrm{Binomial}(y_n|K_n,ϕ)\n",
    "$$\n",
    "- We will assume a uniform piror on ϕ, representing the chance of success:\n",
    "$$\n",
    "    p(ϕ) = \\mathrm{Uniform}(ϕ|0,1) = 1 \\mbox{ for } ϕ \\in [0,1]\n",
    "$$"
   ]
  },
  {
   "cell_type": "code",
   "execution_count": 7,
   "id": "binary-philip",
   "metadata": {},
   "outputs": [],
   "source": [
    "def cp_model(hits=None, atbats=None):\n",
    "    phi = npr.sample('phi', dist.Uniform(0, 1))\n",
    "    \n",
    "    size_y = len(hits) if hits is not None else 1\n",
    "    with npr.plate('plate', size=size_y):\n",
    "        y = npr.sample('y', dist.Binomial(total_count=atbats, probs=phi), obs=hits)"
   ]
  },
  {
   "cell_type": "code",
   "execution_count": 8,
   "id": "statewide-cancer",
   "metadata": {},
   "outputs": [
    {
     "name": "stderr",
     "output_type": "stream",
     "text": [
      "sample: 100%|██████████| 11000/11000 [00:10<00:00, 1032.53it/s, 7 steps of size 1.05e+00. acc. prob=0.93]\n"
     ]
    },
    {
     "name": "stdout",
     "output_type": "stream",
     "text": [
      "\n",
      "                mean       std    median      5.0%     95.0%     n_eff     r_hat\n",
      "       phi      0.27      0.02      0.27      0.24      0.29   3384.01      1.00\n",
      "\n",
      "Number of divergences: 0\n"
     ]
    }
   ],
   "source": [
    "data = dict(hits=df.Hits.values, atbats=df.AtBats.values)\n",
    "mcmcfit = gomcmc(cp_model, data)"
   ]
  },
  {
   "cell_type": "code",
   "execution_count": 9,
   "id": "mediterranean-daisy",
   "metadata": {},
   "outputs": [
    {
     "data": {
      "image/png": "[encoded data removed]",
      "text/plain": [
       "<Figure size 432x288 with 1 Axes>"
      ]
     },
     "metadata": {},
     "output_type": "display_data"
    }
   ],
   "source": [
    "sns.histplot(mcmcfit.get_samples()['phi'], kde=True);"
   ]
  },
  {
   "cell_type": "code",
   "execution_count": 12,
   "id": "precise-medicare",
   "metadata": {},
   "outputs": [
    {
     "data": {
      "text/plain": [
       "(array([0.23710737, 0.29485205], dtype=float32), 0.05774468)"
      ]
     },
     "execution_count": 12,
     "metadata": {},
     "output_type": "execute_result"
    }
   ],
   "source": [
    "hdi = arviz.hdi(np.array(mcmcfit.get_samples()['phi']))\n",
    "hdi, hdi[1] - hdi[0]"
   ]
  },
  {
   "cell_type": "markdown",
   "id": "extreme-atmosphere",
   "metadata": {},
   "source": [
    "- The result is a posterior mean for θ of 0.27 with an 90% central posterior interval of (0.24,0.29). With more data, such as from more players or from the rest of the season, the posterior approaches a delta function around the maximum likelihood estimate and the posterior interval around the centeral posterior intervals will shrink. \n",
    "- Nevertheless, even if we know a player’s chance of success exactly, there is a large amount of uncertainty in running K binary trials with that chance of success; using a binomial model fundamentally bounds our prediction accuracy.\n",
    "\n",
    "- Although this model will be a good baseline for comparison, we have good reason to believe from a large amount of prior data (players with as many as 10,000 trials) that **it is very unlikely that all players have the same chance of success.**"
   ]
  },
  {
   "cell_type": "markdown",
   "id": "martial-surveillance",
   "metadata": {},
   "source": [
    "## Model 2: No Pooling\n",
    "\n",
    "- A model with **no pooling** involves a separate chance-of-success parameters  $\\theta_n\\in[0,1]$ for each item $n$.\n",
    "- The prior on each $\\theta_n$ is uniform\n",
    "$$\n",
    "    p(\\theta_n) = \\mathrm{Uniform}(\\theta_n|0,1)\n",
    "$$\n",
    "- and the $\\theta_n$ are assumed to be independent,\n",
    "$$\n",
    "    p(\\theta) = \\prod_{n=1}^N\\mathrm{Uniform}(\\theta_n|0,1)\n",
    "$$\n",
    "\n",
    "- Assuming each player’s at-bats are independent Bernoulli trials, the sampling distribution for each player’s number of hits $y_n$ is modeled as\n",
    "$$\n",
    "    p(y_n|\\theta_n) = \\mathrm{Binomial}(y_n|K_n, \\theta_n) \\quad\\mbox{likelihood}\n",
    "$$\n",
    "- Assuming $y_n$ are independent (conditioned on $\\theta$) leads to the total data likelihood\n",
    "$$\n",
    "    p(y|\\theta) = \\prod_{n=1}^N\\mathrm{Binomial}(y_n|K_n,ϕ)\n",
    "$$\n"
   ]
  },
  {
   "cell_type": "code",
   "execution_count": 13,
   "id": "unable-husband",
   "metadata": {},
   "outputs": [],
   "source": [
    "def np_model(hits=None, atbats=None):    \n",
    "    size_y = len(hits) if hits is not None else 1\n",
    "    with npr.plate('plate', size=size_y):\n",
    "        theta = npr.sample('theta', dist.Uniform(0, 1))\n",
    "        y = npr.sample('y', dist.Binomial(total_count=atbats, probs=theta), obs=hits)"
   ]
  },
  {
   "cell_type": "code",
   "execution_count": 14,
   "id": "canadian-longitude",
   "metadata": {},
   "outputs": [
    {
     "name": "stderr",
     "output_type": "stream",
     "text": [
      "sample: 100%|██████████| 11000/11000 [00:10<00:00, 1003.49it/s, 7 steps of size 5.46e-01. acc. prob=0.90]\n"
     ]
    },
    {
     "name": "stdout",
     "output_type": "stream",
     "text": [
      "\n",
      "                mean       std    median      5.0%     95.0%     n_eff     r_hat\n",
      "  theta[0]      0.40      0.07      0.40      0.29      0.52  19759.92      1.00\n",
      "  theta[1]      0.38      0.07      0.38      0.27      0.50  23342.60      1.00\n",
      "  theta[2]      0.36      0.07      0.36      0.25      0.48  23011.60      1.00\n",
      "  theta[3]      0.34      0.07      0.34      0.23      0.45  22315.64      1.00\n",
      "  theta[4]      0.32      0.07      0.32      0.21      0.43  20945.54      1.00\n",
      "  theta[5]      0.32      0.07      0.32      0.21      0.43  22120.39      1.00\n",
      "  theta[6]      0.30      0.07      0.29      0.18      0.40  23262.30      1.00\n",
      "  theta[7]      0.28      0.06      0.27      0.17      0.38  21588.50      1.00\n",
      "  theta[8]      0.26      0.06      0.25      0.16      0.36  21160.15      1.00\n",
      "  theta[9]      0.26      0.06      0.25      0.15      0.36  21022.88      1.00\n",
      " theta[10]      0.23      0.06      0.23      0.13      0.33  23021.81      1.00\n",
      " theta[11]      0.23      0.06      0.23      0.13      0.33  23047.77      1.00\n",
      " theta[12]      0.23      0.06      0.23      0.13      0.33  21341.20      1.00\n",
      " theta[13]      0.23      0.06      0.23      0.14      0.33  20385.35      1.00\n",
      " theta[14]      0.23      0.06      0.23      0.13      0.33  16630.42      1.00\n",
      " theta[15]      0.21      0.06      0.21      0.12      0.31  20884.17      1.00\n",
      " theta[16]      0.19      0.06      0.19      0.10      0.29  18615.93      1.00\n",
      " theta[17]      0.17      0.05      0.17      0.08      0.26  18720.83      1.00\n",
      "\n",
      "Number of divergences: 0\n"
     ]
    }
   ],
   "source": [
    "data = dict(hits=df.Hits.values, atbats=df.AtBats.values)\n",
    "mcmcfit = gomcmc(np_model, data)"
   ]
  },
  {
   "cell_type": "code",
   "execution_count": 15,
   "id": "competitive-trial",
   "metadata": {},
   "outputs": [
    {
     "data": {
      "text/plain": [
       "(array([0.2736489, 0.5375167], dtype=float32), 0.26386783)"
      ]
     },
     "execution_count": 15,
     "metadata": {},
     "output_type": "execute_result"
    }
   ],
   "source": [
    "hdi = arviz.hdi(np.array(mcmcfit.get_samples()['theta'][:,0]))\n",
    "hdi, hdi[1] - hdi[0]"
   ]
  },
  {
   "cell_type": "markdown",
   "id": "textile-fundamental",
   "metadata": {},
   "source": [
    "### Appreciation\n",
    "- Now there is a separate line for each item’s estimated $θ_n$. \n",
    "- The posterior mode is the maximum likelihood estimate, but that requires running an optimizer to find; the posterior mean and median will be reasonably close to the posterior mode despite the skewness (the posterior can be shown analytically to be a Beta distribution).\n",
    "- Each std and 90% interval is much wider than the estimated interval for the population in the complete pooling model\n",
    "    - std is in [0.05, 0.07] whereas std = 0.02 for complete pooling model\n",
    "    - HDI is very much larger than that of the complete pooling model.\n",
    "    - this is to be expected—there are only 45 data items for each parameter here as opposed to 810 in the complete pooling case. \n",
    "    - If the items each had different numbers of trials, the intervals would also vary based on size.\n",
    "\n",
    "- As the estimated chance of success goes up toward 0.5, the 80% intervals gets wider. This is to be expected for chance of success parameters, because \n",
    "    1. the number of samples is smaller now, and \n",
    "    2. the standard deviation of a random variable distributed as Binomial(K,θ) is \n",
    "$$\n",
    "    std = \\sqrt{\\frac{\\theta (1 - \\theta)}{K}}\n",
    "$$\n",
    "\n",
    "- The **no-pooling** model provides better MCMC mixing than the complete pooling model as indicated by the effective sample size and convergence diagnostics $\\hat R$; \n",
    "    - although not in and of itself meaningful, it is often the case that badly misspecified models provide difficult computation (a result Andrew Gelman has dubbed “The Folk Theorem”).\n",
    "\n",
    "- Based on our existing knowledge of baseball, the no-pooling model is almost certainly \n",
    "    1. overestimating the high abilities and \n",
    "    2. underestimating lower abilities \n",
    "    - Ted Williams, 30 years prior to the year this data was collected, was the last player with a 40% observed success rate over a season, whereas 20% is too low for all but a few rare defensive specialists."
   ]
  },
  {
   "cell_type": "code",
   "execution_count": 19,
   "id": "blocked-decimal",
   "metadata": {},
   "outputs": [
    {
     "data": {
      "image/png": "[encoded data removed]",
      "text/plain": [
       "<Figure size 432x288 with 1 Axes>"
      ]
     },
     "metadata": {},
     "output_type": "display_data"
    }
   ],
   "source": [
    "# std of Binomial(K, p) for two Ks.\n",
    "K = 45\n",
    "x = np.linspace(0, 1, 100)\n",
    "plt.plot(x, np.sqrt(x*(1-x)/K), label=f'K={K}');\n",
    "K = 810\n",
    "plt.plot(x, np.sqrt(x*(1-x)/K), label=f'K={K}');\n",
    "plt.title('Std of Binomial(K, x)'); \n",
    "plt.xlabel('probability $\\\\theta$');\n",
    "plt.ylabel('std at $\\\\theta$ and $K$')\n",
    "plt.legend();"
   ]
  },
  {
   "cell_type": "code",
   "execution_count": 23,
   "id": "invisible-israeli",
   "metadata": {},
   "outputs": [
    {
     "data": {
      "image/png": "[encoded data removed]",
      "text/plain": [
       "<Figure size 432x288 with 1 Axes>"
      ]
     },
     "metadata": {},
     "output_type": "display_data"
    }
   ],
   "source": [
    "sns.histplot(mcmcfit.get_samples()['theta'][:,[0, 8, 17]], kde=True);"
   ]
  },
  {
   "cell_type": "code",
   "execution_count": 22,
   "id": "arranged-thesaurus",
   "metadata": {},
   "outputs": [
    {
     "data": {
      "image/png": "[encoded data removed]",
      "text/plain": [
       "<Figure size 936x288 with 3 Axes>"
      ]
     },
     "metadata": {},
     "output_type": "display_data"
    }
   ],
   "source": [
    "import arviz\n",
    "trace = get_samples(mcmcfit.get_samples())\n",
    "var = [0, 8, 17]\n",
    "nplots = len(var)\n",
    "fig, axes = plt.subplots(1, nplots, figsize=(13,4))\n",
    "for i in range(nplots):\n",
    "    arviz.plot_posterior(trace[f'theta_{var[i]}'], ax=axes[i]);"
   ]
  },
  {
   "cell_type": "markdown",
   "id": "military-asbestos",
   "metadata": {},
   "source": [
    "## Model 3: Partial Pooling (Chance of Success)\n",
    "\n",
    "Complete pooling provides estimated abilities that are too narrowly distributed for the items and removes any chance of modeling population variation. Estimating each chance of success separately without any pooling provides estimated abilities that are too broadly distributed for the items and hence too variable. Clearly some amount of pooling between these two extremes is called for. But how much?\n",
    "\n",
    "A hierarchical model treats the players as belonging to a population of players. The properties of this population will be estimated along with player abilities, implicitly controlling the amount of pooling that is applied. The more variable the (estimate of the) population, the less pooling is applied.\n",
    "\n",
    "Mathematically, the hierarchical model places a prior on the abilities with parameters that are themselves estimated. In this case, we will assume a beta distribution as the prior as it is scaled to values in [0,1],\n",
    "\n",
    "p(θn|α,β) = Beta(θn|α,β),\n",
    "\n",
    "where α,β>0 are the parameters of the prior. The beta distribution is the conjugate prior for the binomial, meaning that the posterior is known to be a beta distribution. This also allows us to interpret the prior’s parameters as prior data, with α−1 being the prior number of successes and β−1 being the prior number of failures, and α=β=1 corresponding to no prior observations and thus a uniform distribution. Each θn will be modeled as conditionally independent given the prior parameters, so that the complete prior is\n",
    "\n",
    "p(θ|α,β)=∏n=1NBeta(θn|α,β).\n",
    "\n",
    "The parameters α and β are themselves given priors (sometimes called hyperpriors). Rather than parameterize α and β directly, we will instead put priors on ϕ∈[0,1] and κ>0, and then define\n",
    "\n",
    "α=κϕ\n",
    "\n",
    "and\n",
    "\n",
    "β=κ(1−ϕ).\n",
    "\n",
    "This reparameterization is convenient, because\n",
    "\n",
    "ϕ=αα+β is the mean of a variable distributed as Beta(α,β), and\n",
    "\n",
    "κ=α+β is the prior count plus two (roughly inversely related to the variance).\n",
    "\n",
    "We will follow Gelman et al. (2013, Chapter 5) in providing a prior that factors into a uniform prior on ϕ,\n",
    "\n",
    "p(ϕ)=Uniform(ϕ|0,1),\n",
    "\n",
    "and a Pareto prior on κ,\n",
    "\n",
    "p(κ)=Pareto(κ|1,1.5)∝κ−2.5.\n",
    "\n",
    "with the restriction κ>1. In general, for functions f and g, we write f(x)∝g(x) if there is some constant c such that f(x)=cg(x). The first argument to the Pareto distribution is a bound ϵ>0, which in turn requires the outcome κ>ϵ; this is required so that the distribution can be normalized to integrate to 1 over its support. The value ϵ=1 is a conservative choice for this problem as we expect in the posterior, κ will be much greater than 1. The constraint κ>1 must therefore be included in the Stan parameter declaration, because Stan programs require support on the parameter values that satisfy their declared constraints."
   ]
  },
  {
   "cell_type": "code",
   "execution_count": null,
   "id": "psychological-argentina",
   "metadata": {},
   "outputs": [],
   "source": []
  }
 ],
 "metadata": {
  "kernelspec": {
   "display_name": "Python 3",
   "language": "python",
   "name": "python3"
  },
  "language_info": {
   "codemirror_mode": {
    "name": "ipython",
    "version": 3
   },
   "file_extension": ".py",
   "mimetype": "text/x-python",
   "name": "python",
   "nbconvert_exporter": "python",
   "pygments_lexer": "ipython3",
   "version": "3.8.0"
  }
 },
 "nbformat": 4,
 "nbformat_minor": 5
}
