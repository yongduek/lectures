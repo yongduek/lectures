{
 "cells": [
  {
   "cell_type": "code",
   "execution_count": 3,
   "metadata": {},
   "outputs": [
    {
     "data": {
      "text/plain": [
       "'3.8.8 (tags/v3.8.8:024d805, Feb 19 2021, 13:18:16) [MSC v.1928 64 bit (AMD64)]'"
      ]
     },
     "execution_count": 3,
     "metadata": {},
     "output_type": "execute_result"
    }
   ],
   "source": [
    "import sys\n",
    "sys.version"
   ]
  },
  {
   "cell_type": "code",
   "execution_count": 4,
   "metadata": {},
   "outputs": [],
   "source": [
    "import numpy as np"
   ]
  },
  {
   "cell_type": "markdown",
   "metadata": {},
   "source": [
    "# Posterior Probability Computation"
   ]
  },
  {
   "cell_type": "code",
   "execution_count": 5,
   "metadata": {},
   "outputs": [
    {
     "data": {
      "text/plain": [
       "array([0.2, 0.2, 0.2, 0.2, 0.2])"
      ]
     },
     "execution_count": 5,
     "metadata": {},
     "output_type": "execute_result"
    }
   ],
   "source": [
    "# hypotheses representation\n",
    "dice_face = np.array([4, 6, 8, 12, 20])\n",
    "n_dice =  len(dice_face)  # dice type: \n",
    "\n",
    "P_hyp = np.array([1./n_dice]*n_dice)\n",
    "P_hyp"
   ]
  },
  {
   "cell_type": "code",
   "execution_count": 6,
   "metadata": {},
   "outputs": [
    {
     "data": {
      "text/plain": [
       "array([0.        , 0.16666667, 0.125     , 0.08333333, 0.05      ])"
      ]
     },
     "execution_count": 6,
     "metadata": {},
     "output_type": "execute_result"
    }
   ],
   "source": [
    "obs = 6\n",
    "\n",
    "P_liklihood = [ 0 if obs > dice_face[i] else 1./dice_face[i] for i in range(n_dice)]\n",
    "P_liklihood = np.array(P_liklihood)\n",
    "P_liklihood"
   ]
  },
  {
   "cell_type": "code",
   "execution_count": 7,
   "metadata": {},
   "outputs": [
    {
     "data": {
      "text/plain": [
       "array([0.        , 0.39215686, 0.29411765, 0.19607843, 0.11764706])"
      ]
     },
     "execution_count": 7,
     "metadata": {},
     "output_type": "execute_result"
    }
   ],
   "source": [
    "# un-normalized posterior  P(data|h) * p(h), for each h\n",
    "P_posterior = P_liklihood * P_hyp\n",
    "# normalization term\n",
    "Z = P_posterior.sum()\n",
    "# posterior \n",
    "P_posterior = P_posterior / Z\n",
    "P_posterior"
   ]
  },
  {
   "cell_type": "markdown",
   "metadata": {},
   "source": [
    "## Update Posterior Probability with more data"
   ]
  },
  {
   "cell_type": "code",
   "execution_count": 8,
   "metadata": {},
   "outputs": [],
   "source": [
    "# what if you roll the same dice more and observe a sequence [6,8,7,7,5,4]\n",
    "obs_seq = [6,8,7,7,5,4]"
   ]
  },
  {
   "cell_type": "code",
   "execution_count": 9,
   "metadata": {},
   "outputs": [],
   "source": [
    "def update(P_prior, obs):\n",
    "    # likelihood\n",
    "    likelihood = [ 0 if obs > dice_face[i] else 1./dice_face[i] for i in range(n_dice)]\n",
    "    likelihood = np.array(likelihood)\n",
    "    #\n",
    "    posterior = likelihood * P_prior\n",
    "    posterior /= posterior.sum()\n",
    "    return posterior"
   ]
  },
  {
   "cell_type": "code",
   "execution_count": 10,
   "metadata": {},
   "outputs": [
    {
     "name": "stdout",
     "output_type": "stream",
     "text": [
      "6 [0.         0.52562418 0.2956636  0.13140604 0.04730618]\n",
      "8 [0.         0.         0.73513396 0.21781747 0.04704857]\n",
      "7 [0.         0.         0.81757401 0.1614961  0.02092989]\n",
      "7 [0.         0.         0.87571253 0.11532017 0.0089673 ]\n",
      "5 [0.         0.         0.91584527 0.08040343 0.0037513 ]\n",
      "4 [0.         0.         0.94324845 0.05520613 0.00154542]\n"
     ]
    }
   ],
   "source": [
    "post = P_posterior\n",
    "for obs in obs_seq:\n",
    "    post = update(post, obs)\n",
    "    print(obs, post)"
   ]
  },
  {
   "cell_type": "markdown",
   "metadata": {},
   "source": [
    "## Another way: using the assumption of independent observation\n",
    "The observations are independently observed:\n",
    "$$\n",
    "    P(a, b | \\theta_i) = P(a|\\theta_i) * P(b|\\theta_i)\n",
    "$$\n",
    "where $\\theta_i$ is the probability of any outcome $x$ from the $i$-th die.\n",
    "\n",
    "For example, let's assume we drew a 6-face die and got a sequence [2, 4, 6]. Then the total likelihood is \n",
    "$$\n",
    "    P_\\mbox{total} = P(2|6die) \\times P(4|6die) \\times P(6|6die) = 1 / 6^3\n",
    "$$\n",
    "If the sequence was [2, 4, 6, 8] (this is impossible as we know),\n",
    "$$\n",
    "    P_\\mbox{total} = P(2|6die) \\times P(4|6die) \\times P(6|6die) \\times P(8|6die) = 0\n",
    "$$"
   ]
  },
  {
   "cell_type": "code",
   "execution_count": 11,
   "metadata": {},
   "outputs": [
    {
     "data": {
      "text/plain": [
       "array([0.00000000e+00, 0.00000000e+00, 4.76837158e-07, 2.79081647e-08,\n",
       "       7.81250000e-10])"
      ]
     },
     "execution_count": 11,
     "metadata": {},
     "output_type": "execute_result"
    }
   ],
   "source": [
    "total_obs_seq = np.array([6, 6,8,7,7,5,4])\n",
    "total_likelihood = np.ones_like(dice_face)\n",
    "for obs in total_obs_seq:\n",
    "    likelihood = np.array([ 0 if obs > dice_face[i] else 1./dice_face[i] for i in range(n_dice)])\n",
    "    total_likelihood = total_likelihood * likelihood\n",
    "#\n",
    "total_likelihood"
   ]
  },
  {
   "cell_type": "code",
   "execution_count": 12,
   "metadata": {},
   "outputs": [
    {
     "data": {
      "text/plain": [
       "array([0.        , 0.        , 0.94324845, 0.05520613, 0.00154542])"
      ]
     },
     "execution_count": 12,
     "metadata": {},
     "output_type": "execute_result"
    }
   ],
   "source": [
    "total_posterior = total_likelihood * P_hyp\n",
    "total_posterior = total_posterior / total_posterior.sum()\n",
    "total_posterior"
   ]
  },
  {
   "cell_type": "markdown",
   "metadata": {},
   "source": [
    "**Note** The result is the same as the one obtained from the sequential update."
   ]
  },
  {
   "cell_type": "markdown",
   "metadata": {},
   "source": [
    "---"
   ]
  },
  {
   "cell_type": "markdown",
   "metadata": {},
   "source": [
    "# Now with numpyro and JAX\n",
    "- numpyro: http://num.pyro.ai/en/stable/\n",
    "    - very fast MCMC inference compared to pyro, pymc3\n",
    "    - cpu only.\n",
    "    - linux/MacOSX only. No Windows 10!\n",
    "    - developed based on pyro and JAX\n",
    "- JAX : https://jax.readthedocs.io/en/latest/notebooks/thinking_in_jax.html\n",
    "    - another numpy with autograd\n",
    "    - JAX arrays are always immutable.\n",
    "        - For updating individual elements, JAX provides an indexed update syntax that returns an updated copy:\n",
    "        ```\n",
    "        y = x.at[0].set(10)\n",
    "        ```\n",
    "- tensorflow"
   ]
  },
  {
   "cell_type": "code",
   "execution_count": 1,
   "metadata": {},
   "outputs": [],
   "source": [
    "import numpyro\n",
    "import numpyro as npr\n",
    "import jax.numpy as jnp\n",
    "import numpy as np"
   ]
  },
  {
   "cell_type": "markdown",
   "metadata": {},
   "source": [
    "## Posterior Probability Computation"
   ]
  },
  {
   "cell_type": "code",
   "execution_count": 2,
   "metadata": {},
   "outputs": [
    {
     "data": {
      "text/plain": [
       "DeviceArray([0.2, 0.2, 0.2, 0.2, 0.2], dtype=float32)"
      ]
     },
     "execution_count": 2,
     "metadata": {},
     "output_type": "execute_result"
    }
   ],
   "source": [
    "# hypotheses representation\n",
    "dice_face = jnp.array([4, 6, 8, 12, 20])\n",
    "n_dice =  len(dice_face)  # dice type: \n",
    "\n",
    "P_hyp = jnp.array([1./n_dice]*n_dice)\n",
    "P_hyp"
   ]
  },
  {
   "cell_type": "code",
   "execution_count": 3,
   "metadata": {},
   "outputs": [
    {
     "data": {
      "text/plain": [
       "DeviceArray([0.        , 0.16666667, 0.125     , 0.08333334, 0.05      ],            dtype=float32)"
      ]
     },
     "execution_count": 3,
     "metadata": {},
     "output_type": "execute_result"
    }
   ],
   "source": [
    "obs = 6\n",
    "\n",
    "P_liklihood = [ 0 if obs > dice_face[i] else 1./dice_face[i] for i in range(n_dice)]\n",
    "P_liklihood = jnp.array(P_liklihood)\n",
    "P_liklihood"
   ]
  },
  {
   "cell_type": "code",
   "execution_count": 4,
   "metadata": {},
   "outputs": [
    {
     "data": {
      "text/plain": [
       "DeviceArray([0.        , 0.39215687, 0.29411766, 0.19607843, 0.11764707],            dtype=float32)"
      ]
     },
     "execution_count": 4,
     "metadata": {},
     "output_type": "execute_result"
    }
   ],
   "source": [
    "# un-normalized posterior  P(data|h) * p(h), for each h\n",
    "P_posterior = P_liklihood * P_hyp\n",
    "# normalization constant\n",
    "Z = P_posterior.sum()\n",
    "# posterior \n",
    "P_posterior = P_posterior / Z\n",
    "P_posterior"
   ]
  },
  {
   "cell_type": "markdown",
   "metadata": {},
   "source": [
    "## Update Posterior Probability with more data"
   ]
  },
  {
   "cell_type": "code",
   "execution_count": 5,
   "metadata": {},
   "outputs": [],
   "source": [
    "# what if you roll the same dice more and observe a sequence [6,8,7,7,5,4]\n",
    "obs_seq = [6,8,7,7,5,4]"
   ]
  },
  {
   "cell_type": "code",
   "execution_count": 6,
   "metadata": {},
   "outputs": [],
   "source": [
    "def update(P_prior, obs):\n",
    "    # likelihood\n",
    "    likelihood = [ 0 if obs > dice_face[i] else 1./dice_face[i] for i in range(n_dice)]\n",
    "    likelihood = jnp.array(likelihood)\n",
    "    #\n",
    "    posterior = likelihood * P_prior\n",
    "    posterior /= posterior.sum()\n",
    "    return posterior"
   ]
  },
  {
   "cell_type": "code",
   "execution_count": 7,
   "metadata": {},
   "outputs": [
    {
     "name": "stdout",
     "output_type": "stream",
     "text": [
      "6 [0.         0.5256242  0.29566363 0.13140605 0.04730618]\n",
      "8 [0.         0.         0.73513395 0.21781747 0.04704857]\n",
      "7 [0.         0.         0.81757396 0.1614961  0.02092989]\n",
      "7 [0.         0.         0.8757126  0.11532018 0.0089673 ]\n",
      "5 [0.         0.         0.9158452  0.08040343 0.0037513 ]\n",
      "4 [0.         0.         0.94324845 0.05520613 0.00154542]\n"
     ]
    }
   ],
   "source": [
    "post = P_posterior\n",
    "for obs in obs_seq:\n",
    "    post = update(post, obs)\n",
    "    print(obs, post)"
   ]
  },
  {
   "cell_type": "markdown",
   "metadata": {},
   "source": [
    "## Another way: using the assumption of independent observation\n",
    "The observations are independently observed:\n",
    "$$\n",
    "    P(a, b | \\theta_i) = P(a|\\theta_i) * P(b|\\theta_i)\n",
    "$$\n",
    "where $\\theta_i$ is the probability of any outcome $x$ from the $i$-th die."
   ]
  },
  {
   "cell_type": "code",
   "execution_count": 9,
   "metadata": {},
   "outputs": [
    {
     "data": {
      "text/plain": [
       "DeviceArray([0.0000000e+00, 0.0000000e+00, 4.7683716e-07, 2.7908172e-08,\n",
       "             7.8125012e-10], dtype=float32)"
      ]
     },
     "execution_count": 9,
     "metadata": {},
     "output_type": "execute_result"
    }
   ],
   "source": [
    "total_obs_seq = jnp.array([6, 6,8,7,7,5,4])\n",
    "total_likelihood = jnp.ones_like(dice_face)   # initialization\n",
    "for obs in total_obs_seq:\n",
    "    likelihood = jnp.array([ 0 if obs > dice_face[i] else 1./dice_face[i] for i in range(n_dice)])\n",
    "    total_likelihood = total_likelihood * likelihood\n",
    "#\n",
    "total_likelihood"
   ]
  },
  {
   "cell_type": "code",
   "execution_count": 10,
   "metadata": {},
   "outputs": [
    {
     "data": {
      "text/plain": [
       "DeviceArray([0.        , 0.        , 0.94324845, 0.05520614, 0.00154542],            dtype=float32)"
      ]
     },
     "execution_count": 10,
     "metadata": {},
     "output_type": "execute_result"
    }
   ],
   "source": [
    "total_posterior = total_likelihood * P_hyp\n",
    "total_posterior = total_posterior / total_posterior.sum()\n",
    "total_posterior"
   ]
  },
  {
   "cell_type": "markdown",
   "metadata": {},
   "source": [
    "**Note** The result is the same as the one obtained from the sequential update."
   ]
  },
  {
   "cell_type": "markdown",
   "metadata": {},
   "source": [
    "---"
   ]
  },
  {
   "cell_type": "markdown",
   "metadata": {},
   "source": [
    "# Now let's do it again with pytorch and pyro"
   ]
  },
  {
   "cell_type": "code",
   "execution_count": 13,
   "metadata": {},
   "outputs": [],
   "source": [
    "import torch\n",
    "import torch as th\n",
    "import pyro"
   ]
  },
  {
   "cell_type": "markdown",
   "metadata": {},
   "source": [
    "## Posterior Probability Computation"
   ]
  },
  {
   "cell_type": "code",
   "execution_count": 14,
   "metadata": {},
   "outputs": [
    {
     "data": {
      "text/plain": [
       "tensor([0.2000, 0.2000, 0.2000, 0.2000, 0.2000])"
      ]
     },
     "execution_count": 14,
     "metadata": {},
     "output_type": "execute_result"
    }
   ],
   "source": [
    "# hypotheses representation\n",
    "dice_face = th.tensor([4, 6, 8, 12, 20])\n",
    "n_dice =  len(dice_face)  # dice type: \n",
    "\n",
    "P_hyp = th.tensor([1./n_dice]*n_dice)\n",
    "P_hyp"
   ]
  },
  {
   "cell_type": "code",
   "execution_count": 15,
   "metadata": {},
   "outputs": [
    {
     "data": {
      "text/plain": [
       "tensor([0.0000, 0.1667, 0.1250, 0.0833, 0.0500])"
      ]
     },
     "execution_count": 15,
     "metadata": {},
     "output_type": "execute_result"
    }
   ],
   "source": [
    "obs = 6\n",
    "\n",
    "P_liklihood = [ 0 if obs > dice_face[i] else 1./dice_face[i] for i in range(n_dice)]\n",
    "P_liklihood = th.tensor(P_liklihood)\n",
    "P_liklihood"
   ]
  },
  {
   "cell_type": "code",
   "execution_count": 16,
   "metadata": {},
   "outputs": [
    {
     "data": {
      "text/plain": [
       "tensor([0.0000, 0.3922, 0.2941, 0.1961, 0.1176])"
      ]
     },
     "execution_count": 16,
     "metadata": {},
     "output_type": "execute_result"
    }
   ],
   "source": [
    "# un-normalized posterior  P(data|h) * p(h), for each h\n",
    "P_posterior = P_liklihood * P_hyp\n",
    "# normalization constant\n",
    "Z = P_posterior.sum()\n",
    "# posterior \n",
    "P_posterior = P_posterior / Z\n",
    "P_posterior"
   ]
  },
  {
   "cell_type": "markdown",
   "metadata": {},
   "source": [
    "## Update Posterior Probability with more data"
   ]
  },
  {
   "cell_type": "code",
   "execution_count": 17,
   "metadata": {},
   "outputs": [],
   "source": [
    "# what if you roll the same dice more and observe a sequence [6,8,7,7,5,4]\n",
    "obs_seq = [6,8,7,7,5,4]"
   ]
  },
  {
   "cell_type": "code",
   "execution_count": 18,
   "metadata": {},
   "outputs": [],
   "source": [
    "def update(P_prior, obs):\n",
    "    # likelihood\n",
    "    likelihood = [ 0 if obs > dice_face[i] else 1./dice_face[i] for i in range(n_dice)]\n",
    "    likelihood = torch.tensor(likelihood)\n",
    "    #\n",
    "    posterior = likelihood * P_prior\n",
    "    posterior /= posterior.sum()\n",
    "    return posterior"
   ]
  },
  {
   "cell_type": "code",
   "execution_count": 19,
   "metadata": {},
   "outputs": [
    {
     "name": "stdout",
     "output_type": "stream",
     "text": [
      "6 tensor([0.0000, 0.5256, 0.2957, 0.1314, 0.0473])\n",
      "8 tensor([0.0000, 0.0000, 0.7351, 0.2178, 0.0470])\n",
      "7 tensor([0.0000, 0.0000, 0.8176, 0.1615, 0.0209])\n",
      "7 tensor([0.0000, 0.0000, 0.8757, 0.1153, 0.0090])\n",
      "5 tensor([0.0000, 0.0000, 0.9158, 0.0804, 0.0038])\n",
      "4 tensor([0.0000, 0.0000, 0.9432, 0.0552, 0.0015])\n"
     ]
    }
   ],
   "source": [
    "post = P_posterior\n",
    "for obs in obs_seq:\n",
    "    post = update(post, obs)\n",
    "    print(obs, post)"
   ]
  },
  {
   "cell_type": "markdown",
   "metadata": {},
   "source": [
    "## Another way: using the assumption of independent observation\n",
    "The observations are independently observed:\n",
    "$$\n",
    "    P(a, b | \\theta_i) = P(a|\\theta_i) * P(b|\\theta_i)\n",
    "$$\n",
    "where $\\theta_i$ is the probability of any outcome $x$ from the $i$-th die."
   ]
  },
  {
   "cell_type": "code",
   "execution_count": 20,
   "metadata": {},
   "outputs": [
    {
     "data": {
      "text/plain": [
       "tensor([0.0000e+00, 0.0000e+00, 4.7684e-07, 2.7908e-08, 7.8125e-10])"
      ]
     },
     "execution_count": 20,
     "metadata": {},
     "output_type": "execute_result"
    }
   ],
   "source": [
    "total_obs_seq = th.tensor([6, 6,8,7,7,5,4])\n",
    "total_likelihood = th.ones_like(dice_face)   # initialization\n",
    "for obs in total_obs_seq:\n",
    "    likelihood = th.tensor([ 0 if obs > dice_face[i] else 1./dice_face[i] for i in range(n_dice)])\n",
    "    total_likelihood = total_likelihood * likelihood\n",
    "#\n",
    "total_likelihood"
   ]
  },
  {
   "cell_type": "code",
   "execution_count": 21,
   "metadata": {},
   "outputs": [
    {
     "data": {
      "text/plain": [
       "tensor([0.0000, 0.0000, 0.9432, 0.0552, 0.0015])"
      ]
     },
     "execution_count": 21,
     "metadata": {},
     "output_type": "execute_result"
    }
   ],
   "source": [
    "total_posterior = total_likelihood * P_hyp\n",
    "total_posterior = total_posterior / total_posterior.sum()\n",
    "total_posterior"
   ]
  },
  {
   "cell_type": "markdown",
   "metadata": {},
   "source": [
    "**Note** The result is the same as the one obtained from the sequential update."
   ]
  }
 ],
 "metadata": {
  "kernelspec": {
   "display_name": "Python 3",
   "language": "python",
   "name": "python3"
  },
  "language_info": {
   "codemirror_mode": {
    "name": "ipython",
    "version": 3
   },
   "file_extension": ".py",
   "mimetype": "text/x-python",
   "name": "python",
   "nbconvert_exporter": "python",
   "pygments_lexer": "ipython3",
   "version": "3.8.8"
  },
  "toc-autonumbering": false,
  "toc-showmarkdowntxt": false
 },
 "nbformat": 4,
 "nbformat_minor": 4
}
