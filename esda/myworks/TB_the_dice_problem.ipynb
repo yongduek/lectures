{
 "cells": [
  {
   "cell_type": "code",
   "execution_count": 1,
   "metadata": {},
   "outputs": [],
   "source": [
    "import numpy as np"
   ]
  },
  {
   "cell_type": "markdown",
   "metadata": {},
   "source": [
    "## Posterior Probability Computation"
   ]
  },
  {
   "cell_type": "code",
   "execution_count": 2,
   "metadata": {},
   "outputs": [
    {
     "data": {
      "text/plain": [
       "array([0.2, 0.2, 0.2, 0.2, 0.2])"
      ]
     },
     "execution_count": 2,
     "metadata": {},
     "output_type": "execute_result"
    }
   ],
   "source": [
    "# hypotheses representation\n",
    "dice_face = np.array([4, 6, 8, 12, 20])\n",
    "n_dice =  len(dice_face)  # dice type: \n",
    "\n",
    "P_hyp = np.array([1./n_dice]*n_dice)\n",
    "P_hyp"
   ]
  },
  {
   "cell_type": "code",
   "execution_count": 3,
   "metadata": {},
   "outputs": [
    {
     "data": {
      "text/plain": [
       "array([0.        , 0.16666667, 0.125     , 0.08333333, 0.05      ])"
      ]
     },
     "execution_count": 3,
     "metadata": {},
     "output_type": "execute_result"
    }
   ],
   "source": [
    "obs = 6\n",
    "\n",
    "P_liklihood = [ 0 if obs > dice_face[i] else 1./dice_face[i] for i in range(n_dice)]\n",
    "P_liklihood = np.array(P_liklihood)\n",
    "P_liklihood"
   ]
  },
  {
   "cell_type": "code",
   "execution_count": 4,
   "metadata": {},
   "outputs": [
    {
     "data": {
      "text/plain": [
       "array([0.        , 0.39215686, 0.29411765, 0.19607843, 0.11764706])"
      ]
     },
     "execution_count": 4,
     "metadata": {},
     "output_type": "execute_result"
    }
   ],
   "source": [
    "# un-normalized posterior  P(data|h) * p(h), for each h\n",
    "P_posterior = P_liklihood * P_hyp\n",
    "# normalization term\n",
    "Z = P_posterior.sum()\n",
    "# posterior \n",
    "P_posterior = P_posterior / Z\n",
    "P_posterior"
   ]
  },
  {
   "cell_type": "markdown",
   "metadata": {},
   "source": [
    "## Update Posterior Probability with more data"
   ]
  },
  {
   "cell_type": "code",
   "execution_count": 5,
   "metadata": {},
   "outputs": [],
   "source": [
    "# what if you roll the same dice more and observe a sequence [6,8,7,7,5,4]\n",
    "obs_seq = [6,8,7,7,5,4]"
   ]
  },
  {
   "cell_type": "code",
   "execution_count": 6,
   "metadata": {},
   "outputs": [],
   "source": [
    "def update(P_prior, obs):\n",
    "    # likelihood\n",
    "    likelihood = [ 0 if obs > dice_face[i] else 1./dice_face[i] for i in range(n_dice)]\n",
    "    likelihood = np.array(likelihood)\n",
    "    #\n",
    "    posterior = likelihood * P_prior\n",
    "    posterior /= posterior.sum()\n",
    "    return posterior"
   ]
  },
  {
   "cell_type": "code",
   "execution_count": 7,
   "metadata": {},
   "outputs": [
    {
     "name": "stdout",
     "output_type": "stream",
     "text": [
      "6 [0.         0.52562418 0.2956636  0.13140604 0.04730618]\n",
      "8 [0.         0.         0.73513396 0.21781747 0.04704857]\n",
      "7 [0.         0.         0.81757401 0.1614961  0.02092989]\n",
      "7 [0.         0.         0.87571253 0.11532017 0.0089673 ]\n",
      "5 [0.         0.         0.91584527 0.08040343 0.0037513 ]\n",
      "4 [0.         0.         0.94324845 0.05520613 0.00154542]\n"
     ]
    }
   ],
   "source": [
    "post = P_posterior\n",
    "for obs in obs_seq:\n",
    "    post = update(post, obs)\n",
    "    print(obs, post)"
   ]
  },
  {
   "cell_type": "markdown",
   "metadata": {},
   "source": [
    "## Another way: using the assumption of independent observation\n",
    "The observations are independently observed:\n",
    "$$\n",
    "    P(a, b | \\theta_i) = P(a|\\theta_i) * P(b|\\theta_i)\n",
    "$$\n",
    "where $\\theta_i$ is the probability of any outcome $x$ from the $i$-th die."
   ]
  },
  {
   "cell_type": "code",
   "execution_count": 8,
   "metadata": {},
   "outputs": [
    {
     "data": {
      "text/plain": [
       "array([0.00000000e+00, 0.00000000e+00, 4.76837158e-07, 2.79081647e-08,\n",
       "       7.81250000e-10])"
      ]
     },
     "execution_count": 8,
     "metadata": {},
     "output_type": "execute_result"
    }
   ],
   "source": [
    "total_obs_seq = np.array([6, 6,8,7,7,5,4])\n",
    "total_likelihood = np.ones_like(dice_face)\n",
    "for obs in total_obs_seq:\n",
    "    likelihood = np.array([ 0 if obs > dice_face[i] else 1./dice_face[i] for i in range(n_dice)])\n",
    "    total_likelihood = total_likelihood * likelihood\n",
    "#\n",
    "total_likelihood"
   ]
  },
  {
   "cell_type": "code",
   "execution_count": 9,
   "metadata": {},
   "outputs": [
    {
     "data": {
      "text/plain": [
       "array([0.        , 0.        , 0.94324845, 0.05520613, 0.00154542])"
      ]
     },
     "execution_count": 9,
     "metadata": {},
     "output_type": "execute_result"
    }
   ],
   "source": [
    "total_posterior = total_likelihood * P_hyp\n",
    "total_posterior = total_posterior / total_posterior.sum()\n",
    "total_posterior"
   ]
  },
  {
   "cell_type": "markdown",
   "metadata": {},
   "source": [
    "**Note** The result is the same as the one obtained from the sequential update."
   ]
  },
  {
   "cell_type": "code",
   "execution_count": null,
   "metadata": {},
   "outputs": [],
   "source": []
  }
 ],
 "metadata": {
  "kernelspec": {
   "display_name": "Python 3",
   "language": "python",
   "name": "python3"
  },
  "language_info": {
   "codemirror_mode": {
    "name": "ipython",
    "version": 3
   },
   "file_extension": ".py",
   "mimetype": "text/x-python",
   "name": "python",
   "nbconvert_exporter": "python",
   "pygments_lexer": "ipython3",
   "version": "3.7.9"
  }
 },
 "nbformat": 4,
 "nbformat_minor": 4
}
