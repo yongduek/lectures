{
 "cells": [
  {
   "cell_type": "code",
   "execution_count": 1,
   "metadata": {},
   "outputs": [],
   "source": [
    "import numpy as np"
   ]
  },
  {
   "cell_type": "code",
   "execution_count": 2,
   "metadata": {},
   "outputs": [
    {
     "data": {
      "text/plain": [
       "array([0.33333333, 0.33333333, 0.33333333])"
      ]
     },
     "execution_count": 2,
     "metadata": {},
     "output_type": "execute_result"
    }
   ],
   "source": [
    "prior = np.array([1/3., 1/3, 1/3])\n",
    "prior"
   ]
  },
  {
   "cell_type": "code",
   "execution_count": 3,
   "metadata": {},
   "outputs": [
    {
     "data": {
      "text/plain": [
       "array([0.2, 0.4, 0.7])"
      ]
     },
     "execution_count": 3,
     "metadata": {},
     "output_type": "execute_result"
    }
   ],
   "source": [
    "likelihood = np.array([.2, .4, .7])\n",
    "likelihood"
   ]
  },
  {
   "cell_type": "code",
   "execution_count": 8,
   "metadata": {},
   "outputs": [
    {
     "data": {
      "text/plain": [
       "array([0.06666667, 0.13333333, 0.23333333])"
      ]
     },
     "execution_count": 8,
     "metadata": {},
     "output_type": "execute_result"
    }
   ],
   "source": [
    "posterior_unnormalized = prior * likelihood\n",
    "posterior_unnormalized"
   ]
  },
  {
   "cell_type": "code",
   "execution_count": 9,
   "metadata": {},
   "outputs": [],
   "source": [
    "Z = posterior_unnormalized.sum() # normalization constant"
   ]
  },
  {
   "cell_type": "code",
   "execution_count": 10,
   "metadata": {},
   "outputs": [
    {
     "data": {
      "text/plain": [
       "array([0.15384615, 0.30769231, 0.53846154])"
      ]
     },
     "execution_count": 10,
     "metadata": {},
     "output_type": "execute_result"
    }
   ],
   "source": [
    "# [P(A|H), P(B|H), P(C|H)]\n",
    "posterior = posterior_unnormalized / Z\n",
    "posterior"
   ]
  },
  {
   "cell_type": "code",
   "execution_count": null,
   "metadata": {},
   "outputs": [],
   "source": []
  },
  {
   "cell_type": "code",
   "execution_count": 11,
   "metadata": {},
   "outputs": [
    {
     "data": {
      "text/plain": [
       "array([0.7, 0.2, 0.1])"
      ]
     },
     "execution_count": 11,
     "metadata": {},
     "output_type": "execute_result"
    }
   ],
   "source": [
    "prior = np.array([.7, .2, .1])\n",
    "prior"
   ]
  },
  {
   "cell_type": "code",
   "execution_count": 12,
   "metadata": {},
   "outputs": [
    {
     "data": {
      "text/plain": [
       "array([0.2, 0.4, 0.7])"
      ]
     },
     "execution_count": 12,
     "metadata": {},
     "output_type": "execute_result"
    }
   ],
   "source": [
    "likelihood = np.array([.2, .4, .7])\n",
    "likelihood"
   ]
  },
  {
   "cell_type": "code",
   "execution_count": 13,
   "metadata": {},
   "outputs": [
    {
     "data": {
      "text/plain": [
       "array([0.14, 0.08, 0.07])"
      ]
     },
     "execution_count": 13,
     "metadata": {},
     "output_type": "execute_result"
    }
   ],
   "source": [
    "posterior_unnormalized = prior * likelihood\n",
    "posterior_unnormalized"
   ]
  },
  {
   "cell_type": "code",
   "execution_count": 14,
   "metadata": {},
   "outputs": [],
   "source": [
    "Z = posterior_unnormalized.sum() # normalization constant"
   ]
  },
  {
   "cell_type": "code",
   "execution_count": 15,
   "metadata": {},
   "outputs": [
    {
     "data": {
      "text/plain": [
       "array([0.48275862, 0.27586207, 0.24137931])"
      ]
     },
     "execution_count": 15,
     "metadata": {},
     "output_type": "execute_result"
    }
   ],
   "source": [
    "# [P(A|H), P(B|H), P(C|H)]\n",
    "posterior = posterior_unnormalized / Z\n",
    "posterior"
   ]
  },
  {
   "cell_type": "markdown",
   "metadata": {},
   "source": [
    "---"
   ]
  },
  {
   "cell_type": "code",
   "execution_count": 11,
   "metadata": {},
   "outputs": [
    {
     "data": {
      "text/plain": [
       "array([0.7, 0.2, 0.1])"
      ]
     },
     "execution_count": 11,
     "metadata": {},
     "output_type": "execute_result"
    }
   ],
   "source": [
    "prior = np.array([.7, .])\n",
    "prior"
   ]
  },
  {
   "cell_type": "code",
   "execution_count": 12,
   "metadata": {},
   "outputs": [
    {
     "data": {
      "text/plain": [
       "array([0.2, 0.4, 0.7])"
      ]
     },
     "execution_count": 12,
     "metadata": {},
     "output_type": "execute_result"
    }
   ],
   "source": [
    "likelihood = np.array([.2, .4, .7])\n",
    "likelihood"
   ]
  },
  {
   "cell_type": "code",
   "execution_count": 13,
   "metadata": {},
   "outputs": [
    {
     "data": {
      "text/plain": [
       "array([0.14, 0.08, 0.07])"
      ]
     },
     "execution_count": 13,
     "metadata": {},
     "output_type": "execute_result"
    }
   ],
   "source": [
    "posterior_unnormalized = prior * likelihood\n",
    "posterior_unnormalized"
   ]
  },
  {
   "cell_type": "code",
   "execution_count": 14,
   "metadata": {},
   "outputs": [],
   "source": [
    "Z = posterior_unnormalized.sum() # normalization constant"
   ]
  },
  {
   "cell_type": "code",
   "execution_count": 15,
   "metadata": {},
   "outputs": [
    {
     "data": {
      "text/plain": [
       "array([0.48275862, 0.27586207, 0.24137931])"
      ]
     },
     "execution_count": 15,
     "metadata": {},
     "output_type": "execute_result"
    }
   ],
   "source": [
    "# [P(A|H), P(B|H), P(C|H)]\n",
    "posterior = posterior_unnormalized / Z\n",
    "posterior"
   ]
  },
  {
   "cell_type": "markdown",
   "metadata": {},
   "source": [
    "---"
   ]
  },
  {
   "cell_type": "code",
   "execution_count": 17,
   "metadata": {},
   "outputs": [
    {
     "data": {
      "text/plain": [
       "array([ 4,  6,  8, 12, 20])"
      ]
     },
     "execution_count": 17,
     "metadata": {},
     "output_type": "execute_result"
    }
   ],
   "source": [
    "df = np.array([4,6,8,12,20])\n",
    "df"
   ]
  },
  {
   "cell_type": "code",
   "execution_count": 18,
   "metadata": {},
   "outputs": [
    {
     "data": {
      "text/plain": [
       "array([0.2, 0.2, 0.2, 0.2, 0.2])"
      ]
     },
     "execution_count": 18,
     "metadata": {},
     "output_type": "execute_result"
    }
   ],
   "source": [
    "prior = np.array([1/5]*5)\n",
    "prior"
   ]
  },
  {
   "cell_type": "code",
   "execution_count": 27,
   "metadata": {},
   "outputs": [
    {
     "name": "stdout",
     "output_type": "stream",
     "text": [
      "4side:  prob= 0.25\n",
      "6side:  prob= 0.16666666666666666\n",
      "8side:  prob= 0.125\n",
      "12side:  prob= 0.08333333333333333\n",
      "20side:  prob= 0.05\n"
     ]
    },
    {
     "data": {
      "text/plain": [
       "array([0.        , 0.16666667, 0.125     , 0.08333333, 0.05      ])"
      ]
     },
     "execution_count": 27,
     "metadata": {},
     "output_type": "execute_result"
    }
   ],
   "source": [
    "obs = 6\n",
    "like = []\n",
    "for d in df:\n",
    "    if d < obs:\n",
    "        like.append(0)\n",
    "    else:\n",
    "        like.append(1./d)\n",
    "    print(f'{d}side:  prob=', 1/d)\n",
    "like = np.array(like);\n",
    "like"
   ]
  },
  {
   "cell_type": "code",
   "execution_count": 25,
   "metadata": {},
   "outputs": [
    {
     "data": {
      "text/plain": [
       "array([0.        , 0.39215686, 0.29411765, 0.19607843, 0.11764706])"
      ]
     },
     "execution_count": 25,
     "metadata": {},
     "output_type": "execute_result"
    }
   ],
   "source": [
    "post = prior * like\n",
    "Z = post.sum()\n",
    "post = post / Z\n",
    "post"
   ]
  },
  {
   "cell_type": "markdown",
   "metadata": {},
   "source": [
    "---"
   ]
  },
  {
   "cell_type": "markdown",
   "metadata": {},
   "source": [
    "# Bertrand's box paradox\n",
    "- https://en.wikipedia.org/wiki/Bertrand%27s_box_paradox\n",
    "- Statistical Rethinking 2nd, Chapter 15. Missing Data\n",
    "\n",
    "Suppose a robot cooks three pancakes. The first pancake is burnt on both sides (BB). The second pancake is burnt on only on side (BU). The third pancake is not burnt at all (UU). Now another robot is serving you at random one of these pancakes, and the side facing up on your plate is burnt. What is the probability that the other side is  also burnt?"
   ]
  },
  {
   "cell_type": "code",
   "execution_count": 144,
   "metadata": {},
   "outputs": [],
   "source": [
    "faceup = 0    \n",
    "facedown = 1\n",
    "B = 1\n",
    "U = 0\n",
    "pancakes = np.array( [ [B,B], [B,U], [U,U]] )"
   ]
  },
  {
   "cell_type": "code",
   "execution_count": 89,
   "metadata": {},
   "outputs": [],
   "source": [
    "n_repeat = 1000000\n",
    "burntfaceup = []\n",
    "for _ in range(n_repeat):\n",
    "    i = np.random.randint(low=0, high=3)\n",
    "    choice = pancakes[i]\n",
    "    if choice[faceup] == B: # observation\n",
    "        burntfaceup.append(choice)"
   ]
  },
  {
   "cell_type": "code",
   "execution_count": 90,
   "metadata": {},
   "outputs": [],
   "source": [
    "len_total = len(burntfaceup)"
   ]
  },
  {
   "cell_type": "code",
   "execution_count": 91,
   "metadata": {},
   "outputs": [],
   "source": [
    "burntdown = []\n",
    "for pc in burntfaceup:\n",
    "    if pc[facedown] == B:\n",
    "        burntdown.append(pc)"
   ]
  },
  {
   "cell_type": "code",
   "execution_count": 92,
   "metadata": {},
   "outputs": [
    {
     "data": {
      "text/plain": [
       "0.5001769624839534"
      ]
     },
     "execution_count": 92,
     "metadata": {},
     "output_type": "execute_result"
    }
   ],
   "source": [
    "len(burntdown) / len_total"
   ]
  },
  {
   "cell_type": "markdown",
   "metadata": {},
   "source": [
    "- Something wrong\n",
    "- when the pancake is put on a plate, either side can be up."
   ]
  },
  {
   "cell_type": "code",
   "execution_count": 138,
   "metadata": {},
   "outputs": [],
   "source": [
    "n_repeat = 1000000\n",
    "burntfaceup = []\n",
    "for k in range(n_repeat):\n",
    "    i = np.random.randint(low=0, high=3)\n",
    "    choice = pancakes[i]  # the robot chooses this pancake\n",
    "    # up-side down\n",
    "    if np.random.uniform() < 0.5:  # 50% chance\n",
    "        choice[0], choice[1] = choice[1], choice[0]\n",
    "    if choice[faceup] == B: # observation\n",
    "        burntfaceup.append(choice)"
   ]
  },
  {
   "cell_type": "code",
   "execution_count": 139,
   "metadata": {},
   "outputs": [],
   "source": [
    "len_total = len(burntfaceup)"
   ]
  },
  {
   "cell_type": "code",
   "execution_count": 140,
   "metadata": {},
   "outputs": [],
   "source": [
    "burntdown = []\n",
    "for pc in burntfaceup:\n",
    "    if pc[facedown] == B:\n",
    "        burntdown.append(pc)"
   ]
  },
  {
   "cell_type": "code",
   "execution_count": 141,
   "metadata": {},
   "outputs": [
    {
     "data": {
      "text/plain": [
       "0.6659746306807954"
      ]
     },
     "execution_count": 141,
     "metadata": {},
     "output_type": "execute_result"
    }
   ],
   "source": [
    "len(burntdown) / len_total"
   ]
  },
  {
   "cell_type": "markdown",
   "metadata": {},
   "source": [
    "## let's make it faster with numpy vectorization"
   ]
  },
  {
   "cell_type": "code",
   "execution_count": 213,
   "metadata": {},
   "outputs": [
    {
     "data": {
      "text/plain": [
       "0.6667841501635007"
      ]
     },
     "execution_count": 213,
     "metadata": {},
     "output_type": "execute_result"
    }
   ],
   "source": [
    "n_repeat = 10000000\n",
    "i = np.random.randint(0,3, size=n_repeat);\n",
    "choice = pancakes[i];\n",
    "# up-side down\n",
    "u = np.random.uniform(size=n_repeat)\n",
    "do_swap = u < 0.5; do_swap;\n",
    "a = choice[do_swap == False]\n",
    "b = choice[do_swap == True]\n",
    "b[:,[0,1]] = b[:,[1,0]]  # swap == upside down\n",
    "choice = np.vstack((a,b))           # random generation\n",
    "#\n",
    "choice = choice[ choice[:,faceup] == B]  # observation\n",
    "#\n",
    "total_len = len(choice)\n",
    "burnt_down = choice[:,facedown] == B       # target of interest\n",
    "#\n",
    "burnt_down.sum() / total_len        # the ratio"
   ]
  },
  {
   "cell_type": "code",
   "execution_count": null,
   "metadata": {},
   "outputs": [],
   "source": []
  }
 ],
 "metadata": {
  "kernelspec": {
   "display_name": "Python 3",
   "language": "python",
   "name": "python3"
  },
  "language_info": {
   "codemirror_mode": {
    "name": "ipython",
    "version": 3
   },
   "file_extension": ".py",
   "mimetype": "text/x-python",
   "name": "python",
   "nbconvert_exporter": "python",
   "pygments_lexer": "ipython3",
   "version": "3.8.8"
  }
 },
 "nbformat": 4,
 "nbformat_minor": 4
}
