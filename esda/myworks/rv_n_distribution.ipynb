{
 "cells": [
  {
   "cell_type": "code",
   "execution_count": 30,
   "id": "hollow-bobby",
   "metadata": {},
   "outputs": [],
   "source": [
    "import numpy as np\n",
    "import scipy.stats as stats\n",
    "import matplotlib.pyplot as plt\n",
    "import seaborn as sns"
   ]
  },
  {
   "cell_type": "markdown",
   "id": "combined-southwest",
   "metadata": {},
   "source": [
    "# Probability distribution"
   ]
  },
  {
   "cell_type": "markdown",
   "id": "fifth-membership",
   "metadata": {},
   "source": [
    "Normal Distribution\n",
    "$$\n",
    "    p(x|\\mu, \\sigma) = \\frac{1}{\\sigma\\sqrt{2\\pi}} \\exp\\bigg\\{\\bigg\\}\n",
    "$$\n",
    "\n",
    "$$\n",
    "    F(X < x|\\mu, \\sigma) = \\int_{-\\infty}^x dx \\frac{1}{\\sigma\\sqrt{2\\pi}} \\exp\\bigg\\{\\bigg\\}\n",
    "$$"
   ]
  },
  {
   "cell_type": "markdown",
   "id": "postal-participant",
   "metadata": {},
   "source": [
    "# Pseudo random sampling and Expections\n",
    "- A function $f$ is called a linear operator if $f(ax+by) = af(x) + bf(y)$ for all $x$ and $y$ and constants $a$ and $b$\n",
    "- Expectation\n",
    "\\begin{align}\n",
    "        \\mathbb{E}[f(X)] & = \\sum_i p(x_i) f(x_i) \\quad\\mbox{PMF}\\\\\n",
    "                         & = \\int_\\Omega dx p(x) f(x) \\quad\\mbox{PDF}\n",
    "\\end{align}\n",
    "-  Expection is a linear operator:\n",
    "\n",
    "\\begin{align}\n",
    "        \\mathbb{E}[aX + bY] & = \\sum_{x,y}(ax + by)p_{X,Y}(x,y) \\\\\n",
    "                            & = \\sum_x \\sum_y (ax p_{X,Y}(x, y)) + \\sum_x \\sum_y(by p_{X,Y}(x,y))\\\\\n",
    "                            & = \\sum_x \\left(\n",
    "                              ax \\sum_y (p_{X,Y}(x, y))\n",
    "                            \\right)\n",
    "                             +\n",
    "                            \\sum_y\n",
    "                            \\left(\n",
    "                              by \\sum_x p_{X,Y}(x,y)\n",
    "                            \\right) \\\\\n",
    "                            & = a\\mathbb{E}[X] + b\\mathbb{E}[Y]\n",
    "\\end{align}\n",
    "\n",
    "\n",
    "- Examples\n",
    "$$\n",
    "    \\mathbb{E}[X] = \\int_\\Omega dx p(x) x \\\\\n",
    "    \\mathbb{E}[X^2] = \\int_\\Omega dx p(x) x^2\n",
    "$$\n",
    "- Useful Formula.\n",
    "$$\n",
    "    \\mathbb{E}[X] = \\mu \\\\\n",
    "    \\mathbb{E}[ a X + b ] = a \\mathbb{E}[X] + b\n",
    "$$\n",
    "$$\n",
    "    \\mathbb{V}[X] = \\mathbb{E}[ (X-\\mu)^2 ] = \\sigma^2 = \\mathbb{E}[X^2] - \\mu^2 \\\\\n",
    "    \\mathbb{V}[aX+b] = \\mathbb{E}[ (aX-a\\mu)^2 ] = a^2\\mathbb{E}[ (X-\\mu)^2 ] =a^2 \\mathbb{V}[X]\n",
    "$$"
   ]
  },
  {
   "cell_type": "markdown",
   "id": "special-minutes",
   "metadata": {},
   "source": [
    "Calculation with samples."
   ]
  },
  {
   "cell_type": "code",
   "execution_count": 49,
   "id": "demonstrated-phone",
   "metadata": {},
   "outputs": [],
   "source": [
    "n_samples = 100000"
   ]
  },
  {
   "cell_type": "code",
   "execution_count": 50,
   "id": "advanced-preview",
   "metadata": {},
   "outputs": [],
   "source": [
    "rs = stats.norm.rvs(loc=0, scale=1, size=(n_samples))"
   ]
  },
  {
   "cell_type": "code",
   "execution_count": 51,
   "id": "planned-emission",
   "metadata": {},
   "outputs": [],
   "source": [
    "# expection\n",
    "mean = rs.sum() / n_samples\n",
    "# variance = mean of squared deviation from the mean\n",
    "var = np.sum((rs - mean)**2) / n_samples\n",
    "# standard deviation = sqrt of var\n",
    "std = np.sqrt(var)"
   ]
  },
  {
   "cell_type": "code",
   "execution_count": 52,
   "id": "hawaiian-forwarding",
   "metadata": {},
   "outputs": [
    {
     "name": "stdout",
     "output_type": "stream",
     "text": [
      "0.005020448474646122 0.9998026096081127\n"
     ]
    }
   ],
   "source": [
    "print(mean, std)"
   ]
  },
  {
   "cell_type": "markdown",
   "id": "colonial-peace",
   "metadata": {},
   "source": [
    "Now a random variable which is equivalent to the affinely transformed version."
   ]
  },
  {
   "cell_type": "code",
   "execution_count": 53,
   "id": "particular-charge",
   "metadata": {},
   "outputs": [],
   "source": [
    "# X_2 = X * 2 + 1\n",
    "rs2 = stats.norm.rvs(loc=5, scale=2, size=n_samples)"
   ]
  },
  {
   "cell_type": "code",
   "execution_count": 54,
   "id": "induced-craps",
   "metadata": {},
   "outputs": [],
   "source": [
    "# expection\n",
    "mean2 = rs2.sum() / n_samples\n",
    "# variance = mean of squared deviation from the mean\n",
    "var2 = np.sum((rs2 - mean2)**2) / n_samples\n",
    "# standard deviation = sqrt of var\n",
    "std2 = np.sqrt(var2)"
   ]
  },
  {
   "cell_type": "code",
   "execution_count": 55,
   "id": "stone-discussion",
   "metadata": {},
   "outputs": [
    {
     "name": "stdout",
     "output_type": "stream",
     "text": [
      "5.006055936619517 1.9972059059082308\n"
     ]
    }
   ],
   "source": [
    "print(mean2, std2)"
   ]
  },
  {
   "cell_type": "markdown",
   "id": "plain-cooper",
   "metadata": {},
   "source": [
    "The result may also be obtained by simple affine transformation:"
   ]
  },
  {
   "cell_type": "code",
   "execution_count": 56,
   "id": "jewish-opinion",
   "metadata": {},
   "outputs": [
    {
     "name": "stdout",
     "output_type": "stream",
     "text": [
      "5.010040896949293 3.9944118118164615\n"
     ]
    }
   ],
   "source": [
    "# apply the formula to get the mean and std for X_2\n",
    "mean22 = 2*mean + 5\n",
    "var22 = 2**2 * var2\n",
    "std22 = np.sqrt(var22)\n",
    "print(mean22, std22)"
   ]
  },
  {
   "cell_type": "markdown",
   "id": "polished-disposal",
   "metadata": {},
   "source": [
    "- The difference is caused by the computation from samples.\n",
    "- By increasing the number of samples, the difference do decrease. \n",
    "- With infinitely many samples, no difference will occur."
   ]
  },
  {
   "cell_type": "code",
   "execution_count": 57,
   "id": "prescription-arrival",
   "metadata": {},
   "outputs": [
    {
     "data": {
      "image/png": "[encoded data removed]",
      "text/plain": [
       "<Figure size 432x288 with 1 Axes>"
      ]
     },
     "metadata": {
      "needs_background": "light"
     },
     "output_type": "display_data"
    }
   ],
   "source": [
    "plt.hist(rs, bins=20);\n",
    "plt.hist(rs2, alpha=.5, bins=20);"
   ]
  },
  {
   "cell_type": "markdown",
   "id": "honest-compiler",
   "metadata": {},
   "source": [
    "## Sum of Random Variables\n",
    "Let's think about a new random variable $Y$:\n",
    "\\begin{align}\n",
    "    Y & = X_1 + X_2 \n",
    "\\end{align}\n",
    "where $X_i$s are independent random variables.\n",
    "\n",
    "Its expections are:\n",
    "\\begin{align}\n",
    "    \\mathbb{E}[Y] & = \\mathbb{E}[X_1] + \\mathbb{E}[X_2] \\quad \\mbox{so},\\quad \\mu_Y = \\mu_{X_1} + \\mu_{X_2}\\\\\n",
    "    \\mathbb{V}[Y] & = \\mathbb{E}[(Y-\\mu_Y)^2] \\quad \\mbox(show)\\\\\n",
    "                  & = \\mathbb{V}[X_1] + \\mathbb{V}[X_2] \\\\\n",
    "    Std(Y) &= \\sqrt{Std(X_1)^2 + Std(X_2)^2 }\n",
    "\\end{align}"
   ]
  },
  {
   "cell_type": "code",
   "execution_count": 72,
   "id": "yellow-universal",
   "metadata": {},
   "outputs": [],
   "source": [
    "n_samples = 1000000"
   ]
  },
  {
   "cell_type": "code",
   "execution_count": 93,
   "id": "solved-museum",
   "metadata": {},
   "outputs": [],
   "source": [
    "X1 = stats.norm.rvs(loc=-3, scale=2, size=n_samples)\n",
    "X2 = stats.norm.rvs(loc= 3, scale=2, size=n_samples)"
   ]
  },
  {
   "cell_type": "code",
   "execution_count": 94,
   "id": "incorrect-duplicate",
   "metadata": {},
   "outputs": [],
   "source": [
    "Y = X1 + X2"
   ]
  },
  {
   "cell_type": "code",
   "execution_count": 95,
   "id": "honest-watson",
   "metadata": {},
   "outputs": [
    {
     "data": {
      "image/png": "[encoded data removed]",
      "text/plain": [
       "<Figure size 432x288 with 1 Axes>"
      ]
     },
     "metadata": {
      "needs_background": "light"
     },
     "output_type": "display_data"
    }
   ],
   "source": [
    "bins=50\n",
    "plt.hist(X1, bins=bins, alpha=.5, label='X1');\n",
    "plt.hist(X2, alpha=.7, bins=bins, label='X2');\n",
    "plt.hist(Y, alpha=.5, bins=bins, label='Y');\n",
    "plt.legend();"
   ]
  },
  {
   "cell_type": "code",
   "execution_count": 96,
   "id": "fantastic-programmer",
   "metadata": {},
   "outputs": [
    {
     "data": {
      "text/plain": [
       "(-2.998136388361275, 3.000786370133396, 0.002649981772120698)"
      ]
     },
     "execution_count": 96,
     "metadata": {},
     "output_type": "execute_result"
    }
   ],
   "source": [
    "X1.mean(), X2.mean(), Y.mean()"
   ]
  },
  {
   "cell_type": "code",
   "execution_count": 98,
   "id": "saved-intermediate",
   "metadata": {},
   "outputs": [
    {
     "data": {
      "text/plain": [
       "(1.9996419143503181, 2.0021590362069444, 2.828913264937155, 2.829701148865676)"
      ]
     },
     "execution_count": 98,
     "metadata": {},
     "output_type": "execute_result"
    }
   ],
   "source": [
    "X1.std(), X2.std(), Y.std(), np.sqrt(X1.std()**2 + X2.std()**2)"
   ]
  },
  {
   "cell_type": "markdown",
   "id": "armed-earthquake",
   "metadata": {},
   "source": [
    "## Mean of Random Variables\n",
    "Let's think about a new random variable $Y$:\n",
    "\\begin{align}\n",
    "    Y & = \\frac{1}{n}\\sum_i X_i\n",
    "\\end{align}\n",
    "where $X_i$s are independent identically distributed (iid) random variables with mean $\\mu$ and std $\\sigma$.\n",
    "\n",
    "Its expections are:\n",
    "\\begin{align}\n",
    "    \\mathbb{E}[Y] & = \\frac{1}{n}\\sum_i \\mathbb{E}[X_i] = \\mu\\\\\n",
    "    \\mathbb{V}[Y] & = \\mathbb{V}\\bigg[\\frac{1}{n}\\sum_i X_i\\bigg] \\\\\n",
    "                  & = \\frac{1}{n^2}\\mathbb{V}\\bigg[\\sum_i X_i\\bigg] \\\\\n",
    "                  & = \\frac{1}{n^2}\\sum_i\\mathbb{V}\\big[X_i\\big] \\quad\\mbox{independence, uncorrelated}\\\\\n",
    "                  & = \\frac{1}{n^2}\\sum_i \\sigma^2 \\\\\n",
    "                  & = \\frac{1}{n} \\sigma^2 \\\\\n",
    "    Std(Y) &= \\frac{\\sigma}{\\sqrt{n}}   \\quad \\mbox{called 'standard error'}\n",
    "\\end{align}\n",
    "- Implication:\n",
    "    - measure as many $X$'s as possible, and compute its mean $Y$.\n",
    "    - the expectation of $Y$ approaches to the true mean $\\mu$ in the limit.\n",
    "    - the standard deviation of $Y$ approaches to 0.\n",
    "    - the std of $Y$ is actually the error of the mean estimator $Y$. So it is called the **standard error** (SE)."
   ]
  },
  {
   "cell_type": "markdown",
   "id": "occasional-wyoming",
   "metadata": {},
   "source": [
    "jupyter nbconvert rv_n_distribution.ipynb --to webpdf --HTMLExporter.theme=dark --allow-chromium-download --execute\n",
    "\n",
    "https://blog.jupyter.org/the-templating-system-of-nbconvert-6-47ea781eacd2"
   ]
  },
  {
   "cell_type": "code",
   "execution_count": null,
   "id": "great-apparatus",
   "metadata": {},
   "outputs": [],
   "source": []
  }
 ],
 "metadata": {
  "kernelspec": {
   "display_name": "Python 3",
   "language": "python",
   "name": "python3"
  },
  "language_info": {
   "codemirror_mode": {
    "name": "ipython",
    "version": 3
   },
   "file_extension": ".py",
   "mimetype": "text/x-python",
   "name": "python",
   "nbconvert_exporter": "python",
   "pygments_lexer": "ipython3",
   "version": "3.8.0"
  }
 },
 "nbformat": 4,
 "nbformat_minor": 5
}
