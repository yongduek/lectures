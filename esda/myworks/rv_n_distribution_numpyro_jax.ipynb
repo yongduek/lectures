{
 "cells": [
  {
   "cell_type": "code",
   "execution_count": 9,
   "id": "personalized-price",
   "metadata": {},
   "outputs": [],
   "source": [
    "import jax\n",
    "import jax.numpy as jnp           ## JAX\n",
    "import jax.scipy.stats as stats   ## JAX\n",
    "import numpy as np\n",
    "#import scipy.stats as stats\n",
    "\n",
    "import seaborn as sns\n",
    "import pandas as pd\n",
    "import matplotlib.pyplot as plt\n",
    "plt.style.use('dark_background')"
   ]
  },
  {
   "cell_type": "markdown",
   "id": "nonprofit-atlanta",
   "metadata": {},
   "source": [
    "# Probability distributions\n",
    "\n",
    "- We would like to describe a distribution of data in concisely. For example, the normal distribution with only two parameters $\\mu$ and $\\sigma$ may represent any data of such distribution."
   ]
  },
  {
   "cell_type": "code",
   "execution_count": 10,
   "id": "imported-search",
   "metadata": {},
   "outputs": [
    {
     "data": {
      "text/html": [
       "<div>\n",
       "<style scoped>\n",
       "    .dataframe tbody tr th:only-of-type {\n",
       "        vertical-align: middle;\n",
       "    }\n",
       "\n",
       "    .dataframe tbody tr th {\n",
       "        vertical-align: top;\n",
       "    }\n",
       "\n",
       "    .dataframe thead th {\n",
       "        text-align: right;\n",
       "    }\n",
       "</style>\n",
       "<table border=\"1\" class=\"dataframe\">\n",
       "  <thead>\n",
       "    <tr style=\"text-align: right;\">\n",
       "      <th></th>\n",
       "      <th>daughter_height</th>\n",
       "      <th>mother_height</th>\n",
       "    </tr>\n",
       "  </thead>\n",
       "  <tbody>\n",
       "    <tr>\n",
       "      <th>0</th>\n",
       "      <td>52.5</td>\n",
       "      <td>59.5</td>\n",
       "    </tr>\n",
       "    <tr>\n",
       "      <th>1</th>\n",
       "      <td>52.5</td>\n",
       "      <td>59.5</td>\n",
       "    </tr>\n",
       "    <tr>\n",
       "      <th>2</th>\n",
       "      <td>53.5</td>\n",
       "      <td>59.5</td>\n",
       "    </tr>\n",
       "    <tr>\n",
       "      <th>3</th>\n",
       "      <td>53.5</td>\n",
       "      <td>59.5</td>\n",
       "    </tr>\n",
       "    <tr>\n",
       "      <th>4</th>\n",
       "      <td>55.5</td>\n",
       "      <td>59.5</td>\n",
       "    </tr>\n",
       "    <tr>\n",
       "      <th>...</th>\n",
       "      <td>...</td>\n",
       "      <td>...</td>\n",
       "    </tr>\n",
       "    <tr>\n",
       "      <th>5519</th>\n",
       "      <td>71.5</td>\n",
       "      <td>70.5</td>\n",
       "    </tr>\n",
       "    <tr>\n",
       "      <th>5520</th>\n",
       "      <td>73.5</td>\n",
       "      <td>63.5</td>\n",
       "    </tr>\n",
       "    <tr>\n",
       "      <th>5521</th>\n",
       "      <td>73.5</td>\n",
       "      <td>63.5</td>\n",
       "    </tr>\n",
       "    <tr>\n",
       "      <th>5522</th>\n",
       "      <td>73.5</td>\n",
       "      <td>63.5</td>\n",
       "    </tr>\n",
       "    <tr>\n",
       "      <th>5523</th>\n",
       "      <td>73.5</td>\n",
       "      <td>63.5</td>\n",
       "    </tr>\n",
       "  </tbody>\n",
       "</table>\n",
       "<p>5524 rows × 2 columns</p>\n",
       "</div>"
      ],
      "text/plain": [
       "      daughter_height  mother_height\n",
       "0                52.5           59.5\n",
       "1                52.5           59.5\n",
       "2                53.5           59.5\n",
       "3                53.5           59.5\n",
       "4                55.5           59.5\n",
       "...               ...            ...\n",
       "5519             71.5           70.5\n",
       "5520             73.5           63.5\n",
       "5521             73.5           63.5\n",
       "5522             73.5           63.5\n",
       "5523             73.5           63.5\n",
       "\n",
       "[5524 rows x 2 columns]"
      ]
     },
     "execution_count": 10,
     "metadata": {},
     "output_type": "execute_result"
    }
   ],
   "source": [
    "datafile_url = 'https://raw.githubusercontent.com/avehtari/ROS-Examples/master/PearsonLee/data/Heights.txt'\n",
    "df = pd.read_csv(datafile_url, delimiter=' ')\n",
    "df"
   ]
  },
  {
   "cell_type": "raw",
   "id": "neither-princess",
   "metadata": {},
   "source": [
    "# https://github.com/avehtari/ROS-Examples\n",
    "datafile = 'ROS-Examples/PearsonLee/data/Heights.txt'\n",
    "df = pd.read_csv(datafile, delimiter=' ')\n",
    "df.info()"
   ]
  },
  {
   "cell_type": "code",
   "execution_count": 11,
   "id": "moderate-spencer",
   "metadata": {},
   "outputs": [],
   "source": [
    "mean, std = df['daughter_height'].mean(), df['daughter_height'].std()"
   ]
  },
  {
   "cell_type": "code",
   "execution_count": 12,
   "id": "fixed-bookmark",
   "metadata": {},
   "outputs": [
    {
     "data": {
      "image/png": "[encoded data removed]",
      "text/plain": [
       "<Figure size 864x216 with 2 Axes>"
      ]
     },
     "metadata": {},
     "output_type": "display_data"
    }
   ],
   "source": [
    "fig, axes = plt.subplots(1, 2, figsize=(12,3))\n",
    "sns.histplot(df['daughter_height'], kde=True, ax=axes[0]);\n",
    "#\n",
    "sns.kdeplot(df['daughter_height'], ax=axes[1], label='kde')\n",
    "x = jnp.linspace(df['daughter_height'].min(), df['daughter_height'].max(), 50)\n",
    "axes[1].plot(x, stats.norm.pdf(loc=mean, scale=std, x=x), label='norm()');\n",
    "axes[1].legend();"
   ]
  },
  {
   "cell_type": "code",
   "execution_count": 13,
   "id": "romantic-afghanistan",
   "metadata": {},
   "outputs": [
    {
     "data": {
      "image/png": "[encoded data removed]",
      "text/plain": [
       "<Figure size 432x288 with 1 Axes>"
      ]
     },
     "metadata": {},
     "output_type": "display_data"
    }
   ],
   "source": [
    "ax = sns.histplot(df['daughter_height'], kde=True);\n",
    "x = jnp.linspace(df['daughter_height'].min(), df['daughter_height'].max(), 50)\n",
    "ax.plot(x, 1800*stats.norm.pdf(loc=mean, scale=std, x=x), color='red');"
   ]
  },
  {
   "cell_type": "markdown",
   "id": "outer-theory",
   "metadata": {},
   "source": [
    "**Try** with `mother_height`."
   ]
  },
  {
   "cell_type": "markdown",
   "id": "lucky-poison",
   "metadata": {},
   "source": [
    "Normal Distribution\n",
    "$$\n",
    "    p(x|\\mu, \\sigma) = \\frac{1}{\\sigma\\sqrt{2\\pi}} \\exp\\bigg\\{ -\\frac{z^2}{2} \\bigg\\} , \\quad  z=\\frac{x-\\mu}{\\sigma}\n",
    "$$\n",
    "\n",
    "$$\n",
    "    F(X < x|\\mu, \\sigma) = \\int_{-\\infty}^x \\frac{1}{\\sigma\\sqrt{2\\pi}} \\exp\\bigg\\{ -\\frac{z^2}{2} \\bigg\\} dx, \\quad  z=\\frac{x-\\mu}{\\sigma}\n",
    "$$"
   ]
  },
  {
   "cell_type": "markdown",
   "id": "cardiac-flavor",
   "metadata": {},
   "source": [
    "# Expectations and Simulation with Pseudo Random Sampling\n",
    "\n",
    "## Expectation\n",
    "- A function $f$ is called a linear operator if $f(ax+by) = af(x) + bf(y)$ for all $x$ and $y$ and constants $a$ and $b$\n",
    "\n",
    "- Expectation\n",
    "\n",
    "\\begin{align}\n",
    "        \\mathbb{E}[f(X)] & = \\sum_i p(x_i) f(x_i) \\quad\\mbox{PMF}\\\\\n",
    "                         & = \\int_\\Omega dx p(x) f(x) \\quad\\mbox{PDF}\n",
    "\\end{align}\n",
    "\n",
    "-  Expection is a linear operator:\n",
    "\n",
    "\\begin{align}\n",
    "        \\mathbb{E}[aX + bY] & = \\sum_{x,y}(ax + by)p_{X,Y}(x,y) \\\\\n",
    "                            & = \\sum_x \\sum_y (ax p_{X,Y}(x, y)) + \\sum_x \\sum_y(by p_{X,Y}(x,y))\\\\\n",
    "                            & = \\sum_x \\left(\n",
    "                              ax \\sum_y (p_{X,Y}(x, y))\n",
    "                            \\right)\n",
    "                             +\n",
    "                            \\sum_y\n",
    "                            \\left(\n",
    "                              by \\sum_x p_{X,Y}(x,y)\n",
    "                            \\right) \\\\\n",
    "                            & = a\\mathbb{E}[X] + b\\mathbb{E}[Y]\n",
    "\\end{align}\n",
    "\n",
    "\n",
    "- Examples\n",
    "\n",
    "$$\n",
    "    \\mathbb{E}[X] = \\int_\\Omega dx p(x) x \\\\\n",
    "    \\mathbb{E}[X^2] = \\int_\\Omega dx p(x) x^2\n",
    "$$\n",
    "\n",
    "- Useful Formula.\n",
    "\n",
    "\\begin{align}\n",
    "    \\mathbb{E}[X] & = \\mu \\\\\n",
    "    \\mathbb{E}[ a X + b ] & = a \\mathbb{E}[X] + b  \\\\\n",
    "    \\mathbb{V}[X] & = \\mathbb{E}[ (X-\\mu)^2 ] = \\sigma^2 = \\mathbb{E}[X^2] - \\mu^2 \\\\\n",
    "    \\mathbb{V}[aX+b] & = \\mathbb{E}[ (aX-a\\mu)^2 ] = a^2\\mathbb{E}[ (X-\\mu)^2 ] =a^2 \\mathbb{V}[X]\n",
    "\\end{align}"
   ]
  },
  {
   "cell_type": "code",
   "execution_count": 14,
   "id": "czech-silicon",
   "metadata": {},
   "outputs": [
    {
     "name": "stdout",
     "output_type": "stream",
     "text": [
      "Requirement already satisfied: numpyro in /home/yndk/tmp/numpyro (0.6.0)\n",
      "Collecting jax==0.2.10\n",
      "  Using cached jax-0.2.10.tar.gz (589 kB)\n",
      "Collecting jaxlib==0.1.62\n",
      "  Downloading jaxlib-0.1.62-cp37-none-manylinux2010_x86_64.whl (35.7 MB)\n",
      "\u001b[K     |█████████▊                      | 10.8 MB 428 kB/s eta 0:00:59^C\n",
      "\n",
      "\u001b[31mERROR: Operation cancelled by user\u001b[0m\n",
      "\u001b[?25h"
     ]
    }
   ],
   "source": [
    "!pip3 install numpyro"
   ]
  },
  {
   "cell_type": "markdown",
   "id": "invalid-governor",
   "metadata": {},
   "source": [
    "## Simulation\n",
    "Calculation with samples."
   ]
  },
  {
   "cell_type": "code",
   "execution_count": 3,
   "id": "accessory-forty",
   "metadata": {},
   "outputs": [],
   "source": [
    "import jax\n",
    "import numpy as np"
   ]
  },
  {
   "cell_type": "code",
   "execution_count": 4,
   "id": "proud-cabin",
   "metadata": {},
   "outputs": [
    {
     "data": {
      "text/plain": [
       "(DeviceArray([0, 0], dtype=uint32),\n",
       " array([4146024105,  967050713], dtype=uint32))"
      ]
     },
     "execution_count": 4,
     "metadata": {},
     "output_type": "execute_result"
    }
   ],
   "source": [
    "key = jax.random.PRNGKey(0)\n",
    "key2, subkey = jax.random.split(key)\n",
    "key, key2"
   ]
  },
  {
   "cell_type": "code",
   "execution_count": 20,
   "id": "latin-devil",
   "metadata": {},
   "outputs": [],
   "source": [
    "n_samples = 10"
   ]
  },
  {
   "cell_type": "markdown",
   "id": "physical-grove",
   "metadata": {},
   "source": [
    "### Experiment with Normal Distribution"
   ]
  },
  {
   "cell_type": "code",
   "execution_count": 21,
   "id": "upset-slide",
   "metadata": {},
   "outputs": [
    {
     "data": {
      "text/plain": [
       "(DeviceArray([-0.3721109 ,  0.26423115, -0.18252768, -0.7368197 ,\n",
       "              -0.44030377, -0.1521442 , -0.67135346, -0.5908641 ,\n",
       "               0.73168886,  0.5673026 ], dtype=float32),\n",
       " (10,),\n",
       " 10)"
      ]
     },
     "execution_count": 21,
     "metadata": {},
     "output_type": "execute_result"
    }
   ],
   "source": [
    "# rs = stats.norm.rvs(loc=0, scale=1, size=(n_samples))\n",
    "rs = jax.random.normal(key, shape=(n_samples,))  # standard normal\n",
    "rs, rs.shape, rs.size"
   ]
  },
  {
   "cell_type": "code",
   "execution_count": 22,
   "id": "compressed-ireland",
   "metadata": {},
   "outputs": [],
   "source": [
    "# expection\n",
    "mean = rs.sum() / n_samples\n",
    "# variance = mean of squared deviation from the mean\n",
    "var = np.sum((rs - mean)**2) / n_samples\n",
    "# standard deviation = sqrt of var\n",
    "std = np.sqrt(var)"
   ]
  },
  {
   "cell_type": "code",
   "execution_count": 23,
   "id": "cardiac-thanksgiving",
   "metadata": {},
   "outputs": [
    {
     "name": "stdout",
     "output_type": "stream",
     "text": [
      "-0.15829012 0.49071363\n"
     ]
    }
   ],
   "source": [
    "print(mean, std)"
   ]
  },
  {
   "cell_type": "markdown",
   "id": "breeding-athens",
   "metadata": {},
   "source": [
    "Now a random variable which is equivalent to the affinely transformed version."
   ]
  },
  {
   "cell_type": "code",
   "execution_count": null,
   "id": "korean-measurement",
   "metadata": {},
   "outputs": [],
   "source": [
    "np.random.seed(1999)"
   ]
  },
  {
   "cell_type": "code",
   "execution_count": 50,
   "id": "sought-artwork",
   "metadata": {},
   "outputs": [
    {
     "data": {
      "text/plain": [
       "DeviceArray([3.1819239], dtype=float32)"
      ]
     },
     "execution_count": 50,
     "metadata": {},
     "output_type": "execute_result"
    }
   ],
   "source": [
    "\n",
    "# X_2 = X * a + b\n",
    "# rs2 = stats.norm.rvs(loc=5, scale=2, size=n_samples)\n",
    "key, subkey = jax.random.split(key)\n",
    "rs2 = jax.random.normal(key, shape=(1,)) * 2 + 5\n",
    "rs2"
   ]
  },
  {
   "cell_type": "code",
   "execution_count": 32,
   "id": "aging-chuck",
   "metadata": {},
   "outputs": [],
   "source": [
    "n_samples = 10"
   ]
  },
  {
   "cell_type": "code",
   "execution_count": 4,
   "id": "fewer-biotechnology",
   "metadata": {},
   "outputs": [
    {
     "data": {
      "text/plain": [
       "(DeviceArray([0, 0], dtype=uint32),\n",
       " array([4146024105,  967050713], dtype=uint32))"
      ]
     },
     "execution_count": 4,
     "metadata": {},
     "output_type": "execute_result"
    }
   ],
   "source": [
    "key, subkey = jax.random.split(key)\n",
    "key, key2"
   ]
  },
  {
   "cell_type": "code",
   "execution_count": 51,
   "id": "regulation-prisoner",
   "metadata": {},
   "outputs": [],
   "source": [
    "# X_2 = X * a + b\n",
    "# rs2 = stats.norm.rvs(loc=5, scale=2, size=n_samples)\n",
    "rs2 = jax.random.normal(key2, shape=(n_samples,)) * 2 + 5"
   ]
  },
  {
   "cell_type": "code",
   "execution_count": 52,
   "id": "comfortable-heading",
   "metadata": {},
   "outputs": [],
   "source": [
    "# expection\n",
    "mean2 = rs2.sum() / n_samples\n",
    "# variance = mean of squared deviation from the mean\n",
    "var2 = np.sum((rs2 - mean2)**2) / n_samples\n",
    "# standard deviation = sqrt of var\n",
    "std2 = np.sqrt(var2)"
   ]
  },
  {
   "cell_type": "code",
   "execution_count": 53,
   "id": "incorporated-timothy",
   "metadata": {},
   "outputs": [
    {
     "name": "stdout",
     "output_type": "stream",
     "text": [
      "4.9434137 2.19168\n"
     ]
    }
   ],
   "source": [
    "print(mean2, std2)"
   ]
  },
  {
   "cell_type": "markdown",
   "id": "characteristic-estate",
   "metadata": {},
   "source": [
    "The result may also be obtained by simple affine transformation:"
   ]
  },
  {
   "cell_type": "code",
   "execution_count": 54,
   "id": "minus-twenty",
   "metadata": {},
   "outputs": [
    {
     "name": "stdout",
     "output_type": "stream",
     "text": [
      "4.6834197 4.38336\n"
     ]
    }
   ],
   "source": [
    "# apply the formula to get the mean and std for X_2\n",
    "mean22 = 2*mean + 5\n",
    "var22 = 2**2 * var2\n",
    "std22 = np.sqrt(var22)\n",
    "print(mean22, std22)"
   ]
  },
  {
   "cell_type": "markdown",
   "id": "returning-tactics",
   "metadata": {},
   "source": [
    "- The difference is caused by the computation from samples.\n",
    "- By increasing the number of samples, the difference do decrease. \n",
    "- With infinitely many samples, no difference will occur."
   ]
  },
  {
   "cell_type": "code",
   "execution_count": 15,
   "id": "isolated-calculator",
   "metadata": {},
   "outputs": [
    {
     "data": {
      "image/png": "[encoded data removed]",
      "text/plain": [
       "<Figure size 432x288 with 1 Axes>"
      ]
     },
     "metadata": {},
     "output_type": "display_data"
    }
   ],
   "source": [
    "plt.hist(rs, bins=50);\n",
    "plt.hist(rs2, alpha=.5, bins=50);"
   ]
  },
  {
   "cell_type": "markdown",
   "id": "threatened-rover",
   "metadata": {},
   "source": [
    "### Experiment with Uniform Distribution [a,b]\n",
    "\n",
    "$$\n",
    "    V[X] = \\frac{1}{12}(b - a)^2\n",
    "$$\n",
    "$$\n",
    "    V[X] = \\int_a^b (x-\\mu)^2 p(x) dx, \\quad p(x) = \\frac{1}{b-1}\\quad\\mbox{for}\\quad x \\in [a,b]\n",
    "$$"
   ]
  },
  {
   "cell_type": "code",
   "execution_count": 55,
   "id": "neural-dominant",
   "metadata": {},
   "outputs": [],
   "source": [
    "n_samples = 100000"
   ]
  },
  {
   "cell_type": "code",
   "execution_count": 56,
   "id": "better-advance",
   "metadata": {},
   "outputs": [
    {
     "data": {
      "text/plain": [
       "DeviceArray([0.5644661 , 0.46449828, 0.7148756 , ..., 0.67715013,\n",
       "             0.56519306, 0.79678285], dtype=float32)"
      ]
     },
     "execution_count": 56,
     "metadata": {},
     "output_type": "execute_result"
    }
   ],
   "source": [
    "# rs = stats.norm.rvs(loc=0, scale=1, size=(n_samples))\n",
    "rs = jax.random.uniform(key, shape=(n_samples,))  # standard uniform [0, 1]\n",
    "rs"
   ]
  },
  {
   "cell_type": "code",
   "execution_count": 57,
   "id": "incident-liverpool",
   "metadata": {},
   "outputs": [],
   "source": [
    "# expection\n",
    "mean = rs.sum() / n_samples\n",
    "# variance = mean of squared deviation from the mean\n",
    "var = np.sum((rs - mean)**2) / n_samples\n",
    "# standard deviation = sqrt of var\n",
    "std = np.sqrt(var)"
   ]
  },
  {
   "cell_type": "code",
   "execution_count": 58,
   "id": "right-picnic",
   "metadata": {},
   "outputs": [
    {
     "name": "stdout",
     "output_type": "stream",
     "text": [
      "0.5011125 0.28780124\n"
     ]
    }
   ],
   "source": [
    "print(mean, std)"
   ]
  },
  {
   "cell_type": "markdown",
   "id": "incoming-denial",
   "metadata": {},
   "source": [
    "Now a random variable which is equivalent to the affinely transformed version."
   ]
  },
  {
   "cell_type": "code",
   "execution_count": 19,
   "id": "julian-joining",
   "metadata": {},
   "outputs": [],
   "source": [
    "# X_2 = X * a + b\n",
    "rs2 = jax.random.uniform(key2, shape=(n_samples,)) * 2 + 5"
   ]
  },
  {
   "cell_type": "code",
   "execution_count": 20,
   "id": "advised-threat",
   "metadata": {},
   "outputs": [],
   "source": [
    "# expection\n",
    "mean2 = rs2.sum() / n_samples\n",
    "# variance = mean of squared deviation from the mean\n",
    "var2 = np.sum((rs2 - mean2)**2) / n_samples\n",
    "# standard deviation = sqrt of var\n",
    "std2 = np.sqrt(var2)"
   ]
  },
  {
   "cell_type": "code",
   "execution_count": 21,
   "id": "voluntary-canon",
   "metadata": {},
   "outputs": [
    {
     "name": "stdout",
     "output_type": "stream",
     "text": [
      "5.9994454 0.5773667\n"
     ]
    }
   ],
   "source": [
    "print(mean2, std2)"
   ]
  },
  {
   "cell_type": "markdown",
   "id": "nervous-harrison",
   "metadata": {},
   "source": [
    "The result may also be obtained by simple affine transformation:"
   ]
  },
  {
   "cell_type": "code",
   "execution_count": 22,
   "id": "ignored-heater",
   "metadata": {},
   "outputs": [
    {
     "name": "stdout",
     "output_type": "stream",
     "text": [
      "6.003106 1.1547334\n"
     ]
    }
   ],
   "source": [
    "# apply the formula to get the mean and std for X_2\n",
    "mean22 = 2*mean + 5\n",
    "var22 = 2**2 * var2\n",
    "std22 = np.sqrt(var22)\n",
    "print(mean22, std22)"
   ]
  },
  {
   "cell_type": "markdown",
   "id": "determined-radius",
   "metadata": {},
   "source": [
    "- The difference is caused by the computation from samples.\n",
    "- By increasing the number of samples, the difference do decrease. \n",
    "- With infinitely many samples, no difference will occur."
   ]
  },
  {
   "cell_type": "code",
   "execution_count": 23,
   "id": "otherwise-behavior",
   "metadata": {},
   "outputs": [
    {
     "data": {
      "image/png": "[encoded data removed]",
      "text/plain": [
       "<Figure size 432x288 with 1 Axes>"
      ]
     },
     "metadata": {},
     "output_type": "display_data"
    }
   ],
   "source": [
    "plt.hist(rs, bins=50);\n",
    "plt.hist(rs2, alpha=.5, bins=50);"
   ]
  },
  {
   "cell_type": "markdown",
   "id": "biological-danger",
   "metadata": {},
   "source": [
    "## Sum of Random Variables\n",
    "Let's think about a new random variable $Y$:\n",
    "\\begin{align}\n",
    "    Y & = X_1 + X_2 \n",
    "\\end{align}\n",
    "where $X_i$s are independent random variables.\n",
    "\n",
    "Its expections are:\n",
    "\\begin{align}\n",
    "    \\mathbb{E}[Y] & = \\mathbb{E}[X_1] + \\mathbb{E}[X_2] \\quad \\mbox{so},\\quad \\mu_Y = \\mu_{X_1} + \\mu_{X_2}\\\\\n",
    "    \\mathbb{V}[Y] & = \\mathbb{E}[(Y-\\mu_Y)^2] \\quad \\mbox(show)\\\\\n",
    "                  & = \\mathbb{V}[X_1] + \\mathbb{V}[X_2] \\\\\n",
    "    Std(Y) &= \\sqrt{Std(X_1)^2 + Std(X_2)^2 }\n",
    "\\end{align}"
   ]
  },
  {
   "cell_type": "code",
   "execution_count": 24,
   "id": "fluid-welding",
   "metadata": {},
   "outputs": [],
   "source": [
    "n_samples = 1000000"
   ]
  },
  {
   "cell_type": "code",
   "execution_count": 25,
   "id": "partial-orlando",
   "metadata": {},
   "outputs": [],
   "source": [
    "X1 = jax.random.normal(key, shape=(n_samples,)) * 2 + 3\n",
    "X2 = jax.random.normal(key2, shape=(n_samples,)) * 2 + 7"
   ]
  },
  {
   "cell_type": "code",
   "execution_count": 26,
   "id": "tired-blend",
   "metadata": {},
   "outputs": [],
   "source": [
    "Y = X1 + X2"
   ]
  },
  {
   "cell_type": "code",
   "execution_count": 27,
   "id": "north-majority",
   "metadata": {},
   "outputs": [
    {
     "data": {
      "text/plain": [
       "(DeviceArray(3.0006726, dtype=float32),\n",
       " DeviceArray(7.00012, dtype=float32),\n",
       " DeviceArray(10.000792, dtype=float32))"
      ]
     },
     "execution_count": 27,
     "metadata": {},
     "output_type": "execute_result"
    }
   ],
   "source": [
    "X1.mean(), X2.mean(), Y.mean()"
   ]
  },
  {
   "cell_type": "code",
   "execution_count": 28,
   "id": "junior-internship",
   "metadata": {},
   "outputs": [
    {
     "data": {
      "text/plain": [
       "(DeviceArray(2.001163, dtype=float32),\n",
       " DeviceArray(1.9993248, dtype=float32),\n",
       " DeviceArray(2.8304346, dtype=float32),\n",
       " DeviceArray(2.8287723, dtype=float32))"
      ]
     },
     "execution_count": 28,
     "metadata": {},
     "output_type": "execute_result"
    }
   ],
   "source": [
    "X1.std(), X2.std(), Y.std(), jnp.sqrt(X1.std()**2 + X2.std()**2)"
   ]
  },
  {
   "cell_type": "code",
   "execution_count": 29,
   "id": "adjacent-yorkshire",
   "metadata": {},
   "outputs": [
    {
     "data": {
      "image/png": "[encoded data removed]",
      "text/plain": [
       "<Figure size 432x288 with 1 Axes>"
      ]
     },
     "metadata": {},
     "output_type": "display_data"
    }
   ],
   "source": [
    "bins=50\n",
    "plt.hist(X1, bins=bins, alpha=.5, label='X1');\n",
    "plt.hist(X2, alpha=.7, bins=bins, label='X2');\n",
    "plt.hist(Y, alpha=.5, bins=bins, label='Y');\n",
    "plt.legend();"
   ]
  },
  {
   "cell_type": "markdown",
   "id": "fabulous-starter",
   "metadata": {},
   "source": [
    "Do the same with two uniform distributions."
   ]
  },
  {
   "cell_type": "markdown",
   "id": "premier-mercury",
   "metadata": {},
   "source": [
    "## Difference of Random Variables\n",
    "Let's think about a new random variable $Y$:\n",
    "\\begin{align}\n",
    "    Y & = X_1 - X_2 \n",
    "\\end{align}\n",
    "where $X_i$s are independent random variables.\n",
    "\n",
    "Its expections are:\n",
    "\\begin{align}\n",
    "    \\mathbb{E}[Y] & = \\mathbb{E}[X_1] - \\mathbb{E}[X_2] \\quad \\mbox{so},\\quad \\mu_Y = \\mu_{X_1} - \\mu_{X_2}\\\\\n",
    "    \\mathbb{V}[Y] & = \\mathbb{E}[(Y-\\mu_Y)^2] \\quad \\mbox(show)\\\\\n",
    "                  & = \\mathbb{V}[X_1] + \\mathbb{V}[X_2] \\\\\n",
    "    Std(Y) &= \\sqrt{Std(X_1)^2 + Std(X_2)^2 } \\quad\\quad\\mbox{the same!}\n",
    "\\end{align}"
   ]
  },
  {
   "cell_type": "code",
   "execution_count": 30,
   "id": "finite-beverage",
   "metadata": {},
   "outputs": [],
   "source": [
    "n_samples = 100000"
   ]
  },
  {
   "cell_type": "code",
   "execution_count": 31,
   "id": "minor-finger",
   "metadata": {},
   "outputs": [],
   "source": [
    "X1 = jax.random.normal(key , shape=(n_samples,)) * 2 + 5\n",
    "X2 = jax.random.normal(key2, shape=(n_samples,)) * 2 + 15"
   ]
  },
  {
   "cell_type": "code",
   "execution_count": 32,
   "id": "double-intro",
   "metadata": {},
   "outputs": [],
   "source": [
    "Y = X2 - X1"
   ]
  },
  {
   "cell_type": "code",
   "execution_count": 33,
   "id": "apparent-attack",
   "metadata": {},
   "outputs": [
    {
     "data": {
      "text/plain": [
       "(DeviceArray(5.0102243, dtype=float32),\n",
       " DeviceArray(14.998878, dtype=float32),\n",
       " DeviceArray(9.988653, dtype=float32))"
      ]
     },
     "execution_count": 33,
     "metadata": {},
     "output_type": "execute_result"
    }
   ],
   "source": [
    "X1.mean(), X2.mean(), Y.mean()"
   ]
  },
  {
   "cell_type": "code",
   "execution_count": 34,
   "id": "rental-sewing",
   "metadata": {},
   "outputs": [
    {
     "data": {
      "text/plain": [
       "(DeviceArray(1.998879, dtype=float32),\n",
       " DeviceArray(1.9983485, dtype=float32),\n",
       " DeviceArray(2.8233986, dtype=float32),\n",
       " DeviceArray(2.8264666, dtype=float32))"
      ]
     },
     "execution_count": 34,
     "metadata": {},
     "output_type": "execute_result"
    }
   ],
   "source": [
    "X1.std(), X2.std(), Y.std(), jnp.sqrt(X1.std()**2 + X2.std()**2)"
   ]
  },
  {
   "cell_type": "code",
   "execution_count": 35,
   "id": "physical-business",
   "metadata": {},
   "outputs": [
    {
     "data": {
      "image/png": "[encoded data removed]",
      "text/plain": [
       "<Figure size 432x288 with 1 Axes>"
      ]
     },
     "metadata": {},
     "output_type": "display_data"
    }
   ],
   "source": [
    "bins=50\n",
    "plt.hist(X1, bins=bins, alpha=.5, label='X1');\n",
    "plt.hist(X2, alpha=.7, bins=bins, label='X2');\n",
    "plt.hist(Y, alpha=.5, bins=bins, label='Y');\n",
    "plt.vlines(x=[5, 10, 15], ymin=0, ymax=7500)\n",
    "plt.legend();"
   ]
  },
  {
   "cell_type": "markdown",
   "id": "outstanding-squad",
   "metadata": {},
   "source": [
    "Let's try it with two **uniform distributions**.\n",
    "\n",
    "```scipy.stats.uniform``:\n",
    "In the standard form, the distribution is uniform on `[0, 1]`. Using the parameters `loc` and `scale`, one obtains the uniform distribution on `[loc, loc + scale]`."
   ]
  },
  {
   "cell_type": "code",
   "execution_count": 36,
   "id": "entertaining-model",
   "metadata": {},
   "outputs": [],
   "source": [
    "X1 = jax.random.uniform(key , shape=(n_samples,)) * 2 + 0\n",
    "X2 = jax.random.uniform(key2, shape=(n_samples,)) * 2 + 3"
   ]
  },
  {
   "cell_type": "code",
   "execution_count": 37,
   "id": "variable-greeting",
   "metadata": {},
   "outputs": [],
   "source": [
    "Y = X1 - X2"
   ]
  },
  {
   "cell_type": "code",
   "execution_count": 38,
   "id": "expired-sheriff",
   "metadata": {},
   "outputs": [
    {
     "data": {
      "text/plain": [
       "(DeviceArray(1.0031061, dtype=float32),\n",
       " DeviceArray(3.9994462, dtype=float32),\n",
       " DeviceArray(-2.9963396, dtype=float32))"
      ]
     },
     "execution_count": 38,
     "metadata": {},
     "output_type": "execute_result"
    }
   ],
   "source": [
    "X1.mean(), X2.mean(), Y.mean()"
   ]
  },
  {
   "cell_type": "code",
   "execution_count": 39,
   "id": "invalid-crisis",
   "metadata": {},
   "outputs": [
    {
     "data": {
      "text/plain": [
       "(DeviceArray(0.57671154, dtype=float32),\n",
       " DeviceArray(0.57736677, dtype=float32),\n",
       " DeviceArray(0.8153302, dtype=float32),\n",
       " 0.8160567)"
      ]
     },
     "execution_count": 39,
     "metadata": {},
     "output_type": "execute_result"
    }
   ],
   "source": [
    "X1.std(), X2.std(), Y.std(), np.sqrt(X1.std()**2 + X2.std()**2)"
   ]
  },
  {
   "cell_type": "code",
   "execution_count": 40,
   "id": "hourly-spokesman",
   "metadata": {},
   "outputs": [
    {
     "data": {
      "image/png": "[encoded data removed]",
      "text/plain": [
       "<Figure size 432x288 with 1 Axes>"
      ]
     },
     "metadata": {},
     "output_type": "display_data"
    }
   ],
   "source": [
    "bins=50\n",
    "plt.hist(X1, bins=bins, alpha=.5, label='X1');\n",
    "plt.hist(X2, alpha=.7, bins=bins, label='X2');\n",
    "plt.hist(Y, alpha=.5, bins=bins, label='Y');\n",
    "plt.legend();"
   ]
  },
  {
   "cell_type": "markdown",
   "id": "thorough-stress",
   "metadata": {},
   "source": [
    "Implications:\n",
    "- The difference is normal if $X_1$ and $X_2$ is normals."
   ]
  },
  {
   "cell_type": "markdown",
   "id": "verified-washington",
   "metadata": {},
   "source": [
    "## Mean of Random Variables\n",
    "Let's think about a new random variable $Y$:\n",
    "\\begin{align}\n",
    "    Y & = \\frac{1}{n}\\sum_i X_i\n",
    "\\end{align}\n",
    "where $X_i$s are independent identically distributed (iid) random variables with mean $\\mu$ and std $\\sigma$.\n",
    "\n",
    "Its expections are:\n",
    "\\begin{align}\n",
    "    \\mathbb{E}[Y] & = \\frac{1}{n}\\sum_i \\mathbb{E}[X_i] = \\mu\\\\\n",
    "    \\mathbb{V}[Y] & = \\mathbb{V}\\bigg[\\frac{1}{n}\\sum_i X_i\\bigg] \\\\\n",
    "                  & = \\frac{1}{n^2}\\mathbb{V}\\bigg[\\sum_i X_i\\bigg] \\\\\n",
    "                  & = \\frac{1}{n^2}\\sum_i\\mathbb{V}\\big[X_i\\big] \\quad\\mbox{independence, uncorrelated}\\\\\n",
    "                  & = \\frac{1}{n^2}\\sum_i \\sigma^2 \\\\\n",
    "                  & = \\frac{1}{n} \\sigma^2 \\\\\n",
    "    Std(Y) &= \\frac{\\sigma}{\\sqrt{n}}   \\quad \\mbox{called 'standard error'}\n",
    "\\end{align}\n",
    "- Implication:\n",
    "    - $Y$ is a mean estimator. It is a function that tries to estimate the mean of the distribution of r.v. $X$.\n",
    "    - measure as many $X$'s as possible, and compute its mean $Y$.\n",
    "    - the expectation of $Y$ approaches to the true mean $\\mu$ in the limit.\n",
    "    - the standard deviation of $Y$ approaches to 0.\n",
    "    - the std of $Y$ is actually the error of the mean estimator $Y$. So it is called the **standard error** (SE)."
   ]
  },
  {
   "cell_type": "code",
   "execution_count": 41,
   "id": "standard-following",
   "metadata": {},
   "outputs": [],
   "source": [
    "n_samples = 10000\n",
    "std = 1"
   ]
  },
  {
   "cell_type": "raw",
   "id": "centered-warrior",
   "metadata": {},
   "source": [
    "n = 10\n",
    "X_s = np.array([stats.norm.rvs(loc=0, scale=std, size=n) for _ in range(n_samples)])\n",
    "X_s.shape"
   ]
  },
  {
   "cell_type": "code",
   "execution_count": 42,
   "id": "cardiac-motel",
   "metadata": {},
   "outputs": [
    {
     "data": {
      "text/plain": [
       "(10000, 10)"
      ]
     },
     "execution_count": 42,
     "metadata": {},
     "output_type": "execute_result"
    }
   ],
   "source": [
    "# gengerate 10000 samples, each of which is of size n\n",
    "n = 10\n",
    "X_s = jax.random.normal(key, shape=(n_samples, n)) * std\n",
    "X_s.shape"
   ]
  },
  {
   "cell_type": "code",
   "execution_count": 43,
   "id": "identical-greece",
   "metadata": {},
   "outputs": [
    {
     "data": {
      "text/plain": [
       "(10000,)"
      ]
     },
     "execution_count": 43,
     "metadata": {},
     "output_type": "execute_result"
    }
   ],
   "source": [
    "# mean of n samples\n",
    "Y_samples = X_s.sum(axis=1) / n   # \n",
    "Y_samples.shape"
   ]
  },
  {
   "cell_type": "code",
   "execution_count": 44,
   "id": "growing-manor",
   "metadata": {},
   "outputs": [
    {
     "data": {
      "text/plain": [
       "(DeviceArray(0.00511253, dtype=float32),\n",
       " DeviceArray(0.31622776, dtype=float32),\n",
       " DeviceArray(0.31535438, dtype=float32))"
      ]
     },
     "execution_count": 44,
     "metadata": {},
     "output_type": "execute_result"
    }
   ],
   "source": [
    "Y_samples.mean(),  std/jnp.sqrt(n), Y_samples.std(), "
   ]
  },
  {
   "cell_type": "code",
   "execution_count": 45,
   "id": "chief-mumbai",
   "metadata": {},
   "outputs": [
    {
     "data": {
      "image/png": "[encoded data removed]",
      "text/plain": [
       "<Figure size 432x288 with 1 Axes>"
      ]
     },
     "metadata": {},
     "output_type": "display_data"
    }
   ],
   "source": [
    "plt.vlines(x=Y_samples.mean(), ymin=0, ymax=800, linewidth=3)\n",
    "plt.hlines(y=10, xmin=Y_samples.mean() - Y_samples.std(), xmax=Y_samples.mean()+Y_samples.std())\n",
    "plt.title(f'E(Y)={Y_samples.mean():.2f}, std(Y)={Y_samples.std():.2f}')\n",
    "plt.hist(Y_samples, bins=40, alpha=.5, edgecolor='red');"
   ]
  },
  {
   "cell_type": "markdown",
   "id": "scientific-stations",
   "metadata": {},
   "source": [
    "If the number of samples gets larger, the standard error gets smaller."
   ]
  },
  {
   "cell_type": "code",
   "execution_count": 46,
   "id": "adequate-apartment",
   "metadata": {},
   "outputs": [
    {
     "data": {
      "text/plain": [
       "(10000, 100)"
      ]
     },
     "execution_count": 46,
     "metadata": {},
     "output_type": "execute_result"
    }
   ],
   "source": [
    "n = 100\n",
    "X_s = jax.random.normal(key, shape=(n_samples, n)) * std\n",
    "X_s.shape"
   ]
  },
  {
   "cell_type": "code",
   "execution_count": 47,
   "id": "extensive-lesbian",
   "metadata": {},
   "outputs": [
    {
     "data": {
      "text/plain": [
       "(10000,)"
      ]
     },
     "execution_count": 47,
     "metadata": {},
     "output_type": "execute_result"
    }
   ],
   "source": [
    "Y_samples = X_s.sum(axis=1) / n   # \n",
    "Y_samples.shape"
   ]
  },
  {
   "cell_type": "code",
   "execution_count": 48,
   "id": "vertical-temperature",
   "metadata": {},
   "outputs": [
    {
     "data": {
      "text/plain": [
       "(DeviceArray(0.00033591, dtype=float32),\n",
       " DeviceArray(0.1, dtype=float32),\n",
       " DeviceArray(0.09996284, dtype=float32))"
      ]
     },
     "execution_count": 48,
     "metadata": {},
     "output_type": "execute_result"
    }
   ],
   "source": [
    "Y_samples.mean(),  std/jnp.sqrt(n), Y_samples.std(), "
   ]
  },
  {
   "cell_type": "code",
   "execution_count": 49,
   "id": "bronze-cornwall",
   "metadata": {},
   "outputs": [
    {
     "data": {
      "image/png": "[encoded data removed]",
      "text/plain": [
       "<Figure size 432x288 with 1 Axes>"
      ]
     },
     "metadata": {},
     "output_type": "display_data"
    }
   ],
   "source": [
    "plt.vlines(x=Y_samples.mean(), ymin=0, ymax=800, linewidth=3)\n",
    "plt.hlines(y=10, xmin=Y_samples.mean() - Y_samples.std(), xmax=Y_samples.mean()+Y_samples.std())\n",
    "plt.title(f'E(Y)={Y_samples.mean():.2f}, std(Y)={Y_samples.std():.2f}')\n",
    "plt.hist(Y_samples, bins=40, alpha=.5, edgecolor='red');"
   ]
  },
  {
   "cell_type": "markdown",
   "id": "atlantic-cocktail",
   "metadata": {},
   "source": [
    "### Uniform distribution [0,1]"
   ]
  },
  {
   "cell_type": "code",
   "execution_count": 50,
   "id": "retired-cowboy",
   "metadata": {},
   "outputs": [
    {
     "name": "stdout",
     "output_type": "stream",
     "text": [
      "std of U[0,1] =  0.28867513\n"
     ]
    }
   ],
   "source": [
    "std_theory = jnp.sqrt(1/12.)\n",
    "print('std of U[0,1] = ', std_theory)"
   ]
  },
  {
   "cell_type": "code",
   "execution_count": 51,
   "id": "specific-struggle",
   "metadata": {},
   "outputs": [
    {
     "name": "stdout",
     "output_type": "stream",
     "text": [
      "0.5000573 0.028791878 0.028867513\n"
     ]
    }
   ],
   "source": [
    "# Sampling from Uniform distriubtion.\n",
    "n = 100\n",
    "X_s = jax.random.uniform(key, shape=(n_samples, n) )  ## standard uniform\n",
    "Y_samples = X_s.sum(axis=1) / n\n",
    "print(Y_samples.mean(), Y_samples.std(), std_theory/jnp.sqrt(n))"
   ]
  },
  {
   "cell_type": "code",
   "execution_count": 52,
   "id": "eastern-french",
   "metadata": {},
   "outputs": [
    {
     "data": {
      "image/png": "[encoded data removed]",
      "text/plain": [
       "<Figure size 432x288 with 1 Axes>"
      ]
     },
     "metadata": {},
     "output_type": "display_data"
    }
   ],
   "source": [
    "plt.vlines(x=Y_samples.mean(), ymin=0, ymax=800, linewidth=3)\n",
    "plt.hlines(y=10, xmin=Y_samples.mean() - Y_samples.std(), xmax=Y_samples.mean()+Y_samples.std())\n",
    "plt.title(f'E(Y)={Y_samples.mean():.2f}, std(Y)={Y_samples.std():.2f}')\n",
    "plt.hist(Y_samples, bins=40, alpha=.5, edgecolor='red');"
   ]
  },
  {
   "cell_type": "markdown",
   "id": "persistent-karaoke",
   "metadata": {},
   "source": [
    "### A non-symmetric distribution"
   ]
  },
  {
   "cell_type": "code",
   "execution_count": 53,
   "id": "registered-terminology",
   "metadata": {},
   "outputs": [
    {
     "data": {
      "image/png": "[encoded data removed]",
      "text/plain": [
       "<Figure size 432x288 with 1 Axes>"
      ]
     },
     "metadata": {},
     "output_type": "display_data"
    }
   ],
   "source": [
    "# sampling from non-symmetric distribution\n",
    "# dist = stats.beta(1,6)\n",
    "#\n",
    "x = jnp.linspace(0,1,50)\n",
    "a, b = 1, 6\n",
    "pdf_ns = jax.scipy.stats.beta.pdf(x, a=a, b=b)\n",
    "mean_ns = a / (a + b)\n",
    "std_ns = jnp.sqrt( a*b / ( (a+b)**2 * (a + b + 1) ) )\n",
    "plt.plot(x, pdf_ns);\n",
    "plt.title(f'beta(1, 6); mu={mean_ns:.2f} std={std_ns:.2f}');"
   ]
  },
  {
   "cell_type": "code",
   "execution_count": 54,
   "id": "quick-arlington",
   "metadata": {},
   "outputs": [
    {
     "name": "stdout",
     "output_type": "stream",
     "text": [
      "0.14295611 0.01242958 0.012371792\n"
     ]
    }
   ],
   "source": [
    "# Sampling\n",
    "n = 100\n",
    "X_s = jax.random.beta(key, a=a, b=b, shape=(n_samples, n))\n",
    "Y_samples = X_s.sum(axis=1) / n\n",
    "print(Y_samples.mean(), Y_samples.std(), std_ns/jnp.sqrt(n))"
   ]
  },
  {
   "cell_type": "code",
   "execution_count": 55,
   "id": "drawn-refund",
   "metadata": {},
   "outputs": [
    {
     "data": {
      "image/png": "[encoded data removed]",
      "text/plain": [
       "<Figure size 432x288 with 1 Axes>"
      ]
     },
     "metadata": {},
     "output_type": "display_data"
    }
   ],
   "source": [
    "plt.vlines(x=Y_samples.mean(), ymin=0, ymax=800, linewidth=3)\n",
    "plt.hlines(y=10, xmin=Y_samples.mean() - Y_samples.std(), xmax=Y_samples.mean()+Y_samples.std())\n",
    "plt.title(f'E(Y)={Y_samples.mean():.2f}, std(Y)={Y_samples.std():.5f}')\n",
    "plt.hist(Y_samples, bins=40, alpha=.5, edgecolor='red');"
   ]
  },
  {
   "cell_type": "markdown",
   "id": "pretty-namibia",
   "metadata": {},
   "source": [
    "---\n",
    "Now, let's think about the situation when we have only one set of observed samples \n",
    "\n",
    "$$\n",
    "S = \\{x_i | x_i \\sim p(x) , \\quad i = 1, ..., n\\}\n",
    "$$\n",
    "\n",
    "where $p(x)$ is a probabilty distribution. This is a practical case.\n",
    "\n",
    "Then, \n",
    "- The sample mean is $Y = \\sum x_i / n$. \n",
    "    This is an estimate of the mean of $X$ or $\\mathbb{E}(X)$.\n",
    "- The sample standard deviation of $S$ is $s = std(S)$. \n",
    "    - This is an estimate of the standard deviation $\\sigma$ of $X$.\n",
    "- The sample standard error $se = s\\big/\\sqrt{n}$ is an estimate of the standard error $\\sigma\\big/\\sqrt{n}$."
   ]
  },
  {
   "cell_type": "code",
   "execution_count": 56,
   "id": "outstanding-display",
   "metadata": {},
   "outputs": [
    {
     "name": "stdout",
     "output_type": "stream",
     "text": [
      "normal(0, 1): mu=0, std=1, se=0.1\n",
      "Y: 0.08212993294000626, std: 0.9407106041908264, se: 0.09407106041908264\n"
     ]
    }
   ],
   "source": [
    "# Normal distribution\n",
    "n = 100\n",
    "mean, std = 0, 1\n",
    "print(f'normal({mean}, {std}): mu={mean}, std={std}, se={std/10}')\n",
    "S = jax.random.normal(key, shape=(n,))\n",
    "Y = S.mean()\n",
    "std = S.std()\n",
    "se = S.std() / np.sqrt(n)\n",
    "print(f'Y: {Y}, std: {std}, se: {se}')"
   ]
  },
  {
   "cell_type": "code",
   "execution_count": 57,
   "id": "mounted-paragraph",
   "metadata": {},
   "outputs": [
    {
     "name": "stdout",
     "output_type": "stream",
     "text": [
      "uniform: mu=0.5, std=0.28867513459481287, se=0.028867513459481287\n",
      "Y: 0.5246013402938843, std: 0.27877211570739746, se: 0.027877211570739746\n"
     ]
    }
   ],
   "source": [
    "# Uniform distribution\n",
    "mean, std = 1./2, np.sqrt(1./12)\n",
    "print(f'uniform: mu={mean}, std={std}, se={std/10}')\n",
    "n = 100\n",
    "S = jax.random.uniform(key, shape=(n,))\n",
    "Y = S.mean()\n",
    "std = S.std()\n",
    "se = S.std() / np.sqrt(n)\n",
    "print(f'Y: {Y}, std: {std}, se: {se}')"
   ]
  },
  {
   "cell_type": "markdown",
   "id": "normal-decision",
   "metadata": {},
   "source": [
    "jupyter nbconvert rv_n_distribution.ipynb --to webpdf --HTMLExporter.theme=dark --allow-chromium-download --execute\n",
    "\n",
    "https://blog.jupyter.org/the-templating-system-of-nbconvert-6-47ea781eacd2"
   ]
  },
  {
   "cell_type": "code",
   "execution_count": 59,
   "id": "scientific-married",
   "metadata": {},
   "outputs": [
    {
     "name": "stdout",
     "output_type": "stream",
     "text": [
      "[NbConvertApp] Converting notebook rv_n_distribution_numpyro_jax.ipynb to webpdf\n",
      "[NbConvertApp] Building PDF\n",
      "[NbConvertApp] PDF successfully created\n",
      "[NbConvertApp] Writing 327751 bytes to rv_n_distribution_numpyro_jax.pdf\n"
     ]
    }
   ],
   "source": [
    "!jupyter nbconvert rv_n_distribution_numpyro_jax.ipynb --to webpdf --HTMLExporter.theme=dark --allow-chromium-download"
   ]
  },
  {
   "cell_type": "code",
   "execution_count": null,
   "id": "velvet-injury",
   "metadata": {},
   "outputs": [],
   "source": []
  }
 ],
 "metadata": {
  "kernelspec": {
   "display_name": "Python 3",
   "language": "python",
   "name": "python3"
  },
  "language_info": {
   "codemirror_mode": {
    "name": "ipython",
    "version": 3
   },
   "file_extension": ".py",
   "mimetype": "text/x-python",
   "name": "python",
   "nbconvert_exporter": "python",
   "pygments_lexer": "ipython3",
   "version": "3.8.0"
  }
 },
 "nbformat": 4,
 "nbformat_minor": 5
}
