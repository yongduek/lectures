{
 "cells": [
  {
   "cell_type": "markdown",
   "metadata": {},
   "source": [
    "The content is from the book `Information Theory, Inference and Learning Algorithms` by David MacKay, Cambridge Press, 2003."
   ]
  },
  {
   "cell_type": "markdown",
   "metadata": {},
   "source": [
    "#### With Uniform Prior"
   ]
  },
  {
   "cell_type": "markdown",
   "metadata": {},
   "source": [
    "- We compare two models:\n",
    "    1. $H_0$: the coin is fair\n",
    "    1. $H_1$: the coin is biased, with the prior on its bias set to the uniform distribution $P(p|H_1)=1$. (It is biased, but we don't know $p$. So we simply assume that it is uniform.)\n",
    "\n",
    "- Since any coin is surely biased to some extent, $H_0$ means that the coin is fair to within one part in a thousdad, i.e., $p \\in 0.5 \\pm 0.001$."
   ]
  },
  {
   "cell_type": "markdown",
   "metadata": {},
   "source": [
    "The Likelihood ratio is\n",
    "\n",
    "   $\\frac{P(D|H_1)}{P(D|H_0)} = 1 \\bigg/ \\bigg( \\binom{250}{140} 0.5\\times0.5\\cdots0.5 \\bigg) =  \\frac{140! \\; 110!}{250!} \\big/ \\frac{1}{2^{250}} = 0.48$\n",
    "   \n",
    "- $P(D|H_1)$ is the probability for collecting (140, 110) event outof 250 trials. It's probability for every event is 1.\n",
    "- $P(D|H_0)$ is the probability for 250 independent events of 0.5 probability.\n",
    "  "
   ]
  },
  {
   "cell_type": "markdown",
   "metadata": {},
   "source": [
    "* The data give scarcely any evidence either way; in fact they give weak evidence (two to one) in favor of $H_0$!"
   ]
  },
  {
   "cell_type": "markdown",
   "metadata": {},
   "source": [
    "### With Beta Distribution as Prior"
   ]
  },
  {
   "cell_type": "code",
   "execution_count": 6,
   "metadata": {},
   "outputs": [],
   "source": [
    "from scipy.stats import beta\n",
    "from matplotlib import pyplot as plt\n",
    "import numpy as np"
   ]
  },
  {
   "cell_type": "code",
   "execution_count": 27,
   "metadata": {},
   "outputs": [
    {
     "data": {
      "text/plain": [
       "([<matplotlib.lines.Line2D at 0x1a1ffba160>],\n",
       " [<matplotlib.lines.Line2D at 0x1a1ffba668>])"
      ]
     },
     "execution_count": 27,
     "metadata": {},
     "output_type": "execute_result"
    },
    {
     "data": {
      "image/png": "[encoded data removed]",
      "text/plain": [
       "<Figure size 432x288 with 1 Axes>"
      ]
     },
     "metadata": {},
     "output_type": "display_data"
    }
   ],
   "source": [
    "pdf_1 = [beta.pdf(i/100, 1, 1) for i in range(101)]\n",
    "pdf_50 = [beta.pdf(i/100, 50, 50) for i in range(101)]\n",
    "plt.xlabel('x * 100')\n",
    "plt.plot (pdf_1), plt.plot(pdf_50)"
   ]
  },
  {
   "cell_type": "code",
   "execution_count": 34,
   "metadata": {},
   "outputs": [
    {
     "data": {
      "text/plain": [
       "[<matplotlib.lines.Line2D at 0x1a201d23c8>,\n",
       " <matplotlib.lines.Line2D at 0x1a201d2588>]"
      ]
     },
     "execution_count": 34,
     "metadata": {},
     "output_type": "execute_result"
    },
    {
     "data": {
      "image/png": "[encoded data removed]",
      "text/plain": [
       "<Figure size 432x288 with 1 Axes>"
      ]
     },
     "metadata": {},
     "output_type": "display_data"
    }
   ],
   "source": [
    "x = np.linspace (0, 1, 100)\n",
    "pdf_0 = beta.pdf(x, 1, 1)\n",
    "pdf_50 = beta.pdf(x, 50, 50)\n",
    "\n",
    "plt.ylabel ('beta distribution')\n",
    "plt.xlabel ('x')\n",
    "plt.plot (x, pdf_0, x, beta.pdf(x,50,50))"
   ]
  },
  {
   "cell_type": "code",
   "execution_count": 38,
   "metadata": {},
   "outputs": [
    {
     "name": "stdout",
     "output_type": "stream",
     "text": [
      "@ mean (peak) of Beta(50,50) =  0.5\n"
     ]
    }
   ],
   "source": [
    "mean, var, skew, kurt = beta.stats(50, 50, moments='mvsk')\n",
    "print ('@ mean (peak) of Beta(50,50) = ', mean)"
   ]
  },
  {
   "cell_type": "markdown",
   "metadata": {},
   "source": [
    "#### The prior is now more restricted to the center point 0.5.\n",
    "\n",
    "See the PDF illustrated above. When $\\alpha=\\beta=50$, the peak is at $x=0.5$ and very much narrow banded."
   ]
  },
  {
   "cell_type": "markdown",
   "metadata": {},
   "source": [
    "$P(D|H_0) = 1/Z(\\alpha) \\times p^{\\alpha-1} (1-p)^{\\alpha-1} \\times \\binom{250}{140} \\times 0.5^{140} 0.5^{110}$"
   ]
  },
  {
   "cell_type": "markdown",
   "metadata": {},
   "source": [
    "   $ = 1/Z' \\times p^{\\alpha + 140 - 1} \\times (1-p)^{\\alpha + 110 + 1} $"
   ]
  },
  {
   "cell_type": "markdown",
   "metadata": {},
   "source": [
    "$Z' = \\Gamma (\\alpha + 140) \\Gamma (\\alpha + 110) \\big/ \\Gamma (2\\alpha + 250)$"
   ]
  },
  {
   "cell_type": "markdown",
   "metadata": {},
   "source": [
    "P(D | H_1) = "
   ]
  }
 ],
 "metadata": {
  "kernelspec": {
   "display_name": "Python 3",
   "language": "python",
   "name": "python3"
  },
  "language_info": {
   "codemirror_mode": {
    "name": "ipython",
    "version": 3
   },
   "file_extension": ".py",
   "mimetype": "text/x-python",
   "name": "python",
   "nbconvert_exporter": "python",
   "pygments_lexer": "ipython3",
   "version": "3.6.4"
  }
 },
 "nbformat": 4,
 "nbformat_minor": 2
}
