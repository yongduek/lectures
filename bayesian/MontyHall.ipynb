{
 "cells": [
  {
   "cell_type": "markdown",
   "metadata": {},
   "source": [
    "# Bayesian Inference \n",
    "# $P(H | O) = \\frac{P(O|H)\\cdot P(H)}{P(E)} = \\frac{\\mbox{Likelihood} \\cdot\\mbox{Prior}}{Evidence}$"
   ]
  },
  {
   "cell_type": "markdown",
   "metadata": {},
   "source": []
  },
  {
   "cell_type": "markdown",
   "metadata": {},
   "source": [
    "# Monty Hall Problem\n",
    "\n",
    "0. There are three options {A, B, C}, one of which has a car and the others small things.\n",
    "1. The applicant, you, choose one to get the car. Let's say it is A.\n",
    "1. Monty shows one of B and C whichever does not have the car. Let's say it is B.\n",
    "1. Now, it is your turn to choose A or C."
   ]
  },
  {
   "cell_type": "markdown",
   "metadata": {},
   "source": [
    "- Observation 1: Monty chooses B (or C) without distiction and there is no car there."
   ]
  },
  {
   "cell_type": "markdown",
   "metadata": {},
   "source": [
    "- Observation 2: Monty chooses B whenenver he can, and only chooses C if he has to (because the car is in C). This means that Monty has preference for B, which is a premise or precondition."
   ]
  },
  {
   "cell_type": "markdown",
   "metadata": {},
   "source": [
    "- Question: What is the best choise of yours provided you watched the Observation 1?"
   ]
  },
  {
   "cell_type": "markdown",
   "metadata": {},
   "source": [
    "1. The prior probability that the car may be in A is 1/3, and the same for other options B and C."
   ]
  },
  {
   "cell_type": "code",
   "execution_count": 1,
   "metadata": {},
   "outputs": [
    {
     "name": "stdout",
     "output_type": "stream",
     "text": [
      "Hypotheses =  ['A', 'B', 'C']\n",
      "{'A': 0.3333333333333333, 'B': 0.3333333333333333, 'C': 0.3333333333333333}\n"
     ]
    }
   ],
   "source": [
    "Hypotheses = ['A', 'B', 'C']\n",
    "Prior = {'A': 1/3, 'B': 1/3, 'C': 1/3 }\n",
    "\n",
    "print ('Hypotheses = ', Hypotheses)\n",
    "print (Prior)"
   ]
  },
  {
   "cell_type": "markdown",
   "metadata": {},
   "source": [
    "#### Likelyhood Reasoning"
   ]
  },
  {
   "cell_type": "markdown",
   "metadata": {},
   "source": [
    "- Let's assume that the car is in A, which you don't know. What is the likelyhood of the `Observation 1` under the hypothesis that the car is in A? That is, $P(O_1 | A)$ ?\n",
    "- It is 1/2, because Monty can choose B or C with equal probability.\n",
    "\n",
    "- Then what is $P(O_1 | B)$, the probability of the observation when actually the car is in B?\n",
    "- Zero, of course.\n",
    "\n",
    "- Finally, what is $P(O_1 | C)$, the probability of you seeing 'B' empty by Monty when the car is in C?\n",
    "- !, which means always because B is already occupied and Monty has no choice."
   ]
  },
  {
   "cell_type": "code",
   "execution_count": 2,
   "metadata": {},
   "outputs": [
    {
     "name": "stdout",
     "output_type": "stream",
     "text": [
      "{'A': 0.5, 'B': 0, 'C': 1}\n"
     ]
    }
   ],
   "source": [
    "Likely = {'A' : 1/2, 'B' : 0, 'C' : 1}\n",
    "print (Likely)"
   ]
  },
  {
   "cell_type": "code",
   "execution_count": 3,
   "metadata": {},
   "outputs": [
    {
     "name": "stdout",
     "output_type": "stream",
     "text": [
      "A: 0.33  0.50  Prior * Likely: 0.17\n",
      "B: 0.33  0.00  Prior * Likely: 0.00\n",
      "C: 0.33  1.00  Prior * Likely: 0.33\n"
     ]
    }
   ],
   "source": [
    "PL = {}\n",
    "for hypo in Hypotheses:\n",
    "    PL[hypo] = Prior[hypo] * Likely[hypo]\n",
    "    print ('{}: {:.2f}  {:.2f}  Prior * Likely: {:.2f}'.format(hypo, Prior[hypo], Likely[hypo], PL[hypo]))"
   ]
  },
  {
   "cell_type": "code",
   "execution_count": 4,
   "metadata": {},
   "outputs": [
    {
     "name": "stdout",
     "output_type": "stream",
     "text": [
      "Evidence =  0.5\n"
     ]
    }
   ],
   "source": [
    "Evidence = 0\n",
    "for hypo in PL:\n",
    "    Evidence += PL[hypo]\n",
    "print ('Evidence = ', Evidence)"
   ]
  },
  {
   "cell_type": "code",
   "execution_count": 5,
   "metadata": {},
   "outputs": [
    {
     "name": "stdout",
     "output_type": "stream",
     "text": [
      "Posterior =  {'A': 0.3333333333333333, 'B': 0.0, 'C': 0.6666666666666666}\n"
     ]
    }
   ],
   "source": [
    "Posterior = {}\n",
    "for hypo in Hypotheses:\n",
    "    Posterior[hypo] = PL[hypo] / Evidence\n",
    "#\n",
    "print ('Posterior = ', Posterior)"
   ]
  },
  {
   "cell_type": "markdown",
   "metadata": {},
   "source": [
    "So, the best choice according to this Bayesian Analysis is choosing C instead of you insisting on your first choice A."
   ]
  },
  {
   "cell_type": "markdown",
   "metadata": {},
   "source": [
    "Let's do a simulation."
   ]
  },
  {
   "cell_type": "markdown",
   "metadata": {},
   "source": [
    "### Different Premise shows different result.\n",
    "\n",
    "- Observation 2: Monty chooses B whenenver he can, and only chooses C if he has to (because the car is in C). This means that Monty has preference for B, which is a premise or precondition."
   ]
  },
  {
   "cell_type": "markdown",
   "metadata": {},
   "source": [
    "##### Let's calculate the likelihood for each case\n",
    "\n",
    "1. When the car is in A (hypothesis). Monty will choose B becase he likes it better than C. $ P(O_2 | A) = 1 $\n",
    "       \n",
    "1. When the car is hyphothesized to be in B, Monty cannot choose B. So this case can not happend.\n",
    "$P(O_2 | B) = 0$\n",
    "        \n",
    "1. When the car is in C, Monty will choose B without hesitation.\n",
    "$P(O_2 | C) = 1$"
   ]
  },
  {
   "cell_type": "code",
   "execution_count": 6,
   "metadata": {},
   "outputs": [],
   "source": [
    "Likely2 = {'A': 1, 'B': 0, 'C': 1}"
   ]
  },
  {
   "cell_type": "code",
   "execution_count": 7,
   "metadata": {},
   "outputs": [
    {
     "name": "stdout",
     "output_type": "stream",
     "text": [
      "{'A': 0.3333333333333333, 'B': 0.0, 'C': 0.3333333333333333}\n"
     ]
    }
   ],
   "source": [
    "PL2 = {}\n",
    "for h in Hypotheses:\n",
    "    PL2[h] = Likely2[h] * Prior[h]\n",
    "print (PL2)"
   ]
  },
  {
   "cell_type": "code",
   "execution_count": 8,
   "metadata": {},
   "outputs": [
    {
     "name": "stdout",
     "output_type": "stream",
     "text": [
      "Evidence =  0.6666666666666666\n"
     ]
    }
   ],
   "source": [
    "Evidence = 0\n",
    "for hypo in PL2:\n",
    "    Evidence += PL2[hypo]\n",
    "print ('Evidence = ', Evidence)"
   ]
  },
  {
   "cell_type": "code",
   "execution_count": 9,
   "metadata": {},
   "outputs": [
    {
     "name": "stdout",
     "output_type": "stream",
     "text": [
      "Posterior =  {'A': 0.5, 'B': 0.0, 'C': 0.5}\n"
     ]
    }
   ],
   "source": [
    "Posterior2 = {}\n",
    "for hypo in Hypotheses:\n",
    "    Posterior2[hypo] = PL2[hypo] / Evidence\n",
    "#\n",
    "print ('Posterior = ', Posterior2)"
   ]
  },
  {
   "cell_type": "markdown",
   "metadata": {},
   "source": [
    "Now what?\n",
    "\n",
    "The posterior says that you have to rely on your instinct because there is not scientific data that can help you get a car."
   ]
  },
  {
   "cell_type": "markdown",
   "metadata": {},
   "source": [
    "So, what is the difference between the two cases?\n",
    "\n",
    "The second assumed that Monty has a preference for B whenever possible. The first did not.\n",
    "\n",
    "You need to be careful when you collect data for scientific research. You should try to get data (observations) together with the premise (assumption or rule) that governs the the data acqusition process."
   ]
  },
  {
   "cell_type": "markdown",
   "metadata": {},
   "source": [
    "#### End."
   ]
  },
  {
   "cell_type": "code",
   "execution_count": null,
   "metadata": {},
   "outputs": [],
   "source": []
  }
 ],
 "metadata": {
  "kernelspec": {
   "display_name": "Python 3",
   "language": "python",
   "name": "python3"
  },
  "language_info": {
   "codemirror_mode": {
    "name": "ipython",
    "version": 3
   },
   "file_extension": ".py",
   "mimetype": "text/x-python",
   "name": "python",
   "nbconvert_exporter": "python",
   "pygments_lexer": "ipython3",
   "version": "3.6.5"
  }
 },
 "nbformat": 4,
 "nbformat_minor": 2
}
