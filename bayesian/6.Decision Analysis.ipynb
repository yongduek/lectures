{
 "cells": [
  {
   "cell_type": "markdown",
   "metadata": {},
   "source": [
    "# This is about Chapter 6, Think Bayes by Allen Downey"
   ]
  },
  {
   "cell_type": "markdown",
   "metadata": {},
   "source": [
    "- In Bayesian estimation, the result comes in the form of a posterior distribution\n",
    "- Bayesian methods are most useful when you can carry the posterior distribution into the next step of the analysis to perform some kind of decision analysis.\n",
    "- Summarizing the posterior distribution by computing the mean or the maximum likelihood estimate is not the goal of Bayesian estimation. If that is all you need, you probably don't need Bayesian methods in the first place.\n",
    "\n",
    "### Procedure of Bayesian Analysis\n",
    "\n",
    "1. Think about hypotheses and build up Prior distribution\n",
    "1. Then compute Likelihood for each hypothesis\n",
    "1. Try to compute posterior distribution\n",
    "1. Then, try to make a decision using the posterior distribution."
   ]
  },
  {
   "cell_type": "markdown",
   "metadata": {},
   "source": [
    "### 1. Let's make prior distribution"
   ]
  },
  {
   "cell_type": "code",
   "execution_count": 2,
   "metadata": {},
   "outputs": [],
   "source": [
    "import csv\n",
    "import numpy as np\n",
    "import pandas as pd\n",
    "from matplotlib import pyplot as plt"
   ]
  },
  {
   "cell_type": "code",
   "execution_count": 7,
   "metadata": {},
   "outputs": [],
   "source": [
    "datafile1 = 'showcases.2011.csv'\n",
    "datafile2 = 'showcases.2012.csv'\n",
    "\n",
    "showcase1 = []\n",
    "showcase2 = []\n",
    "with open(datafile1, 'r') as file:\n",
    "    reader = csv.reader (file)\n",
    "    for line in reader:\n",
    "#        print (line)\n",
    "        if line[0] == 'Showcase 1':\n",
    "            showcase1 += line[1:]\n",
    "        #\n",
    "        if line[0] == 'Showcase 2':\n",
    "            showcase2 += line[1:]\n",
    "    #\n",
    "#\n",
    "with open(datafile2, 'r') as file:\n",
    "    reader = csv.reader (file)\n",
    "    for line in reader:\n",
    "#        print (line)\n",
    "        if line[0] == 'Showcase 1':\n",
    "            showcase1 += line[1:]\n",
    "        #\n",
    "        if line[0] == 'Showcase 2':\n",
    "            showcase2 += line[1:]\n",
    "    #\n",
    "#"
   ]
  },
  {
   "cell_type": "code",
   "execution_count": 8,
   "metadata": {},
   "outputs": [
    {
     "name": "stdout",
     "output_type": "stream",
     "text": [
      "['50969', '21901', '32815', '44432', '24273', '30554', '20963', '28941', '25851', '28800', '37703', '34774', '25268', '44044', '32516', '30827', '40374', '27698', '23590', '38625', '24026', '37449', '34268', '22281', '22890', '24226', '25448', '32525', '36799', '27380', '25903', '31769', '22853', '23202', '20721', '28451', '26154', '27019', '51959', '35811', '24885', '24648', '30707', '23744', '45078', '20773', '30892', '29971', '37423', '33593', '24866', '24628', '24827', '29248', '24818', '28762', '31838', '22268', '38892', '22599', '31705', '23299', '21394', '22589', '30573', '33009', '19612', '28550', '49937', '36915', '33400', '34516', '31516', '51108', '23981', '26383', '39801', '39201', '19563', '20418', '28465', '22356', '24150', '20425', '23926', '20860', '35526', '20912', '27426', '26393', '25329', '22434', '31933', '23986', '24729', '21747', '27273', '21681', '29324', '35874', '30397', '27310', '28414', '32535', '22886', '29842', '35954', '27883', '31268', '21563', '39642', '21862', '33499', '24313', '26809', '29674', '21711', '25618', '35504', '23327', '34581', '25918', '20418', '26511', '28288', '30348', '34428', '26732', '29631', '30253', '30256', '21399', '30988', '26536', '39924', '26254', '29137', '32666', '30706', '34805', '33343', '29671', '20408', '30406', '20990', '32391', '20828', '36439', '31785', '27663', '30291', '33480', '28714', '36803', '24281', '23841', '33844', '31809', '28309', '27332', '28957', '54579', '28649', '26854', '20962', '38787', '26738', '28958', '28604', '25269', '30624', '25366', '31328', '36813', '31434', '30321', '36414', '34736', '21707', '38297', '28996', '27690', '29426', '21711', '29307', '25263', '26993', '29390', '34920', '30323', '46638', '40811', '31259', '41943', '24946', '26257', '49928', '30744', '37671', '32255', '21983', '40311', '28573', '28510', '27341', '29393', '24379', '24289', '32784', '41995', '39939', '46829', '24413', '36607', '43902', '36820', '27575', '24459', '31749', '22466', '25809', '35252', '58342', '21981', '40294', '45433', '27480', '28868', '30864', '36577', '38468', '34353', '26262', '23515', '41374', '22476', '27762', '28744', '46872', '32416', '30296', '27813', '34608', '25540', '33795', '28981', '41280', '28400', '26462', '36419', '22716', '35855', '23261', '48442', '25643', '25975', '52557', '21258', '34640', '33798', '33513', '38934', '24988', '27614', '31816', '39315', '30396', '37649', '22542', '22576', '27288', '40830', '29943', '28583', '36407', '27791', '22703', '29633', '20869', '29412', '23437', '27266', '32922', '27268', '27382', '27736', '41781', '38875', '46339', '24422', '38902', '40408', '30764', '27440', '29271', '37446', '34763', '22992', '37517', '27677', '23988', '29323', '35379', '34330', '27793', '22412', '29528', '22774', '25375', '24949', '23662', '23704', '20898']\n"
     ]
    }
   ],
   "source": [
    "print (showcase1)"
   ]
  },
  {
   "cell_type": "code",
   "execution_count": 14,
   "metadata": {},
   "outputs": [],
   "source": [
    "tmp = [int(s) for s in showcase1]\n",
    "showcase1 = np.array(tmp)\n",
    "showcase2 = np.array( [int(s) for s in showcase2])"
   ]
  },
  {
   "cell_type": "code",
   "execution_count": 16,
   "metadata": {},
   "outputs": [
    {
     "name": "stdout",
     "output_type": "stream",
     "text": [
      "(313,) [50969 21901 32815 44432 24273 30554 20963 28941 25851 28800]\n"
     ]
    }
   ],
   "source": [
    "print (showcase1.shape, showcase1[:10])"
   ]
  },
  {
   "cell_type": "markdown",
   "metadata": {},
   "source": [
    "#### Let's read all of the data file.\n",
    "- Maybe it's better to make a function to read the file\n",
    "- switch/case for Python: https://www.pydanny.com/why-doesnt-python-have-switch-case.html"
   ]
  },
  {
   "cell_type": "code",
   "execution_count": 19,
   "metadata": {},
   "outputs": [],
   "source": [
    "datafile = [datafile1, datafile2]\n",
    "\n",
    "showcase1 = []\n",
    "showcase2 = []\n",
    "bid1 = []\n",
    "bid2 = []\n",
    "diff1 = []\n",
    "diff2 = []\n",
    "for afile in datafile:\n",
    "    with open(afile, 'r') as file:\n",
    "        reader = csv.reader (file)\n",
    "        for line in reader:\n",
    "    #        print (line)\n",
    "            if line[0] == 'Showcase 1':\n",
    "                showcase1 += line[1:]\n",
    "            #\n",
    "            if line[0] == 'Showcase 2':\n",
    "                showcase2 += line[1:]\n",
    "            if line[0] == 'Bid 1': \n",
    "                bid1 += line[1:]\n",
    "            if line[0] == 'Bid 2':\n",
    "                bid2 += line[1:]\n",
    "            if line[0] == 'Difference 1':\n",
    "                diff1 += line[1:]\n",
    "            if line[0] == 'Difference 2':\n",
    "                diff2 += line[1:]\n",
    "        #\n",
    "    #\n",
    "#\n",
    "showcase1 = np.array( [int(s) for s in showcase1])\n",
    "showcase2 = np.array( [int(s) for s in showcase2])\n",
    "bid1 = np.array( [int(s) for s in bid1])\n",
    "bid2 = np.array( [int(s) for s in bid2])\n",
    "diff1 = np.array( [int(s) for s in diff1])\n",
    "diff2 = np.array( [int(s) for s in diff2])"
   ]
  },
  {
   "cell_type": "code",
   "execution_count": 21,
   "metadata": {},
   "outputs": [
    {
     "data": {
      "text/plain": [
       "array([42000, 14000, 32000, 27000, 18750, 27222, 25000, 35000, 22500,\n",
       "       21300])"
      ]
     },
     "execution_count": 21,
     "metadata": {},
     "output_type": "execute_result"
    }
   ],
   "source": [
    "bid1[:10]"
   ]
  },
  {
   "cell_type": "markdown",
   "metadata": {},
   "source": [
    "### Prior distribution of showcase prices is estimated by KDE\n",
    "\n",
    "- See https://jakevdp.github.io/blog/2013/12/01/kernel-density-estimation/"
   ]
  },
  {
   "cell_type": "code",
   "execution_count": 25,
   "metadata": {},
   "outputs": [],
   "source": [
    "from scipy.stats import gaussian_kde"
   ]
  },
  {
   "cell_type": "code",
   "execution_count": 48,
   "metadata": {},
   "outputs": [],
   "source": [
    "prior_kde1 = scipy.stats.gaussian_kde (showcase1)\n",
    "prior_kde2 = scipy.stats.gaussian_kde (showcase2)"
   ]
  },
  {
   "cell_type": "code",
   "execution_count": 49,
   "metadata": {},
   "outputs": [
    {
     "data": {
      "text/plain": [
       "(19563, 58342, 18349, 71628)"
      ]
     },
     "execution_count": 49,
     "metadata": {},
     "output_type": "execute_result"
    }
   ],
   "source": [
    "min(showcase1), max(showcase1), min(showcase2), max(showcase2)"
   ]
  },
  {
   "cell_type": "code",
   "execution_count": 50,
   "metadata": {},
   "outputs": [],
   "source": [
    "# Let's choose the domain of prices = [0, 75000]\n",
    "low, high = 0, 75000\n",
    "n = 101\n",
    "xs = np.linspace(low, high, n)"
   ]
  },
  {
   "cell_type": "code",
   "execution_count": 51,
   "metadata": {},
   "outputs": [
    {
     "data": {
      "text/plain": [
       "array([    0.,   750.,  1500.,  2250.,  3000.,  3750.,  4500.,  5250.,\n",
       "        6000.,  6750.,  7500.,  8250.,  9000.,  9750., 10500., 11250.,\n",
       "       12000., 12750., 13500., 14250., 15000., 15750., 16500., 17250.,\n",
       "       18000., 18750., 19500., 20250., 21000., 21750., 22500., 23250.,\n",
       "       24000., 24750., 25500., 26250., 27000., 27750., 28500., 29250.,\n",
       "       30000., 30750., 31500., 32250., 33000., 33750., 34500., 35250.,\n",
       "       36000., 36750., 37500., 38250., 39000., 39750., 40500., 41250.,\n",
       "       42000., 42750., 43500., 44250., 45000., 45750., 46500., 47250.,\n",
       "       48000., 48750., 49500., 50250., 51000., 51750., 52500., 53250.,\n",
       "       54000., 54750., 55500., 56250., 57000., 57750., 58500., 59250.,\n",
       "       60000., 60750., 61500., 62250., 63000., 63750., 64500., 65250.,\n",
       "       66000., 66750., 67500., 68250., 69000., 69750., 70500., 71250.,\n",
       "       72000., 72750., 73500., 74250., 75000.])"
      ]
     },
     "execution_count": 51,
     "metadata": {},
     "output_type": "execute_result"
    }
   ],
   "source": [
    "xs"
   ]
  },
  {
   "cell_type": "code",
   "execution_count": 54,
   "metadata": {},
   "outputs": [],
   "source": [
    "# Now, PMF is computed based on the prior density function\n",
    "\n",
    "def MakePmf (xs, kde):\n",
    "    p = np.zeros(xs.shape)\n",
    "    for i in range(xs.shape[0]):\n",
    "        p[i] = kde.evaluate (xs[i])\n",
    "\n",
    "    p /= sum(p)\n",
    "    return p\n",
    "#"
   ]
  },
  {
   "cell_type": "code",
   "execution_count": 55,
   "metadata": {},
   "outputs": [
    {
     "data": {
      "text/plain": [
       "[<matplotlib.lines.Line2D at 0x256d32ce0b8>,\n",
       " <matplotlib.lines.Line2D at 0x256d32ce278>]"
      ]
     },
     "execution_count": 55,
     "metadata": {},
     "output_type": "execute_result"
    },
    {
     "data": {
      "image/png": "[encoded data removed]",
      "text/plain": [
       "<Figure size 432x288 with 1 Axes>"
      ]
     },
     "metadata": {},
     "output_type": "display_data"
    }
   ],
   "source": [
    "prior_pmf1 = MakePmf (xs, prior_kde1)\n",
    "prior_pmf2 = MakePmf (xs, prior_kde2)\n",
    "\n",
    "plt.grid(True)\n",
    "plt.plot (xs, prior_pmf1, xs, prior_pmf2)"
   ]
  },
  {
   "cell_type": "markdown",
   "metadata": {},
   "source": [
    "Now we finished to compute prior distributions for player 1 and player 2 respectively."
   ]
  },
  {
   "cell_type": "code",
   "execution_count": null,
   "metadata": {},
   "outputs": [],
   "source": []
  }
 ],
 "metadata": {
  "kernelspec": {
   "display_name": "Python 3",
   "language": "python",
   "name": "python3"
  },
  "language_info": {
   "codemirror_mode": {
    "name": "ipython",
    "version": 3
   },
   "file_extension": ".py",
   "mimetype": "text/x-python",
   "name": "python",
   "nbconvert_exporter": "python",
   "pygments_lexer": "ipython3",
   "version": "3.6.5"
  }
 },
 "nbformat": 4,
 "nbformat_minor": 2
}
