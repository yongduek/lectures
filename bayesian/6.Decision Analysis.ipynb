{
 "cells": [
  {
   "cell_type": "markdown",
   "metadata": {},
   "source": [
    "# This is about Chapter 6, Think Bayes by Allen Downey"
   ]
  },
  {
   "cell_type": "markdown",
   "metadata": {},
   "source": [
    "- In Bayesian estimation, the result comes in the form of a posterior distribution\n",
    "- Bayesian methods are most useful when you can carry the posterior distribution into the next step of the analysis to perform some kind of decision analysis.\n",
    "- Summarizing the posterior distribution by computing the mean or the maximum likelihood estimate is not the goal of Bayesian estimation. If that is all you need, you probably don't need Bayesian methods in the first place.\n",
    "\n",
    "### Procedure of Bayesian Analysis\n",
    "\n",
    "1. Think about hypotheses and build up Prior distribution\n",
    "1. Then compute Likelihood for each hypothesis\n",
    "1. Try to compute posterior distribution\n",
    "1. Then, try to make a decision using the posterior distribution."
   ]
  },
  {
   "cell_type": "markdown",
   "metadata": {},
   "source": [
    "### 1. Let's make prior distribution"
   ]
  },
  {
   "cell_type": "code",
   "execution_count": 1,
   "metadata": {},
   "outputs": [],
   "source": [
    "import csv\n",
    "import numpy as np\n",
    "import pandas as pd\n",
    "from matplotlib import pyplot as plt"
   ]
  },
  {
   "cell_type": "code",
   "execution_count": 2,
   "metadata": {},
   "outputs": [],
   "source": [
    "datafile1 = 'showcases.2011.csv'\n",
    "datafile2 = 'showcases.2012.csv'\n",
    "\n",
    "showcase1 = []\n",
    "showcase2 = []\n",
    "with open(datafile1, 'r') as file:\n",
    "    reader = csv.reader (file)\n",
    "    for line in reader:\n",
    "#        print (line)\n",
    "        if line[0] == 'Showcase 1':\n",
    "            showcase1 += line[1:]\n",
    "        #\n",
    "        if line[0] == 'Showcase 2':\n",
    "            showcase2 += line[1:]\n",
    "    #\n",
    "#\n",
    "with open(datafile2, 'r') as file:\n",
    "    reader = csv.reader (file)\n",
    "    for line in reader:\n",
    "#        print (line)\n",
    "        if line[0] == 'Showcase 1':\n",
    "            showcase1 += line[1:]\n",
    "        #\n",
    "        if line[0] == 'Showcase 2':\n",
    "            showcase2 += line[1:]\n",
    "    #\n",
    "#"
   ]
  },
  {
   "cell_type": "code",
   "execution_count": 3,
   "metadata": {},
   "outputs": [
    {
     "name": "stdout",
     "output_type": "stream",
     "text": [
      "['50969', '21901', '32815', '44432', '24273', '30554', '20963', '28941', '25851', '28800', '37703', '34774', '25268', '44044', '32516', '30827', '40374', '27698', '23590', '38625', '24026', '37449', '34268', '22281', '22890', '24226', '25448', '32525', '36799', '27380', '25903', '31769', '22853', '23202', '20721', '28451', '26154', '27019', '51959', '35811', '24885', '24648', '30707', '23744', '45078', '20773', '30892', '29971', '37423', '33593', '24866', '24628', '24827', '29248', '24818', '28762', '31838', '22268', '38892', '22599', '31705', '23299', '21394', '22589', '30573', '33009', '19612', '28550', '49937', '36915', '33400', '34516', '31516', '51108', '23981', '26383', '39801', '39201', '19563', '20418', '28465', '22356', '24150', '20425', '23926', '20860', '35526', '20912', '27426', '26393', '25329', '22434', '31933', '23986', '24729', '21747', '27273', '21681', '29324', '35874', '30397', '27310', '28414', '32535', '22886', '29842', '35954', '27883', '31268', '21563', '39642', '21862', '33499', '24313', '26809', '29674', '21711', '25618', '35504', '23327', '34581', '25918', '20418', '26511', '28288', '30348', '34428', '26732', '29631', '30253', '30256', '21399', '30988', '26536', '39924', '26254', '29137', '32666', '30706', '34805', '33343', '29671', '20408', '30406', '20990', '32391', '20828', '36439', '31785', '27663', '30291', '33480', '28714', '36803', '24281', '23841', '33844', '31809', '28309', '27332', '28957', '54579', '28649', '26854', '20962', '38787', '26738', '28958', '28604', '25269', '30624', '25366', '31328', '36813', '31434', '30321', '36414', '34736', '21707', '38297', '28996', '27690', '29426', '21711', '29307', '25263', '26993', '29390', '34920', '30323', '46638', '40811', '31259', '41943', '24946', '26257', '49928', '30744', '37671', '32255', '21983', '40311', '28573', '28510', '27341', '29393', '24379', '24289', '32784', '41995', '39939', '46829', '24413', '36607', '43902', '36820', '27575', '24459', '31749', '22466', '25809', '35252', '58342', '21981', '40294', '45433', '27480', '28868', '30864', '36577', '38468', '34353', '26262', '23515', '41374', '22476', '27762', '28744', '46872', '32416', '30296', '27813', '34608', '25540', '33795', '28981', '41280', '28400', '26462', '36419', '22716', '35855', '23261', '48442', '25643', '25975', '52557', '21258', '34640', '33798', '33513', '38934', '24988', '27614', '31816', '39315', '30396', '37649', '22542', '22576', '27288', '40830', '29943', '28583', '36407', '27791', '22703', '29633', '20869', '29412', '23437', '27266', '32922', '27268', '27382', '27736', '41781', '38875', '46339', '24422', '38902', '40408', '30764', '27440', '29271', '37446', '34763', '22992', '37517', '27677', '23988', '29323', '35379', '34330', '27793', '22412', '29528', '22774', '25375', '24949', '23662', '23704', '20898']\n"
     ]
    }
   ],
   "source": [
    "print (showcase1)"
   ]
  },
  {
   "cell_type": "code",
   "execution_count": 4,
   "metadata": {},
   "outputs": [],
   "source": [
    "tmp = [int(s) for s in showcase1]\n",
    "showcase1 = np.array(tmp)\n",
    "showcase2 = np.array( [int(s) for s in showcase2])"
   ]
  },
  {
   "cell_type": "code",
   "execution_count": 5,
   "metadata": {},
   "outputs": [
    {
     "name": "stdout",
     "output_type": "stream",
     "text": [
      "(313,) [50969 21901 32815 44432 24273 30554 20963 28941 25851 28800]\n"
     ]
    }
   ],
   "source": [
    "print (showcase1.shape, showcase1[:10])"
   ]
  },
  {
   "cell_type": "markdown",
   "metadata": {},
   "source": [
    "#### Let's read all of the data file.\n",
    "- Maybe it's better to make a function to read the file\n",
    "- switch/case for Python: https://www.pydanny.com/why-doesnt-python-have-switch-case.html"
   ]
  },
  {
   "cell_type": "code",
   "execution_count": 6,
   "metadata": {},
   "outputs": [],
   "source": [
    "datafile = [datafile1, datafile2]\n",
    "\n",
    "showcase1 = []\n",
    "showcase2 = []\n",
    "bid1 = []\n",
    "bid2 = []\n",
    "diff1 = []\n",
    "diff2 = []\n",
    "for afile in datafile:\n",
    "    with open(afile, 'r') as file:\n",
    "        reader = csv.reader (file)\n",
    "        for line in reader:\n",
    "    #        print (line)\n",
    "            if line[0] == 'Showcase 1':\n",
    "                showcase1 += line[1:]\n",
    "            #\n",
    "            if line[0] == 'Showcase 2':\n",
    "                showcase2 += line[1:]\n",
    "            if line[0] == 'Bid 1': \n",
    "                bid1 += line[1:]\n",
    "            if line[0] == 'Bid 2':\n",
    "                bid2 += line[1:]\n",
    "            if line[0] == 'Difference 1':\n",
    "                diff1 += line[1:]\n",
    "            if line[0] == 'Difference 2':\n",
    "                diff2 += line[1:]\n",
    "        #\n",
    "    #\n",
    "#\n",
    "showcase1 = np.array( [int(s) for s in showcase1])\n",
    "showcase2 = np.array( [int(s) for s in showcase2])\n",
    "bid1 = np.array( [int(s) for s in bid1])\n",
    "bid2 = np.array( [int(s) for s in bid2])\n",
    "diff1 = np.array( [int(s) for s in diff1])\n",
    "diff2 = np.array( [int(s) for s in diff2])"
   ]
  },
  {
   "cell_type": "code",
   "execution_count": 7,
   "metadata": {},
   "outputs": [
    {
     "data": {
      "text/plain": [
       "array([42000, 14000, 32000, 27000, 18750, 27222, 25000, 35000, 22500,\n",
       "       21300])"
      ]
     },
     "execution_count": 7,
     "metadata": {},
     "output_type": "execute_result"
    }
   ],
   "source": [
    "bid1[:10]"
   ]
  },
  {
   "cell_type": "markdown",
   "metadata": {},
   "source": [
    "### Prior distribution of showcase prices is estimated by KDE\n",
    "\n",
    "- See https://jakevdp.github.io/blog/2013/12/01/kernel-density-estimation/"
   ]
  },
  {
   "cell_type": "code",
   "execution_count": 8,
   "metadata": {},
   "outputs": [],
   "source": [
    "from scipy.stats import gaussian_kde\n",
    "import scipy.stats"
   ]
  },
  {
   "cell_type": "code",
   "execution_count": 9,
   "metadata": {},
   "outputs": [],
   "source": [
    "prior_kde1 = scipy.stats.gaussian_kde (showcase1)\n",
    "prior_kde2 = scipy.stats.gaussian_kde (showcase2)"
   ]
  },
  {
   "cell_type": "code",
   "execution_count": 10,
   "metadata": {},
   "outputs": [
    {
     "data": {
      "text/plain": [
       "(19563, 58342, 18349, 71628)"
      ]
     },
     "execution_count": 10,
     "metadata": {},
     "output_type": "execute_result"
    }
   ],
   "source": [
    "min(showcase1), max(showcase1), min(showcase2), max(showcase2)"
   ]
  },
  {
   "cell_type": "code",
   "execution_count": 11,
   "metadata": {},
   "outputs": [],
   "source": [
    "# Let's choose the domain of prices = [0, 75000]\n",
    "low, high = 0, 75000\n",
    "n = 101\n",
    "xs = np.linspace(low, high, n)"
   ]
  },
  {
   "cell_type": "code",
   "execution_count": 12,
   "metadata": {},
   "outputs": [
    {
     "data": {
      "text/plain": [
       "array([   0.,  750., 1500., 2250., 3000., 3750., 4500., 5250., 6000.,\n",
       "       6750.])"
      ]
     },
     "execution_count": 12,
     "metadata": {},
     "output_type": "execute_result"
    }
   ],
   "source": [
    "xs[:10]"
   ]
  },
  {
   "cell_type": "code",
   "execution_count": 13,
   "metadata": {},
   "outputs": [],
   "source": [
    "# Now, PMF is computed based on the prior density function\n",
    "\n",
    "def MakePmf (xs, kde):\n",
    "    p = np.zeros(xs.shape)\n",
    "    for i in range(xs.shape[0]):\n",
    "        p[i] = kde.evaluate (xs[i])\n",
    "\n",
    "    p /= sum(p)\n",
    "    return p\n",
    "#\n",
    "def evalPmf (xs, pmf, x): # Warning: dict() implementation will be much faster than this implementation\n",
    "    i = 0\n",
    "    while xs[i] != x:\n",
    "        i += 1\n",
    "    if i < xs.shape[0]:\n",
    "        return pmf[i]\n",
    "    else:\n",
    "        return 0\n",
    "#"
   ]
  },
  {
   "cell_type": "code",
   "execution_count": 14,
   "metadata": {},
   "outputs": [
    {
     "data": {
      "text/plain": [
       "[<matplotlib.lines.Line2D at 0x1d6604180f0>,\n",
       " <matplotlib.lines.Line2D at 0x1d660418358>]"
      ]
     },
     "execution_count": 14,
     "metadata": {},
     "output_type": "execute_result"
    },
    {
     "data": {
      "image/png": "[encoded data removed]",
      "text/plain": [
       "<Figure size 432x288 with 1 Axes>"
      ]
     },
     "metadata": {},
     "output_type": "display_data"
    }
   ],
   "source": [
    "prior_pmf1 = MakePmf (xs, prior_kde1)\n",
    "prior_pmf2 = MakePmf (xs, prior_kde2)\n",
    "\n",
    "plt.grid(True)\n",
    "plt.plot (xs, prior_pmf1, xs, prior_pmf2)"
   ]
  },
  {
   "cell_type": "markdown",
   "metadata": {},
   "source": [
    "Now we finished to compute prior distributions for player 1 and player 2 respectively."
   ]
  },
  {
   "cell_type": "code",
   "execution_count": 15,
   "metadata": {},
   "outputs": [
    {
     "data": {
      "text/plain": [
       "[<matplotlib.lines.Line2D at 0x1d6604b2780>]"
      ]
     },
     "execution_count": 15,
     "metadata": {},
     "output_type": "execute_result"
    },
    {
     "data": {
      "image/png": "[encoded data removed]",
      "text/plain": [
       "<Figure size 432x288 with 1 Axes>"
      ]
     },
     "metadata": {},
     "output_type": "display_data"
    }
   ],
   "source": [
    "# test plot for evalPmf\n",
    "ps = [evalPmf(xs, prior_pmf1, xs[i]) for i in range(xs.shape[0])]\n",
    "plt.plot(ps)"
   ]
  },
  {
   "cell_type": "markdown",
   "metadata": {},
   "source": [
    "### Likelihood Estimation\n",
    "\n",
    "- When player 1 sees the prize presented in the show, he guesses the price. What is the likelihood of the guess given the true price of the prize?\n",
    "- Let's model that the guess has a Gaussian distribution with mean as the true price and a variace which is not known.\n",
    "- The variance model is chosen to be the variance of the diff samples\n",
    "    - To evaluate the variance of diff data, let's examine their CDF first."
   ]
  },
  {
   "cell_type": "code",
   "execution_count": 16,
   "metadata": {},
   "outputs": [],
   "source": [
    "def MakeCdf (xdiff, diff):\n",
    "    cdf = np.zeros(xdiff.shape)\n",
    "    for i in range(xdiff.shape[0]):\n",
    "        cnt = 0\n",
    "        for d in diff:\n",
    "            if d <= xdiff[i]:\n",
    "                cnt +=1\n",
    "        cdf[i] = cnt\n",
    "    cdf /= diff.shape[0]\n",
    "\n",
    "    return cdf\n",
    "#"
   ]
  },
  {
   "cell_type": "code",
   "execution_count": 17,
   "metadata": {},
   "outputs": [
    {
     "data": {
      "text/plain": [
       "<matplotlib.legend.Legend at 0x1d660510d30>"
      ]
     },
     "execution_count": 17,
     "metadata": {},
     "output_type": "execute_result"
    },
    {
     "data": {
      "image/png": "[encoded data removed]",
      "text/plain": [
       "<Figure size 432x288 with 1 Axes>"
      ]
     },
     "metadata": {},
     "output_type": "display_data"
    }
   ],
   "source": [
    "xdiff = np.linspace (-50000, 50000, n)\n",
    "cdf_diff1 = MakeCdf (xdiff, diff1)\n",
    "cdf_diff2 = MakeCdf (xdiff, diff2)\n",
    "\n",
    "plt.title ('CDF of diff = price - bid')\n",
    "plt.grid (True)\n",
    "plt.plot (xdiff, cdf_diff1, label='diff 1')\n",
    "plt.plot (xdiff, cdf_diff2, label='diff 2')\n",
    "plt.legend(loc='best')"
   ]
  },
  {
   "cell_type": "code",
   "execution_count": 18,
   "metadata": {},
   "outputs": [],
   "source": [
    "def evaluateCDF (xs, cdf, x):\n",
    "    for i in range(xs.shape[0]):\n",
    "        if xs[i] > x:\n",
    "            return cdf[i-1]\n",
    "    return cdf[i]\n",
    "#"
   ]
  },
  {
   "cell_type": "code",
   "execution_count": 19,
   "metadata": {},
   "outputs": [
    {
     "name": "stdout",
     "output_type": "stream",
     "text": [
      "@ Overbid ratio for player1 = 0.25  player2 = 0.29\n"
     ]
    }
   ],
   "source": [
    "print ('@ Overbid ratio for player1 = {:.2f}  player2 = {:.2f}'.format(evaluateCDF(xdiff, cdf_diff1, 0), evaluateCDF(xdiff, cdf_diff2, 0)))"
   ]
  },
  {
   "cell_type": "code",
   "execution_count": null,
   "metadata": {},
   "outputs": [],
   "source": []
  },
  {
   "cell_type": "code",
   "execution_count": 20,
   "metadata": {},
   "outputs": [
    {
     "name": "stdout",
     "output_type": "stream",
     "text": [
      "@ std = 6888.88    6875.25\n"
     ]
    }
   ],
   "source": [
    "sigma1 = np.std (diff1) # simply compute sample std using the data\n",
    "sigma2 = np.std (diff2)\n",
    "print ('@ std = {:.2f}    {:.2f}'.format(sigma1, sigma2))"
   ]
  },
  {
   "cell_type": "code",
   "execution_count": 21,
   "metadata": {},
   "outputs": [],
   "source": [
    "# likelihood density = Gaussain (0, sigma_diff1)\n",
    "# likelihood (guess) = scipy.stats.norm.pdf (price - guess, 0, sigma_diff1)\n",
    "guess1 = 20000\n",
    "likeli1 = np.zeros(xs.shape)\n",
    "post1 = np.zeros(xs.shape)\n",
    "for i in range(xs.shape[0]):  # for each price\n",
    "    likeli1[i] = scipy.stats.norm.pdf(xs[i] - guess1, 0, sigma1)\n",
    "    post1[i] = likeli1[i] * prior_pmf1[i]\n",
    "post1 /= np.sum(post1)"
   ]
  },
  {
   "cell_type": "code",
   "execution_count": 22,
   "metadata": {},
   "outputs": [
    {
     "data": {
      "text/plain": [
       "<matplotlib.legend.Legend at 0x1d66058a9e8>"
      ]
     },
     "execution_count": 22,
     "metadata": {},
     "output_type": "execute_result"
    },
    {
     "data": {
      "image/png": "[encoded data removed]",
      "text/plain": [
       "<Figure size 432x288 with 1 Axes>"
      ]
     },
     "metadata": {},
     "output_type": "display_data"
    }
   ],
   "source": [
    "plt.grid(True)\n",
    "plt.plot (xs, post1, label='posterior 1') \n",
    "plt.plot (xs, prior_pmf1, label='prior 1')\n",
    "plt.legend (loc='best')"
   ]
  },
  {
   "cell_type": "code",
   "execution_count": 23,
   "metadata": {},
   "outputs": [
    {
     "name": "stdout",
     "output_type": "stream",
     "text": [
      "@ max posterior value 0.07 at $24000.00\n",
      "@ max prior value 0.05 at $27750.00\n"
     ]
    }
   ],
   "source": [
    "indx = np.argmax(post1)\n",
    "print ('@ max posterior value {:.2f} at ${:.2f}'.format(post1[indx], xs[indx]))\n",
    "indx_prior = np.argmax(prior_pmf1)\n",
    "print ('@ max prior value {:.2f} at ${:.2f}'.format(prior_pmf1[indx_prior], xs[indx_prior]))"
   ]
  },
  {
   "cell_type": "markdown",
   "metadata": {},
   "source": [
    "- You guessed that the price would be \\$20,000, but the maximum posterior probability is found to be at \\$24,000.\n",
    "- If you think the price is \\$20000, then you should believe the price is \\$24000. "
   ]
  },
  {
   "cell_type": "code",
   "execution_count": 24,
   "metadata": {},
   "outputs": [
    {
     "name": "stdout",
     "output_type": "stream",
     "text": [
      "@ Posterior mean = $25096\n"
     ]
    }
   ],
   "source": [
    "# Posterior mean\n",
    "mean = 0.\n",
    "for x, p in zip(xs, post1):\n",
    "    mean += x*p\n",
    "print ('@ Posterior mean = ${:.0f}'.format(mean))"
   ]
  },
  {
   "cell_type": "code",
   "execution_count": 25,
   "metadata": {},
   "outputs": [],
   "source": [
    "class Player:\n",
    "    def __init__(self, xs, showcase, bid, diff):\n",
    "        self.sigma = np.std(diff)\n",
    "        self.prior = np.zeros (xs.shape[0])  # prior pmf\n",
    "        self.likeli = np.zeros (xs.shape[0])\n",
    "        self.post = np.zeros (xs.shape[0])\n",
    "        # put code for prior\n",
    "    def Posterior (self, guess):\n",
    "        # code for likelihood\n",
    "        # code for posterior\n",
    "        print ('@ Posterior distribution for ', guess)"
   ]
  },
  {
   "cell_type": "code",
   "execution_count": null,
   "metadata": {},
   "outputs": [],
   "source": []
  },
  {
   "cell_type": "code",
   "execution_count": 26,
   "metadata": {},
   "outputs": [],
   "source": [
    "# likelihood density = Gaussain (0, sigma_diff1)\n",
    "# likelihood (guess) = scipy.stats.norm.pdf (price - guess, 0, sigma_diff1)\n",
    "guess2 = 40000\n",
    "sigma2 = np.std (diff2)\n",
    "likeli2 = np.zeros(xs.shape)\n",
    "post2 = np.zeros(xs.shape)\n",
    "for i in range(xs.shape[0]):  # for each price\n",
    "    likeli2[i] = scipy.stats.norm.pdf(xs[i] - guess2, 0, sigma2)\n",
    "    post2[i] = likeli2[i] * prior_pmf2[i]\n",
    "post2 /= np.sum(post2)"
   ]
  },
  {
   "cell_type": "code",
   "execution_count": 27,
   "metadata": {},
   "outputs": [
    {
     "data": {
      "text/plain": [
       "[<matplotlib.lines.Line2D at 0x1d66160f978>]"
      ]
     },
     "execution_count": 27,
     "metadata": {},
     "output_type": "execute_result"
    },
    {
     "data": {
      "image/png": "[encoded data removed]",
      "text/plain": [
       "<Figure size 432x288 with 2 Axes>"
      ]
     },
     "metadata": {},
     "output_type": "display_data"
    }
   ],
   "source": [
    "plt.subplot (211)\n",
    "plt.grid(True)\n",
    "plt.plot (xs, post2, label='posterior 2')\n",
    "plt.plot (xs, prior_pmf2, label='prior 2')\n",
    "plt.legend (loc='best')\n",
    "plt.subplot (212)\n",
    "plt.grid(True)\n",
    "plt.plot (xs, likeli2, label='likelihood 2')"
   ]
  },
  {
   "cell_type": "markdown",
   "metadata": {},
   "source": [
    "We just finished computing two posterior distributions of the true prices given two guesses 20000 and 40000."
   ]
  },
  {
   "cell_type": "markdown",
   "metadata": {},
   "source": [
    "### What is the optimal bid based on the posterior distribution?\n",
    "\n",
    "- Now we will make use of the posterior distribution to make a good decision for the bid!\n",
    "- What is the optimal bid? One choice (or definition) of optimal bid is the bid that maximizes expected return.\n",
    "- If I choose $bid=\\$25000$ as the bid, how much will be the expected return?\n",
    "    * If $bid > price$, then the return is 0.\n",
    "    * Otherwise, the return is $price \\times bid$ with probability of winning."
   ]
  },
  {
   "cell_type": "markdown",
   "metadata": {},
   "source": [
    "- The probability of my winning is determined by the bid $bid_2$ of the opponent (player 2).\n",
    "    * If $diff_2 = price_2 - bid_2$ is less than 0, I win. This is when $diff_2 \\leq -1$\n",
    "    * If $diff_2 > mydiff$, then I win.\n",
    "    * The probability of these two can be retrived as $CDF_2(-1)$ and $CDF_2(mydiff)$."
   ]
  },
  {
   "cell_type": "code",
   "execution_count": 28,
   "metadata": {},
   "outputs": [
    {
     "data": {
      "text/plain": [
       "<matplotlib.legend.Legend at 0x1d66169f9b0>"
      ]
     },
     "execution_count": 28,
     "metadata": {},
     "output_type": "execute_result"
    },
    {
     "data": {
      "image/png": "[encoded data removed]",
      "text/plain": [
       "<Figure size 432x288 with 1 Axes>"
      ]
     },
     "metadata": {},
     "output_type": "display_data"
    }
   ],
   "source": [
    "plt.title ('CDF_2 of diff_2 = price_2 - bid_2')\n",
    "plt.grid (True)\n",
    "plt.plot (xdiff, cdf_diff2, label='diff 2')\n",
    "plt.axvline(-1, color='red', label='P(diff_2 < 0)')\n",
    "plt.axvline(30000, color='green', label='P(diff_2 <= 30000)')\n",
    "plt.legend(loc='best')"
   ]
  },
  {
   "cell_type": "code",
   "execution_count": 29,
   "metadata": {},
   "outputs": [
    {
     "data": {
      "text/plain": [
       "array([68250., 69000., 69750., 70500., 71250., 72000., 72750., 73500.,\n",
       "       74250., 75000.])"
      ]
     },
     "execution_count": 29,
     "metadata": {},
     "output_type": "execute_result"
    }
   ],
   "source": [
    "prices = xs\n",
    "bids = xs  # possible candidate vaulues for bid is equal to xs, the range of price\n",
    "bids[-10:]"
   ]
  },
  {
   "cell_type": "code",
   "execution_count": 30,
   "metadata": {},
   "outputs": [],
   "source": [
    "expectedGainPmf = []\n",
    "#egl = {}\n",
    "for b in bids: # for each bid\n",
    "    expectedGain = 0\n",
    "#    eg = {}\n",
    "    for p in prices:\n",
    "        mydiff = p - b\n",
    "        special = False\n",
    "        if mydiff < 0:\n",
    "            gain = 0\n",
    "        else:\n",
    "            gain = p\n",
    "\n",
    "            if mydiff <= 250: # in this case I will get more prize. Allen says this is very rare and simply set to the double.\n",
    "                gain = 2*p\n",
    "                special = True\n",
    "            #\n",
    "            winProb = evaluateCDF (xdiff, cdf_diff2, -1) + (1 - evaluateCDF(xdiff, cdf_diff2, mydiff))\n",
    "        #\n",
    "        gainXwinProb = gain * winProb\n",
    "        #\n",
    "        expectedGain += gainXwinProb * evalPmf (xs, post1, p)\n",
    "#        eg[p] = (mydiff, p, gain, special, gainXwinProb, \\\n",
    "#                 winProb, evaluateCDF (xdiff, cdf_diff2, -1), 1-evaluateCDF (xdiff, cdf_diff2, mydiff) if mydiff >= 0 else 0, \\\n",
    "#                 evalPmf(xs, post1, p))\n",
    "    expectedGainPmf.append (expectedGain)\n",
    "#    egl[b] = eg\n",
    "#"
   ]
  },
  {
   "cell_type": "code",
   "execution_count": 31,
   "metadata": {},
   "outputs": [
    {
     "data": {
      "text/plain": [
       "[<matplotlib.lines.Line2D at 0x1d6616d8748>]"
      ]
     },
     "execution_count": 31,
     "metadata": {},
     "output_type": "execute_result"
    },
    {
     "data": {
      "image/png": "[encoded data removed]",
      "text/plain": [
       "<Figure size 432x288 with 1 Axes>"
      ]
     },
     "metadata": {},
     "output_type": "display_data"
    }
   ],
   "source": [
    "plt.title ('PMF of Expected Return against the bid')\n",
    "plt.xlabel('bid')\n",
    "plt.ylabel('Expected Return (Probability Mass)')\n",
    "plt.plot (bids, expectedGainPmf)"
   ]
  },
  {
   "cell_type": "code",
   "execution_count": 32,
   "metadata": {},
   "outputs": [],
   "source": [
    "bid = 10500\n",
    "#egl[bid]"
   ]
  },
  {
   "cell_type": "code",
   "execution_count": 33,
   "metadata": {},
   "outputs": [],
   "source": [
    "def calcExpectedReturnPMF (posterior_mine, cdf_diff_mine, cdf_diff_opponent):\n",
    "    expectedGainPmf = []\n",
    "    for b in bids: # for each bid\n",
    "        expectedGain = 0\n",
    "        for p in prices:\n",
    "            mydiff = p - b\n",
    "            special = False\n",
    "            if mydiff < 0:\n",
    "                gain = 0\n",
    "            else:\n",
    "                gain = p\n",
    "\n",
    "                if mydiff <= 250: # in this case I will get more prize. Allen says this is very rare and simply set to the double.\n",
    "                    gain = 2*p\n",
    "                    special = True\n",
    "                #\n",
    "                winProb = evaluateCDF (xdiff, cdf_diff_opponent, -1) + (1 - evaluateCDF(xdiff, cdf_diff_opponent, mydiff))\n",
    "            #\n",
    "            gainXwinProb = gain * winProb\n",
    "            #\n",
    "            expectedGain += gainXwinProb * evalPmf (xs, posterior_mine, p)\n",
    "        expectedGainPmf.append (expectedGain)\n",
    "    return np.array (expectedGainPmf)\n",
    "#"
   ]
  },
  {
   "cell_type": "code",
   "execution_count": 34,
   "metadata": {},
   "outputs": [
    {
     "data": {
      "text/plain": [
       "<matplotlib.legend.Legend at 0x1d661773e10>"
      ]
     },
     "execution_count": 34,
     "metadata": {},
     "output_type": "execute_result"
    },
    {
     "data": {
      "image/png": "[encoded data removed]",
      "text/plain": [
       "<Figure size 432x288 with 1 Axes>"
      ]
     },
     "metadata": {},
     "output_type": "display_data"
    }
   ],
   "source": [
    "egpmf_1 = calcExpectedReturnPMF (posterior_mine=post1, cdf_diff_mine=cdf_diff1, cdf_diff_opponent=cdf_diff2)\n",
    "egpmf_2 = calcExpectedReturnPMF (posterior_mine=post2, cdf_diff_mine=cdf_diff2, cdf_diff_opponent=cdf_diff1)\n",
    "\n",
    "plt.title ('PMF of Expected Return against the bid')\n",
    "plt.xlabel('bid')\n",
    "plt.grid(True)\n",
    "plt.ylabel('Expected Return (Probability Mass)')\n",
    "plt.plot (bids, egpmf_1, label='Player 1, ER with guess=$20000')\n",
    "plt.plot (bids, egpmf_2, label='Player 2, ER with guess=$40000')\n",
    "plt.legend(loc='best')"
   ]
  },
  {
   "cell_type": "code",
   "execution_count": 35,
   "metadata": {},
   "outputs": [
    {
     "name": "stdout",
     "output_type": "stream",
     "text": [
      "@ Optimal bid for Player 1  = $21750 with ER $15472\n",
      "@ Optimal bid for Player 2  = $31500 with ER $17910\n"
     ]
    }
   ],
   "source": [
    "indx1 = np.argmax (egpmf_1)\n",
    "indx2 = np.argmax (egpmf_2)\n",
    "print ('@ Optimal bid for Player 1  = ${:.0f} with ER ${:.0f}'.format(bids[indx1], egpmf_1[indx1]))\n",
    "print ('@ Optimal bid for Player 2  = ${:.0f} with ER ${:.0f}'.format(bids[indx2], egpmf_2[indx2]))"
   ]
  },
  {
   "cell_type": "markdown",
   "metadata": {},
   "source": [
    "So that's it.\n",
    "\n",
    "- The output for optimal bid is a little bit different from the output of Allen Downey's. I don't know why yet.\n",
    "    - He says, the optimal bid for player 1 is \\$21,000 yielding an expected return of almost \\$16,700.\n",
    "    - For player 2, his output is \\$31,500 with \\$19,400.\n",
    "    - My output changes with different setting of $n=101$, $201, 301$, etc.\n",
    "- The result may slightly change depending on various parameters. \n",
    "- Changing the grid size of $xs$ and $xdiff$ will affect the overall computation and the final optimal bid will change accordingly even though it will be very small.\n",
    "- The increase of grid size will result in a long computation time (observe with a grid size of 1000).\n",
    "    - The CDF evaluation is slow\n",
    "    - The function for expected return has a double loop and CDF evaluation is in the inner-most loop."
   ]
  },
  {
   "cell_type": "code",
   "execution_count": null,
   "metadata": {},
   "outputs": [],
   "source": []
  }
 ],
 "metadata": {
  "kernelspec": {
   "display_name": "Python 3",
   "language": "python",
   "name": "python3"
  },
  "language_info": {
   "codemirror_mode": {
    "name": "ipython",
    "version": 3
   },
   "file_extension": ".py",
   "mimetype": "text/x-python",
   "name": "python",
   "nbconvert_exporter": "python",
   "pygments_lexer": "ipython3",
   "version": "3.6.5"
  }
 },
 "nbformat": 4,
 "nbformat_minor": 2
}
