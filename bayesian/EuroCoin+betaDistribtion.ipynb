{
 "cells": [
  {
   "cell_type": "markdown",
   "metadata": {},
   "source": [
    "### Beta Distribution\n",
    "\n",
    "The probability density function (pdf) of the beta distribution, for 0 ≤ x ≤ 1, and shape parameters α, β > 0, is a power function of the variable x and of its reflection (1 − x) as follows:\n",
    "\n",
    "   $f(x;α,β) = C x^{\\alpha-1} (1-x)^{\\beta - 1}$\n",
    "\n",
    "where\n",
    "    $C$ is the normilization constant.\n",
    "    \n",
    "https://en.wikipedia.org/wiki/Beta_distribution"
   ]
  },
  {
   "cell_type": "markdown",
   "metadata": {},
   "source": [
    "### Binomial Distribution\n",
    "\n",
    "$ f(k,n,p) = \\left(\\begin{matrix} n \\\\ k \\end{matrix}\\right) p^k (1-p)^{n-k} $"
   ]
  },
  {
   "cell_type": "markdown",
   "metadata": {},
   "source": [
    "### Posterior of Binoimial Likelihood and Beta Prior\n",
    "\n",
    "$\n",
    "p = f_\\mbox{beta} (p; \\alpha, \\beta) \\; f_\\mbox{bn} (k, n, p)  \n",
    "    \\\\\n",
    " = C' p^{\\alpha-1} (1-p)^{\\beta-1} p^k (1-p)^{n-k}\n",
    " \\\\\n",
    "= C' p^{\\alpha+k-1} (1-p)^{\\beta + (n-k) -1} \n",
    "\\\\\n",
    "= f_\\mbox{beta} (p, \\alpha+k, \\beta+(n-k))\n",
    "$\n",
    "\n",
    "So, the posterior is also a Beta Distribution."
   ]
  },
  {
   "cell_type": "markdown",
   "metadata": {},
   "source": [
    "### Problem\n",
    "\n",
    "When spun on edge 250 times, a Belgian one-euro coin came up heads 140 times and tails 110. Do these data give evidence that the coin is biased rather than fair?"
   ]
  },
  {
   "cell_type": "markdown",
   "metadata": {},
   "source": [
    "#### Let's start\n",
    "- Variable design:  $x$ is the probability of landing heads up when spun on edge.\n",
    "- Hypotheses: we can consider $[0,100]$% of the probabilities for x. That is, $x$ may be $0$, $1$, ..., $100$%. Let's use $H_x$ to denote the hypothesis that the probability of head is $x$%."
   ]
  },
  {
   "cell_type": "code",
   "execution_count": 3,
   "metadata": {},
   "outputs": [
    {
     "name": "stdout",
     "output_type": "stream",
     "text": [
      "{0: 0.0, 1: 0.01, 2: 0.02, 3: 0.03, 4: 0.04, 5: 0.05, 6: 0.06, 7: 0.07, 8: 0.08, 9: 0.09, 10: 0.1, 11: 0.11, 12: 0.12, 13: 0.13, 14: 0.14, 15: 0.15, 16: 0.16, 17: 0.17, 18: 0.18, 19: 0.19, 20: 0.2, 21: 0.21, 22: 0.22, 23: 0.23, 24: 0.24, 25: 0.25, 26: 0.26, 27: 0.27, 28: 0.28, 29: 0.29, 30: 0.3, 31: 0.31, 32: 0.32, 33: 0.33, 34: 0.34, 35: 0.35, 36: 0.36, 37: 0.37, 38: 0.38, 39: 0.39, 40: 0.4, 41: 0.41, 42: 0.42, 43: 0.43, 44: 0.44, 45: 0.45, 46: 0.46, 47: 0.47, 48: 0.48, 49: 0.49, 50: 0.5, 51: 0.51, 52: 0.52, 53: 0.53, 54: 0.54, 55: 0.55, 56: 0.56, 57: 0.57, 58: 0.58, 59: 0.59, 60: 0.6, 61: 0.61, 62: 0.62, 63: 0.63, 64: 0.64, 65: 0.65, 66: 0.66, 67: 0.67, 68: 0.68, 69: 0.69, 70: 0.7, 71: 0.71, 72: 0.72, 73: 0.73, 74: 0.74, 75: 0.75, 76: 0.76, 77: 0.77, 78: 0.78, 79: 0.79, 80: 0.8, 81: 0.81, 82: 0.82, 83: 0.83, 84: 0.84, 85: 0.85, 86: 0.86, 87: 0.87, 88: 0.88, 89: 0.89, 90: 0.9, 91: 0.91, 92: 0.92, 93: 0.93, 94: 0.94, 95: 0.95, 96: 0.96, 97: 0.97, 98: 0.98, 99: 0.99, 100: 1.0}\n"
     ]
    }
   ],
   "source": [
    "import numpy as np\n",
    "\n",
    "Prior = dict()\n",
    "for x in range (0, 101):\n",
    "    Prior[x] = x / 100.\n",
    "print (Prior)"
   ]
  },
  {
   "cell_type": "code",
   "execution_count": 5,
   "metadata": {},
   "outputs": [],
   "source": [
    "def Likelihood (data, hypo):\n",
    "    if data == 'H': # head\n",
    "        return  hypo / 100\n",
    "    else:\n",
    "        return  1 - hypo/100\n",
    "#"
   ]
  },
  {
   "cell_type": "code",
   "execution_count": 7,
   "metadata": {},
   "outputs": [
    {
     "name": "stdout",
     "output_type": "stream",
     "text": [
      "HHHHHHHHHHHHHHHHHHHHHHHHHHHHHHHHHHHHHHHHHHHHHHHHHHHHHHHHHHHHHHHHHHHHHHHHHHHHHHHHHHHHHHHHHHHHHHHHHHHHHHHHHHHHHHHHHHHHHHHHHHHHHHHHHHHHHHHHHHHHTTTTTTTTTTTTTTTTTTTTTTTTTTTTTTTTTTTTTTTTTTTTTTTTTTTTTTTTTTTTTTTTTTTTTTTTTTTTTTTTTTTTTTTTTTTTTTTTTTTTTTTTTTTTTT\n"
     ]
    }
   ],
   "source": [
    "data = 'H'*140 + 'T'*110\n",
    "print (data)"
   ]
  },
  {
   "cell_type": "code",
   "execution_count": 10,
   "metadata": {},
   "outputs": [],
   "source": [
    "# let's compute the likelihood for each hypothesis\n",
    "Likely = dict()\n",
    "for hypo in Prior.keys():\n",
    "    Likely[hypo] = 1\n",
    "    for f in data:\n",
    "        Likely[hypo] *= Likelihood (f, hypo)\n",
    "    #\n",
    "#\n",
    "#print (Likely)"
   ]
  },
  {
   "cell_type": "markdown",
   "metadata": {},
   "source": [
    "Posterior = Likelihood * Prior / Normalize"
   ]
  },
  {
   "cell_type": "code",
   "execution_count": 12,
   "metadata": {},
   "outputs": [
    {
     "name": "stdout",
     "output_type": "stream",
     "text": [
      "Evidence =  1.4743007568881398e-74\n"
     ]
    }
   ],
   "source": [
    "Posterior = dict()\n",
    "for h in Prior.keys():\n",
    "    Posterior[h] = Likely[h] * Prior[h]\n",
    "#\n",
    "evidence = 0\n",
    "for h in Prior.keys():\n",
    "    evidence += Posterior[h]\n",
    "#\n",
    "print ('Evidence = ', evidence)\n",
    "\n",
    "for h in Prior.keys():\n",
    "    Posterior[h] = Posterior[h] / evidence"
   ]
  },
  {
   "cell_type": "code",
   "execution_count": 25,
   "metadata": {},
   "outputs": [
    {
     "data": {
      "text/plain": [
       "[<matplotlib.lines.Line2D at 0x11c7e05c0>]"
      ]
     },
     "execution_count": 25,
     "metadata": {},
     "output_type": "execute_result"
    },
    {
     "data": {
      "image/png": "[encoded data removed]",
      "text/plain": [
       "<Figure size 432x288 with 1 Axes>"
      ]
     },
     "metadata": {},
     "output_type": "display_data"
    }
   ],
   "source": [
    "from matplotlib import pyplot as plt\n",
    "\n",
    "post = list(Posterior.values())\n",
    "plt.plot (post)"
   ]
  },
  {
   "cell_type": "code",
   "execution_count": 75,
   "metadata": {},
   "outputs": [
    {
     "name": "stdout",
     "output_type": "stream",
     "text": [
      "Posterior Mean = 56.13   Max= (56, 0.12756165137589734)\n"
     ]
    }
   ],
   "source": [
    "# posterior mean\n",
    "\n",
    "max = (0,Posterior[0]);\n",
    "mean = 0\n",
    "for h, v in Posterior.items():\n",
    "    mean += h * v\n",
    "    if max[1] < v: max = (h,v)\n",
    "#\n",
    "print ('Posterior Mean = {:.2f}   Max= {}'.format(mean, max))"
   ]
  },
  {
   "cell_type": "code",
   "execution_count": 63,
   "metadata": {},
   "outputs": [
    {
     "name": "stdout",
     "output_type": "stream",
     "text": [
      "@ median =  56\n"
     ]
    },
    {
     "data": {
      "image/png": "[encoded data removed]",
      "text/plain": [
       "<Figure size 432x288 with 1 Axes>"
      ]
     },
     "metadata": {},
     "output_type": "display_data"
    }
   ],
   "source": [
    "# cdf & median\n",
    "cdf = dict()\n",
    "cdf[0] = 0\n",
    "for h,v in Posterior.items():\n",
    "    if h > 0:\n",
    "        cdf[h] = cdf[h-1] + Posterior[h]\n",
    "#\n",
    "plt.plot (list(cdf.values()))"
   ]
  },
  {
   "cell_type": "code",
   "execution_count": 65,
   "metadata": {},
   "outputs": [
    {
     "name": "stdout",
     "output_type": "stream",
     "text": [
      "@ median =  56\n"
     ]
    }
   ],
   "source": [
    "# median is the point where cdf == 0.5\n",
    "for h in cdf:\n",
    "    if cdf[h] > 0.5: break\n",
    "print ('@ median = ', h)"
   ]
  },
  {
   "cell_type": "code",
   "execution_count": 50,
   "metadata": {},
   "outputs": [
    {
     "name": "stdout",
     "output_type": "stream",
     "text": [
      "Posterior(50%) =  0.018744980796614377 0.12756165137589734\n"
     ]
    }
   ],
   "source": [
    "print ('Posterior(50%) = ', Posterior[50], Posterior[56])"
   ]
  },
  {
   "cell_type": "code",
   "execution_count": 70,
   "metadata": {},
   "outputs": [],
   "source": [
    "def Percentile (cdf, pcnt):\n",
    "    for h in cdf:\n",
    "        if cdf[h] > pcnt/100: break\n",
    "    return h"
   ]
  },
  {
   "cell_type": "code",
   "execution_count": 71,
   "metadata": {},
   "outputs": [
    {
     "name": "stdout",
     "output_type": "stream",
     "text": [
      "52 60\n"
     ]
    }
   ],
   "source": [
    "print (Percentile(cdf, 10), Percentile(cdf, 90))"
   ]
  },
  {
   "cell_type": "code",
   "execution_count": 73,
   "metadata": {},
   "outputs": [],
   "source": [
    "def CredibleInterval (cdf, p):\n",
    "    step = (100 - p) / 2;\n",
    "    return Percentile(cdf, step), Percentile(cdf, 100 -  step)"
   ]
  },
  {
   "cell_type": "code",
   "execution_count": 74,
   "metadata": {},
   "outputs": [
    {
     "data": {
      "text/plain": [
       "(51, 61)"
      ]
     },
     "execution_count": 74,
     "metadata": {},
     "output_type": "execute_result"
    }
   ],
   "source": [
    "CredibleInterval(cdf, 90)"
   ]
  },
  {
   "cell_type": "markdown",
   "metadata": {},
   "source": [
    "### Summary\n",
    "\n",
    "- Posterior credible interval does not include 50%, which suggests that the coin is not fair.\n",
    "- We must be more precise about what it means to say that data constitute evidence for a hypothesis. Next chapter."
   ]
  },
  {
   "cell_type": "markdown",
   "metadata": {},
   "source": [
    "### Using Beta Distribution as Proior\n",
    "- Uniform distribution between [0,1] when $\\alpha=1$, $\\beta = 1$.\n",
    "\n",
    "$P_\\mbox{beta} = C_\\mbox{beta}\\; x^{\\alpha-1} \\; (1-x)^{\\beta-1} = \\mbox{Beta}(x; \\alpha, \\beta)$"
   ]
  },
  {
   "cell_type": "code",
   "execution_count": 79,
   "metadata": {},
   "outputs": [],
   "source": [
    "class Beta :\n",
    "    def __init__(self, alpha=1, beta=1):\n",
    "        self.alpha = alpha\n",
    "        self.beta = beta"
   ]
  },
  {
   "cell_type": "code",
   "execution_count": 80,
   "metadata": {},
   "outputs": [],
   "source": [
    "beta = Beta()"
   ]
  },
  {
   "cell_type": "markdown",
   "metadata": {},
   "source": [
    "- Likelihood for (140, 110) heads and tails is a binomial distribution with probability $x$\n",
    "\n",
    "$L = C_L \\; x^{140} \\; (1-x)^{110}$"
   ]
  },
  {
   "cell_type": "markdown",
   "metadata": {},
   "source": [
    "- Therefore, the posterior distribution is the multiplication of the two\n",
    "\n",
    "$ P((140,110) | x) = P_\\mbox{beta} * L = C\\; x^{\\alpha-1+140} \\; (1-x)^{\\beta-1+110} = \\mbox{Beta}(x; \\alpha+140, \\beta+110) = \\mbox{Beta}(x; 141, 111)$"
   ]
  },
  {
   "cell_type": "code",
   "execution_count": 81,
   "metadata": {},
   "outputs": [],
   "source": [
    "from scipy.stats import beta"
   ]
  },
  {
   "cell_type": "code",
   "execution_count": 99,
   "metadata": {},
   "outputs": [],
   "source": [
    "a = 141\n",
    "b = 111\n",
    "\n",
    "cdf = {}\n",
    "cdf[0] = beta.cdf(0, a, b)\n",
    "pmf = {}\n",
    "pmf[0] = beta.cdf(0, a, b)\n",
    "for p in range(1, 101):\n",
    "    cdf[p] = beta.cdf(p/100, a, b)\n",
    "    pmf[p] = beta.cdf(p/100, a, b) - beta.cdf((p-1)/100, a, b)"
   ]
  },
  {
   "cell_type": "code",
   "execution_count": 105,
   "metadata": {},
   "outputs": [
    {
     "data": {
      "text/plain": [
       "[<matplotlib.lines.Line2D at 0x1a1ef02860>]"
      ]
     },
     "execution_count": 105,
     "metadata": {},
     "output_type": "execute_result"
    },
    {
     "data": {
      "image/png": "[encoded data removed]",
      "text/plain": [
       "<Figure size 432x288 with 1 Axes>"
      ]
     },
     "metadata": {},
     "output_type": "display_data"
    }
   ],
   "source": [
    "plt.xlabel('x * 100')\n",
    "plt.ylabel('PMF of beta ($x$; {}, {})'.format(a,b))\n",
    "plt.plot (list(pmf.values()))"
   ]
  },
  {
   "cell_type": "code",
   "execution_count": 106,
   "metadata": {},
   "outputs": [
    {
     "data": {
      "text/plain": [
       "[<matplotlib.lines.Line2D at 0x1a1f0e7128>]"
      ]
     },
     "execution_count": 106,
     "metadata": {},
     "output_type": "execute_result"
    },
    {
     "data": {
      "image/png": "[encoded data removed]",
      "text/plain": [
       "<Figure size 432x288 with 1 Axes>"
      ]
     },
     "metadata": {},
     "output_type": "display_data"
    }
   ],
   "source": [
    "plt.xlabel('x * 100')\n",
    "plt.ylabel('CMF of beta ($x$; {}, {})'.format(a,b))\n",
    "plt.plot (list(cdf.values()))"
   ]
  },
  {
   "cell_type": "code",
   "execution_count": null,
   "metadata": {},
   "outputs": [],
   "source": []
  },
  {
   "cell_type": "code",
   "execution_count": null,
   "metadata": {},
   "outputs": [],
   "source": []
  }
 ],
 "metadata": {
  "kernelspec": {
   "display_name": "Python 3",
   "language": "python",
   "name": "python3"
  },
  "language_info": {
   "codemirror_mode": {
    "name": "ipython",
    "version": 3
   },
   "file_extension": ".py",
   "mimetype": "text/x-python",
   "name": "python",
   "nbconvert_exporter": "python",
   "pygments_lexer": "ipython3",
   "version": "3.6.4"
  }
 },
 "nbformat": 4,
 "nbformat_minor": 2
}
