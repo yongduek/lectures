{
 "cells": [
  {
   "cell_type": "markdown",
   "metadata": {},
   "source": [
    "# Frozenlake\n",
    "- https://github.com/openai/gym/wiki/Table-of-environments \n",
    "- https://github.com/openai/gym/wiki/FrozenLake-v0\n",
    "- https://github.com/openai/gym/blob/master/gym/envs/__init__.py\n",
    "- https://github.com/openai/gym/blob/master/gym/envs/toy_text/frozen_lake.py\n",
    "\n",
    "- the 4x4 map is fixed\n",
    "- result of action is probabilisitc due to the slippery envornment\n",
    "- solved requirements: \n",
    "    - reaching the goal without falling into the hole over 100 consecutive trials.\n",
    "    \n",
    "- You can play it for youself: frozenlake_game.py"
   ]
  },
  {
   "cell_type": "code",
   "execution_count": 1,
   "metadata": {},
   "outputs": [
    {
     "data": {
      "text/plain": [
       "'3.8.10 (tags/v3.8.10:3d8993a, May  3 2021, 11:48:03) [MSC v.1928 64 bit (AMD64)]'"
      ]
     },
     "execution_count": 1,
     "metadata": {},
     "output_type": "execute_result"
    }
   ],
   "source": [
    "import sys\n",
    "sys.version"
   ]
  },
  {
   "cell_type": "code",
   "execution_count": 2,
   "metadata": {},
   "outputs": [],
   "source": [
    "import numpy as np\n",
    "import gym\n",
    "from gym.envs.registration import register"
   ]
  },
  {
   "cell_type": "code",
   "execution_count": 3,
   "metadata": {},
   "outputs": [],
   "source": [
    "\"\"\"\n",
    " Non-slippery 로 셋팅.\n",
    "\"\"\"\n",
    "register(\n",
    "    id='FrozenLakeNotSlippery-v1',\n",
    "    entry_point='gym.envs.toy_text:FrozenLakeEnv',\n",
    "    kwargs={'map_name' : '4x4', 'is_slippery': False},\n",
    ")"
   ]
  },
  {
   "cell_type": "code",
   "execution_count": 4,
   "metadata": {},
   "outputs": [],
   "source": [
    "# OpenAI Gym에서 미리 정의되어 있는 action 매핑\n",
    "LEFT = 0\n",
    "DOWN = 1\n",
    "RIGHT = 2\n",
    "UP = 3"
   ]
  },
  {
   "cell_type": "markdown",
   "metadata": {},
   "source": [
    "# Deterministic environment. \n",
    "\n",
    "- Action results in the exact destination state."
   ]
  },
  {
   "cell_type": "code",
   "execution_count": 5,
   "metadata": {},
   "outputs": [
    {
     "name": "stdout",
     "output_type": "stream",
     "text": [
      "3 0 0.0 False {'prob': 1.0}\n",
      "1 4 0.0 False {'prob': 1.0}\n",
      "2 5 0.0 True {'prob': 1.0}\n"
     ]
    }
   ],
   "source": [
    "env = gym.make('FrozenLakeNotSlippery-v1')\n",
    "state = env.reset();  # initial state should be 0\n",
    "for i in range(3):\n",
    "    action = env.action_space.sample()  # \n",
    "    newstate, reward, done, info = env.step(action)\n",
    "    print(action, newstate, reward, done, info)"
   ]
  },
  {
   "cell_type": "code",
   "execution_count": 6,
   "metadata": {},
   "outputs": [
    {
     "name": "stdout",
     "output_type": "stream",
     "text": [
      "  (Right)\n",
      "S\u001b[41mF\u001b[0mFF\n",
      "FHFH\n",
      "FFFH\n",
      "HFFG\n",
      "2 1 0.0 False {'prob': 1.0}\n",
      "  (Right)\n",
      "SF\u001b[41mF\u001b[0mF\n",
      "FHFH\n",
      "FFFH\n",
      "HFFG\n",
      "2 2 0.0 False {'prob': 1.0}\n",
      "  (Right)\n",
      "SFF\u001b[41mF\u001b[0m\n",
      "FHFH\n",
      "FFFH\n",
      "HFFG\n",
      "2 3 0.0 False {'prob': 1.0}\n"
     ]
    }
   ],
   "source": [
    "env = gym.make('FrozenLakeNotSlippery-v1')\n",
    "state = env.reset();  # initial state should be 0\n",
    "for i in range(3):\n",
    "    action = 2  # \n",
    "    newstate, reward, done, info = env.step(action)\n",
    "    env.render()\n",
    "    print(action, newstate, reward, done, info)"
   ]
  },
  {
   "cell_type": "markdown",
   "metadata": {},
   "source": [
    "# Stochastic Environment\n",
    "\n",
    "- Because of stochastic reaction of the environment, the agent can or cannot go to its intended place."
   ]
  },
  {
   "cell_type": "code",
   "execution_count": 8,
   "metadata": {},
   "outputs": [
    {
     "name": "stdout",
     "output_type": "stream",
     "text": [
      "  (Up)\n",
      "\u001b[41mS\u001b[0mFFF\n",
      "FHFH\n",
      "FFFH\n",
      "HFFG\n",
      "3 0 0.0 False {'prob': 0.3333333333333333}\n",
      "  (Right)\n",
      "S\u001b[41mF\u001b[0mFF\n",
      "FHFH\n",
      "FFFH\n",
      "HFFG\n",
      "2 1 0.0 False {'prob': 0.3333333333333333}\n",
      "  (Down)\n",
      "\u001b[41mS\u001b[0mFFF\n",
      "FHFH\n",
      "FFFH\n",
      "HFFG\n",
      "1 0 0.0 False {'prob': 0.3333333333333333}\n"
     ]
    }
   ],
   "source": [
    "env = gym.make('FrozenLake-v1')\n",
    "\n",
    "state = env.reset();  # initial state should be 0\n",
    "for i in range(3):\n",
    "    action = env.action_space.sample()  # \n",
    "    newstate, reward, done, info = env.step(action)\n",
    "    env.render()\n",
    "    print(action, newstate, reward, done, info)\n",
    "    if done: break"
   ]
  },
  {
   "cell_type": "markdown",
   "metadata": {},
   "source": [
    "## Just try to move right."
   ]
  },
  {
   "cell_type": "code",
   "execution_count": 9,
   "metadata": {},
   "outputs": [
    {
     "name": "stdout",
     "output_type": "stream",
     "text": [
      "  (Right)\n",
      "S\u001b[41mF\u001b[0mFF\n",
      "FHFH\n",
      "FFFH\n",
      "HFFG\n",
      "2 1 0.0 False {'prob': 0.3333333333333333}\n",
      "  (Right)\n",
      "SF\u001b[41mF\u001b[0mF\n",
      "FHFH\n",
      "FFFH\n",
      "HFFG\n",
      "2 2 0.0 False {'prob': 0.3333333333333333}\n",
      "  (Right)\n",
      "SFF\u001b[41mF\u001b[0m\n",
      "FHFH\n",
      "FFFH\n",
      "HFFG\n",
      "2 3 0.0 False {'prob': 0.3333333333333333}\n"
     ]
    }
   ],
   "source": [
    "env = gym.make('FrozenLake-v1')\n",
    "state = env.reset();  # initial state should be 0\n",
    "for i in range(3):\n",
    "    action = 2 # \n",
    "    newstate, reward, done, info = env.step(action)\n",
    "    env.render()\n",
    "    print(action, newstate, reward, done, info)\n",
    "    if done: break"
   ]
  },
  {
   "cell_type": "markdown",
   "metadata": {},
   "source": [
    "## Now let's see the probability of transition from S0."
   ]
  },
  {
   "cell_type": "code",
   "execution_count": 10,
   "metadata": {},
   "outputs": [
    {
     "name": "stdout",
     "output_type": "stream",
     "text": [
      "[[0.33133333 0.33283333 0.         0.        ]\n",
      " [0.33583333 0.         0.         0.        ]\n",
      " [0.         0.         0.         0.        ]\n",
      " [0.         0.         0.         0.        ]]\n"
     ]
    }
   ],
   "source": [
    "dstate = np.zeros((16,))\n",
    "ntrials = 30000\n",
    "for i in range(ntrials):\n",
    "    state = env.reset();  # initial state should be 0\n",
    "    action = 2  # go right\n",
    "    newstate, reward, done, info = env.step(action)\n",
    "    dstate[newstate] += 1\n",
    "#\n",
    "prob = dstate.reshape(4,4) / ntrials\n",
    "print(f'{prob}')"
   ]
  },
  {
   "cell_type": "markdown",
   "metadata": {},
   "source": [
    "## Let's build up a full state transition probability.\n",
    "- action policy is 'random'\n",
    "    - it may not reach the goal :)"
   ]
  },
  {
   "cell_type": "code",
   "execution_count": 11,
   "metadata": {},
   "outputs": [],
   "source": [
    "stm = np.zeros((16,16))\n",
    "counts = np.ones((16,), dtype=int)\n",
    "\n",
    "nepisodes = 100_000\n",
    "for i in range(nepisodes):\n",
    "    state = env.reset()\n",
    "    done = False\n",
    "    while done == False:\n",
    "        counts[state] += 1\n",
    "        \n",
    "        action = env.action_space.sample()\n",
    "        newstate, reward, done, info = env.step(action)\n",
    "        \n",
    "        stm[state, newstate] += 1\n",
    "        state = newstate\n",
    "        if done:\n",
    "            break "
   ]
  },
  {
   "cell_type": "code",
   "execution_count": 12,
   "metadata": {},
   "outputs": [
    {
     "name": "stdout",
     "output_type": "stream",
     "text": [
      "\n",
      "\u001b[41mS\u001b[0mFFF\n",
      "FHFH\n",
      "FFFH\n",
      "HFFG\n"
     ]
    },
    {
     "data": {
      "text/plain": [
       "array([[ 1,  2,  3,  4],\n",
       "       [ 5,  6,  7,  8],\n",
       "       [ 9, 10, 11, 12],\n",
       "       [13, 14, 15, 16]])"
      ]
     },
     "execution_count": 12,
     "metadata": {},
     "output_type": "execute_result"
    }
   ],
   "source": [
    "env.reset(); env.render(); np.arange(1,17).reshape(4,4)"
   ]
  },
  {
   "cell_type": "code",
   "execution_count": 13,
   "metadata": {},
   "outputs": [
    {
     "name": "stdout",
     "output_type": "stream",
     "text": [
      " 1:   0.50  0.25  0.00  0.00  0.25  0.00  0.00  0.00  0.00  0.00  0.00  0.00  0.00  0.00  0.00  0.00 \n",
      " 2:   0.25  0.25  0.25  0.00  0.00  0.25  0.00  0.00  0.00  0.00  0.00  0.00  0.00  0.00  0.00  0.00 \n",
      " 3:   0.00  0.25  0.25  0.25  0.00  0.00  0.25  0.00  0.00  0.00  0.00  0.00  0.00  0.00  0.00  0.00 \n",
      " 4:   0.00  0.00  0.25  0.50  0.00  0.00  0.00  0.25  0.00  0.00  0.00  0.00  0.00  0.00  0.00  0.00 \n",
      " 5:   0.25  0.00  0.00  0.00  0.25  0.25  0.00  0.00  0.25  0.00  0.00  0.00  0.00  0.00  0.00  0.00 \n",
      " 6:   0.00  0.00  0.00  0.00  0.00  0.00  0.00  0.00  0.00  0.00  0.00  0.00  0.00  0.00  0.00  0.00 \n",
      " 7:   0.00  0.00  0.25  0.00  0.00  0.25  0.00  0.25  0.00  0.00  0.25  0.00  0.00  0.00  0.00  0.00 \n",
      " 8:   0.00  0.00  0.00  0.00  0.00  0.00  0.00  0.00  0.00  0.00  0.00  0.00  0.00  0.00  0.00  0.00 \n",
      " 9:   0.00  0.00  0.00  0.00  0.25  0.00  0.00  0.00  0.25  0.25  0.00  0.00  0.25  0.00  0.00  0.00 \n",
      "10:   0.00  0.00  0.00  0.00  0.00  0.25  0.00  0.00  0.25  0.00  0.25  0.00  0.00  0.25  0.00  0.00 \n",
      "11:   0.00  0.00  0.00  0.00  0.00  0.00  0.25  0.00  0.00  0.24  0.00  0.25  0.00  0.00  0.25  0.00 \n",
      "12:   0.00  0.00  0.00  0.00  0.00  0.00  0.00  0.00  0.00  0.00  0.00  0.00  0.00  0.00  0.00  0.00 \n",
      "13:   0.00  0.00  0.00  0.00  0.00  0.00  0.00  0.00  0.00  0.00  0.00  0.00  0.00  0.00  0.00  0.00 \n",
      "14:   0.00  0.00  0.00  0.00  0.00  0.00  0.00  0.00  0.00  0.24  0.00  0.00  0.26  0.25  0.25  0.00 \n",
      "15:   0.00  0.00  0.00  0.00  0.00  0.00  0.00  0.00  0.00  0.00  0.25  0.00  0.00  0.25  0.24  0.26 \n",
      "16:   0.00  0.00  0.00  0.00  0.00  0.00  0.00  0.00  0.00  0.00  0.00  0.00  0.00  0.00  0.00  0.00 \n"
     ]
    }
   ],
   "source": [
    "for i in range(16):\n",
    "    p = stm[i,:] / counts[i]\n",
    "    print(f'{i+1:2}: ', end=' ')\n",
    "    for si in p:\n",
    "        print(f'{si:5.2f}', end=' ')\n",
    "    print('')"
   ]
  },
  {
   "cell_type": "code",
   "execution_count": 14,
   "metadata": {},
   "outputs": [
    {
     "data": {
      "text/plain": [
       "array([[162674.,  81574.,      0.,      0.,  81472.,      0.,      0.,\n",
       "             0.,      0.,      0.,      0.,      0.,      0.,      0.,\n",
       "             0.,      0.],\n",
       "       [ 32166.,  32026.,  31873.,      0.,      0.,  31959.,      0.,\n",
       "             0.,      0.,      0.,      0.,      0.,      0.,      0.,\n",
       "             0.,      0.],\n",
       "       [     0.,  14424.,  14328.,  14532.,      0.,      0.,  14342.,\n",
       "             0.,      0.,      0.,      0.,      0.,      0.,      0.,\n",
       "             0.,      0.],\n",
       "       [     0.,      0.,   7232.,  14732.,      0.,      0.,      0.,\n",
       "          7300.,      0.,      0.,      0.,      0.,      0.,      0.,\n",
       "             0.,      0.],\n",
       "       [ 30880.,      0.,      0.,      0.,  31212.,  31308.,      0.,\n",
       "             0.,  31040.,      0.,      0.,      0.,      0.,      0.,\n",
       "             0.,      0.],\n",
       "       [     0.,      0.,      0.,      0.,      0.,      0.,      0.,\n",
       "             0.,      0.,      0.,      0.,      0.,      0.,      0.,\n",
       "             0.,      0.],\n",
       "       [     0.,      0.,   4193.,      0.,      0.,   4169.,      0.,\n",
       "          4149.,      0.,      0.,   4263.,      0.,      0.,      0.,\n",
       "             0.,      0.],\n",
       "       [     0.,      0.,      0.,      0.,      0.,      0.,      0.,\n",
       "             0.,      0.,      0.,      0.,      0.,      0.,      0.,\n",
       "             0.,      0.],\n",
       "       [     0.,      0.,      0.,      0.,  11756.,      0.,      0.,\n",
       "             0.,  11546.,  11645.,      0.,      0.,  11519.,      0.,\n",
       "             0.,      0.],\n",
       "       [     0.,      0.,      0.,      0.,      0.,   3939.,      0.,\n",
       "             0.,   3880.,      0.,   3916.,      0.,      0.,   3910.,\n",
       "             0.,      0.],\n",
       "       [     0.,      0.,      0.,      0.,      0.,      0.,   2432.,\n",
       "             0.,      0.,   2287.,      0.,   2420.,      0.,      0.,\n",
       "          2400.,      0.],\n",
       "       [     0.,      0.,      0.,      0.,      0.,      0.,      0.,\n",
       "             0.,      0.,      0.,      0.,      0.,      0.,      0.,\n",
       "             0.,      0.],\n",
       "       [     0.,      0.,      0.,      0.,      0.,      0.,      0.,\n",
       "             0.,      0.,      0.,      0.,      0.,      0.,      0.,\n",
       "             0.,      0.],\n",
       "       [     0.,      0.,      0.,      0.,      0.,      0.,      0.,\n",
       "             0.,      0.,   1713.,      0.,      0.,   1806.,   1773.,\n",
       "          1788.,      0.],\n",
       "       [     0.,      0.,      0.,      0.,      0.,      0.,      0.,\n",
       "             0.,      0.,      0.,   1360.,      0.,      0.,   1397.,\n",
       "          1347.,   1431.],\n",
       "       [     0.,      0.,      0.,      0.,      0.,      0.,      0.,\n",
       "             0.,      0.,      0.,      0.,      0.,      0.,      0.,\n",
       "             0.,      0.]])"
      ]
     },
     "execution_count": 14,
     "metadata": {},
     "output_type": "execute_result"
    }
   ],
   "source": [
    "stm"
   ]
  },
  {
   "cell_type": "code",
   "execution_count": 15,
   "metadata": {},
   "outputs": [
    {
     "data": {
      "text/plain": [
       "array([325721, 128025,  57627,  29265, 124441,      1,  16775,      1,\n",
       "        46467,  15646,   9540,      1,      1,   7081,   5536,      1])"
      ]
     },
     "execution_count": 15,
     "metadata": {},
     "output_type": "execute_result"
    }
   ],
   "source": [
    "counts"
   ]
  },
  {
   "cell_type": "code",
   "execution_count": null,
   "metadata": {},
   "outputs": [],
   "source": []
  }
 ],
 "metadata": {
  "kernelspec": {
   "display_name": "Python 3",
   "language": "python",
   "name": "python3"
  },
  "language_info": {
   "codemirror_mode": {
    "name": "ipython",
    "version": 3
   },
   "file_extension": ".py",
   "mimetype": "text/x-python",
   "name": "python",
   "nbconvert_exporter": "python",
   "pygments_lexer": "ipython3",
   "version": "3.8.10"
  }
 },
 "nbformat": 4,
 "nbformat_minor": 4
}
