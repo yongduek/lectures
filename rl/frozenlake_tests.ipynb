{
 "cells": [
  {
   "cell_type": "code",
   "execution_count": 16,
   "metadata": {},
   "outputs": [],
   "source": [
    "import numpy as np\n",
    "import gym\n",
    "from gym.envs.registration import register"
   ]
  },
  {
   "cell_type": "markdown",
   "metadata": {},
   "source": [
    "# Frozenlake\n",
    "- https://github.com/openai/gym/wiki/Table-of-environments \n",
    "- https://github.com/openai/gym/wiki/FrozenLake-v0\n",
    "- https://github.com/openai/gym/blob/master/gym/envs/__init__.py\n",
    "- https://github.com/openai/gym/blob/master/gym/envs/toy_text/frozen_lake.py\n",
    "\n",
    "- the 4x4 map is fixed\n",
    "- result of action is probabilisitc due to the slippery envornment\n",
    "- solved requirements: \n",
    "    - reaching the goal without falling into the hole over 100 consecutive trials."
   ]
  },
  {
   "cell_type": "code",
   "execution_count": 3,
   "metadata": {},
   "outputs": [],
   "source": [
    "\"\"\"\n",
    " Non-slippery 로 셋팅.\n",
    "\"\"\"\n",
    "register(\n",
    "    id='FrozenLakeNotSlippery-v1',\n",
    "    entry_point='gym.envs.toy_text:FrozenLakeEnv',\n",
    "    kwargs={'map_name' : '4x4', 'is_slippery': False},\n",
    ")"
   ]
  },
  {
   "cell_type": "code",
   "execution_count": 4,
   "metadata": {},
   "outputs": [],
   "source": [
    "# OpenAI Gym에서 미리 정의되어 있는 action 매핑\n",
    "LEFT = 0\n",
    "DOWN = 1\n",
    "RIGHT = 2\n",
    "UP = 3"
   ]
  },
  {
   "cell_type": "markdown",
   "metadata": {},
   "source": [
    "# Deterministic environment. \n",
    "\n",
    "- Action results in the exact destination state."
   ]
  },
  {
   "cell_type": "code",
   "execution_count": 12,
   "metadata": {},
   "outputs": [
    {
     "name": "stdout",
     "output_type": "stream",
     "text": [
      "  (Left)\n",
      "\u001b[41mS\u001b[0mFFF\n",
      "FHFH\n",
      "FFFH\n",
      "HFFG\n",
      "0 0 0.0 False {'prob': 1.0}\n",
      "  (Left)\n",
      "\u001b[41mS\u001b[0mFFF\n",
      "FHFH\n",
      "FFFH\n",
      "HFFG\n",
      "0 0 0.0 False {'prob': 1.0}\n",
      "  (Right)\n",
      "S\u001b[41mF\u001b[0mFF\n",
      "FHFH\n",
      "FFFH\n",
      "HFFG\n",
      "2 1 0.0 False {'prob': 1.0}\n"
     ]
    }
   ],
   "source": [
    "env = gym.make('FrozenLakeNotSlippery-v1')\n",
    "state = env.reset();  # initial state should be 0\n",
    "for i in range(3):\n",
    "    action = env.action_space.sample()  # \n",
    "    newstate, reward, done, info = env.step(action)\n",
    "    print(action, newstate, reward, done, info)"
   ]
  },
  {
   "cell_type": "code",
   "execution_count": 19,
   "metadata": {},
   "outputs": [
    {
     "name": "stdout",
     "output_type": "stream",
     "text": [
      "  (Right)\n",
      "S\u001b[41mF\u001b[0mFF\n",
      "FHFH\n",
      "FFFH\n",
      "HFFG\n",
      "2 1 0.0 False {'prob': 1.0}\n",
      "  (Right)\n",
      "SF\u001b[41mF\u001b[0mF\n",
      "FHFH\n",
      "FFFH\n",
      "HFFG\n",
      "2 2 0.0 False {'prob': 1.0}\n",
      "  (Right)\n",
      "SFF\u001b[41mF\u001b[0m\n",
      "FHFH\n",
      "FFFH\n",
      "HFFG\n",
      "2 3 0.0 False {'prob': 1.0}\n"
     ]
    }
   ],
   "source": [
    "env = gym.make('FrozenLakeNotSlippery-v1')\n",
    "state = env.reset();  # initial state should be 0\n",
    "for i in range(3):\n",
    "    action = 2  # \n",
    "    newstate, reward, done, info = env.step(action)\n",
    "    env.render()\n",
    "    print(action, newstate, reward, done, info)"
   ]
  },
  {
   "cell_type": "markdown",
   "metadata": {},
   "source": [
    "# Stochastic Environment"
   ]
  },
  {
   "cell_type": "code",
   "execution_count": 20,
   "metadata": {},
   "outputs": [
    {
     "name": "stdout",
     "output_type": "stream",
     "text": [
      "  (Right)\n",
      "SFFF\n",
      "\u001b[41mF\u001b[0mHFH\n",
      "FFFH\n",
      "HFFG\n",
      "2 4 0.0 False {'prob': 0.3333333333333333}\n",
      "  (Left)\n",
      "SFFF\n",
      "FHFH\n",
      "\u001b[41mF\u001b[0mFFH\n",
      "HFFG\n",
      "0 8 0.0 False {'prob': 0.3333333333333333}\n",
      "  (Right)\n",
      "SFFF\n",
      "FHFH\n",
      "F\u001b[41mF\u001b[0mFH\n",
      "HFFG\n",
      "2 9 0.0 False {'prob': 0.3333333333333333}\n"
     ]
    }
   ],
   "source": [
    "env = gym.make('FrozenLake-v0')\n",
    "state = env.reset();  # initial state should be 0\n",
    "for i in range(3):\n",
    "    action = env.action_space.sample()  # \n",
    "    newstate, reward, done, info = env.step(action)\n",
    "    env.render()\n",
    "    print(action, newstate, reward, done, info)\n",
    "    if done: break"
   ]
  },
  {
   "cell_type": "code",
   "execution_count": 21,
   "metadata": {},
   "outputs": [
    {
     "name": "stdout",
     "output_type": "stream",
     "text": [
      "  (Right)\n",
      "SFFF\n",
      "\u001b[41mF\u001b[0mHFH\n",
      "FFFH\n",
      "HFFG\n",
      "2 4 0.0 False {'prob': 0.3333333333333333}\n",
      "  (Right)\n",
      "SFFF\n",
      "F\u001b[41mH\u001b[0mFH\n",
      "FFFH\n",
      "HFFG\n",
      "2 5 0.0 True {'prob': 0.3333333333333333}\n"
     ]
    }
   ],
   "source": [
    "env = gym.make('FrozenLake-v0')\n",
    "state = env.reset();  # initial state should be 0\n",
    "for i in range(3):\n",
    "    action = 2 # \n",
    "    newstate, reward, done, info = env.step(action)\n",
    "    env.render()\n",
    "    print(action, newstate, reward, done, info)\n",
    "    if done: break"
   ]
  },
  {
   "cell_type": "markdown",
   "metadata": {},
   "source": [
    "Now let's see the probability of transition."
   ]
  },
  {
   "cell_type": "code",
   "execution_count": 31,
   "metadata": {},
   "outputs": [
    {
     "name": "stdout",
     "output_type": "stream",
     "text": [
      "[[0.3348     0.33526667 0.         0.        ]\n",
      " [0.32993333 0.         0.         0.        ]\n",
      " [0.         0.         0.         0.        ]\n",
      " [0.         0.         0.         0.        ]]\n"
     ]
    }
   ],
   "source": [
    "dstate = np.zeros((16,))\n",
    "ntrials = 30000\n",
    "for i in range(ntrials):\n",
    "    state = env.reset();  # initial state should be 0\n",
    "    action = 2  # go right\n",
    "    newstate, reward, done, info = env.step(action)\n",
    "    dstate[newstate] += 1\n",
    "#\n",
    "prob = dstate.reshape(4,4) / ntrials\n",
    "print(f'{prob}')"
   ]
  },
  {
   "cell_type": "code",
   "execution_count": null,
   "metadata": {},
   "outputs": [],
   "source": []
  },
  {
   "cell_type": "code",
   "execution_count": 36,
   "metadata": {},
   "outputs": [
    {
     "ename": "Error",
     "evalue": "Cannot re-register id: FrozenLake-v3",
     "output_type": "error",
     "traceback": [
      "\u001b[1;31m---------------------------------------------------------------------------\u001b[0m",
      "\u001b[1;31mError\u001b[0m                                     Traceback (most recent call last)",
      "\u001b[1;32m<ipython-input-36-e7dc43dc5972>\u001b[0m in \u001b[0;36m<module>\u001b[1;34m\u001b[0m\n\u001b[0;32m     38\u001b[0m \u001b[1;31m# https://gym.openai.com/envs/ 에 들어가면 다양한 환경을 살펴볼 수 있다.\u001b[0m\u001b[1;33m\u001b[0m\u001b[1;33m\u001b[0m\u001b[1;33m\u001b[0m\u001b[0m\n\u001b[0;32m     39\u001b[0m \u001b[1;31m# Frozen-Lake : https://gym.openai.com/envs/FrozenLake-v0/\u001b[0m\u001b[1;33m\u001b[0m\u001b[1;33m\u001b[0m\u001b[1;33m\u001b[0m\u001b[0m\n\u001b[1;32m---> 40\u001b[1;33m register(\n\u001b[0m\u001b[0;32m     41\u001b[0m     \u001b[0mid\u001b[0m \u001b[1;33m=\u001b[0m \u001b[1;34m'FrozenLake-v3'\u001b[0m\u001b[1;33m,\u001b[0m\u001b[1;33m\u001b[0m\u001b[1;33m\u001b[0m\u001b[0m\n\u001b[0;32m     42\u001b[0m     \u001b[0mentry_point\u001b[0m\u001b[1;33m=\u001b[0m\u001b[1;34m'gym.envs.toy_text:FrozenLakeEnv'\u001b[0m\u001b[1;33m,\u001b[0m\u001b[1;33m\u001b[0m\u001b[1;33m\u001b[0m\u001b[0m\n",
      "\u001b[1;32mc:\\users\\vip\\appdata\\local\\programs\\python\\python38\\lib\\site-packages\\gym\\envs\\registration.py\u001b[0m in \u001b[0;36mregister\u001b[1;34m(id, **kwargs)\u001b[0m\n\u001b[0;32m    140\u001b[0m \u001b[1;33m\u001b[0m\u001b[0m\n\u001b[0;32m    141\u001b[0m \u001b[1;32mdef\u001b[0m \u001b[0mregister\u001b[0m\u001b[1;33m(\u001b[0m\u001b[0mid\u001b[0m\u001b[1;33m,\u001b[0m \u001b[1;33m**\u001b[0m\u001b[0mkwargs\u001b[0m\u001b[1;33m)\u001b[0m\u001b[1;33m:\u001b[0m\u001b[1;33m\u001b[0m\u001b[1;33m\u001b[0m\u001b[0m\n\u001b[1;32m--> 142\u001b[1;33m     \u001b[1;32mreturn\u001b[0m \u001b[0mregistry\u001b[0m\u001b[1;33m.\u001b[0m\u001b[0mregister\u001b[0m\u001b[1;33m(\u001b[0m\u001b[0mid\u001b[0m\u001b[1;33m,\u001b[0m \u001b[1;33m**\u001b[0m\u001b[0mkwargs\u001b[0m\u001b[1;33m)\u001b[0m\u001b[1;33m\u001b[0m\u001b[1;33m\u001b[0m\u001b[0m\n\u001b[0m\u001b[0;32m    143\u001b[0m \u001b[1;33m\u001b[0m\u001b[0m\n\u001b[0;32m    144\u001b[0m \u001b[1;32mdef\u001b[0m \u001b[0mmake\u001b[0m\u001b[1;33m(\u001b[0m\u001b[0mid\u001b[0m\u001b[1;33m,\u001b[0m \u001b[1;33m**\u001b[0m\u001b[0mkwargs\u001b[0m\u001b[1;33m)\u001b[0m\u001b[1;33m:\u001b[0m\u001b[1;33m\u001b[0m\u001b[1;33m\u001b[0m\u001b[0m\n",
      "\u001b[1;32mc:\\users\\vip\\appdata\\local\\programs\\python\\python38\\lib\\site-packages\\gym\\envs\\registration.py\u001b[0m in \u001b[0;36mregister\u001b[1;34m(self, id, **kwargs)\u001b[0m\n\u001b[0;32m    133\u001b[0m     \u001b[1;32mdef\u001b[0m \u001b[0mregister\u001b[0m\u001b[1;33m(\u001b[0m\u001b[0mself\u001b[0m\u001b[1;33m,\u001b[0m \u001b[0mid\u001b[0m\u001b[1;33m,\u001b[0m \u001b[1;33m**\u001b[0m\u001b[0mkwargs\u001b[0m\u001b[1;33m)\u001b[0m\u001b[1;33m:\u001b[0m\u001b[1;33m\u001b[0m\u001b[1;33m\u001b[0m\u001b[0m\n\u001b[0;32m    134\u001b[0m         \u001b[1;32mif\u001b[0m \u001b[0mid\u001b[0m \u001b[1;32min\u001b[0m \u001b[0mself\u001b[0m\u001b[1;33m.\u001b[0m\u001b[0menv_specs\u001b[0m\u001b[1;33m:\u001b[0m\u001b[1;33m\u001b[0m\u001b[1;33m\u001b[0m\u001b[0m\n\u001b[1;32m--> 135\u001b[1;33m             \u001b[1;32mraise\u001b[0m \u001b[0merror\u001b[0m\u001b[1;33m.\u001b[0m\u001b[0mError\u001b[0m\u001b[1;33m(\u001b[0m\u001b[1;34m'Cannot re-register id: {}'\u001b[0m\u001b[1;33m.\u001b[0m\u001b[0mformat\u001b[0m\u001b[1;33m(\u001b[0m\u001b[0mid\u001b[0m\u001b[1;33m)\u001b[0m\u001b[1;33m)\u001b[0m\u001b[1;33m\u001b[0m\u001b[1;33m\u001b[0m\u001b[0m\n\u001b[0m\u001b[0;32m    136\u001b[0m         \u001b[0mself\u001b[0m\u001b[1;33m.\u001b[0m\u001b[0menv_specs\u001b[0m\u001b[1;33m[\u001b[0m\u001b[0mid\u001b[0m\u001b[1;33m]\u001b[0m \u001b[1;33m=\u001b[0m \u001b[0mEnvSpec\u001b[0m\u001b[1;33m(\u001b[0m\u001b[0mid\u001b[0m\u001b[1;33m,\u001b[0m \u001b[1;33m**\u001b[0m\u001b[0mkwargs\u001b[0m\u001b[1;33m)\u001b[0m\u001b[1;33m\u001b[0m\u001b[1;33m\u001b[0m\u001b[0m\n\u001b[0;32m    137\u001b[0m \u001b[1;33m\u001b[0m\u001b[0m\n",
      "\u001b[1;31mError\u001b[0m: Cannot re-register id: FrozenLake-v3"
     ]
    }
   ],
   "source": [
    "import gym  # OpenAI Gym을 사용하기 위해 라이브러리 import\n",
    "from gym.envs.registration import register\n",
    "# import sys, tty, termios # 키 입력을 위한 라이브러리 for Unix\n",
    "import sys, msvcrt  ## windows\n",
    "\n",
    "# 키입력을 받기 위한 클래스\n",
    "class _Getch:\n",
    "  # 키값 리턴\n",
    "  def __call__(self):\n",
    "      fd = sys.stdin.fileno()\n",
    "      old_setting = termios.tcgetattr(fd)\n",
    "      try:\n",
    "          tty.setraw(sys.stdin.fileno())\n",
    "          ch = sys.stdin.read(1)\n",
    "      finally:\n",
    "          termios.tcsetattr(fd, termios.TCSADRAIN, old_setting)\n",
    "      print(ch)\n",
    "      return ch\n",
    "  \n",
    "inkey = _Getch()  # linux\n",
    "inkey = msvcrt.getch\n",
    "\n",
    "# OpenAI Gym에서 미리 정의되어 있는 action 매핑\n",
    "LEFT = 0\n",
    "DOWN = 1\n",
    "RIGHT = 2\n",
    "UP = 3\n",
    "\n",
    "# 키보드 키와 상하좌우 동작을 매핑\n",
    "arrow_keys = {\n",
    "    'w' : UP,\n",
    "    's' : DOWN,\n",
    "    'd' : RIGHT,\n",
    "    'a' : LEFT\n",
    "}\n",
    "\n",
    "# Gym 환경설정\n",
    "# https://gym.openai.com/envs/ 에 들어가면 다양한 환경을 살펴볼 수 있다.\n",
    "# Frozen-Lake : https://gym.openai.com/envs/FrozenLake-v0/ \n",
    "register(\n",
    "    id = 'FrozenLake-v3', \n",
    "    entry_point='gym.envs.toy_text:FrozenLakeEnv', \n",
    "    kwargs={\n",
    "        'map_name' : '4x4', # 4x4 크기의 맵\n",
    "        'is_slippery' : False # 미끄러질 가능성 없음 (나중에 다룰 것)\n",
    "    }\n",
    ")\n",
    "\n",
    "env = gym.make(\"FrozenLake-v3\")\n",
    "env.render()\n",
    "\n",
    "while True:\n",
    "    # 키 값을 기다린다\n",
    "    key = inkey()\n",
    "    # 만약에 우리가 정의한 키 값이 아닌 경우, 게임 종료\n",
    "    if key not in arrow_keys.keys():\n",
    "        print(\"Game aborted!\")\n",
    "        break\n",
    "    \n",
    "    # 키값과 액션 매핑을 사용해서 상하좌우 중 어떤 행동을 취할지 리턴\n",
    "    action = arrow_keys[key]\n",
    "    # env.step(action) 은 결정한 행동을 실행한다는 의미이고,\n",
    "    # 행동의 결과로 이동한 자리가 어딘지(state), 행동의 reward는 얼마인지(reward), \n",
    "    # 게임이 끝났는지: 구멍에 빠지거나 결승점에 도착하거나 (done), 그 밖의 정보 (info)가 리턴된다.\n",
    "    state, reward, done, info = env.step(action)\n",
    "\n",
    "    # 화면에 Frozen Lake 맵과 현재 위치가 어딘지 그림을 그려줌 (Frozen Lake는 콘솔에 출력)\n",
    "    env.render()\n",
    "    print(\"state : {0}, Action : {1}, Reward : {2}, Info : {3}\".format(state, action, reward, info))\n",
    "\n",
    "    # 게임이 끝났으면 Reward를 출력\n",
    "    # Frozen lake는 결승점에 도착해야만 Reward 1을 받는다.\n",
    "    if done :\n",
    "        print(\"Finished with reward {0}\".format(reward))\n",
    "        break"
   ]
  },
  {
   "cell_type": "code",
   "execution_count": null,
   "metadata": {},
   "outputs": [],
   "source": []
  }
 ],
 "metadata": {
  "kernelspec": {
   "display_name": "Python 3",
   "language": "python",
   "name": "python3"
  },
  "language_info": {
   "codemirror_mode": {
    "name": "ipython",
    "version": 3
   },
   "file_extension": ".py",
   "mimetype": "text/x-python",
   "name": "python",
   "nbconvert_exporter": "python",
   "pygments_lexer": "ipython3",
   "version": "3.8.8"
  }
 },
 "nbformat": 4,
 "nbformat_minor": 4
}
