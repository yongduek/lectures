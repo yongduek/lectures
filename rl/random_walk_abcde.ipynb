{
 "cells": [
  {
   "cell_type": "code",
   "execution_count": 214,
   "metadata": {},
   "outputs": [],
   "source": [
    "import matplotlib.pyplot as plt\n",
    "import seaborn as sns"
   ]
  },
  {
   "cell_type": "markdown",
   "metadata": {},
   "source": [
    "# Simple MDP Model\n",
    "$$\n",
    "T \\longleftrightarrow A \\longleftrightarrow B \\longleftrightarrow C \\overset{1}{\\longleftrightarrow} T\n",
    "$$\n",
    "\n",
    "Policy Evaluation (Prediction)  [See 4.1. Policy Evaluation, Sutton's book](http://incompleteideas.net/book/first/ebook/node41.html)\n",
    "\n",
    "\\begin{align}\n",
    "    V^\\pi & = \\mathbb{E}_\\pi \\big\\{   \n",
    "                    r_{t+1} + \\gamma r_{t+2} + ... | s_t = s\n",
    "                \\big\\}  \\\\\n",
    "          & =\n",
    "             \\mathbb{E}_\\pi\\big\\{ r_{t+1} + \\gamma V^\\pi(s_{t+1})|s_t = s \\big\\} \\\\\n",
    "          & =\n",
    "              \\sum_a \\pi (s,a) \\sum_{s'}  \\mathcal{P}_{ss'}^a\\big[ \\mathcal{R}_{ss'}^a + \\gamma V^\\pi(s') \\big]\n",
    "\\end{align}\n"
   ]
  },
  {
   "cell_type": "markdown",
   "metadata": {},
   "source": [
    "## MC method for policy evaluation"
   ]
  },
  {
   "cell_type": "code",
   "execution_count": 225,
   "metadata": {},
   "outputs": [],
   "source": [
    "import numpy as np\n",
    "\n",
    "class Environment:  # MDP\n",
    "    \n",
    "    def __init__(self, state_name_string='ABCDE'):\n",
    "        self.stat_names = list(state_name_string)\n",
    "        self.stats = np.arange(len(self.stat_names))\n",
    "        self.current = self.stats[rng.integers(0, len(self.stats))]\n",
    "        \n",
    "        self.reset()\n",
    "        \n",
    "    def step(self, action):  # action = [0, 1] left or right\n",
    "        done = False\n",
    "        if action == 0:\n",
    "            self.current -= 1\n",
    "            if self.current < 0:\n",
    "                self.current = 0\n",
    "                done = True\n",
    "            reward = 0\n",
    "            \n",
    "        elif action == 1: # right\n",
    "            self.current += 1\n",
    "            if self.current >= len(self.stats):\n",
    "                self.current -= 1\n",
    "                done = True\n",
    "                reward = 1\n",
    "            else:\n",
    "                reward = 0\n",
    "\n",
    "        info = {}  # just to be gym\n",
    "        \n",
    "        return self.current, reward, done, info\n",
    "    \n",
    "    def reset(self,):\n",
    "        self.current = self.stats[rng.integers(0, len(self.stats))]\n",
    "        return self.current"
   ]
  },
  {
   "cell_type": "code",
   "execution_count": 226,
   "metadata": {},
   "outputs": [],
   "source": [
    "# random action policy\n",
    "rng = np.random.default_rng(2021)\n",
    "\n",
    "def policy(state=None):\n",
    "    return rng.integers(0, 2)\n",
    "\n",
    "action_names = ['left', 'right']"
   ]
  },
  {
   "cell_type": "code",
   "execution_count": 227,
   "metadata": {},
   "outputs": [
    {
     "name": "stdout",
     "output_type": "stream",
     "text": [
      "init state:  C\n",
      "left 1 0 False  :  1 B 0 False\n",
      "right 2 0 False  :  2 C 0 False\n",
      "right 2 1 True  :  2 Terminated. 1 True\n"
     ]
    }
   ],
   "source": [
    "env = Envornment('ABC')\n",
    "\n",
    "state = env.reset()\n",
    "print('init state: ', env.stat_names[state])\n",
    "\n",
    "done = False\n",
    "while done == False:\n",
    "    action = policy(state)\n",
    "    s, r, done, _ = env.step(action)\n",
    "    print(action_names[action], s,r, done, end='  :  ')\n",
    "    if done:    \n",
    "        print(s, 'Terminated.', r, done)    \n",
    "    else:\n",
    "        print(s, env.stat_names[s], r, done)"
   ]
  },
  {
   "cell_type": "code",
   "execution_count": 228,
   "metadata": {},
   "outputs": [],
   "source": [
    "def run_episode(env, verbose=True):\n",
    "    sar = []\n",
    "    state = env.reset()\n",
    "    if verbose:\n",
    "        print('init state: ', env.stat_names[state])\n",
    "\n",
    "    done = False\n",
    "    while done == False:\n",
    "        action = policy(state)\n",
    "        s, r, done, _ = env.step(action)\n",
    "        \n",
    "        sar.append((state, action, r))\n",
    "        state = s  \n",
    "        \n",
    "        if verbose:\n",
    "            print(action_names[action], s,r, done, end='  :  ')\n",
    "            if done:    \n",
    "                print(s, 'Terminated.', r, done)    \n",
    "            else:\n",
    "                print(s, env.stat_names[s], r, done)\n",
    "    #\n",
    "    return sar       "
   ]
  },
  {
   "cell_type": "code",
   "execution_count": 229,
   "metadata": {},
   "outputs": [
    {
     "data": {
      "text/plain": [
       "(array([23., 57., 62.]),\n",
       " array([111., 150., 101.]),\n",
       " array([0.20720721, 0.38      , 0.61386139]))"
      ]
     },
     "execution_count": 229,
     "metadata": {},
     "output_type": "execute_result"
    }
   ],
   "source": [
    "# First visit Monte-Carlo Value policy evaluation\n",
    "\n",
    "env = Environment('ABC')\n",
    "N = np.zeros(len(env.stats))  # number of visit\n",
    "V = np.zeros_like(N)          # value function\n",
    "\n",
    "for _ in range(100):\n",
    "    sar = run_episode(env, verbose=False)\n",
    "\n",
    "    sar = np.array(sar)\n",
    "    for i in range(sar.shape[0]):  # episode length\n",
    "        start_state = sar[i, 0]\n",
    "        G = sar[i:,-1].sum()  # total sum of rewards until termination\n",
    "        N[start_state] += 1\n",
    "        V[start_state] += G\n",
    "\n",
    "V, N, V/N"
   ]
  },
  {
   "cell_type": "code",
   "execution_count": 230,
   "metadata": {},
   "outputs": [],
   "source": [
    "# First visit Monte-Carlo Value policy evaluation\n",
    "def policy_eval(niter=100):\n",
    "    env = Envornment('ABC')\n",
    "    N = np.zeros(len(env.stats))  # number of visit\n",
    "    V = np.zeros_like(N)          # value function\n",
    "\n",
    "    for _ in range(niter):\n",
    "        sar = run_episode(env, verbose=False)\n",
    "\n",
    "        sar = np.array(sar)\n",
    "        for i in range(sar.shape[0]):  # episode length\n",
    "            start_state = sar[i, 0]\n",
    "            G = sar[i:,-1].sum()  # total sum of rewards until termination\n",
    "            N[start_state] += 1\n",
    "            V[start_state] += G\n",
    "    return V/N"
   ]
  },
  {
   "cell_type": "code",
   "execution_count": 167,
   "metadata": {},
   "outputs": [
    {
     "data": {
      "text/plain": [
       "array([0.23333333, 0.55263158, 0.85555556])"
      ]
     },
     "execution_count": 167,
     "metadata": {},
     "output_type": "execute_result"
    }
   ],
   "source": [
    "policy_eval(100)"
   ]
  },
  {
   "cell_type": "code",
   "execution_count": 168,
   "metadata": {},
   "outputs": [
    {
     "data": {
      "text/plain": [
       "array([0.25268817, 0.5040558 , 0.75562053])"
      ]
     },
     "execution_count": 168,
     "metadata": {},
     "output_type": "execute_result"
    }
   ],
   "source": [
    "policy_eval(10000)"
   ]
  },
  {
   "cell_type": "code",
   "execution_count": 169,
   "metadata": {},
   "outputs": [
    {
     "data": {
      "text/plain": [
       "array([0.24845909, 0.50090572, 0.75106426])"
      ]
     },
     "execution_count": 169,
     "metadata": {},
     "output_type": "execute_result"
    }
   ],
   "source": [
    "policy_eval(100000)"
   ]
  },
  {
   "cell_type": "code",
   "execution_count": 170,
   "metadata": {},
   "outputs": [
    {
     "data": {
      "text/plain": [
       "array([0.24690015, 0.49725293, 0.74853667])"
      ]
     },
     "execution_count": 170,
     "metadata": {},
     "output_type": "execute_result"
    }
   ],
   "source": [
    "policy_eval(100000)"
   ]
  },
  {
   "cell_type": "markdown",
   "metadata": {},
   "source": [
    "policy_eval(1000000)"
   ]
  },
  {
   "cell_type": "markdown",
   "metadata": {},
   "source": [
    "policy_eval(1000000)"
   ]
  },
  {
   "cell_type": "markdown",
   "metadata": {},
   "source": [
    "policy_eval(10000000)"
   ]
  },
  {
   "cell_type": "markdown",
   "metadata": {},
   "source": [
    "## Exact solution to the policy evalution problem of the MDP Model\n",
    "$$\n",
    "T \\longleftrightarrow A \\longleftrightarrow B \\longleftrightarrow C \\overset{1}{\\longleftrightarrow} T\n",
    "$$\n",
    "\n",
    "Policy Evaluation (Prediction)  [See 4.1. Policy Evaluation, Sutton's book](http://incompleteideas.net/book/first/ebook/node41.html)\n",
    "\n",
    "\\begin{align}\n",
    "    V^\\pi & = \\mathbb{E}_\\pi \\big\\{   \n",
    "                    r_{t+1} + \\gamma r_{t+2} + ... | s_t = s\n",
    "                \\big\\}  \\\\\n",
    "          & =\n",
    "             \\mathbb{E}_\\pi\\big\\{ r_{t+1} + \\gamma V^\\pi(s_{t+1})|s_t = s \\big\\} \\\\\n",
    "          & =\n",
    "              \\sum_a \\pi (s,a) \\sum_{s'}  \\mathcal{P}_{ss'}^a\\big[ \\mathcal{R}_{ss'}^a + \\gamma V^\\pi(s') \\big]\n",
    "\\end{align}\n"
   ]
  },
  {
   "cell_type": "markdown",
   "metadata": {},
   "source": [
    "With random action policy,\n",
    "\n",
    "V(A) = A = 1/2 (0 + 0 + B)\n",
    "V(B) = B = 1/2 (0 + A + 0 + C)\n",
    "V(C) = C = 1/2 (0 + B + 1)\n",
    "\n",
    "V = [ [0, .5, 0], [.5, 0, .5], [0, .5, 0] ] V + [0, 0, .5]\n",
    "\n",
    "V = inv(I - M) [0, 0, .5]"
   ]
  },
  {
   "cell_type": "code",
   "execution_count": 231,
   "metadata": {},
   "outputs": [
    {
     "data": {
      "text/plain": [
       "array([[1., 0., 0.],\n",
       "       [0., 1., 0.],\n",
       "       [0., 0., 1.]])"
      ]
     },
     "execution_count": 231,
     "metadata": {},
     "output_type": "execute_result"
    }
   ],
   "source": [
    "I = np.eye(3); I"
   ]
  },
  {
   "cell_type": "code",
   "execution_count": 232,
   "metadata": {},
   "outputs": [],
   "source": [
    "A = np.array([[0, .5, 0], [.5, 0, .5], [0, .5, 0]])\n",
    "\n",
    "b = np.array([0,0,.5])"
   ]
  },
  {
   "cell_type": "code",
   "execution_count": 233,
   "metadata": {},
   "outputs": [
    {
     "data": {
      "text/plain": [
       "array([[1.5, 1. , 0.5],\n",
       "       [1. , 2. , 1. ],\n",
       "       [0.5, 1. , 1.5]])"
      ]
     },
     "execution_count": 233,
     "metadata": {},
     "output_type": "execute_result"
    }
   ],
   "source": [
    "np.linalg.inv(I-A)"
   ]
  },
  {
   "cell_type": "code",
   "execution_count": 234,
   "metadata": {},
   "outputs": [
    {
     "data": {
      "text/plain": [
       "array([0.25, 0.5 , 0.75])"
      ]
     },
     "execution_count": 234,
     "metadata": {},
     "output_type": "execute_result"
    }
   ],
   "source": [
    "np.linalg.inv(I-A) @ b"
   ]
  },
  {
   "cell_type": "markdown",
   "metadata": {},
   "source": [
    "## Exact solution to the policy evalution problem\n",
    "$$\n",
    "T \\longleftrightarrow A \\longleftrightarrow \\ldots \\overset{0}{\\longleftrightarrow} E \\overset{1}{\\longleftrightarrow} T\n",
    "$$\n",
    "\n",
    "Policy Evaluation (Prediction)  [See 4.1. Policy Evaluation, Sutton's book](http://incompleteideas.net/book/first/ebook/node41.html)\n",
    "\n",
    "\\begin{align}\n",
    "    V^\\pi & = \\mathbb{E}_\\pi \\big[   \n",
    "                    r_{t+1} + \\gamma r_{t+2} + ... | s_t = s\n",
    "                \\big]  \\\\\n",
    "          & =\n",
    "             \\mathbb{E}_\\pi\\big[ r_{t+1} + \\gamma V^\\pi(s_{t+1})|s_t = s \\big] \\\\\n",
    "          & =\n",
    "              \\sum_a \\pi (s,a) \\sum_{s'}  \\mathcal{P}_{ss'}^a\\big[ \\mathcal{R}_{ss'}^a + \\gamma V^\\pi(s') \\big]\n",
    "\\end{align}\n"
   ]
  },
  {
   "cell_type": "code",
   "execution_count": 235,
   "metadata": {},
   "outputs": [],
   "source": [
    "I = np.eye(5)\n",
    "A = np.array([ [0, .5, 0, 0, 0],\n",
    "               [.5, 0, .5, 0, 0],\n",
    "               [0, .5, 0, .5, 0],\n",
    "               [0, 0, .5, 0, .5],\n",
    "               [0, 0, 0, .5, 0]])\n",
    "b = np.array([0, 0, 0, 0, .5])"
   ]
  },
  {
   "cell_type": "code",
   "execution_count": 236,
   "metadata": {},
   "outputs": [
    {
     "name": "stdout",
     "output_type": "stream",
     "text": [
      "[0.16666667 0.33333333 0.5        0.66666667 0.83333333]\n"
     ]
    }
   ],
   "source": [
    "# Theoretical result of policy evaluation\n",
    "Vtrue = np.linalg.inv(I - A) @ b\n",
    "print(Vtrue)"
   ]
  },
  {
   "cell_type": "markdown",
   "metadata": {},
   "source": [
    "## TD(0) Policy Evaluation\n",
    "\n",
    "$$\n",
    "    V(S_t) = V(S_t) + \\alpha \\big(R_{t+1} + \\gamma V(S_{t+1}) - V(S_t)\\big)\n",
    "$$"
   ]
  },
  {
   "cell_type": "code",
   "execution_count": 240,
   "metadata": {},
   "outputs": [],
   "source": [
    "def td0(alpha=.1, gamma=1, niter=10000):\n",
    "    env = Envornment('ABCDE')\n",
    "\n",
    "    alpha = 0.1\n",
    "    gamma = 1.0\n",
    "    V = np.zeros(len(env.stat_names))\n",
    "    print(V.shape)\n",
    "    niter = 10000\n",
    "    rmse = np.empty(niter)\n",
    "\n",
    "    for ni in range(niter):  # TD Loop\n",
    "\n",
    "        state = env.reset()\n",
    "    #     print('init state: ', env.stat_names[state])\n",
    "\n",
    "        done = False\n",
    "        while done == False:  # Episode\n",
    "            action = policy(state)\n",
    "            s, r, done, _ = env.step(action)\n",
    "    #         print(action_names[action], s,r, done, end='  :  ')\n",
    "            if done:    \n",
    "    #             print(s, 'Terminated.', r, done)            \n",
    "\n",
    "                V[state] = V[state] + alpha * ( r - V[state] )\n",
    "\n",
    "                break\n",
    "            else:\n",
    "    #             print(s, env.stat_names[s], r, done)\n",
    "\n",
    "                V[state] = V[state] + alpha * ( r + gamma * V[s] - V[state] )\n",
    "            #\n",
    "\n",
    "            state = s  # state update\n",
    "    #    \n",
    "        rmse[ni] = np.linalg.norm(V - Vtrue)\n",
    "    return V, rmse\n",
    "#"
   ]
  },
  {
   "cell_type": "code",
   "execution_count": 241,
   "metadata": {},
   "outputs": [
    {
     "name": "stdout",
     "output_type": "stream",
     "text": [
      "(5,)\n",
      "V: [0.16585109 0.29580013 0.50162335 0.7274153  0.88995364]\n"
     ]
    }
   ],
   "source": [
    "V, rmse = td0(alpha=0.1)\n",
    "print('V:', V)"
   ]
  },
  {
   "cell_type": "code",
   "execution_count": 244,
   "metadata": {},
   "outputs": [
    {
     "name": "stdout",
     "output_type": "stream",
     "text": [
      "(5,)\n",
      "0.5 [0.19244374 0.31635463 0.50226026 0.76374847 0.88209337] [0.16666667 0.33333333 0.5        0.66666667 0.83333333] [ 0.02577708 -0.0169787   0.00226026  0.09708181  0.04876003]\n",
      "(5,)\n",
      "0.1 [0.11305616 0.20897718 0.28270987 0.54057868 0.81611881] [0.16666667 0.33333333 0.5        0.66666667 0.83333333] [-0.05361051 -0.12435615 -0.21729013 -0.12608799 -0.01721452]\n",
      "(5,)\n",
      "0.01 [0.19450501 0.30654042 0.5361705  0.7684587  0.90128364] [0.16666667 0.33333333 0.5        0.66666667 0.83333333] [ 0.02783834 -0.02679292  0.0361705   0.10179203  0.06795031]\n",
      "(5,)\n",
      "0.001 [0.15345332 0.22928121 0.34858345 0.60149606 0.89013515] [0.16666667 0.33333333 0.5        0.66666667 0.83333333] [-0.01321334 -0.10405212 -0.15141655 -0.0651706   0.05680182]\n",
      "(5,)\n",
      "0.0001 [0.11393815 0.27187513 0.51819643 0.67402421 0.83911916] [0.16666667 0.33333333 0.5        0.66666667 0.83333333] [-0.05272851 -0.0614582   0.01819643  0.00735754  0.00578583]\n"
     ]
    },
    {
     "data": {
      "image/png": "[encoded data removed]",
      "text/plain": [
       "<Figure size 864x288 with 1 Axes>"
      ]
     },
     "metadata": {
      "needs_background": "light"
     },
     "output_type": "display_data"
    }
   ],
   "source": [
    "plt.figure(figsize=(12,4))\n",
    "for a in [.5, .1, .01, .001, .0001]:\n",
    "    V, rmse = td0(alpha=a)\n",
    "    print(a, V, Vtrue, V-Vtrue)\n",
    "    plt.plot(rmse[:1000], label=f'a={a}')\n",
    "plt.legend();"
   ]
  },
  {
   "cell_type": "markdown",
   "metadata": {},
   "source": [
    "End."
   ]
  }
 ],
 "metadata": {
  "kernelspec": {
   "display_name": "Python 3",
   "language": "python",
   "name": "python3"
  },
  "language_info": {
   "codemirror_mode": {
    "name": "ipython",
    "version": 3
   },
   "file_extension": ".py",
   "mimetype": "text/x-python",
   "name": "python",
   "nbconvert_exporter": "python",
   "pygments_lexer": "ipython3",
   "version": "3.8.8"
  }
 },
 "nbformat": 4,
 "nbformat_minor": 4
}
