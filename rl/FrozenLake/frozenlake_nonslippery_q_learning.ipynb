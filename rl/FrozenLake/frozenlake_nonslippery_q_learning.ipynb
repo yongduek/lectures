{
 "cells": [
  {
   "cell_type": "code",
   "execution_count": 1,
   "metadata": {},
   "outputs": [],
   "source": [
    "import gym\n",
    "from gym.envs.registration import register\n",
    "\n",
    "# build a non-slippery environment\n",
    "register(id='FrozenLake_NoSlip-v0',\n",
    "    entry_point='gym.envs.toy_text:FrozenLakeEnv',\n",
    "    kwargs={'map_name': '4x4', 'is_slippery': False} )"
   ]
  },
  {
   "cell_type": "code",
   "execution_count": 2,
   "metadata": {},
   "outputs": [],
   "source": [
    "env = gym.make(\"FrozenLake_NoSlip-v0\")\n",
    "env_slippery = gym.make('FrozenLake-v0')"
   ]
  },
  {
   "cell_type": "raw",
   "metadata": {},
   "source": [
    "# OpenAI Gym에서 미리 정의되어 있는 action 매핑\n",
    "UP = 3\n",
    "RIGHT = 2\n",
    "DOWN = 1\n",
    "LEFT = 0"
   ]
  },
  {
   "cell_type": "code",
   "execution_count": 3,
   "metadata": {},
   "outputs": [
    {
     "data": {
      "text/plain": [
       "0"
      ]
     },
     "execution_count": 3,
     "metadata": {},
     "output_type": "execute_result"
    }
   ],
   "source": [
    "env.reset()"
   ]
  },
  {
   "cell_type": "code",
   "execution_count": 4,
   "metadata": {},
   "outputs": [
    {
     "name": "stdout",
     "output_type": "stream",
     "text": [
      "\n",
      "\u001b[41mS\u001b[0mFFF\n",
      "FHFH\n",
      "FFFH\n",
      "HFFG\n"
     ]
    }
   ],
   "source": [
    "env.render()"
   ]
  },
  {
   "cell_type": "code",
   "execution_count": 5,
   "metadata": {},
   "outputs": [
    {
     "name": "stdout",
     "output_type": "stream",
     "text": [
      "stepped: (0, 0.0, False, {'prob': 1.0})\n",
      "  (Left)\n",
      "\u001b[41mS\u001b[0mFFF\n",
      "FHFH\n",
      "FFFH\n",
      "HFFG\n"
     ]
    }
   ],
   "source": [
    "action = 0\n",
    "r = env.step(action)\n",
    "print('stepped:', r)\n",
    "env.render()"
   ]
  },
  {
   "cell_type": "code",
   "execution_count": 6,
   "metadata": {},
   "outputs": [
    {
     "name": "stdout",
     "output_type": "stream",
     "text": [
      "Discrete(4) 4\n"
     ]
    }
   ],
   "source": [
    "print(env.action_space, env.action_space.n)  # the number of actions"
   ]
  },
  {
   "cell_type": "code",
   "execution_count": 7,
   "metadata": {},
   "outputs": [
    {
     "name": "stdout",
     "output_type": "stream",
     "text": [
      "Discrete(16) 16\n"
     ]
    }
   ],
   "source": [
    "print(env.observation_space, env.observation_space.n)  # the number of observations"
   ]
  },
  {
   "cell_type": "code",
   "execution_count": 8,
   "metadata": {},
   "outputs": [
    {
     "name": "stdout",
     "output_type": "stream",
     "text": [
      "\n",
      "\u001b[41mS\u001b[0mFFF\n",
      "FHFH\n",
      "FFFH\n",
      "HFFG\n"
     ]
    }
   ],
   "source": [
    "state = env.reset()\n",
    "env.render()"
   ]
  },
  {
   "cell_type": "markdown",
   "metadata": {},
   "source": [
    "## State Transition Dynamics $P$\n",
    "\n",
    "`P[state]` gives a dictionary of action dynamics:\n",
    "`{action: [(probability, nextstate, reward, done)]}`"
   ]
  },
  {
   "cell_type": "code",
   "execution_count": 9,
   "metadata": {},
   "outputs": [
    {
     "name": "stdout",
     "output_type": "stream",
     "text": [
      "\n",
      "\u001b[41mS\u001b[0mFFF\n",
      "FHFH\n",
      "FFFH\n",
      "HFFG\n",
      "state:  0\n",
      "P[0] {0: [(1.0, 0, 0.0, False)], 1: [(1.0, 4, 0.0, False)], 2: [(1.0, 1, 0.0, False)], 3: [(1.0, 0, 0.0, False)]}\n",
      "action (p, next, rew, done):\n",
      "    0  [(1.0, 0, 0.0, False)]\n",
      "    1  [(1.0, 4, 0.0, False)]\n",
      "    2  [(1.0, 1, 0.0, False)]\n",
      "    3  [(1.0, 0, 0.0, False)]\n"
     ]
    }
   ],
   "source": [
    "state = env.reset()\n",
    "env.render()\n",
    "print('state: ', state)\n",
    "\n",
    "pa = env.P[state]\n",
    "print(f'P[{state}]', pa)\n",
    "print('action', '(p, next, rew, done):')\n",
    "for k, v in pa.items():\n",
    "    print(f'{k:5d}  {v}')"
   ]
  },
  {
   "cell_type": "code",
   "execution_count": 10,
   "metadata": {},
   "outputs": [
    {
     "name": "stdout",
     "output_type": "stream",
     "text": [
      "P[0]\n",
      "action (p, next, rew, done):\n",
      "    0  [(0.3333333333333333, 0, 0.0, False), (0.3333333333333333, 0, 0.0, False), (0.3333333333333333, 4, 0.0, False)]\n",
      "    1  [(0.3333333333333333, 0, 0.0, False), (0.3333333333333333, 4, 0.0, False), (0.3333333333333333, 1, 0.0, False)]\n",
      "    2  [(0.3333333333333333, 4, 0.0, False), (0.3333333333333333, 1, 0.0, False), (0.3333333333333333, 0, 0.0, False)]\n",
      "    3  [(0.3333333333333333, 1, 0.0, False), (0.3333333333333333, 0, 0.0, False), (0.3333333333333333, 0, 0.0, False)]\n"
     ]
    }
   ],
   "source": [
    "# The slippery case has stochastic state-transition dynamics\n",
    "state = 0  # starting location\n",
    "pa = env_slippery.P[state]\n",
    "print(f'P[{state}]')\n",
    "print('action', '(p, next, rew, done):')\n",
    "for k, v in pa.items():\n",
    "    print(f'{k:5d}  {v}')"
   ]
  },
  {
   "cell_type": "markdown",
   "metadata": {},
   "source": [
    "## Let's see what happens with the environment."
   ]
  },
  {
   "cell_type": "code",
   "execution_count": 11,
   "metadata": {},
   "outputs": [
    {
     "name": "stdout",
     "output_type": "stream",
     "text": [
      "Last reward: 0.0\n",
      "Total Steps: 4\n",
      "Total Return: 0.0\n"
     ]
    }
   ],
   "source": [
    "state = env.reset()\n",
    "\n",
    "nsteps = 0\n",
    "G = 0  # total return\n",
    "\n",
    "frames = [] # for animation, see next cell\n",
    "\n",
    "done = False\n",
    "\n",
    "while not done:\n",
    "    action = env.action_space.sample()              # randome action choice\n",
    "    state, reward, done, info = env.step(action)    # apply action\n",
    "\n",
    "    G += reward\n",
    "    \n",
    "    # Put each rendered frame into dict for animation\n",
    "    frames.append({\n",
    "        'frame': env.render(mode='ansi'),\n",
    "        'action': action,\n",
    "        'state': state,\n",
    "        'reward': reward\n",
    "        }\n",
    "    )\n",
    "\n",
    "    nsteps += 1\n",
    "#\n",
    "print(f'Last reward: {reward}\\nTotal Steps: {nsteps}\\nTotal Return: {G}')"
   ]
  },
  {
   "cell_type": "code",
   "execution_count": 12,
   "metadata": {},
   "outputs": [
    {
     "data": {
      "text/plain": [
       "4"
      ]
     },
     "execution_count": 12,
     "metadata": {},
     "output_type": "execute_result"
    }
   ],
   "source": [
    "len(frames)"
   ]
  },
  {
   "cell_type": "code",
   "execution_count": 13,
   "metadata": {},
   "outputs": [
    {
     "data": {
      "text/plain": [
       "[{'frame': '  (Right)\\nS\\x1b[41mF\\x1b[0mFF\\nFHFH\\nFFFH\\nHFFG\\n',\n",
       "  'action': 2,\n",
       "  'state': 1,\n",
       "  'reward': 0.0},\n",
       " {'frame': '  (Left)\\n\\x1b[41mS\\x1b[0mFFF\\nFHFH\\nFFFH\\nHFFG\\n',\n",
       "  'action': 0,\n",
       "  'state': 0,\n",
       "  'reward': 0.0},\n",
       " {'frame': '  (Right)\\nS\\x1b[41mF\\x1b[0mFF\\nFHFH\\nFFFH\\nHFFG\\n',\n",
       "  'action': 2,\n",
       "  'state': 1,\n",
       "  'reward': 0.0},\n",
       " {'frame': '  (Down)\\nSFFF\\nF\\x1b[41mH\\x1b[0mFH\\nFFFH\\nHFFG\\n',\n",
       "  'action': 1,\n",
       "  'state': 5,\n",
       "  'reward': 0.0}]"
      ]
     },
     "execution_count": 13,
     "metadata": {},
     "output_type": "execute_result"
    }
   ],
   "source": [
    "frames"
   ]
  },
  {
   "cell_type": "markdown",
   "metadata": {},
   "source": [
    "### Two Rendering Modes"
   ]
  },
  {
   "cell_type": "code",
   "execution_count": 14,
   "metadata": {},
   "outputs": [
    {
     "name": "stdout",
     "output_type": "stream",
     "text": [
      "  (Down)\n",
      "SFFF\n",
      "F\u001b[41mH\u001b[0mFH\n",
      "FFFH\n",
      "HFFG\n"
     ]
    }
   ],
   "source": [
    "env.render(mode='human')"
   ]
  },
  {
   "cell_type": "code",
   "execution_count": 15,
   "metadata": {},
   "outputs": [
    {
     "name": "stdout",
     "output_type": "stream",
     "text": [
      "  (Down)\n",
      "SFFF\n",
      "F\u001b[41mH\u001b[0mFH\n",
      "FFFH\n",
      "HFFG\n"
     ]
    }
   ],
   "source": [
    "env.render()"
   ]
  },
  {
   "cell_type": "code",
   "execution_count": 16,
   "metadata": {},
   "outputs": [
    {
     "data": {
      "text/plain": [
       "'  (Down)\\nSFFF\\nF\\x1b[41mH\\x1b[0mFH\\nFFFH\\nHFFG\\n'"
      ]
     },
     "execution_count": 16,
     "metadata": {},
     "output_type": "execute_result"
    }
   ],
   "source": [
    "env.render(mode='ansi')"
   ]
  },
  {
   "cell_type": "markdown",
   "metadata": {},
   "source": [
    "Use `print()` to get proper visual display of the output."
   ]
  },
  {
   "cell_type": "code",
   "execution_count": 17,
   "metadata": {},
   "outputs": [
    {
     "name": "stdout",
     "output_type": "stream",
     "text": [
      "  (Right)\n",
      "S\u001b[41mF\u001b[0mFF\n",
      "FHFH\n",
      "FFFH\n",
      "HFFG\n",
      "\n"
     ]
    }
   ],
   "source": [
    "print(frames[0]['frame'])"
   ]
  },
  {
   "cell_type": "code",
   "execution_count": 18,
   "metadata": {},
   "outputs": [],
   "source": [
    "from IPython.display import clear_output\n",
    "from time import sleep\n",
    "\n",
    "def print_frames(frames, repeat=1, pause=.4):\n",
    "    while repeat > 0:\n",
    "        G = 0\n",
    "        for i, frame in enumerate(frames):\n",
    "            G += frame['reward']\n",
    "            clear_output(wait=True)\n",
    "            print(frame['frame'])\n",
    "            print(f\"Timestep: {i + 1}\")\n",
    "            print(f\"Action: {frame['action']}\")\n",
    "            print(f\"State: {frame['state']}\")\n",
    "            print(f\"Reward: {frame['reward']}  {G}\")\n",
    "            sleep(pause)\n",
    "        repeat -= 1\n",
    "    sleep(pause)\n",
    "#     "
   ]
  },
  {
   "cell_type": "code",
   "execution_count": 19,
   "metadata": {},
   "outputs": [
    {
     "name": "stdout",
     "output_type": "stream",
     "text": [
      "  (Down)\n",
      "SFFF\n",
      "F\u001b[41mH\u001b[0mFH\n",
      "FFFH\n",
      "HFFG\n",
      "\n",
      "Timestep: 4\n",
      "Action: 1\n",
      "State: 5\n",
      "Reward: 0.0  0.0\n"
     ]
    }
   ],
   "source": [
    "print_frames(frames, pause=.5, repeat=4)"
   ]
  },
  {
   "cell_type": "markdown",
   "metadata": {},
   "source": [
    "## Q-Learning\n",
    "- Update action-value function $Q(s,a)$ step by step on-line.\n",
    "\n",
    "$$\n",
    "    Q(s, a) = (1-\\alpha) Q(s, a) + \\alpha\\big(r + \\gamma \\max_{a'} Q(s', a') \\big)\n",
    "$$\n",
    "\n",
    "Algorithm:\n",
    "\n",
    "1. Initialize Q\n",
    "1. Choose an action A.\n",
    "1. Apply action A. From current state S, travel to the next state S'. Observer reward R.\n",
    "1. Update Q-table\n",
    "1. Repeat\n",
    "\n",
    "Assumption:\n",
    "- The observation from the environment is equivalent to state S."
   ]
  },
  {
   "cell_type": "code",
   "execution_count": 20,
   "metadata": {},
   "outputs": [
    {
     "name": "stdout",
     "output_type": "stream",
     "text": [
      "n_states:  16\n",
      "n_actions:  4\n"
     ]
    }
   ],
   "source": [
    "# How many states do we have?\n",
    "n_states = env.observation_space.n  # == len(env.P)  \n",
    "n_actions = env.action_space.n \n",
    "print('n_states: ', n_states)\n",
    "print('n_actions: ', n_actions)"
   ]
  },
  {
   "cell_type": "code",
   "execution_count": 21,
   "metadata": {},
   "outputs": [],
   "source": [
    "import numpy as np \n",
    "\n",
    "# 1. initialize Q table\n",
    "Q = np.ones((n_states, n_actions), dtype=float)"
   ]
  },
  {
   "cell_type": "markdown",
   "metadata": {},
   "source": [
    "### Learning Iteration"
   ]
  },
  {
   "cell_type": "code",
   "execution_count": 22,
   "metadata": {},
   "outputs": [
    {
     "name": "stdout",
     "output_type": "stream",
     "text": [
      "Episode: 99900, G: 1.0 6, maxG: 1.0\n",
      "Finished.\n"
     ]
    }
   ],
   "source": [
    "# %%time \n",
    "# training the agent (Q table)\n",
    "\n",
    "from IPython.display import clear_output \n",
    "\n",
    "# hyper parameters\n",
    "alpha = 0.1\n",
    "gamma = 0.9\n",
    "epsilon = 0.1 \n",
    "\n",
    "n_iters = 100000\n",
    "rng = np.random.default_rng(2021)\n",
    "Glist, nstepsList = [], []\n",
    "maxG = -100\n",
    "for iter in range(n_iters):\n",
    "\n",
    "    # start a new episode -------------------\n",
    "    state = env.reset()\n",
    "    done = False\n",
    "    G, nsteps = 0, 0\n",
    "    while not done:  # repeat until the terminal or too many wondering steps\n",
    "        # 1. choose Action\n",
    "        # we employ e-greedy policy\n",
    "        if rng.uniform() < epsilon:  # random exploration\n",
    "            action = rng.integers(low=0, high=n_actions)\n",
    "        else:                    # greedy action\n",
    "            action = np.argmax(Q[state])  # Q[s] gives an array of action values of size n_actions\n",
    "        #\n",
    "        # 2. Move\n",
    "        obs, reward, done, info = env.step(action)\n",
    "\n",
    "        # 3. Update\n",
    "        q_next = Q[obs]\n",
    "        max_q = np.max(q_next)\n",
    "\n",
    "        Q[state, action] = (1 - alpha) * Q[state, action] \\\n",
    "                               + alpha * ( reward + gamma * max_q )\n",
    "        #\n",
    "        # 4. step forward\n",
    "        state = obs \n",
    "        nsteps += 1 \n",
    "        G += reward \n",
    "    # end of episode -----------------------\n",
    "    Glist.append(G)\n",
    "    nstepsList.append(nsteps)\n",
    "    if maxG < G:\n",
    "        maxG = G\n",
    "    if iter % 100 == 0:\n",
    "        clear_output(wait=True)\n",
    "        print(f'Episode: {iter}, G: {G} {nsteps}, maxG: {maxG}')\n",
    "# end of learning\n",
    "print('Finished.')"
   ]
  },
  {
   "cell_type": "markdown",
   "metadata": {},
   "source": [
    "Let's check the Q table learned."
   ]
  },
  {
   "cell_type": "code",
   "execution_count": 23,
   "metadata": {},
   "outputs": [
    {
     "name": "stdout",
     "output_type": "stream",
     "text": [
      "\n",
      "\u001b[41mS\u001b[0mFFF\n",
      "FHFH\n",
      "FFFH\n",
      "HFFG\n"
     ]
    },
    {
     "data": {
      "text/plain": [
       "array([1.0097379, 1.121931 , 1.121931 , 1.0097379])"
      ]
     },
     "execution_count": 23,
     "metadata": {},
     "output_type": "execute_result"
    }
   ],
   "source": [
    "state = env.reset()\n",
    "env.render()\n",
    "Q[state]"
   ]
  },
  {
   "cell_type": "code",
   "execution_count": 24,
   "metadata": {},
   "outputs": [
    {
     "name": "stdout",
     "output_type": "stream",
     "text": [
      "\n",
      "\u001b[41mS\u001b[0mFFF\n",
      "FHFH\n",
      "FFFH\n",
      "HFFG\n"
     ]
    }
   ],
   "source": [
    "env.render()"
   ]
  },
  {
   "cell_type": "markdown",
   "metadata": {},
   "source": [
    "Let's test the learning by following $A = arg\\max_a Q[S, a]$ at every state $S$."
   ]
  },
  {
   "cell_type": "code",
   "execution_count": 25,
   "metadata": {},
   "outputs": [],
   "source": [
    "def greedy_action(qtable, S):\n",
    "    q = qtable[S]\n",
    "    a = np.argmax(q)\n",
    "    return a \n",
    "\n",
    "def run(env, verbose=True):\n",
    "    state = env.reset()\n",
    "\n",
    "    steps = 0\n",
    "    G = 0  # total return\n",
    "\n",
    "    frames = [] # for animation, see next cell\n",
    "    done = False\n",
    "\n",
    "    while not done:\n",
    "        action = greedy_action(Q, state)              # randome action choice\n",
    "        state, reward, done, info = env.step(action)    # apply action\n",
    "\n",
    "        G += reward\n",
    "    \n",
    "        # Put each rendered frame into dict for animation\n",
    "        frames.append({\n",
    "            'frame': env.render(mode='ansi'),\n",
    "            'state': state,\n",
    "            'action': action,\n",
    "            'reward': reward\n",
    "            }\n",
    "        )\n",
    "\n",
    "        steps += 1\n",
    "    #\n",
    "    if verbose:\n",
    "        print(f'Last reward: {reward}\\nTotal Steps: {steps}\\nTotal Return: {G}')\n",
    "    #\n",
    "    return G, steps, frames\n",
    "#"
   ]
  },
  {
   "cell_type": "code",
   "execution_count": 26,
   "metadata": {},
   "outputs": [
    {
     "name": "stdout",
     "output_type": "stream",
     "text": [
      "Last reward: 1.0\n",
      "Total Steps: 6\n",
      "Total Return: 1.0\n"
     ]
    }
   ],
   "source": [
    "G, steps, frames = run(env)"
   ]
  },
  {
   "cell_type": "code",
   "execution_count": 27,
   "metadata": {},
   "outputs": [
    {
     "name": "stdout",
     "output_type": "stream",
     "text": [
      "  (Right)\n",
      "SFFF\n",
      "FHFH\n",
      "FFFH\n",
      "HFF\u001b[41mG\u001b[0m\n",
      "\n",
      "Timestep: 6\n",
      "Action: 2\n",
      "State: 15\n",
      "Reward: 1.0  1.0\n"
     ]
    }
   ],
   "source": [
    "print_frames(frames, repeat=10)"
   ]
  },
  {
   "cell_type": "code",
   "execution_count": 28,
   "metadata": {},
   "outputs": [
    {
     "name": "stdout",
     "output_type": "stream",
     "text": [
      "  (Right)\n",
      "SFFF\n",
      "FHFH\n",
      "FFFH\n",
      "HFF\u001b[41mG\u001b[0m\n",
      "\n",
      "Timestep: 6\n",
      "Action: 2\n",
      "State: 15\n",
      "Reward: 1.0  1.0\n"
     ]
    }
   ],
   "source": [
    "# let's try another game\n",
    "\n",
    "g, steps, frames = run(env)\n",
    "print_frames(frames, repeat=5)"
   ]
  },
  {
   "cell_type": "markdown",
   "metadata": {},
   "source": [
    "### Learning Curves"
   ]
  },
  {
   "cell_type": "code",
   "execution_count": 29,
   "metadata": {},
   "outputs": [
    {
     "data": {
      "image/png": "[encoded data removed]",
      "text/plain": [
       "<Figure size 864x576 with 2 Axes>"
      ]
     },
     "metadata": {
      "needs_background": "light"
     },
     "output_type": "display_data"
    }
   ],
   "source": [
    "import matplotlib.pyplot as plt \n",
    "\n",
    "def moving_average(arr, tab=11):\n",
    "    a = np.array(arr)\n",
    "    ma = a.copy()\n",
    "    for i in range(tab, len(arr)):\n",
    "        ma[i] = a[i-tab:i].mean()\n",
    "    return ma \n",
    "\n",
    "fig, axes = plt.subplots(2,1, figsize=(12,8))\n",
    "n = 3000\n",
    "axes[0].plot(Glist[:n], label='Glist', alpha=.6); axes[0].set(title='Evolution of G, total return.')\n",
    "axes[0].plot(moving_average(Glist[:n]), alpha=.6, label='MA(Glist)'); axes[0].legend()\n",
    "axes[1].plot(nstepsList[:n]); axes[1].set(title='Evolution of Nsteps until finish.');\n",
    "axes[1].plot(moving_average(nstepsList[:n]));"
   ]
  },
  {
   "cell_type": "code",
   "execution_count": 30,
   "metadata": {},
   "outputs": [
    {
     "data": {
      "image/png": "[encoded data removed]",
      "text/plain": [
       "<Figure size 864x576 with 2 Axes>"
      ]
     },
     "metadata": {
      "needs_background": "light"
     },
     "output_type": "display_data"
    }
   ],
   "source": [
    "# Learning curve at the last stage.\n",
    "\n",
    "fig, axes = plt.subplots(2,1, figsize=(12,8))\n",
    "n = -500\n",
    "axes[0].plot(Glist[n:], '-o', label='Glist', alpha=.6); axes[0].set(title='Evolution of G, total return.')\n",
    "axes[0].plot(moving_average(Glist[n:]), alpha=.96, label='MA(Glist)'); axes[0].legend()\n",
    "axes[1].plot(nstepsList[n:]); axes[1].set(title='Evolution of Nsteps until finish.');\n",
    "axes[1].plot(moving_average(nstepsList[n:]));"
   ]
  },
  {
   "cell_type": "markdown",
   "metadata": {},
   "source": [
    "- The failure cases during the learning episodes are due to Exploration.\n",
    "- After learning, the greedy policy results in the optimal policy; it is shown below."
   ]
  },
  {
   "cell_type": "markdown",
   "metadata": {},
   "source": [
    "### Evaluation of the learned agent's performance\n",
    "\n",
    "- Total return is always 1.\n",
    "- Finishes the job in the minimal number of steps."
   ]
  },
  {
   "cell_type": "code",
   "execution_count": 31,
   "metadata": {},
   "outputs": [],
   "source": [
    "nrepeat = 240\n",
    "\n",
    "glist, nslist = [], []\n",
    "for _ in range(nrepeat):\n",
    "    g, ns, _ = run(env, verbose=False)\n",
    "    glist.append(g)\n",
    "    nslist.append(ns)"
   ]
  },
  {
   "cell_type": "code",
   "execution_count": 32,
   "metadata": {},
   "outputs": [
    {
     "data": {
      "image/png": "[encoded data removed]",
      "text/plain": [
       "<Figure size 864x288 with 2 Axes>"
      ]
     },
     "metadata": {
      "needs_background": "light"
     },
     "output_type": "display_data"
    }
   ],
   "source": [
    "import matplotlib.pyplot as plt \n",
    "\n",
    "fig, axes = plt.subplots(1,2, figsize=(12,4))\n",
    "axes[0].plot(glist);\n",
    "axes[1].plot(nslist);"
   ]
  },
  {
   "cell_type": "markdown",
   "metadata": {},
   "source": [
    "About the hyper-parameters\n",
    "\n",
    "- The learning rate $\\alpha$ should decrease as you continue to gain a larger and larger knowledge base.\n",
    "- The exploration parameter $\\epsilon$ should decrease since it is needed less and less as we learn since the policy is good enough after learning.\n",
    "- Assumption is that the environment is stationary - not changing at all through time. But if it is slowly changing, we need to keep $\\alpha$ and $\\epsilon$ at some reasonalbe values."
   ]
  },
  {
   "cell_type": "markdown",
   "metadata": {},
   "source": [
    "Pros and Cons.\n",
    "\n",
    "Pros\n",
    "\n",
    "- Well it works.\n",
    "\n",
    "Cons\n",
    "\n",
    "- If the number of states and actions are large, it will difficult to finish learing quickly, and it may be difficult to keep the table in main memory space."
   ]
  },
  {
   "cell_type": "markdown",
   "metadata": {},
   "source": [
    "## Where to go\n",
    "\n",
    "- Look at the slippery case.\n",
    "\n",
    "- Apply to other gym environments having discrete spaces.\n",
    "\n",
    "- Apply discretization to `Mountain Car` problem to use the ready-made q-learning code. The state space of Mountain Car enviroment has continuous values (real numbers).\n",
    "\n",
    "\n",
    "- You may try NN instead of table. Before delving into more interesting and complicated problems, it will give you some experience about using NN in RL.\n"
   ]
  },
  {
   "cell_type": "markdown",
   "metadata": {},
   "source": [
    "## References\n",
    "\n",
    "1. https://www.learndatasci.com/tutorials/reinforcement-q-learning-scratch-python-openai-gym/\n",
    "1. https://www.coursera.org/learn/practical-rl?ranMID=40328&ranEAID=OyHlmBp2G0c&ranSiteID=OyHlmBp2G0c-Vmlv9yIsBFjTZ9sHpM8lbQ&siteID=OyHlmBp2G0c-Vmlv9yIsBFjTZ9sHpM8lbQ&utm_content=10&utm_medium=partners&utm_source=linkshare&utm_campaign=OyHlmBp2G0c"
   ]
  },
  {
   "cell_type": "code",
   "execution_count": null,
   "metadata": {},
   "outputs": [],
   "source": []
  }
 ],
 "metadata": {
  "interpreter": {
   "hash": "df0893f56f349688326838aaeea0de204df53a132722cbd565e54b24a8fec5f6"
  },
  "kernelspec": {
   "display_name": "Python 3",
   "language": "python",
   "name": "python3"
  },
  "language_info": {
   "codemirror_mode": {
    "name": "ipython",
    "version": 3
   },
   "file_extension": ".py",
   "mimetype": "text/x-python",
   "name": "python",
   "nbconvert_exporter": "python",
   "pygments_lexer": "ipython3",
   "version": "3.8.8"
  }
 },
 "nbformat": 4,
 "nbformat_minor": 4
}
