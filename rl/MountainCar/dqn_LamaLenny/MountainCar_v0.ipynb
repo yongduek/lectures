{
 "cells": [
  {
   "cell_type": "code",
   "execution_count": 2,
   "source": [
    "import gym\r\n",
    "import numpy as np\r\n",
    "import torch\r\n",
    "import random\r\n",
    "from torch import nn\r\n",
    "import torch.optim as optim\r\n",
    "import torch.nn.functional as F\r\n",
    "import copy\r\n",
    "from collections import deque\r\n",
    "import matplotlib.pyplot as plt"
   ],
   "outputs": [],
   "metadata": {
    "colab": {},
    "colab_type": "code",
    "id": "xhtG8R3oYNNR"
   }
  },
  {
   "cell_type": "code",
   "execution_count": 3,
   "source": [
    "BUF_SIZE = 10000\r\n",
    "BATCH_SIZE = 128\r\n",
    "UPDATE_TARGET = 500 # Обновляем target сетку раз в UPDATE_TARGET обновлений основной сетки\r\n",
    "GAMMA = 0.98"
   ],
   "outputs": [],
   "metadata": {
    "colab": {},
    "colab_type": "code",
    "id": "P2MQF9JGYf5B"
   }
  },
  {
   "cell_type": "code",
   "execution_count": 4,
   "source": [
    "seed = 17\r\n",
    "np.random.seed(seed)\r\n",
    "random.seed(seed)\r\n",
    "env = gym.make('MountainCar-v0')\r\n",
    "env.seed(seed)\r\n",
    "torch.manual_seed(seed)"
   ],
   "outputs": [
    {
     "output_type": "stream",
     "name": "stderr",
     "text": [
      "C:\\Users\\VIP\\AppData\\Local\\Programs\\Python\\Python38\\lib\\site-packages\\gym\\logger.py:30: UserWarning: \u001b[33mWARN: Box bound precision lowered by casting to float32\u001b[0m\n",
      "  warnings.warn(colorize('%s: %s'%('WARN', msg % args), 'yellow'))\n"
     ]
    },
    {
     "output_type": "execute_result",
     "data": {
      "text/plain": [
       "<torch._C.Generator at 0x27628751af0>"
      ]
     },
     "metadata": {},
     "execution_count": 4
    }
   ],
   "metadata": {
    "colab": {
     "base_uri": "https://localhost:8080/",
     "height": 34
    },
    "colab_type": "code",
    "id": "0gp3i8qUaXoA",
    "outputId": "2cb2745e-f998-4764-8fa7-d88de8ff62b3"
   }
  },
  {
   "cell_type": "code",
   "execution_count": 5,
   "source": [
    "def transform_state(state):\r\n",
    "    state = (np.array(state) + np.array((1.2, 0.0))) / np.array((1.8, 0.07))\r\n",
    "    result = []\r\n",
    "    result.extend(state)\r\n",
    "    return np.array(state)"
   ],
   "outputs": [],
   "metadata": {
    "colab": {},
    "colab_type": "code",
    "id": "BP-XwUYmyJui"
   }
  },
  {
   "cell_type": "code",
   "execution_count": 6,
   "source": [
    "device = torch.device(\"cuda\" if torch.cuda.is_available() else \"cpu\")\r\n",
    "print(device)"
   ],
   "outputs": [
    {
     "output_type": "stream",
     "name": "stdout",
     "text": [
      "cuda\n"
     ]
    }
   ],
   "metadata": {
    "colab": {
     "base_uri": "https://localhost:8080/",
     "height": 34
    },
    "colab_type": "code",
    "id": "8nU6aj9MYjt-",
    "outputId": "fd24c071-933c-4118-9ea1-29798055e136"
   }
  },
  {
   "cell_type": "markdown",
   "source": [
    "# Агент для игры"
   ],
   "metadata": {
    "colab_type": "text",
    "id": "PI0gQCzNgtBX"
   }
  },
  {
   "cell_type": "code",
   "execution_count": 7,
   "source": [
    "class Agent:\r\n",
    "    def __init__(self, model):\r\n",
    "        self.model = copy.deepcopy(model)\r\n",
    "\r\n",
    "    def act(self, state):\r\n",
    "        state = torch.tensor(transform_state(state)).to(device).float()\r\n",
    "        with torch.no_grad():\r\n",
    "            Q_values = self.model(state.unsqueeze(0))\r\n",
    "        return np.argmax(Q_values.cpu().data.numpy())\r\n",
    "\r\n",
    "    def reset(self):\r\n",
    "        pass"
   ],
   "outputs": [],
   "metadata": {
    "colab": {},
    "colab_type": "code",
    "id": "1u5rDQi1gsIT"
   }
  },
  {
   "cell_type": "markdown",
   "source": [
    "# Очередь\n",
    "\n",
    "Мы хотим очередь, но в которой можно по-нормальному извлекать батч."
   ],
   "metadata": {
    "colab_type": "text",
    "id": "Q4SlYHjjYtz4"
   }
  },
  {
   "cell_type": "code",
   "execution_count": 8,
   "source": [
    "class Buffer:\r\n",
    "    def __init__(self, cap):\r\n",
    "        self.cap = cap\r\n",
    "        self.mem = []\r\n",
    "        self.pos = -1  # позиция последнего записанного элемента\r\n",
    "\r\n",
    "    def __len__(self):\r\n",
    "        return len(self.mem)\r\n",
    "\r\n",
    "    def add(self, element):\r\n",
    "        if len(self.mem) < self.cap:\r\n",
    "            self.mem.append(None)\r\n",
    "        new_pos = (self.pos + 1) % self.cap\r\n",
    "        self.mem[new_pos] = element\r\n",
    "        self.pos = new_pos\r\n",
    "\r\n",
    "    def sample(self, batch_size):\r\n",
    "        return random.sample(self.mem, batch_size)\r\n",
    "        \r\n",
    "    def __getitem__(self, k):\r\n",
    "        return self.mem[(self.pos + 1 + k) % self.cap]"
   ],
   "outputs": [],
   "metadata": {
    "colab": {},
    "colab_type": "code",
    "id": "c5NOW_fnYnMM"
   }
  },
  {
   "cell_type": "markdown",
   "source": [
    "# Сетка для DQN"
   ],
   "metadata": {
    "colab_type": "text",
    "id": "kGCFhHdsZEjV"
   }
  },
  {
   "cell_type": "code",
   "execution_count": 9,
   "source": [
    "class Model(nn.Module):\r\n",
    "    def __init__(self, state_dim, action_dim):\r\n",
    "        super().__init__()\r\n",
    "        lin1 = nn.Linear(state_dim,64)\r\n",
    "        torch.nn.init.xavier_normal_(lin1.weight)\r\n",
    "\r\n",
    "        lin2 = nn.Linear(64, 64)\r\n",
    "        torch.nn.init.xavier_normal_(lin2.weight)\r\n",
    "\r\n",
    "        lin3 = nn.Linear(64, action_dim)\r\n",
    "        torch.nn.init.xavier_normal_(lin3.weight)\r\n",
    "\r\n",
    "        self.layers = nn.Sequential(lin1, nn.ReLU(), lin2, nn.ReLU(), lin3)\r\n",
    "\r\n",
    "    def forward(self, x):\r\n",
    "        return self.layers(x)"
   ],
   "outputs": [],
   "metadata": {
    "colab": {},
    "colab_type": "code",
    "id": "XrIlv1UCZDzA"
   }
  },
  {
   "cell_type": "markdown",
   "source": [
    "# DQN"
   ],
   "metadata": {
    "colab_type": "text",
    "id": "mJ_YMJD0ZWNt"
   }
  },
  {
   "cell_type": "code",
   "execution_count": 10,
   "source": [
    "class DQN:\r\n",
    "    def __init__(self, state_dim, action_dim):\r\n",
    "        self.network = Model(state_dim, action_dim).to(device)\r\n",
    "        self.target_network = copy.deepcopy(self.network).to(device)\r\n",
    "        self.optimizer = optim.Adam(self.network.parameters(), lr=5e-4)\r\n",
    "\r\n",
    "    def update(self, batch):\r\n",
    "        states, actions, rewards, next_states, dones = zip(*batch)\r\n",
    "        states = torch.from_numpy(np.array(states)).float().to(device)\r\n",
    "        actions = torch.from_numpy(np.array(actions)).to(device).unsqueeze(1)\r\n",
    "        rewards = torch.from_numpy(np.array(rewards)).float().to(device).unsqueeze(1)\r\n",
    "        next_states = torch.from_numpy(np.array(next_states)).float().to(device)\r\n",
    "        dones = torch.from_numpy(np.array(dones)).to(device).unsqueeze(1)\r\n",
    "\r\n",
    "        with torch.no_grad(): # Double DQN  \r\n",
    "            argmax = self.network(next_states).detach().max(1)[1].unsqueeze(1)\r\n",
    "            target = rewards + (GAMMA * self.target_network(next_states).detach().gather(1, argmax))*(~dones)\r\n",
    "\r\n",
    "        Q_current = self.network(states).gather(1, actions.long())\r\n",
    "        self.optimizer.zero_grad()\r\n",
    "        loss = F.mse_loss(target, Q_current)\r\n",
    "        loss.backward()\r\n",
    "        self.optimizer.step()\r\n",
    "        \r\n",
    "    def act(self, state):\r\n",
    "        state = torch.tensor(state).to(device).float()\r\n",
    "        with torch.no_grad():\r\n",
    "            Q_values = self.network(state.unsqueeze(0))\r\n",
    "        return np.argmax(Q_values.cpu().data.numpy())\r\n",
    "\r\n",
    "    def update_target(self):\r\n",
    "        self.target_network = copy.deepcopy(self.network)"
   ],
   "outputs": [],
   "metadata": {
    "colab": {},
    "colab_type": "code",
    "id": "LQ7DgwzsZa2d"
   }
  },
  {
   "cell_type": "code",
   "execution_count": null,
   "source": [],
   "outputs": [],
   "metadata": {
    "colab": {},
    "colab_type": "code",
    "id": "9nLva8RjgkR4"
   }
  },
  {
   "cell_type": "markdown",
   "source": [
    "# Обучение"
   ],
   "metadata": {
    "colab_type": "text",
    "id": "ahSi6kCnZ2b_"
   }
  },
  {
   "cell_type": "code",
   "execution_count": 11,
   "source": [
    "def eps_greedy(env, dqn, state, eps):\r\n",
    "    if random.random() < eps:\r\n",
    "        return env.action_space.sample()\r\n",
    "    return dqn.act(state)\r\n",
    "\r\n",
    "\r\n",
    "def current_results(i, rews, eps, output_period=100):\r\n",
    "    mean_r = np.mean(rews)\r\n",
    "    max_r = np.max(rews)\r\n",
    "    min_r = np.min(rews)\r\n",
    "    print(f'\\repisode {i}, eps = {eps}, mean = {mean_r}, min = {min_r}, max = {max_r}', end=\"\")\r\n",
    "    if not i % output_period:\r\n",
    "        print(f'\\repisode {i}, eps = {eps}, mean = {mean_r}, min = {min_r}, max = {max_r}')\r\n",
    "    return mean_r"
   ],
   "outputs": [],
   "metadata": {
    "colab": {},
    "colab_type": "code",
    "id": "h72Zs_XsZ9wZ"
   }
  },
  {
   "cell_type": "code",
   "execution_count": 12,
   "source": [
    "dqn = DQN(state_dim=2, action_dim=3)\r\n",
    "buf = Buffer(BUF_SIZE)\r\n",
    "\r\n",
    "episodes = 1500\r\n",
    "eps = 1\r\n",
    "eps_coeff = 0.995\r\n",
    "dqn_updates = 0\r\n",
    "output_period = 100\r\n",
    "\r\n",
    "rews = deque(maxlen=output_period) # сюда буду писать данные за output_period эпизодов\r\n",
    "best_mean = -10 ** 3\r\n",
    "best_model = None\r\n",
    "\r\n",
    "# Задача считается решенной, когда среднее за 100 подряд идущих эпизодов >= -110\r\n",
    "solv_ep = 10000\r\n",
    "solv_mean = -200\r\n",
    "rews_all = [None] * episodes # Буду писать сюда награды за каждый эпизод, чтобы потом нарисовать график\r\n",
    "\r\n",
    "for i in range(1, episodes + 1):\r\n",
    "    state = transform_state(env.reset())\r\n",
    "    done = False\r\n",
    "    total_reward = 0\r\n",
    "    while not done:\r\n",
    "        action = eps_greedy(env, dqn, state, eps)\r\n",
    "        next_state, reward, done, _ = env.step(action)\r\n",
    "        next_state = transform_state(next_state)\r\n",
    "        total_reward += reward\r\n",
    "        reward += 300 * (GAMMA * abs(next_state[1]) - abs(state[1]))\r\n",
    "        buf.add((state, action, reward, next_state, done))\r\n",
    "        if len(buf) >= BATCH_SIZE:\r\n",
    "            dqn.update(buf.sample(BATCH_SIZE))\r\n",
    "            dqn_updates += 1\r\n",
    "        if not dqn_updates % UPDATE_TARGET:\r\n",
    "            dqn.update_target()\r\n",
    "        state = next_state\r\n",
    "    eps *= eps_coeff\r\n",
    "    rews.append(total_reward)\r\n",
    "    rews_all[i - 1] = total_reward\r\n",
    "    mean_r = current_results(i, rews, eps, output_period)\r\n",
    "    if mean_r > best_mean:\r\n",
    "        best_model = copy.deepcopy(dqn.network)\r\n",
    "        best_mean = mean_r\r\n",
    "    if mean_r > -110 and i < solv_ep:\r\n",
    "        solv_ep = i\r\n",
    "        solv_mean = mean_r\r\n"
   ],
   "outputs": [
    {
     "output_type": "stream",
     "name": "stdout",
     "text": [
      "episode 100, eps = 0.6057704364907278, mean = -200.0, min = -200.0, max = -200.0\n",
      "episode 200, eps = 0.3669578217261671, mean = -193.52, min = -200.0, max = -131.0\n",
      "episode 300, eps = 0.22229219984074702, mean = -173.14, min = -200.0, max = -118.0\n",
      "episode 400, eps = 0.1346580429260134, mean = -169.73, min = -200.0, max = -98.0\n",
      "episode 500, eps = 0.08157186144027828, mean = -155.87, min = -200.0, max = -87.0\n",
      "episode 600, eps = 0.0494138221100385, mean = -125.35, min = -192.0, max = -87.0\n",
      "episode 700, eps = 0.029933432588273214, mean = -113.58, min = -186.0, max = -87.0\n",
      "episode 800, eps = 0.018132788524664028, mean = -106.0, min = -112.0, max = -96.0\n",
      "episode 900, eps = 0.01098430721937979, mean = -111.7, min = -166.0, max = -83.0\n",
      "episode 1000, eps = 0.006653968578831948, mean = -120.72, min = -175.0, max = -84.0\n",
      "episode 1100, eps = 0.004030777450394616, mean = -114.55, min = -196.0, max = -85.0\n",
      "episode 1200, eps = 0.002441725815522529, mean = -104.5, min = -158.0, max = -84.0\n",
      "episode 1300, eps = 0.0014791253130597608, mean = -105.88, min = -148.0, max = -83.0\n",
      "episode 1400, eps = 0.0008960103865166974, mean = -105.92, min = -142.0, max = -83.0\n",
      "episode 1500, eps = 0.0005427766029404454, mean = -105.76, min = -160.0, max = -83.0\n"
     ]
    }
   ],
   "metadata": {
    "colab": {
     "base_uri": "https://localhost:8080/",
     "height": 269
    },
    "colab_type": "code",
    "id": "mN0bLHKRaK4w",
    "outputId": "6a5e8e76-6f34-4b95-b4b8-9e4d3ed1296f"
   }
  },
  {
   "cell_type": "code",
   "execution_count": 13,
   "source": [
    "print(f\"Problem solved on episode {solv_ep}, mean = {solv_mean}\")"
   ],
   "outputs": [
    {
     "output_type": "stream",
     "name": "stdout",
     "text": [
      "Problem solved on episode 735, mean = -109.99\n"
     ]
    }
   ],
   "metadata": {
    "colab": {
     "base_uri": "https://localhost:8080/",
     "height": 34
    },
    "colab_type": "code",
    "id": "bF9LJ0rKMR_8",
    "outputId": "55bfa801-f686-40f2-cedf-d2c4c5e31a05"
   }
  },
  {
   "cell_type": "markdown",
   "source": [
    "# График: награда и число эпизодов"
   ],
   "metadata": {
    "colab_type": "text",
    "id": "rablLXxae4PI"
   }
  },
  {
   "cell_type": "code",
   "execution_count": 16,
   "source": [
    "plt.figure(figsize=(15, 7))\r\n",
    "plt.plot(range(1, episodes + 1), rews_all)\r\n",
    "plt.xlabel('t: episodes')\r\n",
    "plt.ylabel('Return(t)')\r\n",
    "plt.show()"
   ],
   "outputs": [
    {
     "output_type": "display_data",
     "data": {
      "text/plain": [
       "<Figure size 1080x504 with 1 Axes>"
      ],
      "image/png": "[encoded data removed]"
     },
     "metadata": {
      "needs_background": "light"
     }
    }
   ],
   "metadata": {
    "colab": {
     "base_uri": "https://localhost:8080/",
     "height": 442
    },
    "colab_type": "code",
    "id": "HCY8qWI_e_IW",
    "outputId": "ea24ad9f-911a-4d43-9854-70d0eebac61d"
   }
  },
  {
   "cell_type": "code",
   "execution_count": null,
   "source": [],
   "outputs": [],
   "metadata": {}
  }
 ],
 "metadata": {
  "accelerator": "GPU",
  "colab": {
   "collapsed_sections": [],
   "name": "MountainCar-v0_DQN.ipynb",
   "provenance": []
  },
  "kernelspec": {
   "name": "python3",
   "display_name": "Python 3.8.8 64-bit"
  },
  "language_info": {
   "codemirror_mode": {
    "name": "ipython",
    "version": 3
   },
   "file_extension": ".py",
   "mimetype": "text/x-python",
   "name": "python",
   "nbconvert_exporter": "python",
   "pygments_lexer": "ipython3",
   "version": "3.8.8"
  },
  "interpreter": {
   "hash": "5c2412a7f059a44a3ebbda245f298c96603c0f68fdadd5589b1fcd57ac7e1e28"
  }
 },
 "nbformat": 4,
 "nbformat_minor": 1
}