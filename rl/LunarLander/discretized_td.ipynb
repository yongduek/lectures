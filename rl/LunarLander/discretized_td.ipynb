{
 "cells": [
  {
   "cell_type": "markdown",
   "source": [
    "# Lunar Lander\r\n",
    "\r\n",
    "- Observation space is continuous. We apply discritization."
   ],
   "metadata": {}
  },
  {
   "cell_type": "markdown",
   "source": [],
   "metadata": {}
  },
  {
   "cell_type": "code",
   "execution_count": 3,
   "source": [
    "import gym\r\n",
    "import numpy as np\r\n",
    "import matplotlib.pyplot as plt\r\n",
    "import seaborn as sns   "
   ],
   "outputs": [],
   "metadata": {}
  },
  {
   "cell_type": "code",
   "execution_count": 4,
   "source": [
    "class TabularQLearning:\r\n",
    "    \"\"\"\r\n",
    "        1. continuous observations are discretized.\r\n",
    "        2. tabular q-learning\r\n",
    "            Q = Table(Nstates x Nactions)  # practically impossible for multidimensional observations\r\n",
    "    \"\"\"\r\n",
    "    def __init__(self, env, N=64):\r\n",
    "        self.env = env\r\n",
    "        self.N = N     # number of d\r\n",
    "        pass \r\n",
    "    def step(self, state):\r\n",
    "        s, r, d, i = self.env.step(state)\r\n",
    "        ds = discretize(s)\r\n",
    "        return ds, r, d, i \r\n",
    "    def render(self,):\r\n",
    "        self.env.render() \r\n",
    "    def reset(self,):\r\n",
    "        self.env.reset()\r\n",
    "#"
   ],
   "outputs": [],
   "metadata": {}
  },
  {
   "cell_type": "code",
   "execution_count": 6,
   "source": [
    "env = gym.make('LunarLander-v2')"
   ],
   "outputs": [
    {
     "output_type": "stream",
     "name": "stderr",
     "text": [
      "C:\\Users\\VIP\\AppData\\Local\\Programs\\Python\\Python38\\lib\\site-packages\\gym\\logger.py:30: UserWarning: \u001b[33mWARN: Box bound precision lowered by casting to float32\u001b[0m\n",
      "  warnings.warn(colorize('%s: %s'%('WARN', msg % args), 'yellow'))\n"
     ]
    }
   ],
   "metadata": {}
  },
  {
   "cell_type": "code",
   "execution_count": 11,
   "source": [
    "obs = env.reset()\r\n",
    "env.render()\r\n",
    "obs"
   ],
   "outputs": [
    {
     "output_type": "execute_result",
     "data": {
      "text/plain": [
       "array([ 0.00667019,  1.4200081 ,  0.67559665,  0.40389615, -0.00772224,\n",
       "       -0.15303272,  0.        ,  0.        ], dtype=float32)"
      ]
     },
     "metadata": {},
     "execution_count": 11
    }
   ],
   "metadata": {}
  },
  {
   "cell_type": "code",
   "execution_count": 9,
   "source": [
    "done = False "
   ],
   "outputs": [
    {
     "output_type": "stream",
     "name": "stdout",
     "text": [
      "\u001b[1;31mType:\u001b[0m        Box\n",
      "\u001b[1;31mString form:\u001b[0m Box(8,)\n",
      "\u001b[1;31mFile:\u001b[0m        c:\\users\\vip\\appdata\\local\\programs\\python\\python38\\lib\\site-packages\\gym\\spaces\\box.py\n",
      "\u001b[1;31mDocstring:\u001b[0m  \n",
      "A (possibly unbounded) box in R^n. Specifically, a Box represents the\n",
      "Cartesian product of n closed intervals. Each interval has the form of one\n",
      "of [a, b], (-oo, b], [a, oo), or (-oo, oo).\n",
      "\n",
      "There are two common use cases:\n",
      "\n",
      "* Identical bound for each dimension::\n",
      "    >>> Box(low=-1.0, high=2.0, shape=(3, 4), dtype=np.float32)\n",
      "    Box(3, 4)\n",
      "    \n",
      "* Independent bound for each dimension::\n",
      "    >>> Box(low=np.array([-1.0, -2.0]), high=np.array([2.0, 4.0]), dtype=np.float32)\n",
      "    Box(2,)\n"
     ]
    }
   ],
   "metadata": {}
  },
  {
   "cell_type": "code",
   "execution_count": null,
   "source": [],
   "outputs": [],
   "metadata": {}
  }
 ],
 "metadata": {
  "orig_nbformat": 4,
  "language_info": {
   "name": "python",
   "version": "3.8.8",
   "mimetype": "text/x-python",
   "codemirror_mode": {
    "name": "ipython",
    "version": 3
   },
   "pygments_lexer": "ipython3",
   "nbconvert_exporter": "python",
   "file_extension": ".py"
  },
  "kernelspec": {
   "name": "python3",
   "display_name": "Python 3.8.8 64-bit"
  },
  "interpreter": {
   "hash": "5c2412a7f059a44a3ebbda245f298c96603c0f68fdadd5589b1fcd57ac7e1e28"
  }
 },
 "nbformat": 4,
 "nbformat_minor": 2
}