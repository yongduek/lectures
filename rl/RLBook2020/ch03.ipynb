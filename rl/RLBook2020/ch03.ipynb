{
 "cells": [
  {
   "cell_type": "code",
   "execution_count": 89,
   "metadata": {},
   "outputs": [],
   "source": [
    "#######################################################################\n",
    "# Copyright (C)                                                       #\n",
    "# 2016-2018 Shangtong Zhang(zhangshangtong.cpp@gmail.com)             #\n",
    "# 2016 Kenta Shimada(hyperkentakun@gmail.com)                         #\n",
    "# Permission given to modify the code as long as you keep this        #\n",
    "# declaration at the top                                              #\n",
    "#######################################################################\n",
    "\n",
    "import matplotlib\n",
    "import matplotlib.pyplot as plt\n",
    "import numpy as np\n",
    "from matplotlib.table import Table\n",
    "\n",
    "\n",
    "WORLD_SIZE = 5\n",
    "A_POS = [0, 1]       # position A\n",
    "A_PRIME_POS = [4, 1] # A'\n",
    "B_POS = [0, 3]       # B\n",
    "B_PRIME_POS = [2, 3] # B'\n",
    "DISCOUNT = 0.9\n",
    "\n",
    "# left, up, right, down\n",
    "ACTIONS = [np.array([0, -1]),  # left\n",
    "           np.array([-1, 0]),  # up\n",
    "           np.array([0, 1]),   # right\n",
    "           np.array([1, 0])]   # down\n",
    "ACTIONS_FIGS=[ '←', '↑', '→', '↓']\n",
    "\n",
    "\n",
    "ACTION_PROB = 0.25\n",
    "\n",
    "\n",
    "def step(state, action):\n",
    "    if state == A_POS:\n",
    "        return A_PRIME_POS, 10\n",
    "    if state == B_POS:\n",
    "        return B_PRIME_POS, 5\n",
    "\n",
    "    next_state = (np.array(state) + action).tolist()\n",
    "    x, y = next_state\n",
    "    if x < 0 or x >= WORLD_SIZE or y < 0 or y >= WORLD_SIZE:\n",
    "        reward = -1.0\n",
    "        next_state = state\n",
    "    else:\n",
    "        reward = 0\n",
    "    return next_state, reward\n",
    "\n",
    "\n",
    "def draw_image(image, ax=None):\n",
    "    if ax is None:\n",
    "        fig, ax = plt.subplots()\n",
    "    ax.set_axis_off()\n",
    "    \n",
    "    tb = Table(ax, bbox=[0, 0, 1, 1])\n",
    "\n",
    "    nrows, ncols = image.shape\n",
    "    width, height = 1.0 / ncols, 1.0 / nrows\n",
    "\n",
    "    # Add cells\n",
    "    for (i, j), val in np.ndenumerate(image):\n",
    "\n",
    "        # add state labels\n",
    "        if [i, j] == A_POS:\n",
    "            val = str(val) + \" (A)\"\n",
    "        if [i, j] == A_PRIME_POS:\n",
    "            val = str(val) + \" (A')\"\n",
    "        if [i, j] == B_POS:\n",
    "            val = str(val) + \" (B)\"\n",
    "        if [i, j] == B_PRIME_POS:\n",
    "            val = str(val) + \" (B')\"\n",
    "        \n",
    "        tb.add_cell(i, j, width, height, text=val,\n",
    "                    loc='center', facecolor='white')\n",
    "        \n",
    "\n",
    "    # Row and column labels...\n",
    "    for i in range(len(image)):\n",
    "        tb.add_cell(i, -1, width, height, text=i+1, loc='right',\n",
    "                    edgecolor='none', facecolor='none')\n",
    "        tb.add_cell(len(image), i, width, height/2, text=i+1, loc='center',\n",
    "                    edgecolor='none', facecolor='none')\n",
    "\n",
    "    ax.add_table(tb)\n",
    "    return ax\n",
    "#\n",
    "\n",
    "def draw_policy(optimal_values, ax=None):\n",
    "    if ax is None:\n",
    "        fig, ax = plt.subplots()\n",
    "    ax.set_axis_off()\n",
    "    \n",
    "    tb = Table(ax, bbox=[0, 0, 1, 1])\n",
    "\n",
    "    nrows, ncols = optimal_values.shape\n",
    "    width, height = 1.0 / ncols, 1.0 / nrows\n",
    "\n",
    "    # Add cells\n",
    "    for (i, j), val in np.ndenumerate(optimal_values):\n",
    "        next_vals=[]\n",
    "        for action in ACTIONS:\n",
    "            next_state, _ = step([i, j], action)\n",
    "            next_vals.append(optimal_values[next_state[0],next_state[1]])\n",
    "\n",
    "        best_actions=np.where(next_vals == np.max(next_vals))[0]\n",
    "        val=''\n",
    "        for ba in best_actions:\n",
    "            val+=ACTIONS_FIGS[ba]\n",
    "        \n",
    "        # add state labels\n",
    "        if [i, j] == A_POS:\n",
    "            val = str(val) + \" (A)\"\n",
    "        if [i, j] == A_PRIME_POS:\n",
    "            val = str(val) + \" (A')\"\n",
    "        if [i, j] == B_POS:\n",
    "            val = str(val) + \" (B)\"\n",
    "        if [i, j] == B_PRIME_POS:\n",
    "            val = str(val) + \" (B')\"\n",
    "        \n",
    "        tb.add_cell(i, j, width, height, text=val,\n",
    "                loc='center', facecolor='white')\n",
    "\n",
    "    # Row and column labels...\n",
    "    for i in range(len(optimal_values)):\n",
    "        tb.add_cell(i, -1, width, height, text=i+1, loc='right',\n",
    "                    edgecolor='none', facecolor='none')\n",
    "        tb.add_cell(len(optimal_values), i, width, height/2, text=i+1, loc='center',\n",
    "                   edgecolor='none', facecolor='none')\n",
    "\n",
    "    ax.add_table(tb)\n",
    "    return ax\n",
    "#"
   ]
  },
  {
   "cell_type": "markdown",
   "metadata": {},
   "source": [
    "### Solving Bellman equation by solving its linear system of equations.\n",
    "\n",
    "- Remember, we can do this only when the dynamics of the environment is known.\n",
    "\n",
    "Bellman Equation for $v_\\pi(s)$, where $\\pi(a) = P_a = 1/4$:\n",
    "\n",
    "\\begin{align}\n",
    "    V(s) & = \\sum_{a\\in{\\{l,r,u,d\\}}} P_a \\times[r_a+ V(s_a)] \\\\\n",
    "         & = \\sum_{a\\in{\\{l,r,u,d\\}}} \\big[ P_a r_a + P_a V(s_a) \\big]\n",
    "\\end{align}"
   ]
  },
  {
   "cell_type": "markdown",
   "metadata": {},
   "source": [
    "Therefore, the linear equation is:\n",
    "\n",
    "$$\n",
    "    -\\sum_{a} P_a r_a = - V(s) + \\sum_{a} P_a V(s_a) \n",
    "$$\n"
   ]
  },
  {
   "cell_type": "code",
   "execution_count": 90,
   "metadata": {},
   "outputs": [],
   "source": [
    "def figure_3_2_linear_system():\n",
    "    '''\n",
    "    Here we solve the linear system of equations to find the exact solution.\n",
    "    We do this by filling the coefficients for each of the states with their respective right side constant.\n",
    "    '''\n",
    "    A = -1 * np.eye(WORLD_SIZE * WORLD_SIZE)   # this is for -V(s)\n",
    "    b = np.zeros(WORLD_SIZE * WORLD_SIZE)\n",
    "    for i in range(WORLD_SIZE):\n",
    "        for j in range(WORLD_SIZE):\n",
    "            s = [i, j]  # current state\n",
    "            index_s = np.ravel_multi_index(s, (WORLD_SIZE, WORLD_SIZE))\n",
    "            for a in ACTIONS:\n",
    "                s_, r = step(s, a)\n",
    "                index_s_ = np.ravel_multi_index(s_, (WORLD_SIZE, WORLD_SIZE))\n",
    "\n",
    "                A[index_s, index_s_] += ACTION_PROB * DISCOUNT\n",
    "                b[index_s] -= ACTION_PROB * r\n",
    "\n",
    "    x = np.linalg.solve(A, b)\n",
    "    draw_image(np.round(x.reshape(WORLD_SIZE, WORLD_SIZE), decimals=2))\n",
    "#     plt.xlabel(f'Gridworld example: the state-value function for the equiprobable random policy.')\n",
    "    plt.show()  # display the result\n",
    "    plt.savefig('./images/figure_3_2_linear_system.png')\n",
    "    plt.close()\n",
    "#"
   ]
  },
  {
   "cell_type": "code",
   "execution_count": 91,
   "metadata": {},
   "outputs": [
    {
     "data": {
      "image/png": "[encoded data removed]",
      "text/plain": [
       "<Figure size 432x288 with 1 Axes>"
      ]
     },
     "metadata": {
      "needs_background": "light"
     },
     "output_type": "display_data"
    }
   ],
   "source": [
    "figure_3_2_linear_system()"
   ]
  },
  {
   "cell_type": "markdown",
   "metadata": {},
   "source": [
    "### by evaluation-update iteration\n",
    "We can make the table by going through an iteration of the Bellman equation until convergence."
   ]
  },
  {
   "cell_type": "code",
   "execution_count": 92,
   "metadata": {},
   "outputs": [],
   "source": [
    "def figure_3_2():\n",
    "    value = np.zeros((WORLD_SIZE, WORLD_SIZE))\n",
    "    while True:\n",
    "        # keep iteration until convergence\n",
    "        new_value = np.zeros_like(value)\n",
    "        for i in range(WORLD_SIZE):\n",
    "            for j in range(WORLD_SIZE):  # for each state\n",
    "                for action in ACTIONS:\n",
    "                    (next_i, next_j), reward = step([i, j], action)\n",
    "                    # bellman equation\n",
    "                    new_value[i, j] += ACTION_PROB * (reward + DISCOUNT * value[next_i, next_j])\n",
    "        if np.sum(np.abs(value - new_value)) < 1e-4:  # converged?\n",
    "            draw_image(np.round(new_value, decimals=2))\n",
    "            plt.show()\n",
    "            plt.savefig('./images/figure_3_2.png')\n",
    "            plt.close()\n",
    "            break\n",
    "        value = new_value\n",
    "#"
   ]
  },
  {
   "cell_type": "code",
   "execution_count": 93,
   "metadata": {},
   "outputs": [
    {
     "data": {
      "image/png": "[encoded data removed]",
      "text/plain": [
       "<Figure size 432x288 with 1 Axes>"
      ]
     },
     "metadata": {
      "needs_background": "light"
     },
     "output_type": "display_data"
    }
   ],
   "source": [
    "figure_3_2()"
   ]
  },
  {
   "cell_type": "markdown",
   "metadata": {},
   "source": [
    "### Example 3.8: Solving the Gridworld - Solving the Bellman optimal equation\n",
    "\n",
    "Intuitive, the Bellman optimality equation expresses the fact that the value of a state under an optimal policy must equal the expected return for the best action from that state:\n",
    "\n",
    "\\begin{align}\n",
    "v_*(s) & = \\max_{a\\in\\mathcal{A(s)}} q_{\\pi_*}(s,a) \\\\\n",
    "       & = \\max_{a} \\mathbb{E}_{\\pi_*} [ G_t | S_t=s, A_t = a ] \\\\\n",
    "       & = \\max_{a} \\mathbb{E}_{\\pi_*} [ R_{t+1} + \\gamma G_{t+1} | S_t=s, A_t = a ] \\\\\n",
    "       & = \\max_{a} \\mathbb{E}  [ R_{t+1} + \\gamma v_*(S_{t+1}) | S_t=s, A_t = a ] \\quad\\quad (3.19) \\\\\n",
    "       & = \\max_{a} \\sum_{s', r} p(s', r|s, a) [r + \\gamma v_*(s')] \\quad\\quad\\quad\\quad (3.19) \\\\\n",
    "       & = \\max_{a} \\bigg\\{ \\frac{1}{N} \\sum_i [r_i + \\gamma v_*(s') | a, s] \\bigg\\} \\quad\\mbox{Monte Carlo Estimation from $N$ samples.}\n",
    "\\end{align}\n"
   ]
  },
  {
   "cell_type": "code",
   "execution_count": 102,
   "metadata": {},
   "outputs": [],
   "source": [
    "def figure_3_5():\n",
    "    value = np.zeros((WORLD_SIZE, WORLD_SIZE))\n",
    "    while True:\n",
    "        # keep iteration until convergence\n",
    "        new_value = np.zeros_like(value)\n",
    "        for i in range(WORLD_SIZE):\n",
    "            for j in range(WORLD_SIZE):\n",
    "                values = []\n",
    "                for action in ACTIONS:  # get samples (N=1, this)\n",
    "                    (next_i, next_j), reward = step([i, j], action)  # for (s, a), obtain a sample of (s', r)\n",
    "                    # value iteration\n",
    "                    values.append(reward + DISCOUNT * value[next_i, next_j])\n",
    "                new_value[i, j] = np.max(values)   # choose max !\n",
    "        if np.sum(np.abs(new_value - value)) < 1e-4:\n",
    "            value = new_value\n",
    "            break;\n",
    "        value = new_value\n",
    "    return value\n",
    "#"
   ]
  },
  {
   "cell_type": "code",
   "execution_count": 95,
   "metadata": {},
   "outputs": [],
   "source": [
    "value = figure_3_5()"
   ]
  },
  {
   "cell_type": "code",
   "execution_count": 101,
   "metadata": {},
   "outputs": [
    {
     "data": {
      "image/png": "[encoded data removed]",
      "text/plain": [
       "<Figure size 720x288 with 2 Axes>"
      ]
     },
     "metadata": {
      "needs_background": "light"
     },
     "output_type": "display_data"
    }
   ],
   "source": [
    "fig, axes = plt.subplots(1,2, figsize=(10,4))\n",
    "draw_image(np.round(value, decimals=2), axes[0])\n",
    "draw_policy(value, axes[1])\n",
    "axes[0].set(title='optimal state-value function $v_*(s)$')\n",
    "axes[1].set(title='optimal policy function $\\pi_*(a|s)$')\n",
    "plt.show()"
   ]
  },
  {
   "cell_type": "markdown",
   "metadata": {},
   "source": [
    "End."
   ]
  },
  {
   "cell_type": "code",
   "execution_count": 112,
   "metadata": {},
   "outputs": [
    {
     "data": {
      "text/plain": [
       "True"
      ]
     },
     "execution_count": 112,
     "metadata": {},
     "output_type": "execute_result"
    }
   ],
   "source": [
    "(np.array([1, 0]) == np.array([1,0])).all()"
   ]
  },
  {
   "cell_type": "code",
   "execution_count": null,
   "metadata": {},
   "outputs": [],
   "source": [
    "import numpy as np\n",
    "from matplotlib.table import Table\n",
    "\n",
    "class EnvGridWorldChap3:\n",
    "\n",
    "    def __init__():\n",
    "        self.WORLD_SIZE = 5\n",
    "        self.A_POS = np.array([0, 1]       # position A\n",
    "        self.A_PRIME_POS = np.array([4, 1] # A'\n",
    "        self.B_POS = np.array([0, 3]       # B\n",
    "        self.B_PRIME_POS = np.array([2, 3] # B'\n",
    "        DISCOUNT = 0.9\n",
    "\n",
    "        # left, up, right, down\n",
    "        v\n",
    "        self.ACTIONS = [np.array([0, -1]),  # left\n",
    "                   np.array([-1, 0]),  # up\n",
    "                   np.array([0, 1]),   # right\n",
    "                   np.array([1, 0])]   # down\n",
    "        self.ACTIONS_FIGS=[ '←', '↑', '→', '↓']\n",
    "\n",
    "        \n",
    "    def step(state, action):\n",
    "        if state == A_POS:\n",
    "            return A_PRIME_POS, 10\n",
    "        if state == B_POS:\n",
    "            return B_PRIME_POS, 5\n",
    "\n",
    "        next_state = (np.array(state) + action).tolist()\n",
    "        x, y = next_state\n",
    "        if x < 0 or x >= WORLD_SIZE or y < 0 or y >= WORLD_SIZE:\n",
    "            reward = -1.0\n",
    "            next_state = state\n",
    "        else:\n",
    "            reward = 0\n",
    "        return next_state, reward\n"
   ]
  }
 ],
 "metadata": {
  "kernelspec": {
   "display_name": "Python 3",
   "language": "python",
   "name": "python3"
  },
  "language_info": {
   "codemirror_mode": {
    "name": "ipython",
    "version": 3
   },
   "file_extension": ".py",
   "mimetype": "text/x-python",
   "name": "python",
   "nbconvert_exporter": "python",
   "pygments_lexer": "ipython3",
   "version": "3.8.8"
  }
 },
 "nbformat": 4,
 "nbformat_minor": 4
}
