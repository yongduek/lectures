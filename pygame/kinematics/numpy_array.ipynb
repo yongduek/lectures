{
 "cells": [
  {
   "cell_type": "code",
   "execution_count": 26,
   "metadata": {},
   "outputs": [],
   "source": [
    "import pygame as pg \n",
    "import numpy as np \n",
    "\n",
    "\n",
    "def getHomogeneous(p_aff):\n",
    "    \"\"\" p_aff: N x 2 affine coordinates, each row being a 2D coordinate vector \"\"\"\n",
    "    ones = np.ones( (p_aff.shape[0], 1) )\n",
    "    p_homo = np.hstack( (p_aff, ones) )\n",
    "    return p_homo\n",
    "#\n",
    "\n",
    "class Polygon:\n",
    "    def __init__(self, vertices, color=(255,255,200)):\n",
    "        \"\"\" vertices: N x 2 point coordinates for a proper polygon \"\"\"\n",
    "        self.vertices_h = getHomogeneous(vertices)  # must be \n",
    "        self.vertices = self.vertices_h[:,:2]\n",
    "        self.color = color            \n",
    "    def transform(self, H):  # or update()\n",
    "        \"\"\" vertices = H @ vertices \"\"\"\n",
    "        \n",
    "        self.vertices_h = H @ self.vertices_h.T\n",
    "        self.vertices_h = self.vertices_h.T \n",
    "        \n",
    "        \n",
    "    def draw(self, screen):\n",
    "        pg.draw.polygon(screen, self.color, self.vertices)"
   ]
  },
  {
   "cell_type": "code",
   "execution_count": 27,
   "metadata": {},
   "outputs": [
    {
     "data": {
      "text/plain": [
       "(5, 2)"
      ]
     },
     "execution_count": 27,
     "metadata": {},
     "output_type": "execute_result"
    }
   ],
   "source": [
    "p = np.array([ [2, 2], [5, 2], [5, 5], [3, 5], [2, 3]])\n",
    "p.shape"
   ]
  },
  {
   "cell_type": "code",
   "execution_count": 28,
   "metadata": {},
   "outputs": [
    {
     "data": {
      "text/plain": [
       "(5, 1)"
      ]
     },
     "execution_count": 28,
     "metadata": {},
     "output_type": "execute_result"
    }
   ],
   "source": [
    "ones = np.ones((p.shape[0], 1))\n",
    "ones.shape"
   ]
  },
  {
   "cell_type": "code",
   "execution_count": 29,
   "metadata": {},
   "outputs": [
    {
     "data": {
      "text/plain": [
       "(array([[2., 2., 1.],\n",
       "        [5., 2., 1.],\n",
       "        [5., 5., 1.],\n",
       "        [3., 5., 1.],\n",
       "        [2., 3., 1.]]),\n",
       " (5, 3))"
      ]
     },
     "execution_count": 29,
     "metadata": {},
     "output_type": "execute_result"
    }
   ],
   "source": [
    "p_homo = np.hstack( (p, ones) )\n",
    "p_homo, p_homo.shape"
   ]
  },
  {
   "cell_type": "code",
   "execution_count": 30,
   "metadata": {},
   "outputs": [
    {
     "data": {
      "text/plain": [
       "array([[2., 5., 5., 3., 2.],\n",
       "       [2., 2., 5., 5., 3.],\n",
       "       [1., 1., 1., 1., 1.]])"
      ]
     },
     "execution_count": 30,
     "metadata": {},
     "output_type": "execute_result"
    }
   ],
   "source": [
    "p_homo.T "
   ]
  },
  {
   "cell_type": "code",
   "execution_count": 39,
   "metadata": {},
   "outputs": [],
   "source": [
    "poly = Polygon(p)"
   ]
  },
  {
   "cell_type": "code",
   "execution_count": 40,
   "metadata": {},
   "outputs": [
    {
     "data": {
      "text/plain": [
       "array([[2., 2.],\n",
       "       [5., 2.],\n",
       "       [5., 5.],\n",
       "       [3., 5.],\n",
       "       [2., 3.]])"
      ]
     },
     "execution_count": 40,
     "metadata": {},
     "output_type": "execute_result"
    }
   ],
   "source": [
    "poly.vertices"
   ]
  },
  {
   "cell_type": "code",
   "execution_count": 41,
   "metadata": {},
   "outputs": [
    {
     "data": {
      "text/plain": [
       "array([[2., 2., 1.],\n",
       "       [5., 2., 1.],\n",
       "       [5., 5., 1.],\n",
       "       [3., 5., 1.],\n",
       "       [2., 3., 1.]])"
      ]
     },
     "execution_count": 41,
     "metadata": {},
     "output_type": "execute_result"
    }
   ],
   "source": [
    "poly.vertices_h"
   ]
  },
  {
   "cell_type": "code",
   "execution_count": 42,
   "metadata": {},
   "outputs": [
    {
     "data": {
      "text/plain": [
       "array([[3., 2., 1.],\n",
       "       [6., 2., 1.],\n",
       "       [6., 5., 1.],\n",
       "       [4., 5., 1.],\n",
       "       [3., 3., 1.]])"
      ]
     },
     "execution_count": 42,
     "metadata": {},
     "output_type": "execute_result"
    }
   ],
   "source": [
    "H = np.eye(3)\n",
    "H[0,2] = 1 # translation along X\n",
    "poly.transform(H)\n",
    "poly.vertices_h"
   ]
  },
  {
   "cell_type": "code",
   "execution_count": 43,
   "metadata": {},
   "outputs": [
    {
     "data": {
      "text/plain": [
       "array([[2., 2.],\n",
       "       [5., 2.],\n",
       "       [5., 5.],\n",
       "       [3., 5.],\n",
       "       [2., 3.]])"
      ]
     },
     "execution_count": 43,
     "metadata": {},
     "output_type": "execute_result"
    }
   ],
   "source": [
    "poly.vertices"
   ]
  },
  {
   "cell_type": "code",
   "execution_count": 44,
   "metadata": {},
   "outputs": [
    {
     "data": {
      "text/plain": [
       "array([[1., 0., 1.],\n",
       "       [0., 1., 0.],\n",
       "       [0., 0., 1.]])"
      ]
     },
     "execution_count": 44,
     "metadata": {},
     "output_type": "execute_result"
    }
   ],
   "source": [
    "H"
   ]
  },
  {
   "cell_type": "code",
   "execution_count": 45,
   "metadata": {},
   "outputs": [
    {
     "data": {
      "text/plain": [
       "array([[4., 7., 7., 5., 4.],\n",
       "       [2., 2., 5., 5., 3.],\n",
       "       [1., 1., 1., 1., 1.]])"
      ]
     },
     "execution_count": 45,
     "metadata": {},
     "output_type": "execute_result"
    }
   ],
   "source": [
    "H @ poly.vertices_h.T "
   ]
  },
  {
   "cell_type": "code",
   "execution_count": null,
   "metadata": {},
   "outputs": [],
   "source": []
  }
 ],
 "metadata": {
  "kernelspec": {
   "display_name": "Python 3.8.10 64-bit",
   "language": "python",
   "name": "python3"
  },
  "language_info": {
   "codemirror_mode": {
    "name": "ipython",
    "version": 3
   },
   "file_extension": ".py",
   "mimetype": "text/x-python",
   "name": "python",
   "nbconvert_exporter": "python",
   "pygments_lexer": "ipython3",
   "version": "3.8.10"
  },
  "orig_nbformat": 4,
  "vscode": {
   "interpreter": {
    "hash": "890420746f208cb6ddd22111006905b5179748c11b11778b577dc5b772fa3540"
   }
  }
 },
 "nbformat": 4,
 "nbformat_minor": 2
}
