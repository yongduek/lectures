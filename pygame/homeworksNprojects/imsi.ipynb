{
 "cells": [
  {
   "cell_type": "code",
   "execution_count": 1,
   "metadata": {},
   "outputs": [],
   "source": [
    "import numpy as  np"
   ]
  },
  {
   "cell_type": "code",
   "execution_count": 2,
   "metadata": {},
   "outputs": [
    {
     "data": {
      "text/plain": [
       "array([0.13413769, 0.3548616 , 0.51100071])"
      ]
     },
     "execution_count": 2,
     "metadata": {},
     "output_type": "execute_result"
    }
   ],
   "source": [
    "un = np.array([0.3**3 * .7, 0.5**2 * .2, 0.6**2 * .4 * .5])\n",
    "un / un.sum()"
   ]
  },
  {
   "cell_type": "code",
   "execution_count": 3,
   "metadata": {},
   "outputs": [
    {
     "data": {
      "text/plain": [
       "array([0.0189, 0.05  , 0.072 ])"
      ]
     },
     "execution_count": 3,
     "metadata": {},
     "output_type": "execute_result"
    }
   ],
   "source": [
    "un"
   ]
  },
  {
   "cell_type": "code",
   "execution_count": null,
   "metadata": {},
   "outputs": [],
   "source": []
  },
  {
   "cell_type": "code",
   "execution_count": 4,
   "metadata": {},
   "outputs": [
    {
     "data": {
      "text/plain": [
       "array([0.16307161, 0.21570319, 0.62122519])"
      ]
     },
     "execution_count": 4,
     "metadata": {},
     "output_type": "execute_result"
    }
   ],
   "source": [
    "un = np.array([3**3 * 7, 5**3 * 2, 6**2 * 4 * 5])\n",
    "un / un.sum()"
   ]
  },
  {
   "cell_type": "code",
   "execution_count": 5,
   "metadata": {},
   "outputs": [
    {
     "data": {
      "text/plain": [
       "0.1630716134598792"
      ]
     },
     "execution_count": 5,
     "metadata": {},
     "output_type": "execute_result"
    }
   ],
   "source": [
    "189/1159"
   ]
  },
  {
   "cell_type": "code",
   "execution_count": 6,
   "metadata": {},
   "outputs": [],
   "source": [
    "def Rmat(theta):\n",
    " rad = np.radians(theta)\n",
    " c,s = np.cos(rad), np.sin(rad)\n",
    " R_matrix = np.array(((c, -s,0), (s, c,0), (0,0,1)))\n",
    " return R_matrix\n",
    "\n",
    "def Tmat(a, b):\n",
    " M_matrix = np.array(((1,0,a),(0,1,b),(0,0,1)))\n",
    " return M_matrix"
   ]
  },
  {
   "cell_type": "code",
   "execution_count": 7,
   "metadata": {},
   "outputs": [
    {
     "data": {
      "text/plain": [
       "array([[   0.70710678,   -0.70710678,  429.28932188],\n",
       "       [   0.70710678,    0.70710678, -236.39610307],\n",
       "       [   0.        ,    0.        ,    1.        ]])"
      ]
     },
     "execution_count": 7,
     "metadata": {},
     "output_type": "execute_result"
    }
   ],
   "source": [
    "a, b = 500, 400\n",
    "H = Tmat(a, b) @ Rmat(45) @ Tmat(-a, -b)\n",
    "H"
   ]
  },
  {
   "cell_type": "code",
   "execution_count": null,
   "metadata": {},
   "outputs": [],
   "source": []
  }
 ],
 "metadata": {
  "kernelspec": {
   "display_name": "Python 3.8.10 64-bit",
   "language": "python",
   "name": "python3"
  },
  "language_info": {
   "codemirror_mode": {
    "name": "ipython",
    "version": 3
   },
   "file_extension": ".py",
   "mimetype": "text/x-python",
   "name": "python",
   "nbconvert_exporter": "python",
   "pygments_lexer": "ipython3",
   "version": "3.8.10"
  },
  "orig_nbformat": 4,
  "vscode": {
   "interpreter": {
    "hash": "890420746f208cb6ddd22111006905b5179748c11b11778b577dc5b772fa3540"
   }
  }
 },
 "nbformat": 4,
 "nbformat_minor": 2
}
