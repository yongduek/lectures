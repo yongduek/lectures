{
 "cells": [
  {
   "cell_type": "markdown",
   "metadata": {},
   "source": [
    "# Beta-Bernoulli model with mixture prior\n",
    "- **PML book1, Ch. 4.6.2.11**\n",
    "    For example, suppose we want to predict the outcome of a coin toss at a casino, and we believe that the\n",
    "    coin may be fair, but may equally likely be biased towards heads. This prior cannot be represented\n",
    "    by a beta distribution. Fortunately, it can be represented as a mixture of beta distributions.\n",
    "\n",
    "$$\n",
    "p(\\theta) = 0.5 Beta(\\theta|20, 20) + 0.5 Beta(\\theta| 30, 10)\n",
    "$$"
   ]
  },
  {
   "cell_type": "code",
   "execution_count": 1,
   "metadata": {},
   "outputs": [],
   "source": [
    "import scipy.stats as stats \n",
    "from scipy.special import beta \n",
    "import numpy as np \n",
    "import matplotlib.pyplot as plt\n",
    "import seaborn as sns "
   ]
  },
  {
   "cell_type": "markdown",
   "metadata": {},
   "source": [
    "Mixture probability update"
   ]
  },
  {
   "cell_type": "code",
   "execution_count": 2,
   "metadata": {},
   "outputs": [
    {
     "name": "stdout",
     "output_type": "stream",
     "text": [
      "Posterior Mixture Probability:  [0.34575967 0.65424033]\n"
     ]
    }
   ],
   "source": [
    "pi_prior = np.array([0.5, 0.5])\n",
    "\n",
    "N1, N0 = 20, 10 \n",
    "ab1 = [20, 20]\n",
    "ab2 = [30, 10]\n",
    "pi = np.array([beta(20+N1, 20+N0) / beta(20,20), beta(30+N1,10+N0)/beta(30,10)])\n",
    "pi = pi * pi_prior\n",
    "pi /= pi.sum()\n",
    "print('Posterior Mixture Probability: ', pi)"
   ]
  },
  {
   "cell_type": "markdown",
   "metadata": {},
   "source": [
    "Posterior PDF"
   ]
  },
  {
   "cell_type": "code",
   "execution_count": 3,
   "metadata": {},
   "outputs": [],
   "source": [
    "th = np.linspace(0.01, 0.99, 100);  # domain of theta\n",
    "\n",
    "prior1 = stats.beta(20,20).pdf(th)\n",
    "prior2 = stats.beta(30,10).pdf(th)\n",
    "prior = pi_prior[0] * prior1 + pi_prior[1] * prior2 \n",
    "\n",
    "post1 = stats.beta(20+N1, 20+N0).pdf(th)\n",
    "post2 = stats.beta(30+N1, 10+N0).pdf(th)\n",
    "\n",
    "post = pi[0] * post1 + pi[1] * post2 "
   ]
  },
  {
   "cell_type": "code",
   "execution_count": 4,
   "metadata": {},
   "outputs": [
    {
     "data": {
      "image/png": "[encoded data removed]",
      "text/plain": [
       "<Figure size 432x288 with 1 Axes>"
      ]
     },
     "metadata": {
      "needs_background": "light"
     },
     "output_type": "display_data"
    }
   ],
   "source": [
    "plt.plot(th, post, label='posterior');\n",
    "plt.plot(th, prior, 'r--', label='prior');\n",
    "plt.legend();"
   ]
  },
  {
   "cell_type": "markdown",
   "metadata": {},
   "source": [
    "$$\n",
    "Pr[\\theta > 0.5 | D] = \\sum_k Pr[\\theta > 0.5|D, h=k] p(h=k|D)\n",
    "$$"
   ]
  },
  {
   "cell_type": "code",
   "execution_count": 5,
   "metadata": {},
   "outputs": [
    {
     "name": "stdout",
     "output_type": "stream",
     "text": [
      "Pr [θ>0.5|D] =  0.9604342597978659\n"
     ]
    }
   ],
   "source": [
    "pr1 = 1 - stats.beta(20+N1, 20+N0).cdf(0.5)\n",
    "pr2 = 1 - stats.beta(30+N1, 10+N0).cdf(0.5)\n",
    "Pr = pr1 * pi[0] + pr2 * pi[1]\n",
    "print(f\"Pr [\\u03b8>0.5|D] = \", Pr)"
   ]
  },
  {
   "cell_type": "markdown",
   "metadata": {},
   "source": [
    "## When $\\theta$ at discrete grids\n",
    "\n",
    "P = [0.5 , 0.5] at [0.5, 0.7]\n",
    "\n",
    "N1 = 20, N0 = 10"
   ]
  },
  {
   "cell_type": "code",
   "execution_count": 23,
   "metadata": {},
   "outputs": [
    {
     "name": "stdout",
     "output_type": "stream",
     "text": [
      "P[th=0.5|Data] = 0.165\n",
      "P[th=0.7|Data] = 0.835\n"
     ]
    }
   ],
   "source": [
    "theta = np.array([.5, .7])\n",
    "prior = np.array([.5, .5])\n",
    "L = np.array([ th**N1 * (1-th)**N0 for th in theta])\n",
    "LP = L * prior \n",
    "Z = LP.sum()\n",
    "posterior = LP / Z\n",
    "\n",
    "for p, th in zip(posterior, theta):\n",
    "    print(f\"P[th={th}|Data] = {np.round(p, 4)}\")"
   ]
  },
  {
   "cell_type": "markdown",
   "metadata": {},
   "source": [
    "P = [0.5 , 0.25, 0.25] at theta = [0.5, 0.6, 0.7]\n",
    "\n",
    "N1 = 20, N0 = 10"
   ]
  },
  {
   "cell_type": "code",
   "execution_count": 17,
   "metadata": {},
   "outputs": [
    {
     "name": "stdout",
     "output_type": "stream",
     "text": [
      "P[th=0.5|Data] = 0.0983\n",
      "P[th=0.6|Data] = 0.4045\n",
      "P[th=0.7|Data] = 0.4972\n"
     ]
    }
   ],
   "source": [
    "theta = np.array([.5, .6, .7])\n",
    "# prior = np.array([.5, .25, .25])\n",
    "prior = np.array([1/len(theta) for _ in range(len(theta))])  # uniform\n",
    "L = np.array([ th**N1 * (1-th)**N0 for th in theta])\n",
    "LP = L * prior \n",
    "Z = LP.sum()\n",
    "posterior = LP / Z\n",
    "\n",
    "for p, th in zip(posterior, theta):\n",
    "    print(f\"P[th={th}|Data] = {np.round(p, 4)}\")"
   ]
  },
  {
   "cell_type": "markdown",
   "metadata": {},
   "source": [
    "P = [0.5 , 0.25, 0.25] at theta = [0.5, 0.6, 0.7]\n",
    "\n",
    "N1 = 20, N0 = 10"
   ]
  },
  {
   "cell_type": "code",
   "execution_count": 22,
   "metadata": {},
   "outputs": [
    {
     "data": {
      "image/png": "[encoded data removed]",
      "text/plain": [
       "<Figure size 432x288 with 1 Axes>"
      ]
     },
     "metadata": {
      "needs_background": "light"
     },
     "output_type": "display_data"
    }
   ],
   "source": [
    "theta = np.linspace(.4, .9, 20)\n",
    "prior = np.array([1./len(theta) for _ in range(len(theta))])\n",
    "L = np.array([ th**N1 * (1-th)**N0 for th in theta])\n",
    "LP = L * prior \n",
    "Z = LP.sum()\n",
    "posterior = LP / Z\n",
    "\n",
    "plt.bar(theta, posterior, width=.01);"
   ]
  },
  {
   "cell_type": "code",
   "execution_count": null,
   "metadata": {},
   "outputs": [],
   "source": []
  }
 ],
 "metadata": {
  "interpreter": {
   "hash": "69576a0eb30869c85a3fd6df23a4ecdcdea64b6b5879a68990b74c7f536ae993"
  },
  "kernelspec": {
   "display_name": "Python 3.9.11 64-bit",
   "language": "python",
   "name": "python3"
  },
  "language_info": {
   "codemirror_mode": {
    "name": "ipython",
    "version": 3
   },
   "file_extension": ".py",
   "mimetype": "text/x-python",
   "name": "python",
   "nbconvert_exporter": "python",
   "pygments_lexer": "ipython3",
   "version": "3.8.10"
  },
  "orig_nbformat": 4
 },
 "nbformat": 4,
 "nbformat_minor": 2
}
