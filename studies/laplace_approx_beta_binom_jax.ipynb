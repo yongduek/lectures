{
 "cells": [
  {
   "cell_type": "markdown",
   "metadata": {},
   "source": [
    "https://colab.research.google.com/github/probml/pyprobml/blob/master/notebooks/book1/04/laplace_approx_beta_binom_jax.ipynb"
   ]
  },
  {
   "cell_type": "code",
   "execution_count": null,
   "metadata": {},
   "outputs": [],
   "source": []
  },
  {
   "cell_type": "code",
   "execution_count": 1,
   "metadata": {},
   "outputs": [],
   "source": [
    "import jax\n",
    "import jax.numpy as jnp \n",
    "from jax import lax \n",
    "\n",
    "from tensorflow_probability.substrates import jax as tfp  # pip install tensorflow-probability\n",
    "dist = tfp.distributions \n",
    "import optax \n",
    "\n",
    "import seaborn as sns\n",
    "import numpy as np\n",
    "import matplotlib.pyplot as plt"
   ]
  },
  {
   "cell_type": "code",
   "execution_count": 2,
   "metadata": {},
   "outputs": [
    {
     "name": "stderr",
     "output_type": "stream",
     "text": [
      "WARNING:absl:No GPU/TPU found, falling back to CPU. (Set TF_CPP_MIN_LOG_LEVEL=0 and rerun for more info.)\n"
     ]
    },
    {
     "name": "stdout",
     "output_type": "stream",
     "text": [
      "Dataset: [0 0 0 0 0 0 0 0 0 0 1]\n"
     ]
    }
   ],
   "source": [
    "key = jax.random.PRNGKey(128)\n",
    "dataset = np.repeat([0, 1], (10, 1))\n",
    "n_samples = len(dataset)\n",
    "print(f\"Dataset: {dataset}\")\n",
    "n_heads = dataset.sum()\n",
    "n_tails = n_samples - n_heads"
   ]
  },
  {
   "cell_type": "markdown",
   "metadata": {},
   "source": [
    "Find $\\hat\\theta_{MAP}$ by minimizing negative log prior-likelihood (joint)"
   ]
  },
  {
   "cell_type": "code",
   "execution_count": 3,
   "metadata": {},
   "outputs": [],
   "source": [
    "# prior distribution ~ Beta\n",
    "def prior_dist():\n",
    "    return dist.Beta(concentration1=1.0, concentration0=1.0)\n",
    "\n",
    "# likelihood distribution ~ Bernoulli\n",
    "def likelihood_dist(theta):\n",
    "    return dist.Bernoulli(probs=theta)\n",
    "\n",
    "def neg_log_prior_likelihood_fn(params, dataset):\n",
    "    theta = params[\"theta\"]\n",
    "    likelihood_log_prob = likelihood_dist(theta).log_prob(dataset).sum()  # log probability of likelihood\n",
    "    prior_log_prob = prior_dist().log_prob(theta)  # log probability of prior\n",
    "    return -(likelihood_log_prob + prior_log_prob)  # negative log_prior_liklihood"
   ]
  },
  {
   "cell_type": "code",
   "execution_count": 4,
   "metadata": {},
   "outputs": [],
   "source": [
    "loss_and_grad_fn = jax.value_and_grad(neg_log_prior_likelihood_fn)\n",
    "params = {\"theta\": 0.5}\n",
    "neg_joint_log_prob, grads = loss_and_grad_fn(params, dataset)\n",
    "\n",
    "optimizer = optax.adam(0.01)\n",
    "opt_state = optimizer.init(params)"
   ]
  },
  {
   "cell_type": "code",
   "execution_count": 5,
   "metadata": {},
   "outputs": [],
   "source": [
    "@jax.jit\n",
    "def train_step(carry, data_output):\n",
    "\n",
    "    params = carry[\"params\"]\n",
    "    neg_joint_log_prob, grads = loss_and_grad_fn(params, dataset)\n",
    "\n",
    "    opt_state = carry[\"opt_state\"]\n",
    "    updates, opt_state = optimizer.update(grads, opt_state)\n",
    "    params = optax.apply_updates(params, updates)\n",
    "\n",
    "    carry = {\"params\": params, \"opt_state\": opt_state}\n",
    "    data_output = {\"params\": params, \"loss\": neg_joint_log_prob}\n",
    "\n",
    "    return carry, data_output"
   ]
  },
  {
   "cell_type": "code",
   "execution_count": 6,
   "metadata": {},
   "outputs": [],
   "source": [
    "carry = {\"params\": params, \"opt_state\": opt_state}\n",
    "data_output = {\"params\": params, \"loss\": neg_joint_log_prob}\n",
    "\n",
    "n = 100\n",
    "iterator = jnp.ones(n)\n",
    "last_carry, output = jax.lax.scan(train_step, carry, iterator)"
   ]
  },
  {
   "cell_type": "code",
   "execution_count": 7,
   "metadata": {},
   "outputs": [
    {
     "data": {
      "image/png": "[encoded data removed]",
      "text/plain": [
       "<Figure size 432x288 with 1 Axes>"
      ]
     },
     "metadata": {
      "needs_background": "light"
     },
     "output_type": "display_data"
    }
   ],
   "source": [
    "loss = output[\"loss\"]\n",
    "plt.plot(loss, label=\"loss\")\n",
    "plt.legend();"
   ]
  },
  {
   "cell_type": "code",
   "execution_count": 8,
   "metadata": {},
   "outputs": [
    {
     "name": "stdout",
     "output_type": "stream",
     "text": [
      "theta_map = 0.09168018400669098\n"
     ]
    }
   ],
   "source": [
    "optimized_params = last_carry[\"params\"]\n",
    "theta_map = optimized_params[\"theta\"]\n",
    "print(f\"theta_map = {theta_map}\")"
   ]
  },
  {
   "cell_type": "code",
   "execution_count": 9,
   "metadata": {},
   "outputs": [
    {
     "name": "stdout",
     "output_type": "stream",
     "text": [
      "loc = 0.09168018400669098\n",
      "scale = 0.08733917027711868\n"
     ]
    }
   ],
   "source": [
    "loc = theta_map  # loc of approximate posterior\n",
    "print(f\"loc = {loc}\")\n",
    "# scale of approximate posterior\n",
    "scale = 1 / jnp.sqrt(jax.hessian(neg_log_prior_likelihood_fn)(optimized_params, dataset)[\"theta\"][\"theta\"])\n",
    "print(f\"scale = {scale}\")"
   ]
  },
  {
   "cell_type": "code",
   "execution_count": 10,
   "metadata": {},
   "outputs": [
    {
     "data": {
      "image/png": "[encoded data removed]",
      "text/plain": [
       "<Figure size 432x288 with 1 Axes>"
      ]
     },
     "metadata": {
      "needs_background": "light"
     },
     "output_type": "display_data"
    }
   ],
   "source": [
    "a = prior_dist().concentration1\n",
    "b = prior_dist().concentration0\n",
    "\n",
    "exact_posterior = dist.Beta(concentration1=a + n_heads, concentration0=b + n_tails)\n",
    "theta_range = jnp.linspace(0.01, 0.99, 100)\n",
    "y = jnp.exp(dist.Normal(loc, scale).log_prob(theta_range))\n",
    "\n",
    "plt.figure()\n",
    "plt.title(\"Quadratic approximation\")\n",
    "plt.plot(theta_range, y, label=\"laplace approximation\", color=\"tab:red\")\n",
    "plt.plot(theta_range, exact_posterior.prob(theta_range), label=\"true posterior\", color=\"tab:green\", linestyle=\"--\")\n",
    "plt.xlabel(\"$\\\\theta$\")\n",
    "plt.ylabel(\"$p(\\\\theta)$\")\n",
    "plt.legend();"
   ]
  },
  {
   "cell_type": "markdown",
   "metadata": {},
   "source": [
    "# Laplace Approx with pymc3 / numpyro / pyro"
   ]
  },
  {
   "cell_type": "code",
   "execution_count": 13,
   "metadata": {},
   "outputs": [
    {
     "data": {
      "text/html": [
       "\n",
       "<style>\n",
       "    /* Turns off some styling */\n",
       "    progress {\n",
       "        /* gets rid of default border in Firefox and Opera. */\n",
       "        border: none;\n",
       "        /* Needs to be in here for Safari polyfill so background images work as expected. */\n",
       "        background-size: auto;\n",
       "    }\n",
       "    .progress-bar-interrupted, .progress-bar-interrupted::-webkit-progress-bar {\n",
       "        background: #F44336;\n",
       "    }\n",
       "</style>\n"
      ],
      "text/plain": [
       "<IPython.core.display.HTML object>"
      ]
     },
     "metadata": {},
     "output_type": "display_data"
    },
    {
     "data": {
      "text/html": [
       "\n",
       "    <div>\n",
       "      <progress value='8' class='' max='8' style='width:300px; height:20px; vertical-align: middle;'></progress>\n",
       "      100.00% [8/8 00:00<00:00 logp = -7.6246, ||grad|| = 4.5]\n",
       "    </div>\n",
       "    "
      ],
      "text/plain": [
       "<IPython.core.display.HTML object>"
      ]
     },
     "metadata": {},
     "output_type": "display_data"
    },
    {
     "name": "stdout",
     "output_type": "stream",
     "text": [
      "\n"
     ]
    }
   ],
   "source": [
    "import pymc3 as pm \n",
    "import scipy.stats as stats \n",
    "\n",
    "# Laplace\n",
    "with pm.Model() as normal_aproximation:\n",
    "    theta = pm.Beta(\"theta\", 1.0, 1.0)\n",
    "    y = pm.Binomial(\"y\", n=1, p=theta, observed=dataset)  # Bernoulli\n",
    "    mean_q = pm.find_MAP()\n",
    "    std_q = ((1 / pm.find_hessian(mean_q, vars=[theta])) ** 0.5)[0]\n",
    "    loc = mean_q[\"theta\"]"
   ]
  },
  {
   "cell_type": "code",
   "execution_count": 17,
   "metadata": {},
   "outputs": [
    {
     "data": {
      "image/png": "[encoded data removed]",
      "text/plain": [
       "<Figure size 432x288 with 1 Axes>"
      ]
     },
     "metadata": {
      "needs_background": "light"
     },
     "output_type": "display_data"
    }
   ],
   "source": [
    "x = theta_range\n",
    "\n",
    "plt.figure()\n",
    "plt.plot(x, stats.norm.pdf(x, loc, std_q), \"--\", label=\"Laplace\")\n",
    "post_exact = stats.beta.pdf(x, n_heads + 1, n_tails + 1)\n",
    "plt.plot(x, post_exact, label=\"exact\")\n",
    "plt.title(\"Quadratic approximation by pymc3\")\n",
    "plt.xlabel(\"θ\", fontsize=14)\n",
    "plt.legend();"
   ]
  },
  {
   "cell_type": "code",
   "execution_count": null,
   "metadata": {},
   "outputs": [],
   "source": []
  }
 ],
 "metadata": {
  "interpreter": {
   "hash": "916dbcbb3f70747c44a77c7bcd40155683ae19c65e1c03b4aa3499c5328201f1"
  },
  "kernelspec": {
   "display_name": "Python 3.8.10 64-bit",
   "language": "python",
   "name": "python3"
  },
  "language_info": {
   "codemirror_mode": {
    "name": "ipython",
    "version": 3
   },
   "file_extension": ".py",
   "mimetype": "text/x-python",
   "name": "python",
   "nbconvert_exporter": "python",
   "pygments_lexer": "ipython3",
   "version": "3.8.10"
  },
  "orig_nbformat": 4
 },
 "nbformat": 4,
 "nbformat_minor": 2
}
