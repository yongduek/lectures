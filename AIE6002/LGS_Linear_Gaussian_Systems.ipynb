{
 "cells": [
  {
   "cell_type": "markdown",
   "metadata": {},
   "source": [
    "# Linear Gaussian System\n",
    "Example of Sensor find_distributions\n",
    "\n",
    "Ref:\n",
    "1. Prml book 2, Chap. 2.2.6.3, Figure 2.8"
   ]
  },
  {
   "cell_type": "code",
   "execution_count": 1,
   "metadata": {},
   "outputs": [],
   "source": [
    "import numpy as np\n",
    "import matplotlib.pyplot as plt "
   ]
  },
  {
   "cell_type": "code",
   "execution_count": 6,
   "metadata": {},
   "outputs": [],
   "source": [
    "uz = np.array([0, 0])\n",
    "Cz = np.eye(2) * 1000000 # almost uniform\n",
    "W = np.array([ [1,0,1,0], [0,1,0,1]]).T \n",
    "Cx = np.eye(2)*0.01\n",
    "Cy = np.eye(2)*0.01 \n",
    "W, Cx, Cy\n",
    "obsx = np.array([0, -1])\n",
    "obsy = np.array([1, 0])"
   ]
  },
  {
   "cell_type": "code",
   "execution_count": 15,
   "metadata": {},
   "outputs": [],
   "source": [
    "# compute posterior p(z|x,y)\n",
    "\n",
    "v = np.concatenate((obsx, obsy)); v\n",
    "Cv = np.eye(4); Cv[:2,:2] = Cx; Cv[2:,2:]=Cy; Cv \n",
    "\n",
    "S = Cv + W @ Cz @ W.T \n",
    "Sinv = np.linalg.inv(S)\n",
    "uzc = uz + Cz @ W.T @ Sinv @ (v - W @ uz)\n",
    "Czc = Cz - Cz @ W.T @ Sinv @ W @ Cz "
   ]
  },
  {
   "cell_type": "code",
   "execution_count": 36,
   "metadata": {},
   "outputs": [
    {
     "data": {
      "text/plain": [
       "(array([ 0.5, -0.5]),\n",
       " array([[0.00126238, 0.        ],\n",
       "        [0.        , 0.00126238]]))"
      ]
     },
     "execution_count": 36,
     "metadata": {},
     "output_type": "execute_result"
    }
   ],
   "source": [
    "# posterior mean and cov\n",
    "u, Czc"
   ]
  },
  {
   "cell_type": "code",
   "execution_count": 20,
   "metadata": {},
   "outputs": [
    {
     "data": {
      "text/plain": [
       "(array([0.00126238, 0.00126238]),\n",
       " array([[1., 0.],\n",
       "        [0., 1.]]))"
      ]
     },
     "execution_count": 20,
     "metadata": {},
     "output_type": "execute_result"
    }
   ],
   "source": [
    "np.linalg.eig(Czc)"
   ]
  },
  {
   "cell_type": "code",
   "execution_count": 32,
   "metadata": {},
   "outputs": [
    {
     "data": {
      "text/plain": [
       "(array([10.10977223,  0.89022777]),\n",
       " array([[ 0.99402894, -0.10911677],\n",
       "        [ 0.10911677,  0.99402894]]))"
      ]
     },
     "execution_count": 32,
     "metadata": {},
     "output_type": "execute_result"
    }
   ],
   "source": [
    "A = np.array([[10, 1], [1, 1]])\n",
    "w, v = np.linalg.eig(A)\n",
    "w, v"
   ]
  },
  {
   "cell_type": "code",
   "execution_count": 33,
   "metadata": {},
   "outputs": [
    {
     "data": {
      "text/plain": [
       "array([[10.,  1.],\n",
       "       [ 1.,  1.]])"
      ]
     },
     "execution_count": 33,
     "metadata": {},
     "output_type": "execute_result"
    }
   ],
   "source": [
    "v @ np.diag(w) @ v.T"
   ]
  },
  {
   "cell_type": "code",
   "execution_count": 35,
   "metadata": {},
   "outputs": [
    {
     "data": {
      "text/plain": [
       "(6.264403854575756, 'degrees')"
      ]
     },
     "execution_count": 35,
     "metadata": {},
     "output_type": "execute_result"
    }
   ],
   "source": [
    "v\n",
    "angle = np.arctan2(v[1,0], v[0,0]) * 180 / np.pi\n",
    "angle , \"degrees\""
   ]
  },
  {
   "cell_type": "markdown",
   "metadata": {},
   "source": [
    "## Second Example"
   ]
  },
  {
   "cell_type": "code",
   "execution_count": 37,
   "metadata": {},
   "outputs": [],
   "source": [
    "uz = np.array([0, 0])\n",
    "Cz = np.eye(2) * 1000000 # almost uniform\n",
    "W = np.array([ [1,0,1,0], [0,1,0,1]]).T \n",
    "Cx = np.eye(2)*0.05\n",
    "Cy = np.eye(2)*0.01 \n",
    "W, Cx, Cy\n",
    "obsx = np.array([0, -1])\n",
    "obsy = np.array([1, 0])"
   ]
  },
  {
   "cell_type": "code",
   "execution_count": 39,
   "metadata": {},
   "outputs": [
    {
     "data": {
      "text/plain": [
       "(array([ 0.83333332, -0.16666667]),\n",
       " array([[0.01000285, 0.        ],\n",
       "        [0.        , 0.01000285]]))"
      ]
     },
     "execution_count": 39,
     "metadata": {},
     "output_type": "execute_result"
    }
   ],
   "source": [
    "# compute posterior p(z|x,y)\n",
    "\n",
    "v = np.concatenate((obsx, obsy)); v\n",
    "Cv = np.eye(4); Cv[:2,:2] = Cx; Cv[2:,2:]=Cy; Cv \n",
    "\n",
    "S = Cv + W @ Cz @ W.T \n",
    "Sinv = np.linalg.inv(S)\n",
    "uzc = uz + Cz @ W.T @ Sinv @ (v - W @ uz)\n",
    "Czc = Cz - Cz @ W.T @ Sinv @ W @ Cz \n",
    "\n",
    "uzc, Czc"
   ]
  },
  {
   "cell_type": "markdown",
   "metadata": {},
   "source": [
    "## Third Example"
   ]
  },
  {
   "cell_type": "code",
   "execution_count": 41,
   "metadata": {},
   "outputs": [],
   "source": [
    "uz = np.array([0, 0])\n",
    "Cz = np.eye(2) * 1000000 # almost uniform\n",
    "W = np.array([ [1,0,1,0], [0,1,0,1]]).T \n",
    "Cx = np.array([[10, 1], [1,1]])*0.01\n",
    "Cy = np.array([[1, 1], [1,10]])*0.01 \n",
    "W, Cx, Cy\n",
    "obsx = np.array([0, -1])\n",
    "obsy = np.array([1, 0])"
   ]
  },
  {
   "cell_type": "code",
   "execution_count": 42,
   "metadata": {},
   "outputs": [
    {
     "data": {
      "text/plain": [
       "(array([ 0.84615384, -0.84615384]),\n",
       " array([[0.00769944, 0.00173027],\n",
       "        [0.00168669, 0.00946761]]))"
      ]
     },
     "execution_count": 42,
     "metadata": {},
     "output_type": "execute_result"
    }
   ],
   "source": [
    "# compute posterior p(z|x,y)\n",
    "\n",
    "v = np.concatenate((obsx, obsy)); v\n",
    "Cv = np.eye(4); Cv[:2,:2] = Cx; Cv[2:,2:]=Cy; Cv \n",
    "\n",
    "S = Cv + W @ Cz @ W.T \n",
    "Sinv = np.linalg.inv(S)\n",
    "uzc = uz + Cz @ W.T @ Sinv @ (v - W @ uz)\n",
    "Czc = Cz - Cz @ W.T @ Sinv @ W @ Cz \n",
    "\n",
    "uzc, Czc"
   ]
  },
  {
   "cell_type": "code",
   "execution_count": null,
   "metadata": {},
   "outputs": [],
   "source": []
  }
 ],
 "metadata": {
  "kernelspec": {
   "display_name": "Python 3.8.10 64-bit",
   "language": "python",
   "name": "python3"
  },
  "language_info": {
   "codemirror_mode": {
    "name": "ipython",
    "version": 3
   },
   "file_extension": ".py",
   "mimetype": "text/x-python",
   "name": "python",
   "nbconvert_exporter": "python",
   "pygments_lexer": "ipython3",
   "version": "3.8.10"
  },
  "orig_nbformat": 4,
  "vscode": {
   "interpreter": {
    "hash": "890420746f208cb6ddd22111006905b5179748c11b11778b577dc5b772fa3540"
   }
  }
 },
 "nbformat": 4,
 "nbformat_minor": 2
}
