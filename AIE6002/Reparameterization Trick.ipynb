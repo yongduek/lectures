{
 "cells": [
  {
   "attachments": {},
   "cell_type": "markdown",
   "metadata": {},
   "source": [
    "# Reparameterization Trick\n",
    "\n",
    "https://github.com/gokererdogan/Notebooks/blob/master/Reparameterization%20Trick.ipynb"
   ]
  },
  {
   "attachments": {},
   "cell_type": "markdown",
   "metadata": {},
   "source": [
    "Here we will understand the reparameterization trick used by Kingma and Welling (2014) to train their variational autoencoder.  \n",
    "\n",
    "Assume we have a normal distribution $q$ that is parameterized by $\\theta$, specifically $q_{\\theta}(x) = N(\\theta,1)$. We want to solve the below problem\n",
    "$$\n",
    "\\text{min}_{\\theta} \\quad E_q[x^2]\n",
    "$$\n",
    "This is of course a rather silly problem and the optimal $\\theta$ is obvious. We want to understand how the reparameterization trick helps in calculating the gradient of this objective $E_q[x^2]$."
   ]
  },
  {
   "attachments": {},
   "cell_type": "markdown",
   "metadata": {},
   "source": [
    "One way to calculate $\\nabla_{\\theta} E_q[x^2]$ is as follows\n",
    "\\begin{align}\n",
    "    \\nabla_{\\theta} E_q[x^2] & = \\nabla_{\\theta} \\int  x^2 q_{\\theta}(x) dx \\\\\n",
    "                    & = \\int x^2 \\frac{q_{\\theta}(x)}{q_{\\theta}(x)} \\nabla_{\\theta} q_{\\theta}(x) dx \\\\ \n",
    "                    & = \\int  x^2 q_{\\theta}(x) \\nabla_{\\theta} \\log q_{\\theta}(x) dx \\\\\n",
    "                    & = E_q[x^2 \\nabla_{\\theta} \\log q_{\\theta}(x)]\n",
    "\\end{align}\n",
    "\n",
    "For our example where $q_{\\theta}(x) = N(\\theta,1)$, this method gives\n",
    "$$\n",
    "\\nabla_{\\theta} E_q[x^2] = E_q[x^2 (x-\\theta)]\n",
    "$$"
   ]
  },
  {
   "attachments": {},
   "cell_type": "markdown",
   "metadata": {},
   "source": [
    "Reparameterization trick is a way to rewrite the expectation so that the distribution with respect to which we take the expectation is independent of parameter $\\theta$. To achieve this, we need to make the stochastic element in $q$ independent of $\\theta$. Hence, we write $x$ as\n",
    "$$\n",
    "x = \\theta + \\epsilon, \\quad \\epsilon \\sim N(0,1)\n",
    "$$\n",
    "Then, we can write \n",
    "$$\n",
    "E_q[x^2] = E_p[(\\theta+\\epsilon)^2]\n",
    "$$ \n",
    "where $p$ is the distribution of $\\epsilon$, i.e., $N(0,1)$. Now we can write the derivative of $E_q[x^2]$ as follows\n",
    "$$\n",
    "\\nabla_{\\theta} E_q[x^2] = \\nabla_{\\theta} E_p[(\\theta+\\epsilon)^2] = E_p[2(\\theta+\\epsilon)]\n",
    "$$"
   ]
  },
  {
   "attachments": {},
   "cell_type": "markdown",
   "metadata": {},
   "source": [
    "Now let us compare the variances of the two methods (through MC approx of the gradients).\n",
    "\n",
    "we are hoping to see that the first method has high variance while reparameterization trick decreases the variance substantially."
   ]
  },
  {
   "cell_type": "code",
   "execution_count": 2,
   "metadata": {
    "collapsed": false
   },
   "outputs": [
    {
     "name": "stdout",
     "output_type": "stream",
     "text": [
      "4.376266485115276\n",
      "4.050967820958115\n"
     ]
    }
   ],
   "source": [
    "import numpy as np\n",
    "N = 1000\n",
    "theta = 2.0\n",
    "eps = np.random.randn(N)\n",
    "x = theta + eps\n",
    "\n",
    "grad1 = lambda x: np.sum(np.square(x)*(x-theta)) / x.size\n",
    "grad2 = lambda eps: np.sum(2*(theta + eps)) / x.size\n",
    "\n",
    "print (grad1(x))\n",
    "print (grad2(eps))"
   ]
  },
  {
   "attachments": {},
   "cell_type": "markdown",
   "metadata": {},
   "source": [
    "Let us plot the variance for different sample sizes."
   ]
  },
  {
   "cell_type": "code",
   "execution_count": 4,
   "metadata": {
    "collapsed": false
   },
   "outputs": [
    {
     "name": "stdout",
     "output_type": "stream",
     "text": [
      "[3.69260924 4.03524617 3.99668974 3.98775357 3.9965303 ]\n",
      "[3.9050118  4.02614384 4.00514052 3.99574613 4.00081254]\n",
      "\n",
      "[7.20169072e+00 7.84699419e-01 8.45898187e-02 8.62343251e-03\n",
      " 8.71232147e-04]\n",
      "[4.79769001e-01 3.86456247e-02 4.38901690e-03 4.12037401e-04\n",
      " 3.61909688e-05]\n"
     ]
    }
   ],
   "source": [
    "Ns = [10, 100, 1000, 10000, 100000]\n",
    "reps = 100\n",
    "\n",
    "means1 = np.zeros(len(Ns))\n",
    "vars1 = np.zeros(len(Ns))\n",
    "means2 = np.zeros(len(Ns))\n",
    "vars2 = np.zeros(len(Ns))\n",
    "\n",
    "est1 = np.zeros(reps)\n",
    "est2 = np.zeros(reps)\n",
    "for i, N in enumerate(Ns):\n",
    "    for r in range(reps):\n",
    "        x = np.random.randn(N) + theta\n",
    "        est1[r] = grad1(x)\n",
    "        eps = np.random.randn(N)\n",
    "        est2[r] = grad2(eps)\n",
    "    means1[i] = np.mean(est1)\n",
    "    means2[i] = np.mean(est2)\n",
    "    vars1[i] = np.var(est1)\n",
    "    vars2[i] = np.var(est2)\n",
    "    \n",
    "print (means1)\n",
    "print (means2)\n",
    "print ()\n",
    "print (vars1)\n",
    "print (vars2)"
   ]
  },
  {
   "cell_type": "code",
   "execution_count": 11,
   "metadata": {
    "collapsed": false
   },
   "outputs": [
    {
     "data": {
      "image/png": "[encoded data removed]",
      "text/plain": [
       "<Figure size 432x288 with 1 Axes>"
      ]
     },
     "metadata": {
      "needs_background": "light"
     },
     "output_type": "display_data"
    }
   ],
   "source": [
    "%matplotlib inline\n",
    "import matplotlib.pyplot as plt\n",
    "\n",
    "plt.plot(vars1, 'r-o')\n",
    "plt.plot(vars2, 'b-o', alpha=.5)\n",
    "plt.legend(['no rt', 'rt']);"
   ]
  },
  {
   "attachments": {},
   "cell_type": "markdown",
   "metadata": {},
   "source": [
    "Variance of the estimates using reparameterization trick is one order of magnitude smaller than the estimates from the first method!"
   ]
  },
  {
   "attachments": {},
   "cell_type": "markdown",
   "metadata": {},
   "source": [
    "End."
   ]
  }
 ],
 "metadata": {
  "kernelspec": {
   "display_name": "Python 3",
   "language": "python",
   "name": "python3"
  },
  "language_info": {
   "codemirror_mode": {
    "name": "ipython",
    "version": 3
   },
   "file_extension": ".py",
   "mimetype": "text/x-python",
   "name": "python",
   "nbconvert_exporter": "python",
   "pygments_lexer": "ipython3",
   "version": "3.8.10"
  }
 },
 "nbformat": 4,
 "nbformat_minor": 0
}
