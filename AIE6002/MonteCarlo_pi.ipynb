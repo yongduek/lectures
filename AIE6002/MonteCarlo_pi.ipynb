{
 "cells": [
  {
   "cell_type": "markdown",
   "metadata": {},
   "source": [
    "## Monte Carlo Simulation for pi"
   ]
  },
  {
   "cell_type": "code",
   "execution_count": 1,
   "metadata": {},
   "outputs": [],
   "source": [
    "import numpy as np\n",
    "import matplotlib.pyplot as plt\n",
    "import seaborn as sns\n",
    "import scipy.stats as stats \n",
    "\n",
    "def plot_density(samples, hbins=30, sample_range=[0,1]):\n",
    "    hbins = 30\n",
    "    counts, bin_edges = np.histogram(samples, bins=hbins, range=sample_range)\n",
    "    bin_width = bin_edges[1] - bin_edges[0]\n",
    "    density = (counts / len(samples)) / bin_width\n",
    "    plt.bar(bin_edges[:-1] + bin_width/2, density, width=bin_width*.8);\n",
    "    return plt.gca(), bin_edges  # ax"
   ]
  },
  {
   "cell_type": "code",
   "execution_count": 2,
   "metadata": {},
   "outputs": [
    {
     "name": "stdout",
     "output_type": "stream",
     "text": [
      "pi/4_hat= 0.78573\n",
      "pi_hat  = 3.14292\n",
      "std=    0.41031496085324504\n",
      "se =    0.0012975298343390798\n",
      "|pi_hat - pi/4|=0.0003318366025517605\n"
     ]
    }
   ],
   "source": [
    "N = 100_000  # num of samples\n",
    "X = np.random.uniform(-1, 1, size=(N,2))\n",
    "d = np.sum(X**2, axis=1)\n",
    "d = (d <= 1).astype(float)\n",
    "\n",
    "pi4hat = d.mean()\n",
    "std = d.std()\n",
    "se  = d.std() / np.sqrt(N)\n",
    "e = pi4hat - np.pi/4\n",
    "\n",
    "print(f\"pi/4_hat= {pi4hat}\")\n",
    "print(f\"pi_hat  = {pi4hat*4}\")\n",
    "print(f\"std=    {std}\")\n",
    "print(f\"se =    {se}\")\n",
    "print(f\"|pi_hat - pi/4|={e}\")\n"
   ]
  },
  {
   "cell_type": "code",
   "execution_count": 3,
   "metadata": {},
   "outputs": [],
   "source": [
    "def mcpi(N=100_000):  # N: num of samples\n",
    "    X = np.random.uniform(-1, 1, size=(N,2))\n",
    "    d = np.sum(X**2, axis=1)\n",
    "    d = (d <= 1).sum()\n",
    "    return d / N \n",
    "\n",
    "Nrepeat = 10000\n",
    "s = np.array([mcpi() for _ in range(Nrepeat)]);"
   ]
  },
  {
   "cell_type": "markdown",
   "metadata": {},
   "source": [
    "### Repeated simulation\n",
    "- Just repeat mcpi() many times\n",
    "- histogram shows the density of mcpi"
   ]
  },
  {
   "cell_type": "code",
   "execution_count": 4,
   "metadata": {},
   "outputs": [
    {
     "name": "stdout",
     "output_type": "stream",
     "text": [
      "0.785396527 0.7853981633974483 -1.6363974483235566e-06\n"
     ]
    },
    {
     "ename": "NameError",
     "evalue": "name 's0' is not defined",
     "output_type": "error",
     "traceback": [
      "\u001b[1;31m---------------------------------------------------------------------------\u001b[0m",
      "\u001b[1;31mNameError\u001b[0m                                 Traceback (most recent call last)",
      "Input \u001b[1;32mIn [4]\u001b[0m, in \u001b[0;36m<module>\u001b[1;34m\u001b[0m\n\u001b[0;32m      1\u001b[0m plot_density(s, sample_range\u001b[39m=\u001b[39m[s\u001b[39m.\u001b[39mmin(), s\u001b[39m.\u001b[39mmax()]);\n\u001b[0;32m      2\u001b[0m \u001b[39mprint\u001b[39m(s\u001b[39m.\u001b[39mmean(), np\u001b[39m.\u001b[39mpi\u001b[39m/\u001b[39m\u001b[39m4\u001b[39m, s\u001b[39m.\u001b[39mmean() \u001b[39m-\u001b[39m np\u001b[39m.\u001b[39mpi\u001b[39m/\u001b[39m\u001b[39m4\u001b[39m)\n\u001b[1;32m----> 3\u001b[0m \u001b[39mprint\u001b[39m(s0\u001b[39m.\u001b[39mstd(), \u001b[39m\"\u001b[39m\u001b[39m: the std of mcpi(N)\u001b[39m\u001b[39m\"\u001b[39m)\n",
      "\u001b[1;31mNameError\u001b[0m: name 's0' is not defined"
     ]
    },
    {
     "data": {
      "image/png": "[encoded data removed]",
      "text/plain": [
       "<Figure size 432x288 with 1 Axes>"
      ]
     },
     "metadata": {
      "needs_background": "light"
     },
     "output_type": "display_data"
    }
   ],
   "source": [
    "plot_density(s, sample_range=[s.min(), s.max()]);\n",
    "print(s.mean(), np.pi/4, s.mean() - np.pi/4)\n",
    "print(s0.std(), \": the std of mcpi(N)\")"
   ]
  },
  {
   "cell_type": "markdown",
   "metadata": {},
   "source": [
    "### SE vs N"
   ]
  },
  {
   "cell_type": "code",
   "execution_count": null,
   "metadata": {},
   "outputs": [],
   "source": [
    "def mcpi(N):\n",
    "    X = np.random.uniform(-1, 1, size=N)\n",
    "    Y = np.random.uniform(-1, 1, size=N)\n",
    "    d = X**2 + Y**2\n",
    "    d = d <= 1\n",
    "    pihat = d.sum() / N\n",
    "    se = d.std() / np.sqrt(N)  # standard error = the std of the pihat; approximation of sigma_pihat\n",
    "    return pihat, se, re, ss\n",
    "# -----------------\n",
    "\n",
    "a = range(2, 9, 1); print('a:', list(a))\n",
    "Ns = np.power(10, a); print('N:', Ns)\n",
    "\n",
    "pihats, ses, res, sstds = [], [], [], []\n",
    "for N in Ns:\n",
    "    p, s, r, ss = mcpi(N) \n",
    "    pihats.append(p)\n",
    "    ses.append(s)"
   ]
  },
  {
   "cell_type": "code",
   "execution_count": null,
   "metadata": {},
   "outputs": [],
   "source": [
    "pihats = np.array(pihats)\n",
    "ses = np.array(ses)"
   ]
  },
  {
   "cell_type": "code",
   "execution_count": null,
   "metadata": {},
   "outputs": [],
   "source": [
    "fig, axes = plt.subplots(1, 2, figsize=(12,4))\n",
    "axes[0].plot(Ns, ses, '-o')\n",
    "axes[0].set(yscale='log', xscale='log', aspect='equal')\n",
    "axes[1].plot(ses, '-o')\n",
    "axes[1].grid(True);\n",
    "print(ses[4:])"
   ]
  },
  {
   "cell_type": "code",
   "execution_count": null,
   "metadata": {},
   "outputs": [],
   "source": [
    "# slop = dy / dx\n",
    "dy = np.log(ses[-1]) - np.log(ses[0])\n",
    "dx = np.log(Ns[-1]) - np.log(Ns[0])\n",
    "slope = dy/dx\n",
    "print(f\"slope= {slope}  -> should be close to -1/2 (1/sqrt(N))\")"
   ]
  },
  {
   "cell_type": "markdown",
   "metadata": {},
   "source": [
    "End."
   ]
  }
 ],
 "metadata": {
  "interpreter": {
   "hash": "5c2412a7f059a44a3ebbda245f298c96603c0f68fdadd5589b1fcd57ac7e1e28"
  },
  "kernelspec": {
   "display_name": "Python 3.8.10 64-bit",
   "language": "python",
   "name": "python3"
  },
  "language_info": {
   "codemirror_mode": {
    "name": "ipython",
    "version": 3
   },
   "file_extension": ".py",
   "mimetype": "text/x-python",
   "name": "python",
   "nbconvert_exporter": "python",
   "pygments_lexer": "ipython3",
   "version": "3.8.10"
  },
  "orig_nbformat": 4
 },
 "nbformat": 4,
 "nbformat_minor": 2
}
