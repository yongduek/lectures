{
 "cells": [
  {
   "attachments": {},
   "cell_type": "markdown",
   "metadata": {},
   "source": [
    "# Variational Inference\n",
    "\n",
    "1. Check Calcus of variations in Wikipedia\n",
    "2. [Introduction to Variational Methods for Graphical Models by Jordan, Ghahramani, Jaakkola, Saul](https://people.eecs.berkeley.edu/~jordan/papers/variational-intro.pdf)"
   ]
  },
  {
   "attachments": {},
   "cell_type": "markdown",
   "metadata": {},
   "source": [
    "---\n",
    "# A Toy Example\n",
    "\n",
    "Observation model:\n",
    "$$\n",
    "   y_1 \\sim N(\\mu=1,\\sigma^2=1) \\\\\n",
    "   p(y_1 | \\mu, \\sigma^2) = \\frac{1}{\\sqrt{2\\pi}}\\exp\\left[ -\\frac{1}{2} (y_1 - \\mu)^2 \\right]\n",
    "$$\n",
    "- Here we do not know $\\mu$ so we want to find a distribution $p(\\mu|D)$ using an observation data $D={y_1}$.\n",
    "- We assume that we know $\\sigma=1$.\n",
    "\n",
    "Prior model:\n",
    "$$\n",
    "   p(\\mu|\\phi, \\tau^2=1) = \\frac{1}{\\sqrt{2\\pi}}\\exp\\left[ -\\frac{1}{2} (\\mu - \\phi)^2 \\right]\n",
    "$$\n",
    "- We set $\\phi = 0$ and $\\tau=1$ as our model.\n",
    "$$\n",
    "   p(\\mu|\\phi=0, \\tau^2=1) = \\frac{1}{\\sqrt{2\\pi}}\\exp\\left[ -\\frac{1}{2} \\mu^2 \\right]\n",
    "$$\n",
    "\n",
    "Posterior:\n",
    "$$\n",
    "   p(\\mu|D) = p(D|\\mu) p(\\mu|0, 1) / p(D) \\\\\n",
    "   p(D) = \\int p(D|\\mu) p(\\mu|0, 1) d\\mu\n",
    "$$\n",
    "\n",
    "Let's try to find $p(\\mu|D)$.\n",
    "1. closed form solution\n",
    "2. ELBO maximization\n",
    "3. etc"
   ]
  },
  {
   "attachments": {},
   "cell_type": "markdown",
   "metadata": {},
   "source": [
    "---"
   ]
  },
  {
   "attachments": {},
   "cell_type": "markdown",
   "metadata": {},
   "source": [
    "## Closed form solution\n",
    "First, prior-likelihood or joint density of $D$ and $\\mu$.\n",
    "\\begin{align}\n",
    "   p(D, \\mu) & = P(D|\\mu) p(\\mu) \\\\\n",
    "             & = \\frac{1}{\\sqrt{2\\pi}}\\exp\\left[ -\\frac{1}{2} (y_1 - \\mu)^2 \\right] \n",
    "                 \\times \\frac{1}{\\sqrt{2\\pi}}\\exp\\left[ -\\frac{1}{2} \\mu^2 \\right] \\\\\n",
    "             & = \\frac{1}{2\\pi} \\exp\\left[ -\\frac{1}{2} \\left(y_1^2 - 2y_1\\mu + \\mu^2 + \\mu^2 \\right) \\right]\n",
    "\\end{align}\n",
    "Since,\n",
    "\\begin{align}\n",
    "   Q(\\mu) & = 2\\mu^2 - 2y_1\\mu + y_1^2 \\\\\n",
    "          & = 2(\\mu^2 - y_1\\mu + y_1^2/4) - y_1^2/2 + y_1^2 \\\\\n",
    "          & = 2(\\mu - y_1/2)^2 + y^2/2\n",
    "\\end{align}\n",
    "\n",
    "Second, marginal likelihood or evidence:\n",
    "\\begin{align}\n",
    "   p(D)  & = \\int_\\mu p(D, \\mu) d\\mu \\\\\n",
    "         & = \\frac{1}{2\\pi} \\int_\\mu \\exp\\left[ -\\frac{1}{2} (\\mu - y_1/2)^2 (\\sqrt{2})^2 \\right] d\\mu \\times \\exp\\left[ -\\frac{1}{2}(y^2/2) \\right] \\\\\n",
    "         & = \\frac{1}{2\\pi} \\times \\left(\\frac{\\sqrt{2\\pi}}{\\sqrt{2}}\\right) \\times \\exp\\left[ -\\frac{1}{2}(y/\\sqrt{2})^2 \\right] \\\\\n",
    "         & = \\frac{1}{\\sqrt{2\\pi}\\sqrt{2}}\\exp\\left[ -\\frac{1}{2}(y/\\sqrt{2})^2 \\right]\n",
    "\\end{align}"
   ]
  },
  {
   "attachments": {},
   "cell_type": "markdown",
   "metadata": {},
   "source": [
    "Third, posterior:\n",
    "\\begin{align}\n",
    "    p(\\mu | D) & = \\frac{  \\frac{1}{2\\pi} \\exp\\left[ -\\frac{1}{2} (\\mu - y_1/2)^2 (\\sqrt{2})^2 \\right] \\times \\exp\\left[ -\\frac{1}{2}(y^2/2) \\right]  }{ \\frac{1}{\\sqrt{2\\pi}\\sqrt{2}}\\exp\\left[ -\\frac{1}{2}(y/\\sqrt{2})^2 \\right] }\n",
    "    \\\\\n",
    "    & =\n",
    "        \\frac{\\sqrt{2}}{\\sqrt{2\\pi}} \\exp\\left[ -\\frac{1}{2} (\\mu - y_1/2)^2 (\\sqrt{2})^2 \\right]\n",
    "\\end{align}\n",
    "The posterior distribution of $\\mu$ is found to be a Gaussain distribution with mean $\\frac{y_1}{2}$ and variance $1/2$: \n",
    "$$ \n",
    "    p(\\mu | D) = \\mathcal{N}(\\mu | \\mu_{|D} = \\frac{y_1}{2}, \\sigma_{|D}^2 = \\frac{1}{2})\n",
    "$$"
   ]
  },
  {
   "attachments": {},
   "cell_type": "markdown",
   "metadata": {},
   "source": [
    "## ELBO maixmization\n",
    "### 1. Modeling stage: \n",
    "  - After a long thought (lol), we come to think the posterior must be a Gaussian $N(\\theta,\\lambda)$\n",
    "  - here $\\lambda$ is the inverse of the variance.\n",
    "\n",
    "$$\n",
    "    Q(\\mu) = Q(\\mu | \\theta, \\lambda) = \\mathcal{N}(\\mu | \\theta, \\lambda^{-1})\n",
    "$$\n",
    "\n",
    "### 2. ELBO:\n",
    "\n",
    "\\begin{align}\n",
    "    ELBO(\\theta, \\lambda) & = \\mathbb{E}_{\\mu\\sim Q(\\theta, \\lambda)} \\left[ \\log \\frac{p(D,\\mu)}{Q(\\mu|\\theta,\\lambda)} \\right] \\\\\n",
    "        & =\n",
    "            \\mathbb{E}_{\\mu\\sim Q(\\theta, \\lambda)} \\left[ \\log p(D,\\mu) - \\log Q(\\mu|\\theta,\\lambda) \\right] \\\\\n",
    "        & =\n",
    "            \\mathbb{E}_{\\mu\\sim Q(\\theta, \\lambda)} \\left[\n",
    "                \\log\\frac{1}{2\\pi} - \\frac{1}{2} (y_1^2 - 2y_1\\mu + 2\\mu^2 )\n",
    "                - \\left( \\log\\frac{\\sqrt{\\lambda}}{\\sqrt{2\\pi}}   -\\frac{1}{2} \\lambda (\\mu - \\theta)^2 \n",
    "                \\right)\n",
    "            \\right]\n",
    "            \\\\\n",
    "        & = \\log\\frac{1}{2\\pi} - \\frac{1}{2} (y_1^2 - 2y_1\\theta + 2(\\theta^2 + \\lambda^{-1}) ) - \\frac{1}{2}\\log\\lambda + \\log\\sqrt{2\\pi} + \\frac{1}{2}   \n",
    "\\end{align}\n",
    "Note:\n",
    "\\begin{align}\n",
    "            \\mathbb{E}[\\mu^2] & = \\lambda^{-1} + \\theta^2 = \\sigma_\\mu^2 + \\theta^2 \\\\\n",
    "            \\mathbb{E}[(\\mu - \\theta)^2] & = \\sigma_\\mu^2 = \\lambda^{-1}\n",
    "\\end{align}\n",
    "\n",
    "### 3. Maximize:\n",
    "$$\n",
    "    \\hat\\theta, \\hat\\lambda = arg \\max_{\\theta, \\lambda} ELBO(\\theta, \\lambda)\n",
    "$$\n",
    "\n",
    "- For this case, we can apply $\\frac{dELBO}{d(\\theta,\\lambda)} = 0$\n",
    "$$\n",
    "    \\frac{d\\mathrm{ELBO}}{d\\theta} = y_1 - 2\\theta = 0 \\quad \\Rightarrow \\quad  \\hat\\theta = \\frac{y_1}{2}\n",
    "$$\n",
    "$$\n",
    "    \\frac{d\\mathrm{ELBO}}{d\\lambda} =  \\frac{1}{\\lambda^2} -\\frac{1}{2}\\frac{1}{\\lambda}  = 0 \\quad \\Rightarrow \\quad  \\hat\\lambda = 2\n",
    "$$\n",
    "\n",
    "Our optimal solution is obtained to be \n",
    "$$\n",
    "    Q(\\mu| \\theta, \\lambda) = \\mathcal{N}\\left(\\mu \\bigg| \\frac{y_1}{2}, \\frac{1}{2} \\right)\n",
    "$$\n",
    "\n",
    "### Note 1\n",
    "* 이 문제는 쉽게 풀수 있다. 장난감이다.\n",
    "* 그러나 일반적으로는 이렇게 풀리지 않는다.\n",
    "### Note 2: ELBO with MC\n",
    "* The integral / expectation $\\mathbb{E}_{\\mu\\sim Q}[\\log\\frac{P}{Q}]$ is not easy to manipulate in practical problems.\n",
    "* Monte Carlo method may be utilized.\n",
    "1. Generate random samples $S = \\{\\mu_i | \\mu_i \\sim Q, i = 1, ..., N \\}$\n",
    "2. Build up a sample-average version:\n",
    "$$ \n",
    "    \\mathrm{ELBO\\_MC} (\\theta, \\lambda) = \\frac{1}{N} \\sum_{i} \\left[ \\log P(\\mu_i, D) - \\log Q(\\mu_i| \\theta, \\lambda^{-1}) \\right]\n",
    "$$\n",
    "3. Perform optimization such as SGD.\n",
    "### ELBO with mean field approximation\n",
    "- References\n",
    "  1. https://www.cs.cmu.edu/~epxing/Class/10708-17/notes-17/10708-scribe-lecture13.pdf"
   ]
  },
  {
   "attachments": {},
   "cell_type": "markdown",
   "metadata": {},
   "source": [
    "End."
   ]
  },
  {
   "attachments": {},
   "cell_type": "markdown",
   "metadata": {},
   "source": [
    "---"
   ]
  },
  {
   "attachments": {},
   "cell_type": "markdown",
   "metadata": {},
   "source": [
    "## 1. Logistic Regression Model\n",
    "\n",
    "$$\n",
    "    f(x) = 1 / (1 + e^{-x}) = \\min_\\lambda \\{ \\exp( \\lambda x - H(x) ) \\}\n",
    "$$\n",
    "\n",
    "For any value of $\\lambda$ we obtain an upper bound of the logistic function for all values of $x$:\n",
    "$$\n",
    "    f(x) \\leq e^{  \\lambda x - H(x) }\n",
    "$$"
   ]
  },
  {
   "cell_type": "code",
   "execution_count": 1,
   "metadata": {},
   "outputs": [],
   "source": [
    "import numpy as np\n",
    "import scipy.stats as stats\n",
    "import matplotlib.pyplot as plt"
   ]
  },
  {
   "cell_type": "code",
   "execution_count": 56,
   "metadata": {},
   "outputs": [],
   "source": [
    "x = np.linspace(-3.5, 3.5, 100)\n",
    "f = 1. / (1 + np.exp(-x))\n",
    "   \n",
    "#\n",
    "def get_lambda(x0, choice='best'):\n",
    "    # 0 < lambda < 1 due to H\n",
    "    if choice=='best':\n",
    "        lamb = 1./(1+np.exp(x0))\n",
    "    else:\n",
    "        lamb = np.random.uniform(0,1)\n",
    "\n",
    "    def H(lamb): return -lamb*np.log(lamb) - (1-lamb)*np.log(1-lamb)\n",
    "    \n",
    "    return lamb, H\n",
    "\n",
    "def get_upper_bounds(x, xats, lambda_method='best'):\n",
    "    ubs = []\n",
    "    for x0 in xats:\n",
    "        lambda_star, H = get_lambda(x0, lambda_method)\n",
    "        ub = np.exp(lambda_star * x - H(lambda_star))\n",
    "        ubs.append(ub)\n",
    "    return ubs"
   ]
  },
  {
   "cell_type": "code",
   "execution_count": 57,
   "metadata": {},
   "outputs": [
    {
     "data": {
      "image/png": "[encoded data removed]",
      "text/plain": [
       "<Figure size 432x288 with 1 Axes>"
      ]
     },
     "metadata": {
      "needs_background": "light"
     },
     "output_type": "display_data"
    }
   ],
   "source": [
    "x0s = [-2, 0, 2]\n",
    "ubs = get_upper_bounds(x, x0s, lambda_method='best')\n",
    "\n",
    "plt.plot(x, f, linewidth=3);\n",
    "for ubf, x0 in zip(ubs, x0s):\n",
    "    plt.plot(x, ubf, '--', label=f'ub at x={x0}')\n",
    "    plt.vlines(x0, -1, 1.5, linestyles='dotted')\n",
    "plt.ylim(-.1, 1.5)\n",
    "plt.legend()\n",
    "plt.title('sigmoid(x) and upper bounds (best lambda used)');"
   ]
  },
  {
   "cell_type": "code",
   "execution_count": 58,
   "metadata": {},
   "outputs": [
    {
     "data": {
      "image/png": "[encoded data removed]",
      "text/plain": [
       "<Figure size 432x288 with 1 Axes>"
      ]
     },
     "metadata": {
      "needs_background": "light"
     },
     "output_type": "display_data"
    }
   ],
   "source": [
    "x0s = [-2, 0, 2]\n",
    "ubs = get_upper_bounds(x, x0s, lambda_method='random')\n",
    "\n",
    "plt.plot(x, f, linewidth=3);\n",
    "for ubf, x0 in zip(ubs, x0s):\n",
    "    plt.plot(x, ubf, '--', label=f'ub at x={x0}')\n",
    "    plt.vlines(x0, -1, 1.5, linestyles='dotted')\n",
    "plt.ylim(-.1, 1.5)\n",
    "plt.legend()\n",
    "plt.title('sigmoid(x) and upper bounds (random lambda used)');"
   ]
  },
  {
   "attachments": {},
   "cell_type": "markdown",
   "metadata": {},
   "source": [
    "In this random choice experiment of lambda, the upper bound gap at $x_0$ is large; when it was chosen by optimal method, the gap was zero, both theoretically and practically."
   ]
  },
  {
   "attachments": {},
   "cell_type": "markdown",
   "metadata": {},
   "source": [
    "## 4.2. Convex duality to compute the conjugate function\n",
    "\n",
    "From the theory of convex analysis, a **concave** function $f(x)$ can be represented via a conjugate or dual function $f^*$\n",
    "\n",
    "$$\n",
    "    f(x) = \\min_\\lambda \\{ \\lambda^T x - f^*(\\lambda) \\}\n",
    "$$\n",
    "\n",
    "The conjugate (dual) can be obtained by the following dual expression:\n",
    "\n",
    "$$\n",
    "    f^*(x) = \\min_\\lambda \\{ \\lambda^T x - f(\\lambda) \\}\n",
    "$$\n",
    "\n",
    "See Figure 16 in the paer."
   ]
  },
  {
   "attachments": {},
   "cell_type": "markdown",
   "metadata": {},
   "source": [
    "A **convex** function $f(x)$ can be represented via a conjugate or dual function $f^*$\n",
    "\n",
    "$$\n",
    "    f(x) = \\max_\\lambda \\{ \\lambda^T x - f^*(\\lambda) \\}\n",
    "$$\n",
    "\n",
    "The conjugate (dual) can be obtained by the following dual expression:\n",
    "\n",
    "$$\n",
    "    f^*(x) = \\max_\\lambda \\{ \\lambda^T x - f(\\lambda) \\}\n",
    "$$"
   ]
  },
  {
   "cell_type": "code",
   "execution_count": null,
   "metadata": {},
   "outputs": [],
   "source": []
  }
 ],
 "metadata": {
  "interpreter": {
   "hash": "b66e14ba042d12462933e39bfcff09773ff8a6ac8595a715ae7401b7a4a4d030"
  },
  "kernelspec": {
   "display_name": "Python 3.9.11 64-bit",
   "language": "python",
   "name": "python3"
  },
  "language_info": {
   "codemirror_mode": {
    "name": "ipython",
    "version": 3
   },
   "file_extension": ".py",
   "mimetype": "text/x-python",
   "name": "python",
   "nbconvert_exporter": "python",
   "pygments_lexer": "ipython3",
   "version": "3.9.11"
  }
 },
 "nbformat": 4,
 "nbformat_minor": 4
}
