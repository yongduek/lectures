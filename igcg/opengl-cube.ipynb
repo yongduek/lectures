{
 "cells": [
  {
   "cell_type": "markdown",
   "metadata": {},
   "source": [
    "Install\n",
    "\n",
    "- install newest version of python at this time\n",
    "\n",
    "    `conda install python=3.6.5`\n",
    "\n",
    "- install pygame (https://www.pygame.org/wiki/GettingStarted)\n",
    "\n",
    "    `python -m pip install pygame`\n",
    "\n",
    "- To see if it works, run one of the included examples:\n",
    "\n",
    "    `python3 -m pygame.examples.aliens`\n",
    "    \n",
    "- Jupyter notebook must be restarted. Choose Kernel, Restart Kernel.\n",
    "\n",
    "- If `import OpenGL` fails and produces error messges, then go to Anaconda Navigator, choose Environments, find opengl, and install every of them. However, installation of `pygame`  installs OpenGL, too.\n",
    "\n",
    "- Running the code in Jupyter notebook seems to cause some trouble. It is recommended to run in in Anaconda Prompt.\n",
    "\n",
    "    ```\n",
    "    > jupyter nbconvert --to python filename.ipynb\n",
    "    > python filename.py```"
   ]
  },
  {
   "cell_type": "code",
   "execution_count": 1,
   "metadata": {},
   "outputs": [],
   "source": [
    "import pygame\n",
    "from pygame.locals import *\n",
    "from OpenGL.GL import *\n",
    "from OpenGL.GLU import *"
   ]
  },
  {
   "cell_type": "code",
   "execution_count": 2,
   "metadata": {},
   "outputs": [],
   "source": [
    "vertices = ( (1,-1,-1), (1,1,-1), (-1,1,-1), (-1,-1,-1), (1,-1,1), (1,1,1), (-1,-1,1), (-1,1,1))\n",
    "edges = ( (0,1), (0,3), (0,4), (2,1), (2,3), (2,7), (6,3), (6,4), (6,7), (5,1), (5,4), (5,7))"
   ]
  },
  {
   "cell_type": "code",
   "execution_count": 3,
   "metadata": {},
   "outputs": [],
   "source": [
    "def drawCube ():\n",
    "    glBegin(GL_LINES)\n",
    "    for edge in edges:\n",
    "        for vid in edge:\n",
    "            glVertex3fv(vertices[vid])\n",
    "    glEnd ()\n",
    "#"
   ]
  },
  {
   "cell_type": "code",
   "execution_count": 4,
   "metadata": {},
   "outputs": [],
   "source": [
    "def myOpenGL ():\n",
    "    pygame.init ()\n",
    "    display = (1024, 768)\n",
    "    pygame.display.set_mode (display, DOUBLEBUF | OPENGL)\n",
    "    \n",
    "    gluPerspective (45, (display[0]/display[1]), 0.1, 50)\n",
    "    glTranslatef (0, 0, -7)\n",
    "    \n",
    "    while True:\n",
    "        glClear (GL_COLOR_BUFFER_BIT | GL_DEPTH_BUFFER_BIT)\n",
    "        glRotatef (1, 3,1,1)\n",
    "        drawCube ()\n",
    "        pygame.display.flip ()\n",
    "        pygame.time.wait (10)\n",
    "        \n",
    "        for event in pygame.event.get():\n",
    "            if event.type == pygame.QUIT \\\n",
    "                or (event.type==pygame.KEYDOWN and event.key==pygame.K_ESCAPE):\n",
    "                pygame.quit()\n",
    "                quit ()\n",
    "\n",
    "    #\n",
    "#"
   ]
  },
  {
   "cell_type": "code",
   "execution_count": null,
   "metadata": {},
   "outputs": [],
   "source": [
    "myOpenGL ()"
   ]
  },
  {
   "cell_type": "code",
   "execution_count": null,
   "metadata": {},
   "outputs": [],
   "source": []
  }
 ],
 "metadata": {
  "kernelspec": {
   "display_name": "Python 3",
   "language": "python",
   "name": "python3"
  },
  "language_info": {
   "codemirror_mode": {
    "name": "ipython",
    "version": 3
   },
   "file_extension": ".py",
   "mimetype": "text/x-python",
   "name": "python",
   "nbconvert_exporter": "python",
   "pygments_lexer": "ipython3",
   "version": "3.6.5"
  }
 },
 "nbformat": 4,
 "nbformat_minor": 2
}
