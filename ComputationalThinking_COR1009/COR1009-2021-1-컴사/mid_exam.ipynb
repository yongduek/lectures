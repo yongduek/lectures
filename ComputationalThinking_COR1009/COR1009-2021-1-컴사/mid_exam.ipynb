{
 "cells": [
  {
   "cell_type": "markdown",
   "metadata": {},
   "source": [
    "# Mid-term Exam\n",
    "\n",
    "1. Submit your jupyter notebook\n",
    "1. Submit a pdf version of your jupyter notebook\n",
    "    - By submitting a pdf version, you will get some extra points.\n",
    "    - Simply click the button, and you will have a pdf version.\n",
    "        - In some cases you need to install [jupyter_contrib_nbextensions](https://jupyter-contrib-nbextensions.readthedocs.io/en/latest/install.html) before you click the button.\n",
    "    \n",
    "            - ```pip install jupyter_contrib_nbextensions```\n",
    "            - Be aware that you might need to use `pip3.8` or something equivalent instead of `pip`.\n",
    "\n",
    "    - If pdf is not created due to some problems, you may make screen shots that cover the whole notebook and submit them instead. The exam questions in those parts that are not included in the screen shots will be regarded as not-solved and will be given zero scores. Extra points are not provided, either.\n",
    "\n",
    "Warnings:\n",
    "\n",
    "1. You may use internet search engines such as google or stackoverflow to get help on-line.\n",
    "1. Failure of uploading the solution copy is your responsibility.\n",
    "1. You must not communicate with any living creature.\n",
    "1. You must not talk."
   ]
  },
  {
   "cell_type": "markdown",
   "metadata": {},
   "source": [
    "# Q1. Make a python code that prints out your name and student id number (학번)\n",
    "\n",
    "Your solution must be provided in the following cell."
   ]
  },
  {
   "cell_type": "code",
   "execution_count": 1,
   "metadata": {},
   "outputs": [],
   "source": [
    "# your program must be provided here."
   ]
  },
  {
   "cell_type": "markdown",
   "metadata": {},
   "source": [
    "# Q2. Make a function tha computes the sum of the numbers in the list."
   ]
  },
  {
   "cell_type": "code",
   "execution_count": 2,
   "metadata": {},
   "outputs": [],
   "source": [
    "input_list = [1, 3, 5, 7, 9]"
   ]
  },
  {
   "cell_type": "code",
   "execution_count": 3,
   "metadata": {},
   "outputs": [],
   "source": [
    "def sum_function(in_list):  # do not change the function definition\n",
    "    # your program must be provided below.\n",
    "    pass"
   ]
  },
  {
   "cell_type": "code",
   "execution_count": 4,
   "metadata": {},
   "outputs": [
    {
     "name": "stdout",
     "output_type": "stream",
     "text": [
      "None\n"
     ]
    }
   ],
   "source": [
    "print(sum_function(input_list))"
   ]
  },
  {
   "cell_type": "markdown",
   "metadata": {},
   "source": [
    "End."
   ]
  },
  {
   "cell_type": "markdown",
   "metadata": {},
   "source": [
    "# Q3. Age difference\n",
    "Your function takes two arguments:\n",
    "\n",
    "1. current father's age (years)\n",
    "2. current age of his son (years)\n",
    "\n",
    "Сalculate how many years ago the father was twice as old as his son (or in how many years he will be twice as old)."
   ]
  },
  {
   "cell_type": "code",
   "execution_count": 5,
   "metadata": {},
   "outputs": [],
   "source": [
    "def twice_as_old(dad, son):  # do not change function definition. \n",
    "    # your solution here\n",
    "    pass"
   ]
  },
  {
   "cell_type": "code",
   "execution_count": 6,
   "metadata": {},
   "outputs": [
    {
     "name": "stdout",
     "output_type": "stream",
     "text": [
      "None\n"
     ]
    }
   ],
   "source": [
    "print(twice_as_old(36, 7))  # output must be 22"
   ]
  },
  {
   "cell_type": "code",
   "execution_count": 7,
   "metadata": {},
   "outputs": [
    {
     "name": "stdout",
     "output_type": "stream",
     "text": [
      "None\n"
     ]
    }
   ],
   "source": [
    "print(twice_as_old(22, 1))  # output must be 20"
   ]
  },
  {
   "cell_type": "markdown",
   "metadata": {},
   "source": [
    "# Q4. Add Two Arrays\n",
    "\n",
    "Create a function called `addTwoArrays()` that combines two arrays of equal length, summing each element of the first with the corresponding element in the second, returning the \"combined\" summed array."
   ]
  },
  {
   "cell_type": "code",
   "execution_count": 8,
   "metadata": {},
   "outputs": [],
   "source": [
    "def addTwoArrays(a, b):\n",
    "    pass"
   ]
  },
  {
   "cell_type": "code",
   "execution_count": 9,
   "metadata": {},
   "outputs": [
    {
     "name": "stdout",
     "output_type": "stream",
     "text": [
      "None\n"
     ]
    }
   ],
   "source": [
    "print(addTwoArrays([1, 2], [3, 4]))  # => [4, 6]"
   ]
  },
  {
   "cell_type": "code",
   "execution_count": 10,
   "metadata": {},
   "outputs": [
    {
     "name": "stdout",
     "output_type": "stream",
     "text": [
      "None\n"
     ]
    }
   ],
   "source": [
    "print(addTwoArrays(['a'], ['b']))  # => ['ab']"
   ]
  },
  {
   "cell_type": "markdown",
   "metadata": {},
   "source": [
    "# Q5. Binary Number\n",
    "\n",
    "Given an array of ones and zeroes, convert the equivalent binary value to an integer.\n",
    "\n",
    "Eg: `[0, 0, 0, 1]` is treated as 0001 which is the binary representation of 1.\n",
    "- Testing: `[0, 0, 1, 0]` ==> 2\n",
    "- Testing: `[0, 1, 0, 1]` ==> 5\n",
    "- Testing: `[1, 0, 0, 1]` ==> 9\n"
   ]
  },
  {
   "cell_type": "code",
   "execution_count": 11,
   "metadata": {},
   "outputs": [],
   "source": [
    "def binary2int(array):\n",
    "    pass"
   ]
  },
  {
   "cell_type": "code",
   "execution_count": 12,
   "metadata": {},
   "outputs": [
    {
     "name": "stdout",
     "output_type": "stream",
     "text": [
      "None\n"
     ]
    }
   ],
   "source": [
    "print(binary2int([0,0,1,0]))"
   ]
  },
  {
   "cell_type": "code",
   "execution_count": 13,
   "metadata": {},
   "outputs": [
    {
     "name": "stdout",
     "output_type": "stream",
     "text": [
      "N=None for b=[1, 0, 0, 0, 1]\n"
     ]
    }
   ],
   "source": [
    "b = [1, 0, 0, 0, 1]\n",
    "n = binary2int(b)\n",
    "print(f'N={n} for b={b}')"
   ]
  },
  {
   "cell_type": "markdown",
   "metadata": {},
   "source": [
    "# Q6. Miles to kilometers\n",
    "\n",
    "Sometimes, I want to quickly be able to convert miles per imperial gallon into kilometers per liter.\n",
    "\n",
    "Create an application that will display the number of kilometers per liter (output) based on the number of miles per imperial gallon (input).\n",
    "\n",
    "Make sure to round off the result to two decimal points. If the answer ends with a 0, it should be rounded off without the 0. So instead of 5.50, we should get 5.5.\n",
    "\n",
    "Some useful associations relevant to this kata: 1 Imperial Gallon = 4.54609188 litres 1 Mile = 1.609344 kilometres"
   ]
  },
  {
   "cell_type": "code",
   "execution_count": 14,
   "metadata": {},
   "outputs": [],
   "source": [
    "def miles2km(mile_per_gallon):\n",
    "    pass"
   ]
  },
  {
   "cell_type": "code",
   "execution_count": 15,
   "metadata": {},
   "outputs": [
    {
     "name": "stdout",
     "output_type": "stream",
     "text": [
      "None\n"
     ]
    }
   ],
   "source": [
    "print( miles2km(12) )  # => 4.25"
   ]
  },
  {
   "cell_type": "code",
   "execution_count": 16,
   "metadata": {},
   "outputs": [
    {
     "name": "stdout",
     "output_type": "stream",
     "text": [
      "None\n"
     ]
    }
   ],
   "source": [
    "print( miles2km(36) )  # => 12.74"
   ]
  },
  {
   "cell_type": "markdown",
   "metadata": {},
   "source": [
    "# Q7. Rock Paper Scissors\n",
    "\n",
    "The function has to return which player won! In case of a draw return `Draw!`"
   ]
  },
  {
   "cell_type": "code",
   "execution_count": 17,
   "metadata": {},
   "outputs": [],
   "source": [
    "def rps_play (player1, player2):\n",
    "    pass"
   ]
  },
  {
   "cell_type": "code",
   "execution_count": 18,
   "metadata": {},
   "outputs": [
    {
     "name": "stdout",
     "output_type": "stream",
     "text": [
      "None\n"
     ]
    }
   ],
   "source": [
    "print(rps_play('rock', 'scissors'))  # 'player 1 won!'"
   ]
  },
  {
   "cell_type": "code",
   "execution_count": 19,
   "metadata": {},
   "outputs": [
    {
     "name": "stdout",
     "output_type": "stream",
     "text": [
      "None\n"
     ]
    }
   ],
   "source": [
    "print(rps_play('paper', 'paper'))  # 'Draw!'"
   ]
  },
  {
   "cell_type": "code",
   "execution_count": 20,
   "metadata": {},
   "outputs": [
    {
     "name": "stdout",
     "output_type": "stream",
     "text": [
      "None\n"
     ]
    }
   ],
   "source": [
    "print(rps_play('scissors', 'rock'))  # 'player 2 won!'"
   ]
  },
  {
   "cell_type": "markdown",
   "metadata": {},
   "source": [
    "# Q8. Character Counter.\n",
    "\n",
    "Make a function `char_count(char, string)` that calculates how many times the character appears in the given text.\n",
    "\n",
    "For example, \n",
    "- `char_count('o', 'hello')` returns 1 because 'hello' has one occurance of 'o'\n",
    "- `char_count('d', 'good morning dear')` returns 2 because there are two 'd's in the input string."
   ]
  },
  {
   "cell_type": "code",
   "execution_count": 21,
   "metadata": {},
   "outputs": [],
   "source": [
    "def char_count(char, string):\n",
    "    # your code here\n",
    "    pass "
   ]
  },
  {
   "cell_type": "code",
   "execution_count": 22,
   "metadata": {},
   "outputs": [],
   "source": [
    "# do not toch this string!\n",
    "string_pride = '''It is a truth universally acknowledged, that a single man in\n",
    "      possession of a good fortune, must be in want of a wife.\n",
    "\n",
    "      However little known the feelings or views of such a man may be\n",
    "      on his first entering a neighbourhood, this truth is so well\n",
    "      fixed in the minds of the surrounding families, that he is\n",
    "      considered the rightful property of some one or other of their\n",
    "      daughters.\n",
    "\n",
    "      “My dear Mr. Bennet,” said his lady to him one day, “have you\n",
    "      heard that Netherfield Park is let at last?”\n",
    "\n",
    "      Mr. Bennet replied that he had not.\n",
    "\n",
    "      “But it is,” returned she; “for Mrs. Long has just been here, and\n",
    "      she told me all about it.”\n",
    "\n",
    "      Mr. Bennet made no answer.\n",
    "\n",
    "      “Do you not want to know who has taken it?” cried his wife\n",
    "      impatiently.\n",
    "\n",
    "      “_You_ want to tell me, and I have no objection to hearing it.”\n",
    "\n",
    "      This was invitation enough.\n",
    "\n",
    "      “Why, my dear, you must know, Mrs. Long says that Netherfield is\n",
    "      taken by a young man of large fortune from the north of England;\n",
    "      that he came down on Monday in a chaise and four to see the\n",
    "      place, and was so much delighted with it, that he agreed with Mr.\n",
    "      Morris immediately; that he is to take possession before\n",
    "      Michaelmas, and some of his servants are to be in the house by\n",
    "      the end of next week.'''"
   ]
  },
  {
   "cell_type": "code",
   "execution_count": 23,
   "metadata": {},
   "outputs": [
    {
     "name": "stdout",
     "output_type": "stream",
     "text": [
      "None\n"
     ]
    }
   ],
   "source": [
    "print( char_count('i', string_pride))"
   ]
  },
  {
   "cell_type": "code",
   "execution_count": 24,
   "metadata": {},
   "outputs": [],
   "source": [
    "string_soho = '''\n",
    "  임아행과 상문천은 상황이  불리하게 전개되자 장검과 채찍을 휘\n",
    "두르며 동시에 협공을 하였다. 당세의  삼대 고수가 연합해서 싸움\n",
    "을 하자 그  위세가 대단하기 짝이 없었다.  그러나 동방불패는 두 \n",
    "개의 손가락으로 한 개의 수바늘을  거머쥐고 이리 뚫고 저리 지나\n",
    "가고 동작이  질풍과 같았고, 처지는 기색은  전혀 보이지 않았다. \n",
    "상관운은 단도를 뽑아 앞으로 달려나가  가세를 하였다. 한참 어지\n",
    "럽게 싸움을  하고 있는데 갑자기 상관운이  외치는 소리가 들려왔\n",
    "다. 단도가 떨어지고 재주를 한번  넘더니 뒤로 벌렁 자빠졌다. 우\n",
    "측 눈은 이미 동방불패에게 찔려서 두 손으로 우측 눈을 감싸고 있\n",
    "었다.\n",
    "  영호충은 임아행과 상문천, 두 사람의 공격이 날카롭자 동방불패\n",
    "가 자기에게 공격해 들어오는 것이  늦추어지는 것을 보고 즉시 장\n",
    "검을 움직여 그의  몸의 급소를 향해 있는  힘을 다해서 내리쳤다. \n",
    "그러나 동방불패의 몸은 마치 귀신처럼  이리 날고 저리 날고 마치 \n",
    "연기와 같았다. 영호충의  검끝은 도저히 그의 몸에  갖다 댈 수가 \n",
    "없었다. 갑자기 상문천이 악 하고 외마디 소리를 지르고 이어서 영\n",
    "호충도 훅 하고 소리를 질렀다. 두  사람의 몸이 각기 바늘에 적중\n",
    "된 것이다. 임아행이 연마한 흡성대법은 깊지만 그러나 동방불패의 \n",
    "몸놀림은 너무 빨라 몸을 접촉할  수가 없으며 또한 사용하는 병기\n",
    "가 아주 적은 수바늘이어서 바늘끝에서  그의 내공의 흡수 할 도리\n",
    "가 없었다.\n",
    "  또 한참 동안  싸움을 하였다. 임아행 역시 악 하고 외마디 소리\n",
    "를 질렀다. 가슴과 목덜미에는 바늘이꽂혔다. 다행이 영호충은 급\n",
    "하게 공격을 했기 때문에 동방불패는 자신을 비방하느라 바늘 하나\n",
    "를 잘못 날렸고 또 다른 바늘 하나는 정확하게 와서 꽂혔지만 그리 \n",
    "치명상을 줄 정도는 아니었다.\n",
    "  네 사람이 동방불패를 에워싸고 공격했으나 그의 옷자락 하나 부\n",
    "딪칠 수가 없었다. 그러나 네 사람은  모두 그의 바늘에 맞았던 것\n",
    "이다. 영영은 옆에서 관전을 하다가 갈수록 걱정이 되었다.\n",
    "'''"
   ]
  },
  {
   "cell_type": "code",
   "execution_count": 25,
   "metadata": {},
   "outputs": [
    {
     "name": "stdout",
     "output_type": "stream",
     "text": [
      "None\n"
     ]
    }
   ],
   "source": [
    "print( char_count('동', string_soho))"
   ]
  },
  {
   "cell_type": "code",
   "execution_count": 26,
   "metadata": {},
   "outputs": [],
   "source": [
    "string_laodong = \"\"\"\n",
    "Đề xuất của Bộ Lao động, Thương binh và Xã hội rất có lợi cho người lao động. Tất nhiên, nếu đóng với thời gian ngắn hơn, người lao động phải chấp nhận hưởng mức lương hưu ít hơn” - ông Thọ nhận định.\n",
    "\n",
    "Khi phóng viên đặt câu hỏi, việc người lao động được nhận lương hưu sớm có gây ảnh hưởng đến việc cân bằng quỹ BHXH hay không? Ông Thọ cho biết, đây cũng là bài toán về cách tính hưởng lương hưu một khi đề xuất của Bộ Lao động, Thương binh và Xã hội được các cơ quan chức năng đồng ý.\n",
    "\n",
    "“Bộ Lao động, Thương binh và Xã hội đã có đề xuất thì chắc bộ sẽ có phương án để thay đổi cách tính lương hưu cho hợp lý, đảm bảo quỹ BHXH không bị ảnh hưởng. Theo tôi, Ban soạn thảo cần phải tính toán, nghiên cứu kỹ số năm đóng và số năm hưởng để đưa ra công thức tính lương hưu cho phù hợp” - ông Thọ nêu ý kiến.\n",
    "\n",
    "Theo thạc sĩ Luật Uông Quang Huy - Phó Chủ tịch Công đoàn Điện lực Việt Nam, hiện nay, việc tiếp cận với chính sách lương hưu của người lao động khi về già là quá khó khăn khi điều kiện về số năm đóng BHXH quá dài (20 năm) và đặc biệt sau khi nâng tuổi nghỉ hưu từ năm 2021.\n",
    "\"\"\""
   ]
  },
  {
   "cell_type": "code",
   "execution_count": 27,
   "metadata": {},
   "outputs": [
    {
     "name": "stdout",
     "output_type": "stream",
     "text": [
      "None\n"
     ]
    }
   ],
   "source": [
    "print( char_count('v', string_laodong))"
   ]
  },
  {
   "cell_type": "code",
   "execution_count": 28,
   "metadata": {},
   "outputs": [],
   "source": [
    "string_Dostoevsky = \"\"\"\n",
    "Новости\n",
    "07 апреля 2021\n",
    "Курс лекций «Достоевский и дары смерти, или Краткий курс обретения бессмертия»\n",
    "15 апреля — 27 мая 2021\n",
    "19:00 — 20:30\n",
    "\n",
    "Гостиный двор, ул. Ильинка, 4, аудитория 271\n",
    "\n",
    "В 2021 году культурное сообщество России отметит 200-летний юбилей Ф. М. Достоевского. Во всем мире Достоевский сегодня один из самых цитируемых и переводимых русских авторов. Его художественное наследие изучается литературоведами, по произведениям писателя ставят спектакли, снимают фильмы. В то же время ни об одном из классиков литературы не высказано столько противоречивых суждений.\n",
    "\n",
    "Объединение «Манеж» совместно с лекторием «Достоевский» и компанией Storytel запускает курс лекций писателя и педагога Гаянэ Степанян, который призван расширить наши знания о личности классика для более глубокого понимания его произведений.\n",
    "\n",
    "Расписание:\n",
    "\n",
    "15 апреля. Лекция 1. «Легенда о Великом читателе (У кого он учился)»\n",
    "\n",
    "Достоевский — это не только великий писатель, он великий читатель. Отдавая должное всемирной природе Пушкина, он и сам обладал такою же природой: это значит, что прочитанные книги переплавлялись в его творчестве, обретали собственные голоса, становились способами разоблачить несостоятельность идей героев и поддержать голос автора. Охватить весь круг чтения великого писателя мы, конечно, в рамках часовой лекции не сможем. Мы затронем ключевые имена предшественников, таких, как Пушкин, и проанализируем, как Достоевский включает в свои произведения эти тексты и как их обыгрывает, чтоб дать читателю не готовые ответы, но ключи к пониманию авторской позиции: в отличие от Льва Николаевича, Достоевский никогда не дает своему читателю интеллектуального преимущества над заблуждающимся героем.\n",
    "\"\"\""
   ]
  },
  {
   "cell_type": "code",
   "execution_count": 29,
   "metadata": {},
   "outputs": [
    {
     "name": "stdout",
     "output_type": "stream",
     "text": [
      "None\n"
     ]
    }
   ],
   "source": [
    "print( char_count('Д', string_Dostoevsky) )"
   ]
  },
  {
   "cell_type": "markdown",
   "metadata": {},
   "source": [
    "# Q9. Calculate the sum of the unicodes of all the characters in the string."
   ]
  },
  {
   "cell_type": "code",
   "execution_count": 30,
   "metadata": {},
   "outputs": [],
   "source": [
    "def unicode_sum(string):\n",
    "    pass"
   ]
  },
  {
   "cell_type": "code",
   "execution_count": 31,
   "metadata": {},
   "outputs": [
    {
     "name": "stdout",
     "output_type": "stream",
     "text": [
      "The sum of unicodes of the string is  None\n"
     ]
    }
   ],
   "source": [
    "n1 = unicode_sum(string_pride)\n",
    "print(f'The sum of unicodes of the string is ', n1)"
   ]
  },
  {
   "cell_type": "code",
   "execution_count": 32,
   "metadata": {},
   "outputs": [
    {
     "name": "stdout",
     "output_type": "stream",
     "text": [
      "The sum of unicodes of the string is  None\n"
     ]
    }
   ],
   "source": [
    "n2 = unicode_sum(string_laodong)\n",
    "print(f'The sum of unicodes of the string is ', n2)"
   ]
  },
  {
   "cell_type": "code",
   "execution_count": 33,
   "metadata": {},
   "outputs": [
    {
     "name": "stdout",
     "output_type": "stream",
     "text": [
      "The sum of unicodes of the string is  None\n"
     ]
    }
   ],
   "source": [
    "n3 = unicode_sum(string_soho)\n",
    "print(f'The sum of unicodes of the string is ', n3)"
   ]
  },
  {
   "cell_type": "code",
   "execution_count": 34,
   "metadata": {},
   "outputs": [
    {
     "name": "stdout",
     "output_type": "stream",
     "text": [
      "The sum of unicodes of the string is  None\n"
     ]
    }
   ],
   "source": [
    "n4 = unicode_sum(string_Dostoevsky)\n",
    "print(f'The sum of unicodes of the string is ', n4)"
   ]
  },
  {
   "cell_type": "code",
   "execution_count": 35,
   "metadata": {},
   "outputs": [
    {
     "ename": "TypeError",
     "evalue": "unsupported operand type(s) for +: 'NoneType' and 'NoneType'",
     "output_type": "error",
     "traceback": [
      "\u001b[1;31m---------------------------------------------------------------------------\u001b[0m",
      "\u001b[1;31mTypeError\u001b[0m                                 Traceback (most recent call last)",
      "\u001b[1;32m<ipython-input-35-987084434136>\u001b[0m in \u001b[0;36m<module>\u001b[1;34m\u001b[0m\n\u001b[0;32m      1\u001b[0m \u001b[1;31m# Do not touch!\u001b[0m\u001b[1;33m\u001b[0m\u001b[1;33m\u001b[0m\u001b[1;33m\u001b[0m\u001b[0m\n\u001b[0;32m      2\u001b[0m \u001b[1;31m# It will produce proper output when your function is ready, and will be used for checking the functioning of your function.\u001b[0m\u001b[1;33m\u001b[0m\u001b[1;33m\u001b[0m\u001b[1;33m\u001b[0m\u001b[0m\n\u001b[1;32m----> 3\u001b[1;33m \u001b[0mprint\u001b[0m\u001b[1;33m(\u001b[0m\u001b[1;34mf'The sum of all the 4 sums is {n1 + n2 + n3 + n4}'\u001b[0m\u001b[1;33m)\u001b[0m\u001b[1;33m\u001b[0m\u001b[1;33m\u001b[0m\u001b[0m\n\u001b[0m",
      "\u001b[1;31mTypeError\u001b[0m: unsupported operand type(s) for +: 'NoneType' and 'NoneType'"
     ]
    }
   ],
   "source": [
    "# Do not touch!\n",
    "# It will produce proper output when your function is ready, and will be used for checking the functioning of your function.\n",
    "print(f'The sum of all the 4 sums is {n1 + n2 + n3 + n4}')"
   ]
  },
  {
   "cell_type": "markdown",
   "metadata": {},
   "source": [
    "# Q10. Traffic light\n",
    "You're writing code to control your town's traffic lights. You need a function to handle each change from `green`, to `yellow`, to `red`, and then to `green` again.\n",
    "\n",
    "Complete the function that takes a string as an argument representing the current state of the light and returns a string representing the state the light should change to.\n",
    "\n",
    "For example, update_light('green') should return 'yellow'."
   ]
  },
  {
   "cell_type": "code",
   "execution_count": 69,
   "metadata": {},
   "outputs": [],
   "source": [
    "def update_light(current_light):\n",
    "    # your code\n",
    "    pass"
   ]
  },
  {
   "cell_type": "code",
   "execution_count": 71,
   "metadata": {},
   "outputs": [
    {
     "name": "stdout",
     "output_type": "stream",
     "text": [
      "None\n"
     ]
    }
   ],
   "source": [
    "print(update_light('green'))  # => 'yellow'"
   ]
  },
  {
   "cell_type": "code",
   "execution_count": 72,
   "metadata": {},
   "outputs": [
    {
     "name": "stdout",
     "output_type": "stream",
     "text": [
      "None\n"
     ]
    }
   ],
   "source": [
    "print(update_light('red'))  # => 'green'"
   ]
  },
  {
   "cell_type": "code",
   "execution_count": 73,
   "metadata": {},
   "outputs": [
    {
     "name": "stdout",
     "output_type": "stream",
     "text": [
      "None\n"
     ]
    }
   ],
   "source": [
    "print(update_light('yellow'))  # => 'red"
   ]
  },
  {
   "cell_type": "markdown",
   "metadata": {},
   "source": [
    "# Extra 1. Traffic light with python's dictionary data type\n",
    "\n",
    "Make another version of `update_light()` that uses dictionary.\n",
    "\n",
    "Correctly solving this problem gives you extra point."
   ]
  },
  {
   "cell_type": "code",
   "execution_count": 38,
   "metadata": {},
   "outputs": [],
   "source": [
    "def update_light_dictionary(current_light):\n",
    "    # use python dictionary to solve this problem.\n",
    "    pass"
   ]
  },
  {
   "cell_type": "code",
   "execution_count": 75,
   "metadata": {},
   "outputs": [
    {
     "name": "stdout",
     "output_type": "stream",
     "text": [
      "None\n"
     ]
    }
   ],
   "source": [
    "print(update_light_dictionary('green'))"
   ]
  },
  {
   "cell_type": "code",
   "execution_count": 76,
   "metadata": {},
   "outputs": [
    {
     "name": "stdout",
     "output_type": "stream",
     "text": [
      "None\n"
     ]
    }
   ],
   "source": [
    "print(update_light_dictionary('yellow'))"
   ]
  },
  {
   "cell_type": "code",
   "execution_count": 77,
   "metadata": {},
   "outputs": [
    {
     "name": "stdout",
     "output_type": "stream",
     "text": [
      "None\n"
     ]
    }
   ],
   "source": [
    "print(update_light_dictionary('red'))"
   ]
  },
  {
   "cell_type": "markdown",
   "metadata": {},
   "source": [
    "# Extra 2. Submit PDF version of your jupyter notebook.\n",
    "\n",
    "- This will give you extra points.\n",
    "\n",
    "- Simply click the button, and you will have a pdf version.\n",
    "    - In some cases you need to install [jupyter_contrib_nbextensions](https://jupyter-contrib-nbextensions.readthedocs.io/en/latest/install.html) before you click the button.\n",
    "\n",
    "        - ```pip install jupyter_contrib_nbextensions```\n",
    "        \n",
    "        - Be aware that you might need to use `pip3.8` or something equivalent instead of `pip`.\n"
   ]
  },
  {
   "cell_type": "markdown",
   "metadata": {},
   "source": [
    "---\n",
    "# End.\n",
    "\n",
    "Check.\n",
    "\n",
    "* You must provide a correct solution for Q1. Otherwise, you will fail.\n",
    "\n",
    "\n",
    "\n",
    "**Warnings**\n",
    "- No cheating is allowed. \n",
    "- On sight cheating will result in F. \n",
    "- If any report about bad behavoirs of someone is reported, the person will be asked to have an additional face-to-face oral examination to test his/her skill level of python programming. If the level is not found to match the expectation given by the exam score, his/her final grade will result in F. "
   ]
  },
  {
   "cell_type": "code",
   "execution_count": 36,
   "metadata": {},
   "outputs": [
    {
     "data": {
      "text/plain": [
       "array([ True,  True,  True,  True,  True, False, False, False, False,\n",
       "       False])"
      ]
     },
     "execution_count": 36,
     "metadata": {},
     "output_type": "execute_result"
    }
   ],
   "source": [
    "import numpy as np \n",
    "\n",
    "a = np.arange(0, 10)\n",
    "t = a < 5\n",
    "t"
   ]
  },
  {
   "cell_type": "code",
   "execution_count": 39,
   "metadata": {},
   "outputs": [
    {
     "data": {
      "text/plain": [
       "array([False, False, False, False, False,  True,  True,  True,  True,\n",
       "        True])"
      ]
     },
     "execution_count": 39,
     "metadata": {},
     "output_type": "execute_result"
    }
   ],
   "source": [
    "f = ~t\n",
    "f"
   ]
  },
  {
   "cell_type": "code",
   "execution_count": 37,
   "metadata": {},
   "outputs": [
    {
     "data": {
      "text/plain": [
       "array([1, 1, 1, 1, 1, 0, 0, 0, 0, 0])"
      ]
     },
     "execution_count": 37,
     "metadata": {},
     "output_type": "execute_result"
    }
   ],
   "source": [
    "t.astype(np.int32)"
   ]
  },
  {
   "cell_type": "code",
   "execution_count": null,
   "metadata": {},
   "outputs": [],
   "source": []
  }
 ],
 "metadata": {
  "kernelspec": {
   "display_name": "Python 3.7.5 64-bit",
   "language": "python",
   "name": "python37564bit05346568d4fa4edf84acbdaad0dcfa5b"
  },
  "language_info": {
   "codemirror_mode": {
    "name": "ipython",
    "version": 3
   },
   "file_extension": ".py",
   "mimetype": "text/x-python",
   "name": "python",
   "nbconvert_exporter": "python",
   "pygments_lexer": "ipython3",
   "version": "3.7.9"
  }
 },
 "nbformat": 4,
 "nbformat_minor": 4
}
