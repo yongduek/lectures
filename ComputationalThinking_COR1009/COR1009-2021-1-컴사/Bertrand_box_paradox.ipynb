{
 "cells": [
  {
   "cell_type": "code",
   "execution_count": 1,
   "metadata": {},
   "outputs": [],
   "source": [
    "import numpy as np"
   ]
  },
  {
   "cell_type": "markdown",
   "metadata": {},
   "source": [
    "---"
   ]
  },
  {
   "cell_type": "markdown",
   "metadata": {},
   "source": [
    "# Bertrand's box paradox\n",
    "- https://en.wikipedia.org/wiki/Bertrand%27s_box_paradox\n",
    "- Statistical Rethinking 2nd, Chapter 15. Missing Data\n",
    "\n",
    "Suppose a robot cooks three pancakes. The first pancake is burnt on both sides (BB). The second pancake is burnt on only on side (BU). The third pancake is not burnt at all (UU). Now another robot is serving you at random one of these pancakes, and the side facing up on your plate is burnt. What is the probability that the other side is  also burnt?"
   ]
  },
  {
   "cell_type": "code",
   "execution_count": 144,
   "metadata": {},
   "outputs": [],
   "source": [
    "faceup = 0    \n",
    "facedown = 1\n",
    "B = 1\n",
    "U = 0\n",
    "pancakes = np.array( [ [B,B], [B,U], [U,U]] )"
   ]
  },
  {
   "cell_type": "code",
   "execution_count": 89,
   "metadata": {},
   "outputs": [],
   "source": [
    "n_repeat = 1000000\n",
    "burntfaceup = []\n",
    "for _ in range(n_repeat):\n",
    "    i = np.random.randint(low=0, high=3)\n",
    "    choice = pancakes[i]\n",
    "    if choice[faceup] == B: # observation\n",
    "        burntfaceup.append(choice)"
   ]
  },
  {
   "cell_type": "code",
   "execution_count": 90,
   "metadata": {},
   "outputs": [],
   "source": [
    "len_total = len(burntfaceup)"
   ]
  },
  {
   "cell_type": "code",
   "execution_count": 91,
   "metadata": {},
   "outputs": [],
   "source": [
    "burntdown = []\n",
    "for pc in burntfaceup:\n",
    "    if pc[facedown] == B:\n",
    "        burntdown.append(pc)"
   ]
  },
  {
   "cell_type": "code",
   "execution_count": 92,
   "metadata": {},
   "outputs": [
    {
     "data": {
      "text/plain": [
       "0.5001769624839534"
      ]
     },
     "execution_count": 92,
     "metadata": {},
     "output_type": "execute_result"
    }
   ],
   "source": [
    "len(burntdown) / len_total"
   ]
  },
  {
   "cell_type": "markdown",
   "metadata": {},
   "source": [
    "- Something wrong\n",
    "- when the pancake is put on a plate, either side can be up."
   ]
  },
  {
   "cell_type": "code",
   "execution_count": 138,
   "metadata": {},
   "outputs": [],
   "source": [
    "n_repeat = 1000000\n",
    "burntfaceup = []\n",
    "for k in range(n_repeat):\n",
    "    i = np.random.randint(low=0, high=3)\n",
    "    choice = pancakes[i]  # the robot chooses this pancake\n",
    "    # up-side down\n",
    "    if np.random.uniform() < 0.5:  # 50% chance\n",
    "        choice[0], choice[1] = choice[1], choice[0]\n",
    "    if choice[faceup] == B: # observation\n",
    "        burntfaceup.append(choice)"
   ]
  },
  {
   "cell_type": "code",
   "execution_count": 139,
   "metadata": {},
   "outputs": [],
   "source": [
    "len_total = len(burntfaceup)"
   ]
  },
  {
   "cell_type": "code",
   "execution_count": 140,
   "metadata": {},
   "outputs": [],
   "source": [
    "burntdown = []\n",
    "for pc in burntfaceup:\n",
    "    if pc[facedown] == B:\n",
    "        burntdown.append(pc)"
   ]
  },
  {
   "cell_type": "code",
   "execution_count": 141,
   "metadata": {},
   "outputs": [
    {
     "data": {
      "text/plain": [
       "0.6659746306807954"
      ]
     },
     "execution_count": 141,
     "metadata": {},
     "output_type": "execute_result"
    }
   ],
   "source": [
    "len(burntdown) / len_total"
   ]
  },
  {
   "cell_type": "markdown",
   "metadata": {},
   "source": [
    "## let's make it faster with numpy vectorization"
   ]
  },
  {
   "cell_type": "code",
   "execution_count": 213,
   "metadata": {},
   "outputs": [
    {
     "data": {
      "text/plain": [
       "0.6667841501635007"
      ]
     },
     "execution_count": 213,
     "metadata": {},
     "output_type": "execute_result"
    }
   ],
   "source": [
    "n_repeat = 10000000\n",
    "i = np.random.randint(0,3, size=n_repeat);\n",
    "choice = pancakes[i];\n",
    "# up-side down\n",
    "u = np.random.uniform(size=n_repeat)\n",
    "do_swap = u < 0.5; do_swap;\n",
    "a = choice[do_swap == False]\n",
    "b = choice[do_swap == True]\n",
    "b[:,[0,1]] = b[:,[1,0]]  # swap == upside down\n",
    "choice = np.vstack((a,b))           # random generation\n",
    "#\n",
    "choice = choice[ choice[:,faceup] == B]  # observation\n",
    "#\n",
    "total_len = len(choice)\n",
    "burnt_down = choice[:,facedown] == B       # target of interest\n",
    "#\n",
    "burnt_down.sum() / total_len        # the ratio"
   ]
  },
  {
   "cell_type": "code",
   "execution_count": null,
   "metadata": {},
   "outputs": [],
   "source": []
  }
 ],
 "metadata": {
  "kernelspec": {
   "display_name": "Python 3",
   "language": "python",
   "name": "python3"
  },
  "language_info": {
   "codemirror_mode": {
    "name": "ipython",
    "version": 3
   },
   "file_extension": ".py",
   "mimetype": "text/x-python",
   "name": "python",
   "nbconvert_exporter": "python",
   "pygments_lexer": "ipython3",
   "version": "3.8.8"
  }
 },
 "nbformat": 4,
 "nbformat_minor": 4
}
