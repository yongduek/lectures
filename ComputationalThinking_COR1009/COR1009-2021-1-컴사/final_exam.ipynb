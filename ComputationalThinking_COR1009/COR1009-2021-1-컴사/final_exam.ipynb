{
 "cells": [
  {
   "cell_type": "markdown",
   "metadata": {},
   "source": [
    "# COR1009-14 Final Exam\n",
    "\n",
    "- Instructor: 서용덕\n",
    "- 10 Points Each.\n",
    "\n",
    "- You must not delete any cell. They should exist as provided.\n",
    "- You may create cells to do your own computation.\n",
    "\n",
    "- No partial grading. Correct solution will get 10 points, incorrect solution will get 0 point. No points such as 5 or 8 will be provided.\n",
    "\n",
    "- The solution file to eclass.sogang.ac.kr must be submitted in time. Late submission is strictly not allowed."
   ]
  },
  {
   "cell_type": "markdown",
   "metadata": {},
   "source": [
    "# 1. What is your name and student id number? \n",
    "\n",
    "You must use python's `print()` function to print them out."
   ]
  },
  {
   "cell_type": "code",
   "execution_count": 1,
   "metadata": {},
   "outputs": [],
   "source": [
    "# your code here\n"
   ]
  },
  {
   "cell_type": "markdown",
   "metadata": {},
   "source": [
    "# 2. Use `for`-loop to calculate the sum of all the numbers in the arrary `A`.\n",
    "- No numpy method functions are allowed. You won't achieve any point."
   ]
  },
  {
   "cell_type": "code",
   "execution_count": 2,
   "metadata": {},
   "outputs": [
    {
     "name": "stdout",
     "output_type": "stream",
     "text": [
      "[757 756 498 941 663 592 522 318 605 626] [261 958 453  60]\n"
     ]
    }
   ],
   "source": [
    "# do not modify.\n",
    "import numpy as np\n",
    "rng = np.random.default_rng(2021) \n",
    "array_size = 1000\n",
    "A = rng.integers(0, 1000, size=array_size)\n",
    "print(A[:10], A[-4:])"
   ]
  },
  {
   "cell_type": "code",
   "execution_count": 3,
   "metadata": {},
   "outputs": [],
   "source": [
    "# your code must come here\n"
   ]
  },
  {
   "cell_type": "markdown",
   "metadata": {},
   "source": [
    "# 3. Find the largest number or the maximum in the array `A` using `for`-loop."
   ]
  },
  {
   "cell_type": "code",
   "execution_count": 4,
   "metadata": {},
   "outputs": [
    {
     "name": "stdout",
     "output_type": "stream",
     "text": [
      "[706 247 749  92 188 611 936  60  65 661] [774 377 177 466]\n"
     ]
    }
   ],
   "source": [
    "# do not modify.\n",
    "import numpy as np\n",
    "rng = np.random.default_rng(2022) \n",
    "array_size = 1000\n",
    "A = rng.integers(0, 1000, size=array_size)\n",
    "print(A[:10], A[-4:])"
   ]
  },
  {
   "cell_type": "code",
   "execution_count": 5,
   "metadata": {},
   "outputs": [],
   "source": [
    "# your code here\n"
   ]
  },
  {
   "cell_type": "markdown",
   "metadata": {},
   "source": [
    "# 4. Find the sample variance `Var` of the array `A`.\n",
    "\n",
    "The fomula to compute sample variance is as follows:\n",
    "$$\n",
    "    Var = \\frac{1}{N-1} \\sum_{i=1}^N \\big( A[i] - m \\big)^2\n",
    "$$\n",
    "where $m$ is the sample mean computed by:\n",
    "$$\n",
    "    m = \\frac{1}{N} \\sum_{i=1}^N A[i]\n",
    "$$"
   ]
  },
  {
   "cell_type": "code",
   "execution_count": 6,
   "metadata": {},
   "outputs": [
    {
     "name": "stdout",
     "output_type": "stream",
     "text": [
      "[473  88 157 220 298 113 599 442 255 697] [905 380 189 205]\n"
     ]
    }
   ],
   "source": [
    "# do not modify.\n",
    "import numpy as np\n",
    "rng = np.random.default_rng(2023) \n",
    "array_size = 1000\n",
    "A = rng.integers(0, 1000, size=array_size)\n",
    "print(A[:10], A[-4:])"
   ]
  },
  {
   "cell_type": "code",
   "execution_count": 7,
   "metadata": {},
   "outputs": [],
   "source": [
    "# your code here\n"
   ]
  },
  {
   "cell_type": "markdown",
   "metadata": {},
   "source": [
    "# 5. Find how many times the word 'Darcy' appears in the text.\n",
    "\n",
    "- The list of words are provided as below.\n",
    "- Use `for`-loop and `if` statement."
   ]
  },
  {
   "cell_type": "code",
   "execution_count": 8,
   "metadata": {
    "tags": []
   },
   "outputs": [
    {
     "name": "stdout",
     "output_type": "stream",
     "text": [
      "124743 ['I', 'hope', 'you', 'will', 'get', 'over', 'it,']\n"
     ]
    }
   ],
   "source": [
    "# do not modify\n",
    "filename = 'pride_and_prejudic.txt'\n",
    "with open(filename, 'r', encoding='utf8') as f:\n",
    "    lines = f.readlines()\n",
    "words = []\n",
    "for line in lines:\n",
    "    words += line.split()\n",
    "print(len(words), words[1000:1007])"
   ]
  },
  {
   "cell_type": "raw",
   "metadata": {},
   "source": [
    "# do not modify. It is your responsibility if you change any.\n",
    "import requests\n",
    "url = \"https://gutenberg.org/files/1342/1342-0.txt\"\n",
    "response = requests.get(url)\n",
    "words = response.content.decode('utf-8').split()\n",
    "print(len(words), words[1000:1007])"
   ]
  },
  {
   "cell_type": "code",
   "execution_count": 9,
   "metadata": {},
   "outputs": [],
   "source": [
    "# your code here\n"
   ]
  },
  {
   "cell_type": "markdown",
   "metadata": {},
   "source": [
    "# 6. Find the number of sentences that 'Darcy' and 'Jane' appear at the same time.\n",
    "\n",
    "The varaiable `sentences` contains all the sentences of the book. Do Not modify it."
   ]
  },
  {
   "cell_type": "code",
   "execution_count": 47,
   "metadata": {
    "tags": []
   },
   "outputs": [
    {
     "name": "stdout",
     "output_type": "stream",
     "text": [
      "total of sentences:  4748\n",
      "2000 I never heard any harm of her; and I      dare say she is one of the most tractable creatures in the world.\n",
      "2001 She is a very great favourite with some ladies of my      acquaintance, Mrs. Hurst and Miss Bingley.\n",
      "2002 I think I have heard      you say that you know them.”      “I know them a little.\n",
      "2003 Their brother is a pleasant gentlemanlike      man—he is a great friend of Darcy’s.”      “Oh!\n",
      "2004 yes,” said Elizabeth drily; “Mr.\n"
     ]
    }
   ],
   "source": [
    "# do not modify\n",
    "filename = 'pride_and_prejudic.txt'\n",
    "with open(filename, 'r', encoding='utf8') as f:\n",
    "    raw = f.read()\n",
    "#\n",
    "from nltk import tokenize\n",
    "sentences = tokenize.sent_tokenize(raw.replace('\\n', '').strip())\n",
    "\n",
    "print('total of sentences: ', len(sentences))\n",
    "for i in range(2000, 2005):\n",
    "    print(i, sentences[i])"
   ]
  },
  {
   "cell_type": "raw",
   "metadata": {},
   "source": [
    "# do not modify\n",
    "from nltk import tokenize\n",
    "import requests\n",
    "url = \"https://gutenberg.org/files/1342/1342-0.txt\"\n",
    "raw = requests.get(url).content.decode('utf-8')\n",
    "sentences = tokenize.sent_tokenize(raw.replace('\\r\\n', '').strip())\n",
    "#\n",
    "print('total of sentences: ', len(sentences))\n",
    "for i in range(2000, 2005):\n",
    "    print(i, sentences[i])"
   ]
  },
  {
   "cell_type": "code",
   "execution_count": 48,
   "metadata": {},
   "outputs": [
    {
     "name": "stdout",
     "output_type": "stream",
     "text": [
      "274\n"
     ]
    }
   ],
   "source": [
    "# your code here\n",
    "count = 0\n",
    "for i in sentences:\n",
    "    if \"Darcy\" and \"Jane\" in i:\n",
    "        count += 1\n",
    "print(count)"
   ]
  },
  {
   "cell_type": "code",
   "execution_count": 49,
   "metadata": {},
   "outputs": [
    {
     "name": "stdout",
     "output_type": "stream",
     "text": [
      "21\n"
     ]
    }
   ],
   "source": [
    "# your code here\n",
    "count = 0\n",
    "for i in sentences:\n",
    "    if (\"Darcy\" in i) and (\"Jane\" in i):\n",
    "        count += 1\n",
    "print(count)"
   ]
  },
  {
   "cell_type": "code",
   "execution_count": 11,
   "metadata": {},
   "outputs": [],
   "source": [
    "# your code here\n"
   ]
  },
  {
   "cell_type": "markdown",
   "metadata": {},
   "source": [
    "# 7. Make a rectangle block of red color\n",
    "- Below, the 2d array `I` is filled with [0,0,255] which is blue color.\n",
    "- Make a red colored box at x=100, y=20, and width=200, height=100; here (y, x) is the (top, left) location of the red box.\n",
    "- You must use double or tripple `for`-loop iteration to do this."
   ]
  },
  {
   "cell_type": "code",
   "execution_count": 12,
   "metadata": {},
   "outputs": [
    {
     "data": {
      "image/png": "[encoded data removed]",
      "text/plain": [
       "<Figure size 432x288 with 1 Axes>"
      ]
     },
     "metadata": {
      "needs_background": "light"
     },
     "output_type": "display_data"
    }
   ],
   "source": [
    "I = np.zeros((480, 720, 3), dtype=np.uint8)\n",
    "I[:,:] = [0,0,255] # set blue\n",
    "\n",
    "import matplotlib.pyplot as plt\n",
    "plt.imshow(I);"
   ]
  },
  {
   "cell_type": "code",
   "execution_count": 13,
   "metadata": {},
   "outputs": [],
   "source": [
    "# you code here\n"
   ]
  },
  {
   "cell_type": "markdown",
   "metadata": {},
   "source": [
    "# 8. Binary Number\n",
    "\n",
    "Given an array of ones and zeroes, convert the equivalent binary value to an integer.\n",
    "\n",
    "Eg: `[0, 0, 0, 1]` is treated as 0001 which is the binary representation of 1.\n",
    "- Testing: `[0, 0, 1, 0]` ==> 2\n",
    "- Testing: `[0, 1, 0, 1]` ==> 5\n",
    "- Testing: `[1, 0, 0, 1]` ==> 9\n"
   ]
  },
  {
   "cell_type": "code",
   "execution_count": 14,
   "metadata": {},
   "outputs": [],
   "source": [
    "# you need to make this function\n",
    "def binary2int(array):\n",
    "    # you code here\n",
    "    pass"
   ]
  },
  {
   "cell_type": "code",
   "execution_count": 15,
   "metadata": {},
   "outputs": [
    {
     "name": "stdout",
     "output_type": "stream",
     "text": [
      "None\n"
     ]
    }
   ],
   "source": [
    "print(binary2int([0,0,1,0]))"
   ]
  },
  {
   "cell_type": "code",
   "execution_count": 16,
   "metadata": {},
   "outputs": [
    {
     "name": "stdout",
     "output_type": "stream",
     "text": [
      "N=None for b=[1, 0, 0, 0, 1]\n"
     ]
    }
   ],
   "source": [
    "b = [1, 0, 0, 0, 1]\n",
    "n = binary2int(b)\n",
    "print(f'N={n} for b={b}')"
   ]
  },
  {
   "cell_type": "markdown",
   "metadata": {},
   "source": [
    "# 9. Encode a string. (30 points)\n",
    "\n",
    "- You are given a string\n",
    "- Then apply the following rule to produce output string. The characters not specified in the rule remain the same in the string. Use `for` loop and `if-else` conditional statements to apply the rule.\n",
    "- You need to make two functions `encode()` and `decode()`. The function `decode()` applies the rule reversely so that you may obtain the original string from the encoded string.\n",
    "\n",
    "- 'a' -> '1'\n",
    "- 'e' -> '2'\n",
    "- 'i' -> '3'\n",
    "- 'o' -> '4'\n",
    "- 'u' -> '5'\n"
   ]
  },
  {
   "cell_type": "markdown",
   "metadata": {},
   "source": [
    "Hints"
   ]
  },
  {
   "cell_type": "code",
   "execution_count": 17,
   "metadata": {},
   "outputs": [
    {
     "name": "stdout",
     "output_type": "stream",
     "text": [
      "['I', ' ', 'h', 'a', 'v', 'e', ' ', 'a', ' ', 'b', 'o', 'o', 'k']\n"
     ]
    }
   ],
   "source": [
    "# str -> list\n",
    "charlist = list('I have a book')\n",
    "print(charlist)"
   ]
  },
  {
   "cell_type": "code",
   "execution_count": 18,
   "metadata": {},
   "outputs": [
    {
     "name": "stdout",
     "output_type": "stream",
     "text": [
      "I have a book\n"
     ]
    }
   ],
   "source": [
    "# list -> str\n",
    "ss = ''.join(charlist)\n",
    "print(ss)"
   ]
  },
  {
   "cell_type": "code",
   "execution_count": 19,
   "metadata": {},
   "outputs": [
    {
     "name": "stdout",
     "output_type": "stream",
     "text": [
      "It is a truth universally acknowledged, that a single man in\n",
      "possession of a good fortune, must be in want of a wife.\n",
      "\n",
      "However little known the feelings or views of such a man may be\n",
      "on his first entering a neighbourhood, this truth is so well\n",
      "fixed in the minds of the surrounding families, that he is\n",
      "considered the rightful property of some one or other of their\n",
      "daughters.\n"
     ]
    }
   ],
   "source": [
    "# do not modify\n",
    "input_string =  '''It is a truth universally acknowledged, that a single man in\n",
    "possession of a good fortune, must be in want of a wife.\n",
    "\n",
    "However little known the feelings or views of such a man may be\n",
    "on his first entering a neighbourhood, this truth is so well\n",
    "fixed in the minds of the surrounding families, that he is\n",
    "considered the rightful property of some one or other of their\n",
    "daughters.'''\n",
    "\n",
    "print(input_string)"
   ]
  },
  {
   "cell_type": "code",
   "execution_count": 20,
   "metadata": {},
   "outputs": [],
   "source": [
    "# you code here\n",
    "def encode(s):\n",
    "    pass\n",
    "\n",
    "def decode(s):\n",
    "    pass"
   ]
  },
  {
   "cell_type": "code",
   "execution_count": 21,
   "metadata": {},
   "outputs": [
    {
     "name": "stdout",
     "output_type": "stream",
     "text": [
      "encoded:  None\n"
     ]
    }
   ],
   "source": [
    "# do not modify, just run the cell\n",
    "x = encode(input_string)\n",
    "print('encoded: ', x)"
   ]
  },
  {
   "cell_type": "code",
   "execution_count": 22,
   "metadata": {},
   "outputs": [
    {
     "name": "stdout",
     "output_type": "stream",
     "text": [
      "False\n"
     ]
    }
   ],
   "source": [
    "# test; do not midify\n",
    "print(input_string == decode(encode(input_string)))"
   ]
  },
  {
   "cell_type": "code",
   "execution_count": 23,
   "metadata": {},
   "outputs": [
    {
     "data": {
      "text/plain": [
       "True"
      ]
     },
     "execution_count": 23,
     "metadata": {},
     "output_type": "execute_result"
    }
   ],
   "source": [
    "# do not midify\n",
    "input_string == input_string"
   ]
  },
  {
   "cell_type": "markdown",
   "metadata": {},
   "source": [
    "# 10. Histogram Plot (50 Points)\n",
    "\n",
    "- Make a function named `my_unique()` which performs the same computation as `np.unique()`. Example is provided below."
   ]
  },
  {
   "cell_type": "code",
   "execution_count": 24,
   "metadata": {},
   "outputs": [
    {
     "name": "stdout",
     "output_type": "stream",
     "text": [
      "(100000,) [13  6 10 14 11 13 13 14 11 13]\n"
     ]
    }
   ],
   "source": [
    "# no touch. data generation\n",
    "import numpy as np\n",
    "rng = np.random.default_rng()\n",
    "data = rng.poisson(lam=10, size=100000)\n",
    "print(data.shape, data[:10])"
   ]
  },
  {
   "cell_type": "code",
   "execution_count": 25,
   "metadata": {},
   "outputs": [
    {
     "data": {
      "image/png": "[encoded data removed]",
      "text/plain": [
       "<Figure size 432x288 with 1 Axes>"
      ]
     },
     "metadata": {
      "needs_background": "light"
     },
     "output_type": "display_data"
    }
   ],
   "source": [
    "# hist using seaborn.histplot(). do not modify.\n",
    "import seaborn as sns\n",
    "sns.histplot(data, discrete=True);"
   ]
  },
  {
   "cell_type": "code",
   "execution_count": 26,
   "metadata": {},
   "outputs": [
    {
     "data": {
      "image/png": "[encoded data removed]",
      "text/plain": [
       "<Figure size 432x288 with 1 Axes>"
      ]
     },
     "metadata": {
      "needs_background": "light"
     },
     "output_type": "display_data"
    }
   ],
   "source": [
    "# hist plot using np.unique() and plt.bar(). do not midify.\n",
    "u, c = np.unique(data, return_counts=True)\n",
    "plt.bar(u, c);"
   ]
  },
  {
   "cell_type": "markdown",
   "metadata": {},
   "source": [
    "You are supposed to make two sub-functions to do this job."
   ]
  },
  {
   "cell_type": "code",
   "execution_count": 27,
   "metadata": {},
   "outputs": [],
   "source": [
    "# your function that does the same computation as `np.unique()` does\n",
    "def unique_elements(arr):\n",
    "    pass\n",
    "\n",
    "# count the number of appearance for each of the unique elements\n",
    "def frequency(u, arr):\n",
    "    pass\n",
    "\n",
    "def my_unique(arr):\n",
    "    # 1. find unique elements in the arr\n",
    "    u = unique_elements(arr)  # you must compute this array\n",
    "\n",
    "    # 2. using u, compute the frequency of each of the items.\n",
    "    c = frequency(u, arr)  # you must compute this array\n",
    "\n",
    "    return u, c"
   ]
  },
  {
   "cell_type": "code",
   "execution_count": 28,
   "metadata": {},
   "outputs": [],
   "source": [
    "# do not modify, just run.\n",
    "my_u, my_c = my_unique(data)\n",
    "if my_u is not None:\n",
    "    plt.bar(my_u, my_c)  # this will plot the same histogram as above if `my_unique()` does the same thing."
   ]
  },
  {
   "cell_type": "markdown",
   "metadata": {},
   "source": [
    "# 11. Find the second largest number in array `A`. (30 Points)\n",
    "\n",
    "- For your convenience and simplicity of the problem, the array `A` does not have duplicated members. For example, as you can see below, $A[0] = 3352$, then there is no other $A[j]$ that contains 3352 for $j\\neq 0$.\n",
    "- You are not allowed to use any built-in `sort` function in python.\n",
    "- You may use the function, developed in Question 3, if you have made.\n",
    "- You must solve this problem with basic programming tools such as loops (while or for) and if-else statements."
   ]
  },
  {
   "cell_type": "code",
   "execution_count": 29,
   "metadata": {},
   "outputs": [
    {
     "name": "stdout",
     "output_type": "stream",
     "text": [
      "<class 'numpy.ndarray'> (3,) [3 4 5]\n",
      "<class 'list'> 3 [3 4 5]\n"
     ]
    }
   ],
   "source": [
    "# some code that may or may not help\n",
    "import numpy as np\n",
    "b = np.array([3, 4, 5])\n",
    "print(type(b), b.shape, b)\n",
    "list_of_nums = list(b)\n",
    "print(type(list_of_nums), len(b), b)"
   ]
  },
  {
   "cell_type": "code",
   "execution_count": 30,
   "metadata": {},
   "outputs": [
    {
     "data": {
      "text/plain": [
       "array([ 3352,  6717,  7892,  3658,  8864,   537,  7873, -2317,  1532,\n",
       "       -1151])"
      ]
     },
     "execution_count": 30,
     "metadata": {},
     "output_type": "execute_result"
    }
   ],
   "source": [
    "# do not change\n",
    "import numpy as np\n",
    "rng = np.random.default_rng(2002)\n",
    "A = rng.choice(np.arange(-10000, 10000), size=1000, replace=False)\n",
    "A[:10]"
   ]
  },
  {
   "cell_type": "code",
   "execution_count": 31,
   "metadata": {},
   "outputs": [],
   "source": [
    "# your code here\n"
   ]
  },
  {
   "cell_type": "markdown",
   "metadata": {},
   "source": [
    "# 12. Find common items in two lists\n",
    "\n",
    "1. find those common items.\n",
    "2. print out the number of common items.\n",
    "3. print out the maximum among them. You must find the maximum with your own code or function. Python's builtin `max()` is not allowed. \n",
    "4. print out the minimum among them. You must find the minimum with your own code or function. Python's builtin `min()` is not allowed.\n",
    "5. Do not print all of the common items, or you will get negative reward."
   ]
  },
  {
   "cell_type": "code",
   "execution_count": 32,
   "metadata": {},
   "outputs": [
    {
     "name": "stdout",
     "output_type": "stream",
     "text": [
      "[75, 75, 49, 94, 66, 59, 52, 31, 60, 62] [79, 68, 27, 22, 67, 6, 86, 17, 28, 2]\n"
     ]
    }
   ],
   "source": [
    "import numpy as np\n",
    "rng = np.random.default_rng(2021)\n",
    "\n",
    "lista = list(rng.integers(0,100,size=200))\n",
    "listb = list(rng.integers(0,100,size=200))\n",
    "print(lista[:10], listb[:10])"
   ]
  },
  {
   "cell_type": "code",
   "execution_count": 33,
   "metadata": {},
   "outputs": [],
   "source": [
    "# your code here\n"
   ]
  },
  {
   "cell_type": "markdown",
   "metadata": {},
   "source": [
    "# 13. Plot a function\n",
    "\n",
    "- The example below shows you how to plot the graph of a function $y =  e^{x} + e^{-x}$.\n",
    "\n",
    "- You are asked to plot a sigmoid function `y = sigmoid(x)` for $x$ in the interval $[-4, 4]$. The sigmoid function is defined to be\n",
    "\n",
    "$$\n",
    "    sigmoid(x) = \\frac{1}{1 + e^{-x}}\n",
    "$$"
   ]
  },
  {
   "cell_type": "code",
   "execution_count": 34,
   "metadata": {},
   "outputs": [
    {
     "data": {
      "image/png": "[encoded data removed]",
      "text/plain": [
       "<Figure size 432x288 with 1 Axes>"
      ]
     },
     "metadata": {
      "needs_background": "light"
     },
     "output_type": "display_data"
    }
   ],
   "source": [
    "import matplotlib.pyplot as plt\n",
    "import numpy as np\n",
    "\n",
    "x = np.linspace(-5, 5, 1000)\n",
    "y = np.exp(x) + np.exp(-x)\n",
    "\n",
    "plt.plot(x, y);\n",
    "plt.xlabel('x'), plt.ylabel('e^x');\n",
    "plt.grid()"
   ]
  },
  {
   "cell_type": "code",
   "execution_count": 35,
   "metadata": {},
   "outputs": [],
   "source": [
    "# your code here\n"
   ]
  },
  {
   "cell_type": "markdown",
   "metadata": {},
   "source": [
    "# 14. Traffic light\n",
    "You're writing code to control your town's traffic lights. You need a function to handle each change from `green`, to `yellow`, to `red`, and then to `green` again.\n",
    "\n",
    "Complete the function that takes a string as an argument representing the current state of the light and returns a string representing the state the light should change to.\n",
    "\n",
    "For example, update_light('green') should return 'yellow'."
   ]
  },
  {
   "cell_type": "code",
   "execution_count": 36,
   "metadata": {},
   "outputs": [],
   "source": [
    "def update_light(current_light):\n",
    "    # your code\n",
    "    pass"
   ]
  },
  {
   "cell_type": "code",
   "execution_count": 37,
   "metadata": {},
   "outputs": [
    {
     "name": "stdout",
     "output_type": "stream",
     "text": [
      "None\n"
     ]
    }
   ],
   "source": [
    "print(update_light('green'))  # => 'yellow'"
   ]
  },
  {
   "cell_type": "code",
   "execution_count": 38,
   "metadata": {},
   "outputs": [
    {
     "name": "stdout",
     "output_type": "stream",
     "text": [
      "None\n"
     ]
    }
   ],
   "source": [
    "print(update_light('red'))  # => 'green'"
   ]
  },
  {
   "cell_type": "code",
   "execution_count": 39,
   "metadata": {},
   "outputs": [
    {
     "name": "stdout",
     "output_type": "stream",
     "text": [
      "None\n"
     ]
    }
   ],
   "source": [
    "print(update_light('yellow'))  # => 'red"
   ]
  },
  {
   "cell_type": "markdown",
   "metadata": {},
   "source": [
    "# 15. Sum of Integers Up To `n`\n",
    "\n",
    "Write a function, `add_it_up()`, that takes a single integer as input and returns the sum of the integers from zero to the input parameter.\n",
    "\n",
    "- use `for` loop or `while` loop. Python's built-in `sum` is not allowed."
   ]
  },
  {
   "cell_type": "code",
   "execution_count": 40,
   "metadata": {},
   "outputs": [],
   "source": [
    "def add_it_up(n):\n",
    "    sumup = 0\n",
    "    # your code here\n",
    "    return sumup"
   ]
  },
  {
   "cell_type": "code",
   "execution_count": 41,
   "metadata": {},
   "outputs": [
    {
     "name": "stdout",
     "output_type": "stream",
     "text": [
      "sum(10) is 0\n"
     ]
    }
   ],
   "source": [
    "n = 10\n",
    "s = add_it_up(n)\n",
    "print(f'sum({n}) is {s}')"
   ]
  },
  {
   "cell_type": "code",
   "execution_count": 42,
   "metadata": {},
   "outputs": [
    {
     "name": "stdout",
     "output_type": "stream",
     "text": [
      "sum(100) is 0\n"
     ]
    }
   ],
   "source": [
    "n = 100\n",
    "s = add_it_up(n)\n",
    "print(f'sum({n}) is {s}')"
   ]
  },
  {
   "cell_type": "markdown",
   "metadata": {},
   "source": [
    "# 16. Factorial up to `n`\n",
    "Write a function `factorial` that takes `n` > 0 and computes\n",
    "$$\n",
    "    f = 1\\times2\\times \\cdots \\times (n-1) \\times n\n",
    "$$\n",
    "- if `n` <= 0, then the function must print an error message 'negative n', and return -1.\n"
   ]
  },
  {
   "cell_type": "code",
   "execution_count": 43,
   "metadata": {},
   "outputs": [],
   "source": [
    "def factorial(n):\n",
    "    # your code here\n",
    "    pass"
   ]
  },
  {
   "cell_type": "code",
   "execution_count": 44,
   "metadata": {},
   "outputs": [
    {
     "name": "stdout",
     "output_type": "stream",
     "text": [
      "factorial(5) = 5! = None\n"
     ]
    }
   ],
   "source": [
    "n = 5\n",
    "f = factorial(n)\n",
    "print(f'factorial({n}) = {n}! = {f}')"
   ]
  },
  {
   "cell_type": "code",
   "execution_count": 45,
   "metadata": {},
   "outputs": [
    {
     "name": "stdout",
     "output_type": "stream",
     "text": [
      "factorial(9) = 9! = None\n"
     ]
    }
   ],
   "source": [
    "n = 9\n",
    "f = factorial(n)\n",
    "print(f'factorial({n}) = {n}! = {f}')"
   ]
  },
  {
   "cell_type": "code",
   "execution_count": 46,
   "metadata": {},
   "outputs": [
    {
     "name": "stdout",
     "output_type": "stream",
     "text": [
      "factorial(-7) = -7! = None\n"
     ]
    }
   ],
   "source": [
    "n = -7\n",
    "f = factorial(n)\n",
    "print(f'factorial({n}) = {n}! = {f}')"
   ]
  },
  {
   "cell_type": "markdown",
   "metadata": {},
   "source": [
    "# 17. Write two things or topics that would be good after learning basics of python programming. "
   ]
  },
  {
   "cell_type": "markdown",
   "metadata": {},
   "source": [
    "Write your answer below.\n",
    "\n",
    "1.\n",
    "\n",
    "2."
   ]
  },
  {
   "cell_type": "markdown",
   "metadata": {},
   "source": [
    "---\n",
    "End."
   ]
  }
 ],
 "metadata": {
  "kernelspec": {
   "display_name": "Python 3",
   "language": "python",
   "name": "python3"
  },
  "language_info": {
   "codemirror_mode": {
    "name": "ipython",
    "version": 3
   },
   "file_extension": ".py",
   "mimetype": "text/x-python",
   "name": "python",
   "nbconvert_exporter": "python",
   "pygments_lexer": "ipython3",
   "version": "3.8.8"
  }
 },
 "nbformat": 4,
 "nbformat_minor": 4
}
