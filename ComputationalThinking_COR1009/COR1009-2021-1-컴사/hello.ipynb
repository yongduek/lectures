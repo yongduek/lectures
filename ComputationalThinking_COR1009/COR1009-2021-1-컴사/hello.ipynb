{
 "metadata": {
  "language_info": {
   "codemirror_mode": {
    "name": "ipython",
    "version": 3
   },
   "file_extension": ".py",
   "mimetype": "text/x-python",
   "name": "python",
   "nbconvert_exporter": "python",
   "pygments_lexer": "ipython3",
   "version": "3.8.8"
  },
  "orig_nbformat": 2,
  "kernelspec": {
   "name": "python3",
   "display_name": "Python 3.8.8 64-bit",
   "metadata": {
    "interpreter": {
     "hash": "5c2412a7f059a44a3ebbda245f298c96603c0f68fdadd5589b1fcd57ac7e1e28"
    }
   }
  }
 },
 "nbformat": 4,
 "nbformat_minor": 2,
 "cells": [
  {
   "source": [
    "- windows 10\n",
    "- Try to edit 'PATH' in environment setting.\n",
    "```\n",
    "gcm python.exe\n",
    "gcm jupyter-lab.exe \n",
    "python -m jupyterlab \n",
    "```\n",
    "- unix/linux/macosx\n",
    "```\n",
    "which python3.8\n",
    "whereis jupyter \n",
    "whereis jupyter-lab \n",
    "which jupyter-lab\n",
    "\n",
    "edit .bashrc\n",
    "```"
   ],
   "cell_type": "markdown",
   "metadata": {}
  },
  {
   "cell_type": "code",
   "execution_count": 7,
   "metadata": {},
   "outputs": [
    {
     "output_type": "stream",
     "name": "stdout",
     "text": [
      "hello world!\n"
     ]
    }
   ],
   "source": [
    "# press Shift-Enter\n",
    "print('hello world!')"
   ]
  },
  {
   "cell_type": "code",
   "execution_count": 8,
   "metadata": {},
   "outputs": [
    {
     "output_type": "stream",
     "name": "stdout",
     "text": [
      "my second python command.\n"
     ]
    }
   ],
   "source": [
    "print('my second python command.')"
   ]
  },
  {
   "cell_type": "code",
   "execution_count": 11,
   "metadata": {},
   "outputs": [],
   "source": [
    "def dna_to_rna(dna):\n",
    "    \"\"\"\n",
    "    dna: string varaible\n",
    "    \"\"\"\n",
    "    listdna = list(dna)\n",
    "    # print(listdna)\n",
    "    listrna = []\n",
    "    for c in listdna:\n",
    "        if c == 'T': \n",
    "            listrna.append('U')\n",
    "        # elif c == 'X': # else if\n",
    "        else:\n",
    "            listrna.append(c)\n",
    "    #\n",
    "    rna = ''.join(listrna)\n",
    "    return rna "
   ]
  },
  {
   "cell_type": "code",
   "execution_count": 13,
   "metadata": {},
   "outputs": [
    {
     "output_type": "stream",
     "name": "stdout",
     "text": [
      "thi is DNA UUU sUring.\n"
     ]
    }
   ],
   "source": [
    "dna_string = 'thi is DNA TTT sTring.'\n",
    "rna_string = dna_to_rna(dna_string)\n",
    "print(rna_string)"
   ]
  },
  {
   "cell_type": "code",
   "execution_count": 14,
   "metadata": {},
   "outputs": [
    {
     "output_type": "stream",
     "name": "stdout",
     "text": [
      "97\n"
     ]
    }
   ],
   "source": [
    "# ord()\n",
    "print(ord('a'))"
   ]
  },
  {
   "cell_type": "code",
   "execution_count": 19,
   "metadata": {},
   "outputs": [
    {
     "output_type": "stream",
     "name": "stdout",
     "text": [
      "a 97 0x61 0b1100001\nb 98 0x62 0b1100010\nc 99 0x63 0b1100011\nd 100 0x64 0b1100100\ne 101 0x65 0b1100101\nf 102 0x66 0b1100110\n"
     ]
    }
   ],
   "source": [
    "for c in 'abcdef':\n",
    "    unicode = ord(c)\n",
    "    print(c, unicode, hex(unicode), bin(unicode))"
   ]
  },
  {
   "cell_type": "code",
   "execution_count": 20,
   "metadata": {},
   "outputs": [
    {
     "output_type": "stream",
     "name": "stdout",
     "text": [
      "[73, 32, 116, 104, 105, 110, 107, 32, 121, 111, 117, 32, 97, 114, 101, 32, 103, 101, 110, 105, 111, 117, 115, 46]\n"
     ]
    }
   ],
   "source": [
    "astring = 'I think you are genious.'\n",
    "alist = []\n",
    "for c in astring:\n",
    "    n = ord(c)\n",
    "    alist.append(n)\n",
    "print(alist)"
   ]
  },
  {
   "cell_type": "code",
   "execution_count": 21,
   "metadata": {},
   "outputs": [
    {
     "output_type": "stream",
     "name": "stdout",
     "text": [
      "aeiou [97, 101, 105, 111, 117]\n"
     ]
    }
   ],
   "source": [
    "vowels = 'aeiou'\n",
    "vowel_unicode_list = []\n",
    "for v in vowels:\n",
    "    vowel_unicode_list.append(ord(v))\n",
    "print(vowels, vowel_unicode_list)"
   ]
  },
  {
   "cell_type": "code",
   "execution_count": 24,
   "metadata": {},
   "outputs": [
    {
     "output_type": "stream",
     "name": "stdout",
     "text": [
      "117 vowel u\n117 vowel u\n97 vowel a\n"
     ]
    }
   ],
   "source": [
    "inp = [118,117,120,121,117,98,122,97,120,106,104,116,113,114,113,120,106 ]\n",
    "for n in inp:\n",
    "    # print(n)\n",
    "    for vnum in vowel_unicode_list:\n",
    "        if n == vnum:\n",
    "            # this means n is equal to vnum\n",
    "            print(n, 'vowel', chr(n))"
   ]
  },
  {
   "cell_type": "code",
   "execution_count": null,
   "metadata": {},
   "outputs": [],
   "source": [
    "# assignment: solve the problem \"is there a vowel in there\""
   ]
  },
  {
   "cell_type": "code",
   "execution_count": 4,
   "metadata": {},
   "outputs": [
    {
     "output_type": "stream",
     "name": "stdout",
     "text": [
      "17\n"
     ]
    }
   ],
   "source": [
    "array1 = [True,  True,  True,  False,\n",
    "          True,  True,  True,  True ,\n",
    "          True,  False, True,  False,\n",
    "          True,  False, False, True ,\n",
    "          True,  True,  True,  True ,\n",
    "          False, False, True,  True ];\n",
    "# -------------------------\n",
    "count = 0\n",
    "for s in array1:\n",
    "    if s == True:\n",
    "        count += 1\n",
    "# -------------------------\n",
    "print(count)\n"
   ]
  },
  {
   "cell_type": "code",
   "execution_count": 9,
   "metadata": {},
   "outputs": [],
   "source": [
    "def sheep(array):\n",
    "    count = 0\n",
    "    for s in array:\n",
    "        if s == True:\n",
    "            count += 1\n",
    "    return count"
   ]
  },
  {
   "cell_type": "code",
   "execution_count": 10,
   "metadata": {},
   "outputs": [
    {
     "output_type": "stream",
     "name": "stdout",
     "text": [
      "result is  1\n"
     ]
    }
   ],
   "source": [
    "array2 = [True, False, False, False, False, False, False, False];\n",
    "\n",
    "result = sheep(array2)\n",
    "print('result is ', result)"
   ]
  },
  {
   "cell_type": "code",
   "execution_count": 12,
   "metadata": {},
   "outputs": [
    {
     "output_type": "stream",
     "name": "stdout",
     "text": [
      "The result is 17.\n"
     ]
    }
   ],
   "source": [
    "result1 = sheep(array1)\n",
    "print(f'The result is {result1}.')"
   ]
  },
  {
   "cell_type": "code",
   "execution_count": 13,
   "metadata": {},
   "outputs": [
    {
     "output_type": "stream",
     "name": "stdout",
     "text": [
      "The result is 2\n"
     ]
    }
   ],
   "source": [
    "a3 = [False, True, True]\n",
    "result3 = sheep(a3)\n",
    "print('The result is {}'.format(result3))"
   ]
  },
  {
   "source": [
    "Given a month as an integer from 1 to 12, return to which quarter of the year it belongs as an integer number.\n",
    "\n",
    "For example: month 2 (February), is part of the first quarter; month 6 (June), is part of the second quarter; and month 11 (November), is part of the fourth quarter."
   ],
   "cell_type": "markdown",
   "metadata": {}
  },
  {
   "cell_type": "code",
   "execution_count": 14,
   "metadata": {},
   "outputs": [],
   "source": [
    "def quarter_of(month):\n",
    "    # your code here\n",
    "    if month in range(1, 4):\n",
    "        return 1\n",
    "    elif month in range(4, 7):\n",
    "        return 2\n",
    "    elif month in range(7, 10):\n",
    "        return 3\n",
    "    elif month in range(10, 13):\n",
    "        return 4"
   ]
  },
  {
   "cell_type": "code",
   "execution_count": 15,
   "metadata": {},
   "outputs": [
    {
     "output_type": "execute_result",
     "data": {
      "text/plain": [
       "3"
      ]
     },
     "metadata": {},
     "execution_count": 15
    }
   ],
   "source": [
    "quarter_of(7)"
   ]
  },
  {
   "cell_type": "code",
   "execution_count": null,
   "metadata": {},
   "outputs": [],
   "source": []
  }
 ]
}