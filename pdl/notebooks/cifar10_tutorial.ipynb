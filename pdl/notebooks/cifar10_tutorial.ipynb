{
 "cells": [
  {
   "cell_type": "code",
   "execution_count": 1,
   "metadata": {
    "collapsed": false
   },
   "outputs": [],
   "source": [
    "%matplotlib inline"
   ]
  },
  {
   "cell_type": "markdown",
   "metadata": {},
   "source": [
    "\n",
    "Training a Classifier\n",
    "=====================\n",
    "\n",
    "This is it. You have seen how to define neural networks, compute loss and make\n",
    "updates to the weights of the network.\n",
    "\n",
    "Now you might be thinking,\n",
    "\n",
    "What about data?\n",
    "----------------\n",
    "\n",
    "Generally, when you have to deal with image, text, audio or video data,\n",
    "you can use standard python packages that load data into a numpy array.\n",
    "Then you can convert this array into a ``torch.*Tensor``.\n",
    "\n",
    "-  For images, packages such as Pillow, OpenCV are useful\n",
    "-  For audio, packages such as scipy and librosa\n",
    "-  For text, either raw Python or Cython based loading, or NLTK and\n",
    "   SpaCy are useful\n",
    "\n",
    "Specifically for vision, we have created a package called\n",
    "``torchvision``, that has data loaders for common datasets such as\n",
    "Imagenet, CIFAR10, MNIST, etc. and data transformers for images, viz.,\n",
    "``torchvision.datasets`` and ``torch.utils.data.DataLoader``.\n",
    "\n",
    "This provides a huge convenience and avoids writing boilerplate code.\n",
    "\n",
    "For this tutorial, we will use the CIFAR10 dataset.\n",
    "It has the classes: ‘airplane’, ‘automobile’, ‘bird’, ‘cat’, ‘deer’,\n",
    "‘dog’, ‘frog’, ‘horse’, ‘ship’, ‘truck’. The images in CIFAR-10 are of\n",
    "size 3x32x32, i.e. 3-channel color images of 32x32 pixels in size.\n",
    "\n",
    ".. figure:: /_static/img/cifar10.png\n",
    "   :alt: cifar10\n",
    "\n",
    "   cifar10\n",
    "\n",
    "\n",
    "Training an image classifier\n",
    "----------------------------\n",
    "\n",
    "We will do the following steps in order:\n",
    "\n",
    "1. Load and normalizing the CIFAR10 training and test datasets using\n",
    "   ``torchvision``\n",
    "2. Define a Convolutional Neural Network\n",
    "3. Define a loss function\n",
    "4. Train the network on the training data\n",
    "5. Test the network on the test data\n",
    "\n",
    "1. Loading and normalizing CIFAR10\n",
    "^^^^^^^^^^^^^^^^^^^^^^^^^^^^^^^^^^\n",
    "\n",
    "Using ``torchvision``, it’s extremely easy to load CIFAR10.\n",
    "\n"
   ]
  },
  {
   "cell_type": "code",
   "execution_count": 2,
   "metadata": {
    "collapsed": false
   },
   "outputs": [],
   "source": [
    "import torch\n",
    "import torchvision\n",
    "import torchvision.transforms as transforms"
   ]
  },
  {
   "cell_type": "markdown",
   "metadata": {},
   "source": [
    "The output of torchvision datasets are PILImage images of range [0, 1].\n",
    "We transform them to Tensors of normalized range [-1, 1].\n",
    "\n"
   ]
  },
  {
   "cell_type": "code",
   "execution_count": 3,
   "metadata": {
    "collapsed": false
   },
   "outputs": [
    {
     "name": "stdout",
     "output_type": "stream",
     "text": [
      "Files already downloaded and verified\n",
      "Files already downloaded and verified\n"
     ]
    }
   ],
   "source": [
    "batch_size = 4\n",
    "#\n",
    "transform = transforms.Compose(\n",
    "    [transforms.ToTensor(),\n",
    "     transforms.Normalize((0.5, 0.5, 0.5), (0.5, 0.5, 0.5))])\n",
    "\n",
    "trainset = torchvision.datasets.CIFAR10(root='./data', train=True,\n",
    "                                        download=True, transform=transform)\n",
    "trainloader = torch.utils.data.DataLoader(trainset, batch_size=batch_size,\n",
    "                                          shuffle=True, num_workers=2)\n",
    "\n",
    "testset = torchvision.datasets.CIFAR10(root='./data', train=False,\n",
    "                                       download=True, transform=transform)\n",
    "testloader = torch.utils.data.DataLoader(testset, batch_size=batch_size,\n",
    "                                         shuffle=False, num_workers=2)\n",
    "\n",
    "classes = ('plane', 'car', 'bird', 'cat',\n",
    "           'deer', 'dog', 'frog', 'horse', 'ship', 'truck')"
   ]
  },
  {
   "cell_type": "markdown",
   "metadata": {},
   "source": [
    "Let us show some of the training images, for fun.\n",
    "\n"
   ]
  },
  {
   "cell_type": "code",
   "execution_count": 4,
   "metadata": {
    "collapsed": false
   },
   "outputs": [
    {
     "data": {
      "image/png": "[encoded data removed]",
      "text/plain": [
       "<Figure size 432x288 with 1 Axes>"
      ]
     },
     "metadata": {
      "needs_background": "light"
     },
     "output_type": "display_data"
    },
    {
     "name": "stdout",
     "output_type": "stream",
     "text": [
      " ship plane  frog   cat\n"
     ]
    }
   ],
   "source": [
    "import matplotlib.pyplot as plt\n",
    "import numpy as np\n",
    "\n",
    "# functions to show an image\n",
    "\n",
    "\n",
    "def imshow(img):\n",
    "    img = img / 2 + 0.5     # unnormalize\n",
    "    npimg = img.numpy()\n",
    "    plt.imshow(np.transpose(npimg, (1, 2, 0)))\n",
    "    plt.show()\n",
    "\n",
    "\n",
    "# get some random training images\n",
    "dataiter = iter(trainloader)\n",
    "images, labels = dataiter.next()\n",
    "\n",
    "# show images\n",
    "imshow(torchvision.utils.make_grid(images))\n",
    "# print labels\n",
    "print(' '.join('%5s' % classes[labels[j]] for j in range(4)))"
   ]
  },
  {
   "cell_type": "markdown",
   "metadata": {},
   "source": [
    "2. Define a Convolutional Neural Network\n",
    "^^^^^^^^^^^^^^^^^^^^^^^^^^^^^^^^^^^^^^\n",
    "Copy the neural network from the Neural Networks section before and modify it to\n",
    "take 3-channel images (instead of 1-channel images as it was defined).\n",
    "\n"
   ]
  },
  {
   "cell_type": "code",
   "execution_count": 13,
   "metadata": {
    "collapsed": false
   },
   "outputs": [
    {
     "name": "stdout",
     "output_type": "stream",
     "text": [
      "cuda:0\n"
     ]
    }
   ],
   "source": [
    "import torch.nn as nn\n",
    "import torch.nn.functional as F\n",
    "\n",
    "\n",
    "class Net(nn.Module):\n",
    "    def __init__(self):\n",
    "        super(Net, self).__init__()\n",
    "        self.conv1 = nn.Conv2d(3, 6, 5)\n",
    "        self.pool = nn.MaxPool2d(2, 2)\n",
    "        self.conv2 = nn.Conv2d(6, 16, 5)\n",
    "        self.fc1 = nn.Linear(16 * 5 * 5, 120)\n",
    "        self.fc2 = nn.Linear(120, 84)\n",
    "        self.fc3 = nn.Linear(84, 10)\n",
    "\n",
    "    def forward(self, x):\n",
    "        x = self.pool(F.relu(self.conv1(x)))\n",
    "        x = self.pool(F.relu(self.conv2(x)))\n",
    "        x = x.view(-1, 16 * 5 * 5)\n",
    "        x = F.relu(self.fc1(x))\n",
    "        x = F.relu(self.fc2(x))\n",
    "        x = self.fc3(x)\n",
    "        return x\n",
    "\n",
    "device = torch.device ('cuda:0' if torch.cuda.is_available() else 'cpu')\n",
    "print (device)\n",
    "net = Net().to (device)"
   ]
  },
  {
   "cell_type": "code",
   "execution_count": 14,
   "metadata": {},
   "outputs": [
    {
     "data": {
      "text/plain": [
       "True"
      ]
     },
     "execution_count": 14,
     "metadata": {},
     "output_type": "execute_result"
    }
   ],
   "source": [
    "torch.cuda.is_available()"
   ]
  },
  {
   "cell_type": "markdown",
   "metadata": {},
   "source": [
    "3. Define a Loss function and optimizer\n",
    "^^^^^^^^^^^^^^^^^^^^^^^^^^^^^^^^^^^^^^^\n",
    "Let's use a Classification Cross-Entropy loss and SGD with momentum.\n",
    "\n"
   ]
  },
  {
   "cell_type": "code",
   "execution_count": 15,
   "metadata": {
    "collapsed": false
   },
   "outputs": [],
   "source": [
    "import torch.optim as optim\n",
    "\n",
    "criterion = nn.CrossEntropyLoss()\n",
    "optimizer = optim.SGD(net.parameters(), lr=0.0001, momentum=0.9)"
   ]
  },
  {
   "cell_type": "markdown",
   "metadata": {},
   "source": [
    "4. Train the network\n",
    "^^^^^^^^^^^^^^^^^^^^\n",
    "\n",
    "This is when things start to get interesting.\n",
    "We simply have to loop over our data iterator, and feed the inputs to the\n",
    "network and optimize.\n",
    "\n"
   ]
  },
  {
   "cell_type": "code",
   "execution_count": 16,
   "metadata": {},
   "outputs": [],
   "source": [
    "def validation(net):\n",
    "    correct = 0\n",
    "    total = 0\n",
    "    loss_total = 0\n",
    "    with torch.no_grad():\n",
    "        for images, labels in testloader:\n",
    "            images, labels = images.to(device), labels.to(device)\n",
    "            outputs = net(images)\n",
    "            _, predicted = torch.max(outputs.data, 1)\n",
    "            total += labels.size(0)\n",
    "            correct += (predicted == labels).sum().item()\n",
    "            loss = criterion (outputs, labels)\n",
    "            loss_total += loss.item()\n",
    "    val_acc = 100 * correct / total\n",
    "    #print('Accuracy of the network on the 10000 test images: %d %%' % (val_acc))\n",
    "\n",
    "    return val_acc, loss_total\n",
    "#"
   ]
  },
  {
   "cell_type": "code",
   "execution_count": 17,
   "metadata": {
    "collapsed": false
   },
   "outputs": [
    {
     "name": "stdout",
     "output_type": "stream",
     "text": [
      "[1, 12500] t_loss: 28286.587   tacc: 16.5  vloss: 5167.260   vacc: 25.5\n",
      "[2, 12500] t_loss: 23678.238   tacc: 31.3  vloss: 4355.384   vacc: 36.7\n",
      "[3, 12500] t_loss: 20793.735   tacc: 39.1  vloss: 4039.961   vacc: 41.0\n",
      "[4, 12500] t_loss: 19200.757   tacc: 44.2  vloss: 3682.976   vacc: 46.8\n",
      "[5, 12500] t_loss: 18135.823   tacc: 47.2  vloss: 3556.827   vacc: 48.4\n",
      "[6, 12500] t_loss: 17276.370   tacc: 50.2  vloss: 3425.318   vacc: 50.3\n",
      "[7, 12500] t_loss: 16563.338   tacc: 52.4  vloss: 3333.451   vacc: 52.0\n",
      "[8, 12500] t_loss: 15999.081   tacc: 54.1  vloss: 3140.232   vacc: 55.0\n",
      "[9, 12500] t_loss: 15460.117   tacc: 55.9  vloss: 3115.175   vacc: 55.5\n",
      "[10, 12500] t_loss: 14977.581   tacc: 57.2  vloss: 3115.287   vacc: 55.5\n",
      "[11, 12500] t_loss: 14563.794   tacc: 58.6  vloss: 2961.255   vacc: 58.2\n",
      "[12, 12500] t_loss: 14146.835   tacc: 59.7  vloss: 3038.790   vacc: 57.1\n",
      "[13, 12500] t_loss: 13781.160   tacc: 60.9  vloss: 2894.479   vacc: 59.2\n",
      "[14, 12500] t_loss: 13464.771   tacc: 61.7  vloss: 2827.393   vacc: 60.3\n",
      "[15, 12500] t_loss: 13092.402   tacc: 63.1  vloss: 2810.273   vacc: 60.3\n",
      "[16, 12500] t_loss: 12809.464   tacc: 63.7  vloss: 2844.354   vacc: 60.2\n",
      "[17, 12500] t_loss: 12513.604   tacc: 64.7  vloss: 2780.321   vacc: 61.5\n",
      "[18, 12500] t_loss: 12217.577   tacc: 65.8  vloss: 2750.769   vacc: 61.2\n",
      "[19, 12500] t_loss: 11999.394   tacc: 66.3  vloss: 2686.822   vacc: 62.4\n",
      "[20, 12500] t_loss: 11718.303   tacc: 66.9  vloss: 2724.622   vacc: 62.3\n",
      "[21, 12500] t_loss: 11445.089   tacc: 67.8  vloss: 2828.011   vacc: 61.0\n",
      "[22, 12500] t_loss: 11228.000   tacc: 68.3  vloss: 2766.610   vacc: 62.4\n",
      "[23, 12500] t_loss: 10990.315   tacc: 69.1  vloss: 2727.243   vacc: 62.8\n",
      "[24, 12500] t_loss: 10767.744   tacc: 69.7  vloss: 2797.398   vacc: 62.1\n",
      "[25, 12500] t_loss: 10558.746   tacc: 70.2  vloss: 2667.492   vacc: 63.7\n",
      "[26, 12500] t_loss: 10344.660   tacc: 70.9  vloss: 2698.128   vacc: 63.2\n",
      "[27, 12500] t_loss: 10099.960   tacc: 71.5  vloss: 2771.823   vacc: 62.3\n",
      "[28, 12500] t_loss: 9920.540   tacc: 72.0  vloss: 2695.446   vacc: 63.8\n",
      "[29, 12500] t_loss: 9697.958   tacc: 72.8  vloss: 2755.091   vacc: 63.4\n",
      "[30, 12500] t_loss: 9514.299   tacc: 73.3  vloss: 2862.411   vacc: 62.4\n",
      "[31, 12500] t_loss: 9340.532   tacc: 73.8  vloss: 2741.415   vacc: 63.9\n",
      "[32, 12500] t_loss: 9147.324   tacc: 74.3  vloss: 2761.019   vacc: 63.4\n",
      "[33, 12500] t_loss: 8955.468   tacc: 74.8  vloss: 2846.993   vacc: 62.9\n",
      "[34, 12500] t_loss: 8752.566   tacc: 75.3  vloss: 2892.848   vacc: 62.7\n",
      "[35, 12500] t_loss: 8575.917   tacc: 76.0  vloss: 2883.437   vacc: 63.4\n",
      "[36, 12500] t_loss: 8406.385   tacc: 76.6  vloss: 2903.338   vacc: 63.0\n",
      "[37, 12500] t_loss: 8220.447   tacc: 77.0  vloss: 2996.661   vacc: 63.2\n",
      "[38, 12500] t_loss: 8019.416   tacc: 77.4  vloss: 2919.670   vacc: 63.3\n",
      "[39, 12500] t_loss: 7870.381   tacc: 77.9  vloss: 2967.260   vacc: 63.2\n",
      "[40, 12500] t_loss: 7720.842   tacc: 78.1  vloss: 3022.652   vacc: 62.8\n",
      "[41, 12500] t_loss: 7536.458   tacc: 78.9  vloss: 3070.689   vacc: 62.9\n",
      "[42, 12500] t_loss: 7410.018   tacc: 79.0  vloss: 3094.590   vacc: 62.5\n",
      "[43, 12500] t_loss: 7230.233   tacc: 79.6  vloss: 3073.044   vacc: 63.2\n",
      "[44, 12500] t_loss: 7038.627   tacc: 80.2  vloss: 3197.953   vacc: 62.6\n",
      "[45, 12500] t_loss: 6901.560   tacc: 80.3  vloss: 3266.363   vacc: 62.5\n",
      "[46, 12500] t_loss: 6749.486   tacc: 80.9  vloss: 3177.478   vacc: 62.5\n",
      "[47, 12500] t_loss: 6609.367   tacc: 81.4  vloss: 3322.850   vacc: 63.0\n",
      "[48, 12500] t_loss: 6469.734   tacc: 81.7  vloss: 3302.097   vacc: 62.5\n",
      "[49, 12500] t_loss: 6316.465   tacc: 82.2  vloss: 3412.161   vacc: 62.2\n",
      "[50, 12500] t_loss: 6173.177   tacc: 82.3  vloss: 3458.953   vacc: 62.0\n",
      "[51, 12500] t_loss: 6015.623   tacc: 83.0  vloss: 3446.895   vacc: 62.3\n",
      "[52, 12500] t_loss: 5894.771   tacc: 83.2  vloss: 3614.114   vacc: 61.9\n",
      "[53, 12500] t_loss: 5792.863   tacc: 83.4  vloss: 3594.751   vacc: 62.1\n",
      "[54, 12500] t_loss: 5629.374   tacc: 84.1  vloss: 3741.270   vacc: 61.7\n",
      "[55, 12500] t_loss: 5492.888   tacc: 84.4  vloss: 3770.071   vacc: 61.5\n",
      "[56, 12500] t_loss: 5359.586   tacc: 84.7  vloss: 3864.212   vacc: 61.7\n",
      "[57, 12500] t_loss: 5288.256   tacc: 84.8  vloss: 3887.495   vacc: 62.2\n",
      "[58, 12500] t_loss: 5123.356   tacc: 85.4  vloss: 3976.432   vacc: 62.1\n",
      "[59, 12500] t_loss: 5017.371   tacc: 85.7  vloss: 4106.173   vacc: 61.3\n",
      "[60, 12500] t_loss: 4894.754   tacc: 85.9  vloss: 4151.059   vacc: 61.4\n",
      "[61, 12500] t_loss: 4830.096   tacc: 86.0  vloss: 4503.051   vacc: 60.4\n",
      "[62, 12500] t_loss: 4666.848   tacc: 86.9  vloss: 4361.912   vacc: 60.7\n",
      "[63, 12500] t_loss: 4603.257   tacc: 86.7  vloss: 4301.157   vacc: 61.2\n",
      "[64, 12500] t_loss: 4459.347   tacc: 87.2  vloss: 4437.400   vacc: 60.6\n",
      "[65, 12500] t_loss: 4399.302   tacc: 87.2  vloss: 4574.865   vacc: 60.3\n",
      "[66, 12500] t_loss: 4263.730   tacc: 87.6  vloss: 4657.202   vacc: 61.4\n",
      "[67, 12500] t_loss: 4165.979   tacc: 87.8  vloss: 4751.203   vacc: 60.9\n",
      "[68, 12500] t_loss: 4112.313   tacc: 88.1  vloss: 4861.305   vacc: 60.2\n",
      "[69, 12500] t_loss: 3981.915   tacc: 88.4  vloss: 4959.006   vacc: 60.5\n",
      "[70, 12500] t_loss: 3918.912   tacc: 88.7  vloss: 5112.987   vacc: 60.3\n",
      "[71, 12500] t_loss: 3838.882   tacc: 88.8  vloss: 5010.018   vacc: 60.7\n",
      "[72, 12500] t_loss: 3714.014   tacc: 89.2  vloss: 5130.955   vacc: 60.0\n",
      "[73, 12500] t_loss: 3641.164   tacc: 89.6  vloss: 5361.954   vacc: 59.6\n",
      "[74, 12500] t_loss: 3588.853   tacc: 89.5  vloss: 5391.378   vacc: 60.3\n",
      "[75, 12500] t_loss: 3510.299   tacc: 89.7  vloss: 5407.028   vacc: 59.8\n",
      "[76, 12500] t_loss: 3455.149   tacc: 90.0  vloss: 5571.319   vacc: 60.4\n",
      "[77, 12500] t_loss: 3345.594   tacc: 90.2  vloss: 5720.701   vacc: 60.0\n",
      "[78, 12500] t_loss: 3299.078   tacc: 90.2  vloss: 5764.992   vacc: 59.7\n",
      "[79, 12500] t_loss: 3161.052   tacc: 90.9  vloss: 6008.356   vacc: 59.2\n",
      "[80, 12500] t_loss: 3138.373   tacc: 90.8  vloss: 6013.200   vacc: 60.4\n",
      "[81, 12500] t_loss: 3194.756   tacc: 90.6  vloss: 6010.890   vacc: 59.9\n",
      "[82, 12500] t_loss: 3087.305   tacc: 90.9  vloss: 6093.347   vacc: 59.8\n",
      "[83, 12500] t_loss: 2979.056   tacc: 91.5  vloss: 6216.446   vacc: 59.7\n",
      "[84, 12500] t_loss: 2948.082   tacc: 91.5  vloss: 6564.945   vacc: 59.8\n",
      "[85, 12500] t_loss: 2869.485   tacc: 91.7  vloss: 6412.165   vacc: 60.0\n",
      "[86, 12500] t_loss: 2890.172   tacc: 91.5  vloss: 6808.331   vacc: 59.1\n",
      "[87, 12500] t_loss: 2795.161   tacc: 91.8  vloss: 6581.292   vacc: 59.0\n",
      "[88, 12500] t_loss: 2706.881   tacc: 92.0  vloss: 6789.266   vacc: 59.2\n",
      "[89, 12500] t_loss: 2594.466   tacc: 92.4  vloss: 6837.678   vacc: 59.3\n",
      "[90, 12500] t_loss: 2579.802   tacc: 92.5  vloss: 6945.416   vacc: 59.4\n",
      "[91, 12500] t_loss: 2541.347   tacc: 92.5  vloss: 7057.296   vacc: 59.2\n",
      "[92, 12500] t_loss: 2616.821   tacc: 92.3  vloss: 7378.482   vacc: 59.3\n",
      "[93, 12500] t_loss: 2504.755   tacc: 92.7  vloss: 7381.034   vacc: 59.1\n",
      "[94, 12500] t_loss: 2460.188   tacc: 92.7  vloss: 7517.588   vacc: 59.1\n",
      "[95, 12500] t_loss: 2454.513   tacc: 92.8  vloss: 7478.099   vacc: 59.2\n",
      "[96, 12500] t_loss: 2328.865   tacc: 93.2  vloss: 7630.912   vacc: 58.6\n",
      "[97, 12500] t_loss: 2340.756   tacc: 93.3  vloss: 7589.772   vacc: 59.6\n",
      "[98, 12500] t_loss: 2370.941   tacc: 92.9  vloss: 7647.417   vacc: 58.8\n",
      "[99, 12500] t_loss: 2288.440   tacc: 93.3  vloss: 7643.170   vacc: 58.8\n",
      "[100, 12500] t_loss: 2277.538   tacc: 93.4  vloss: 7755.766   vacc: 58.6\n",
      "Finished Training  2776.8077862262726\n"
     ]
    }
   ],
   "source": [
    "import time\n",
    "tic = time.time()\n",
    "\n",
    "tacc = []\n",
    "vacc = []\n",
    "tloss = []\n",
    "vloss = []\n",
    "\n",
    "for epoch in range(100):  # loop over the dataset multiple times\n",
    "\n",
    "    running_loss = 0.0\n",
    "    correct = 0\n",
    "    for i, data in enumerate(trainloader, 0):\n",
    "        # get the inputs\n",
    "        inputs, labels = data\n",
    "        inputs, labels = inputs.to(device), labels.to(device)\n",
    "        \n",
    "        # zero the parameter gradients\n",
    "        optimizer.zero_grad()\n",
    "\n",
    "        # forward + backward + optimize\n",
    "        outputs = net(inputs)\n",
    "        loss = criterion(outputs, labels)\n",
    "        loss.backward()\n",
    "        optimizer.step()\n",
    "\n",
    "        # statistics\n",
    "        running_loss += loss.item()\n",
    "        _, pred = torch.max (outputs.data, 1)\n",
    "        correct += (pred == labels).sum().item()\n",
    "    # end for\n",
    "    \n",
    "    train_acc = correct * 100. / len(trainset)\n",
    "    tacc.append (train_acc)\n",
    "    tloss.append (running_loss)\n",
    "    \n",
    "    val_acc, val_loss = validation(net)\n",
    "    vacc.append (val_acc)\n",
    "    vloss.append (val_loss)\n",
    "\n",
    "    print('[%d, %5d] t_loss: %.3f   tacc: %.1f  vloss: %.3f   vacc: %.1f' % (epoch + 1, i + 1, \n",
    "                                                                             running_loss, train_acc, val_loss, val_acc))    \n",
    "# \n",
    "print('Finished Training ', time.time() - tic)"
   ]
  },
  {
   "cell_type": "code",
   "execution_count": 18,
   "metadata": {},
   "outputs": [],
   "source": [
    "import matplotlib.pyplot as plt"
   ]
  },
  {
   "cell_type": "code",
   "execution_count": 19,
   "metadata": {},
   "outputs": [
    {
     "data": {
      "text/plain": [
       "<matplotlib.legend.Legend at 0x7ff625a932b0>"
      ]
     },
     "execution_count": 19,
     "metadata": {},
     "output_type": "execute_result"
    },
    {
     "data": {
      "image/png": "[encoded data removed]",
      "text/plain": [
       "<Figure size 1080x504 with 1 Axes>"
      ]
     },
     "metadata": {
      "needs_background": "light"
     },
     "output_type": "display_data"
    }
   ],
   "source": [
    "x = range(len(vacc))\n",
    "fig, ax = plt.subplots(figsize=(15,7))\n",
    "ax.plot (x, tacc, 'r-', label='train accuracy')\n",
    "ax.plot (x, vacc, 'b-', label='validation acc')\n",
    "ax.grid(True)\n",
    "ax.legend()"
   ]
  },
  {
   "cell_type": "code",
   "execution_count": 21,
   "metadata": {},
   "outputs": [
    {
     "data": {
      "text/plain": [
       "<matplotlib.legend.Legend at 0x7ff625928198>"
      ]
     },
     "execution_count": 21,
     "metadata": {},
     "output_type": "execute_result"
    },
    {
     "data": {
      "image/png": "[encoded data removed]",
      "text/plain": [
       "<Figure size 1080x504 with 1 Axes>"
      ]
     },
     "metadata": {
      "needs_background": "light"
     },
     "output_type": "display_data"
    }
   ],
   "source": [
    "x = range(len(vloss))\n",
    "fig, ax = plt.subplots(figsize=(15,7))\n",
    "tloss = np.array(tloss) / len(trainset)\n",
    "vloss = np.array(vloss) / len (v)\n",
    "ax.plot (x, tloss, 'r-', label='train loss')\n",
    "ax.plot (x, vloss, 'b-', label='valid loss')\n",
    "ax.grid(True)\n",
    "ax.legend()"
   ]
  },
  {
   "cell_type": "markdown",
   "metadata": {},
   "source": [
    "5. Test the network on the test data\n",
    "^^^^^^^^^^^^^^^^^^^^^^^^^^^^^^^^^^^^\n",
    "\n",
    "We have trained the network for 2 passes over the training dataset.\n",
    "But we need to check if the network has learnt anything at all.\n",
    "\n",
    "We will check this by predicting the class label that the neural network\n",
    "outputs, and checking it against the ground-truth. If the prediction is\n",
    "correct, we add the sample to the list of correct predictions.\n",
    "\n",
    "Okay, first step. Let us display an image from the test set to get familiar.\n",
    "\n"
   ]
  },
  {
   "cell_type": "code",
   "execution_count": null,
   "metadata": {
    "collapsed": false
   },
   "outputs": [],
   "source": [
    "dataiter = iter(testloader)\n",
    "images, labels = dataiter.next()\n",
    "\n",
    "# print images\n",
    "imshow(torchvision.utils.make_grid(images))\n",
    "print('GroundTruth: ', ' '.join('%5s' % classes[labels[j]] for j in range(4)))"
   ]
  },
  {
   "cell_type": "markdown",
   "metadata": {},
   "source": [
    "Okay, now let us see what the neural network thinks these examples above are:\n",
    "\n"
   ]
  },
  {
   "cell_type": "code",
   "execution_count": null,
   "metadata": {
    "collapsed": false
   },
   "outputs": [],
   "source": [
    "outputs = net(images.to(device))"
   ]
  },
  {
   "cell_type": "markdown",
   "metadata": {},
   "source": [
    "The outputs are energies for the 10 classes.\n",
    "The higher the energy for a class, the more the network\n",
    "thinks that the image is of the particular class.\n",
    "So, let's get the index of the highest energy:\n",
    "\n"
   ]
  },
  {
   "cell_type": "code",
   "execution_count": null,
   "metadata": {
    "collapsed": false
   },
   "outputs": [],
   "source": [
    "_, predicted = torch.max(outputs, 1)\n",
    "\n",
    "print('Predicted: ', ' '.join('%5s' % classes[predicted[j]]\n",
    "                              for j in range(4)))"
   ]
  },
  {
   "cell_type": "markdown",
   "metadata": {},
   "source": [
    "The results seem pretty good.\n",
    "\n",
    "Let us look at how the network performs on the whole dataset.\n",
    "\n"
   ]
  },
  {
   "cell_type": "code",
   "execution_count": null,
   "metadata": {
    "collapsed": false
   },
   "outputs": [],
   "source": [
    "correct = 0\n",
    "total = 0\n",
    "with torch.no_grad():\n",
    "    for images, labels in testloader:\n",
    "        images, labels = images.to(device), labels.to(device)\n",
    "        outputs = net(images)\n",
    "        _, predicted = torch.max(outputs.data, 1)\n",
    "        total += labels.size(0)\n",
    "        correct += (predicted == labels).sum().item()\n",
    "\n",
    "print('Accuracy of the network on the 10000 test images: %d %%' % (\n",
    "    100 * correct / total))"
   ]
  },
  {
   "cell_type": "markdown",
   "metadata": {},
   "source": [
    "That looks waaay better than chance, which is 10% accuracy (randomly picking\n",
    "a class out of 10 classes).\n",
    "Seems like the network learnt something.\n",
    "\n",
    "Hmmm, what are the classes that performed well, and the classes that did\n",
    "not perform well:\n",
    "\n"
   ]
  },
  {
   "cell_type": "code",
   "execution_count": 38,
   "metadata": {
    "collapsed": false
   },
   "outputs": [
    {
     "name": "stdout",
     "output_type": "stream",
     "text": [
      "Accuracy of plane : 65 %\n",
      "Accuracy of   car : 74 %\n",
      "Accuracy of  bird : 51 %\n",
      "Accuracy of   cat : 43 %\n",
      "Accuracy of  deer : 49 %\n",
      "Accuracy of   dog : 49 %\n",
      "Accuracy of  frog : 66 %\n",
      "Accuracy of horse : 67 %\n",
      "Accuracy of  ship : 74 %\n",
      "Accuracy of truck : 66 %\n"
     ]
    }
   ],
   "source": [
    "class_correct = list(0. for i in range(10))\n",
    "class_total = list(0. for i in range(10))\n",
    "with torch.no_grad():\n",
    "    for data in testloader:\n",
    "        images, labels = data[0].to(device), data[1].to(device)\n",
    "        outputs = net(images)\n",
    "        _, predicted = torch.max(outputs, 1)\n",
    "        c = (predicted == labels).squeeze()\n",
    "        for i in range(4):\n",
    "            label = labels[i]\n",
    "            class_correct[label] += c[i].item()\n",
    "            class_total[label] += 1\n",
    "\n",
    "\n",
    "for i in range(10):\n",
    "    print('Accuracy of %5s : %2d %%' % (\n",
    "        classes[i], 100 * class_correct[i] / class_total[i]))"
   ]
  },
  {
   "cell_type": "code",
   "execution_count": null,
   "metadata": {},
   "outputs": [],
   "source": []
  }
 ],
 "metadata": {
  "kernelspec": {
   "display_name": "Python 3",
   "language": "python",
   "name": "python3"
  },
  "language_info": {
   "codemirror_mode": {
    "name": "ipython",
    "version": 3
   },
   "file_extension": ".py",
   "mimetype": "text/x-python",
   "name": "python",
   "nbconvert_exporter": "python",
   "pygments_lexer": "ipython3",
   "version": "3.6.7"
  }
 },
 "nbformat": 4,
 "nbformat_minor": 2
}
